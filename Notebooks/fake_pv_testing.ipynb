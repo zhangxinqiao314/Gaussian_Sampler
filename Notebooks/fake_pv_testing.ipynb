{
 "cells": [
  {
   "cell_type": "markdown",
   "metadata": {},
   "source": [
    "# Utility/imports"
   ]
  },
  {
   "cell_type": "code",
   "execution_count": 50,
   "metadata": {
    "notebookRunGroups": {
     "groupValue": "1"
    }
   },
   "outputs": [
    {
     "name": "stdout",
     "output_type": "stream",
     "text": [
      "The autoreload extension is already loaded. To reload it, use:\n",
      "  %reload_ext autoreload\n"
     ]
    },
    {
     "data": {
      "text/html": [
       "<script type=\"esms-options\">{\"shimMode\": true}</script><style>*[data-root-id],\n",
       "*[data-root-id] > * {\n",
       "  box-sizing: border-box;\n",
       "  font-family: var(--jp-ui-font-family);\n",
       "  font-size: var(--jp-ui-font-size1);\n",
       "  color: var(--vscode-editor-foreground, var(--jp-ui-font-color1));\n",
       "}\n",
       "\n",
       "/* Override VSCode background color */\n",
       ".cell-output-ipywidget-background:has(\n",
       "    > .cell-output-ipywidget-background > .lm-Widget > *[data-root-id]\n",
       "  ),\n",
       ".cell-output-ipywidget-background:has(> .lm-Widget > *[data-root-id]) {\n",
       "  background-color: transparent !important;\n",
       "}\n",
       "</style>"
      ]
     },
     "metadata": {},
     "output_type": "display_data"
    },
    {
     "data": {
      "application/javascript": "(function(root) {\n  function now() {\n    return new Date();\n  }\n\n  const force = true;\n  const py_version = '3.6.3'.replace('rc', '-rc.').replace('.dev', '-dev.');\n  const reloading = false;\n  const Bokeh = root.Bokeh;\n\n  // Set a timeout for this load but only if we are not already initializing\n  if (typeof (root._bokeh_timeout) === \"undefined\" || (force || !root._bokeh_is_initializing)) {\n    root._bokeh_timeout = Date.now() + 5000;\n    root._bokeh_failed_load = false;\n  }\n\n  function run_callbacks() {\n    try {\n      root._bokeh_onload_callbacks.forEach(function(callback) {\n        if (callback != null)\n          callback();\n      });\n    } finally {\n      delete root._bokeh_onload_callbacks;\n    }\n    console.debug(\"Bokeh: all callbacks have finished\");\n  }\n\n  function load_libs(css_urls, js_urls, js_modules, js_exports, callback) {\n    if (css_urls == null) css_urls = [];\n    if (js_urls == null) js_urls = [];\n    if (js_modules == null) js_modules = [];\n    if (js_exports == null) js_exports = {};\n\n    root._bokeh_onload_callbacks.push(callback);\n\n    if (root._bokeh_is_loading > 0) {\n      // Don't load bokeh if it is still initializing\n      console.debug(\"Bokeh: BokehJS is being loaded, scheduling callback at\", now());\n      return null;\n    } else if (js_urls.length === 0 && js_modules.length === 0 && Object.keys(js_exports).length === 0) {\n      // There is nothing to load\n      run_callbacks();\n      return null;\n    }\n\n    function on_load() {\n      root._bokeh_is_loading--;\n      if (root._bokeh_is_loading === 0) {\n        console.debug(\"Bokeh: all BokehJS libraries/stylesheets loaded\");\n        run_callbacks()\n      }\n    }\n    window._bokeh_on_load = on_load\n\n    function on_error(e) {\n      const src_el = e.srcElement\n      console.error(\"failed to load \" + (src_el.href || src_el.src));\n    }\n\n    const skip = [];\n    if (window.requirejs) {\n      window.requirejs.config({'packages': {}, 'paths': {}, 'shim': {}});\n      root._bokeh_is_loading = css_urls.length + 0;\n    } else {\n      root._bokeh_is_loading = css_urls.length + js_urls.length + js_modules.length + Object.keys(js_exports).length;\n    }\n\n    const existing_stylesheets = []\n    const links = document.getElementsByTagName('link')\n    for (let i = 0; i < links.length; i++) {\n      const link = links[i]\n      if (link.href != null) {\n        existing_stylesheets.push(link.href)\n      }\n    }\n    for (let i = 0; i < css_urls.length; i++) {\n      const url = css_urls[i];\n      const escaped = encodeURI(url)\n      if (existing_stylesheets.indexOf(escaped) !== -1) {\n        on_load()\n        continue;\n      }\n      const element = document.createElement(\"link\");\n      element.onload = on_load;\n      element.onerror = on_error;\n      element.rel = \"stylesheet\";\n      element.type = \"text/css\";\n      element.href = url;\n      console.debug(\"Bokeh: injecting link tag for BokehJS stylesheet: \", url);\n      document.body.appendChild(element);\n    }    var existing_scripts = []\n    const scripts = document.getElementsByTagName('script')\n    for (let i = 0; i < scripts.length; i++) {\n      var script = scripts[i]\n      if (script.src != null) {\n        existing_scripts.push(script.src)\n      }\n    }\n    for (let i = 0; i < js_urls.length; i++) {\n      const url = js_urls[i];\n      const escaped = encodeURI(url)\n      if (skip.indexOf(escaped) !== -1 || existing_scripts.indexOf(escaped) !== -1) {\n        if (!window.requirejs) {\n          on_load();\n        }\n        continue;\n      }\n      const element = document.createElement('script');\n      element.onload = on_load;\n      element.onerror = on_error;\n      element.async = false;\n      element.src = url;\n      console.debug(\"Bokeh: injecting script tag for BokehJS library: \", url);\n      document.head.appendChild(element);\n    }\n    for (let i = 0; i < js_modules.length; i++) {\n      const url = js_modules[i];\n      const escaped = encodeURI(url)\n      if (skip.indexOf(escaped) !== -1 || existing_scripts.indexOf(escaped) !== -1) {\n        if (!window.requirejs) {\n          on_load();\n        }\n        continue;\n      }\n      var element = document.createElement('script');\n      element.onload = on_load;\n      element.onerror = on_error;\n      element.async = false;\n      element.src = url;\n      element.type = \"module\";\n      console.debug(\"Bokeh: injecting script tag for BokehJS library: \", url);\n      document.head.appendChild(element);\n    }\n    for (const name in js_exports) {\n      const url = js_exports[name];\n      const escaped = encodeURI(url)\n      if (skip.indexOf(escaped) >= 0 || root[name] != null) {\n        if (!window.requirejs) {\n          on_load();\n        }\n        continue;\n      }\n      var element = document.createElement('script');\n      element.onerror = on_error;\n      element.async = false;\n      element.type = \"module\";\n      console.debug(\"Bokeh: injecting script tag for BokehJS library: \", url);\n      element.textContent = `\n      import ${name} from \"${url}\"\n      window.${name} = ${name}\n      window._bokeh_on_load()\n      `\n      document.head.appendChild(element);\n    }\n    if (!js_urls.length && !js_modules.length) {\n      on_load()\n    }\n  };\n\n  function inject_raw_css(css) {\n    const element = document.createElement(\"style\");\n    element.appendChild(document.createTextNode(css));\n    document.body.appendChild(element);\n  }\n\n  const js_urls = [\"https://cdn.holoviz.org/panel/1.6.0/dist/bundled/reactiveesm/es-module-shims@^1.10.0/dist/es-module-shims.min.js\", \"https://cdn.bokeh.org/bokeh/release/bokeh-3.6.3.min.js\", \"https://cdn.bokeh.org/bokeh/release/bokeh-gl-3.6.3.min.js\", \"https://cdn.bokeh.org/bokeh/release/bokeh-widgets-3.6.3.min.js\", \"https://cdn.bokeh.org/bokeh/release/bokeh-tables-3.6.3.min.js\", \"https://cdn.holoviz.org/panel/1.6.0/dist/panel.min.js\"];\n  const js_modules = [];\n  const js_exports = {};\n  const css_urls = [];\n  const inline_js = [    function(Bokeh) {\n      Bokeh.set_log_level(\"info\");\n    },\nfunction(Bokeh) {} // ensure no trailing comma for IE\n  ];\n\n  function run_inline_js() {\n    if ((root.Bokeh !== undefined) || (force === true)) {\n      for (let i = 0; i < inline_js.length; i++) {\n        try {\n          inline_js[i].call(root, root.Bokeh);\n        } catch(e) {\n          if (!reloading) {\n            throw e;\n          }\n        }\n      }\n      // Cache old bokeh versions\n      if (Bokeh != undefined && !reloading) {\n        var NewBokeh = root.Bokeh;\n        if (Bokeh.versions === undefined) {\n          Bokeh.versions = new Map();\n        }\n        if (NewBokeh.version !== Bokeh.version) {\n          Bokeh.versions.set(NewBokeh.version, NewBokeh)\n        }\n        root.Bokeh = Bokeh;\n      }\n    } else if (Date.now() < root._bokeh_timeout) {\n      setTimeout(run_inline_js, 100);\n    } else if (!root._bokeh_failed_load) {\n      console.log(\"Bokeh: BokehJS failed to load within specified timeout.\");\n      root._bokeh_failed_load = true;\n    }\n    root._bokeh_is_initializing = false\n  }\n\n  function load_or_wait() {\n    // Implement a backoff loop that tries to ensure we do not load multiple\n    // versions of Bokeh and its dependencies at the same time.\n    // In recent versions we use the root._bokeh_is_initializing flag\n    // to determine whether there is an ongoing attempt to initialize\n    // bokeh, however for backward compatibility we also try to ensure\n    // that we do not start loading a newer (Panel>=1.0 and Bokeh>3) version\n    // before older versions are fully initialized.\n    if (root._bokeh_is_initializing && Date.now() > root._bokeh_timeout) {\n      // If the timeout and bokeh was not successfully loaded we reset\n      // everything and try loading again\n      root._bokeh_timeout = Date.now() + 5000;\n      root._bokeh_is_initializing = false;\n      root._bokeh_onload_callbacks = undefined;\n      root._bokeh_is_loading = 0\n      console.log(\"Bokeh: BokehJS was loaded multiple times but one version failed to initialize.\");\n      load_or_wait();\n    } else if (root._bokeh_is_initializing || (typeof root._bokeh_is_initializing === \"undefined\" && root._bokeh_onload_callbacks !== undefined)) {\n      setTimeout(load_or_wait, 100);\n    } else {\n      root._bokeh_is_initializing = true\n      root._bokeh_onload_callbacks = []\n      const bokeh_loaded = root.Bokeh != null && (root.Bokeh.version === py_version || (root.Bokeh.versions !== undefined && root.Bokeh.versions.has(py_version)));\n      if (!reloading && !bokeh_loaded) {\n        if (root.Bokeh) {\n          root.Bokeh = undefined;\n        }\n        console.debug(\"Bokeh: BokehJS not loaded, scheduling load and callback at\", now());\n      }\n      load_libs(css_urls, js_urls, js_modules, js_exports, function() {\n        console.debug(\"Bokeh: BokehJS plotting callback run at\", now());\n        run_inline_js();\n      });\n    }\n  }\n  // Give older versions of the autoload script a head-start to ensure\n  // they initialize before we start loading newer version.\n  setTimeout(load_or_wait, 100)\n}(window));",
      "application/vnd.holoviews_load.v0+json": ""
     },
     "metadata": {},
     "output_type": "display_data"
    },
    {
     "data": {
      "application/javascript": "\nif ((window.PyViz === undefined) || (window.PyViz instanceof HTMLElement)) {\n  window.PyViz = {comms: {}, comm_status:{}, kernels:{}, receivers: {}, plot_index: []}\n}\n\n\n    function JupyterCommManager() {\n    }\n\n    JupyterCommManager.prototype.register_target = function(plot_id, comm_id, msg_handler) {\n      if (window.comm_manager || ((window.Jupyter !== undefined) && (Jupyter.notebook.kernel != null))) {\n        var comm_manager = window.comm_manager || Jupyter.notebook.kernel.comm_manager;\n        comm_manager.register_target(comm_id, function(comm) {\n          comm.on_msg(msg_handler);\n        });\n      } else if ((plot_id in window.PyViz.kernels) && (window.PyViz.kernels[plot_id])) {\n        window.PyViz.kernels[plot_id].registerCommTarget(comm_id, function(comm) {\n          comm.onMsg = msg_handler;\n        });\n      } else if (typeof google != 'undefined' && google.colab.kernel != null) {\n        google.colab.kernel.comms.registerTarget(comm_id, (comm) => {\n          var messages = comm.messages[Symbol.asyncIterator]();\n          function processIteratorResult(result) {\n            var message = result.value;\n            console.log(message)\n            var content = {data: message.data, comm_id};\n            var buffers = []\n            for (var buffer of message.buffers || []) {\n              buffers.push(new DataView(buffer))\n            }\n            var metadata = message.metadata || {};\n            var msg = {content, buffers, metadata}\n            msg_handler(msg);\n            return messages.next().then(processIteratorResult);\n          }\n          return messages.next().then(processIteratorResult);\n        })\n      }\n    }\n\n    JupyterCommManager.prototype.get_client_comm = function(plot_id, comm_id, msg_handler) {\n      if (comm_id in window.PyViz.comms) {\n        return window.PyViz.comms[comm_id];\n      } else if (window.comm_manager || ((window.Jupyter !== undefined) && (Jupyter.notebook.kernel != null))) {\n        var comm_manager = window.comm_manager || Jupyter.notebook.kernel.comm_manager;\n        var comm = comm_manager.new_comm(comm_id, {}, {}, {}, comm_id);\n        if (msg_handler) {\n          comm.on_msg(msg_handler);\n        }\n      } else if ((plot_id in window.PyViz.kernels) && (window.PyViz.kernels[plot_id])) {\n        var comm = window.PyViz.kernels[plot_id].connectToComm(comm_id);\n        comm.open();\n        if (msg_handler) {\n          comm.onMsg = msg_handler;\n        }\n      } else if (typeof google != 'undefined' && google.colab.kernel != null) {\n        var comm_promise = google.colab.kernel.comms.open(comm_id)\n        comm_promise.then((comm) => {\n          window.PyViz.comms[comm_id] = comm;\n          if (msg_handler) {\n            var messages = comm.messages[Symbol.asyncIterator]();\n            function processIteratorResult(result) {\n              var message = result.value;\n              var content = {data: message.data};\n              var metadata = message.metadata || {comm_id};\n              var msg = {content, metadata}\n              msg_handler(msg);\n              return messages.next().then(processIteratorResult);\n            }\n            return messages.next().then(processIteratorResult);\n          }\n        })\n        var sendClosure = (data, metadata, buffers, disposeOnDone) => {\n          return comm_promise.then((comm) => {\n            comm.send(data, metadata, buffers, disposeOnDone);\n          });\n        };\n        var comm = {\n          send: sendClosure\n        };\n      }\n      window.PyViz.comms[comm_id] = comm;\n      return comm;\n    }\n    window.PyViz.comm_manager = new JupyterCommManager();\n    \n\n\nvar JS_MIME_TYPE = 'application/javascript';\nvar HTML_MIME_TYPE = 'text/html';\nvar EXEC_MIME_TYPE = 'application/vnd.holoviews_exec.v0+json';\nvar CLASS_NAME = 'output';\n\n/**\n * Render data to the DOM node\n */\nfunction render(props, node) {\n  var div = document.createElement(\"div\");\n  var script = document.createElement(\"script\");\n  node.appendChild(div);\n  node.appendChild(script);\n}\n\n/**\n * Handle when a new output is added\n */\nfunction handle_add_output(event, handle) {\n  var output_area = handle.output_area;\n  var output = handle.output;\n  if ((output.data == undefined) || (!output.data.hasOwnProperty(EXEC_MIME_TYPE))) {\n    return\n  }\n  var id = output.metadata[EXEC_MIME_TYPE][\"id\"];\n  var toinsert = output_area.element.find(\".\" + CLASS_NAME.split(' ')[0]);\n  if (id !== undefined) {\n    var nchildren = toinsert.length;\n    var html_node = toinsert[nchildren-1].children[0];\n    html_node.innerHTML = output.data[HTML_MIME_TYPE];\n    var scripts = [];\n    var nodelist = html_node.querySelectorAll(\"script\");\n    for (var i in nodelist) {\n      if (nodelist.hasOwnProperty(i)) {\n        scripts.push(nodelist[i])\n      }\n    }\n\n    scripts.forEach( function (oldScript) {\n      var newScript = document.createElement(\"script\");\n      var attrs = [];\n      var nodemap = oldScript.attributes;\n      for (var j in nodemap) {\n        if (nodemap.hasOwnProperty(j)) {\n          attrs.push(nodemap[j])\n        }\n      }\n      attrs.forEach(function(attr) { newScript.setAttribute(attr.name, attr.value) });\n      newScript.appendChild(document.createTextNode(oldScript.innerHTML));\n      oldScript.parentNode.replaceChild(newScript, oldScript);\n    });\n    if (JS_MIME_TYPE in output.data) {\n      toinsert[nchildren-1].children[1].textContent = output.data[JS_MIME_TYPE];\n    }\n    output_area._hv_plot_id = id;\n    if ((window.Bokeh !== undefined) && (id in Bokeh.index)) {\n      window.PyViz.plot_index[id] = Bokeh.index[id];\n    } else {\n      window.PyViz.plot_index[id] = null;\n    }\n  } else if (output.metadata[EXEC_MIME_TYPE][\"server_id\"] !== undefined) {\n    var bk_div = document.createElement(\"div\");\n    bk_div.innerHTML = output.data[HTML_MIME_TYPE];\n    var script_attrs = bk_div.children[0].attributes;\n    for (var i = 0; i < script_attrs.length; i++) {\n      toinsert[toinsert.length - 1].childNodes[1].setAttribute(script_attrs[i].name, script_attrs[i].value);\n    }\n    // store reference to server id on output_area\n    output_area._bokeh_server_id = output.metadata[EXEC_MIME_TYPE][\"server_id\"];\n  }\n}\n\n/**\n * Handle when an output is cleared or removed\n */\nfunction handle_clear_output(event, handle) {\n  var id = handle.cell.output_area._hv_plot_id;\n  var server_id = handle.cell.output_area._bokeh_server_id;\n  if (((id === undefined) || !(id in PyViz.plot_index)) && (server_id !== undefined)) { return; }\n  var comm = window.PyViz.comm_manager.get_client_comm(\"hv-extension-comm\", \"hv-extension-comm\", function () {});\n  if (server_id !== null) {\n    comm.send({event_type: 'server_delete', 'id': server_id});\n    return;\n  } else if (comm !== null) {\n    comm.send({event_type: 'delete', 'id': id});\n  }\n  delete PyViz.plot_index[id];\n  if ((window.Bokeh !== undefined) & (id in window.Bokeh.index)) {\n    var doc = window.Bokeh.index[id].model.document\n    doc.clear();\n    const i = window.Bokeh.documents.indexOf(doc);\n    if (i > -1) {\n      window.Bokeh.documents.splice(i, 1);\n    }\n  }\n}\n\n/**\n * Handle kernel restart event\n */\nfunction handle_kernel_cleanup(event, handle) {\n  delete PyViz.comms[\"hv-extension-comm\"];\n  window.PyViz.plot_index = {}\n}\n\n/**\n * Handle update_display_data messages\n */\nfunction handle_update_output(event, handle) {\n  handle_clear_output(event, {cell: {output_area: handle.output_area}})\n  handle_add_output(event, handle)\n}\n\nfunction register_renderer(events, OutputArea) {\n  function append_mime(data, metadata, element) {\n    // create a DOM node to render to\n    var toinsert = this.create_output_subarea(\n    metadata,\n    CLASS_NAME,\n    EXEC_MIME_TYPE\n    );\n    this.keyboard_manager.register_events(toinsert);\n    // Render to node\n    var props = {data: data, metadata: metadata[EXEC_MIME_TYPE]};\n    render(props, toinsert[0]);\n    element.append(toinsert);\n    return toinsert\n  }\n\n  events.on('output_added.OutputArea', handle_add_output);\n  events.on('output_updated.OutputArea', handle_update_output);\n  events.on('clear_output.CodeCell', handle_clear_output);\n  events.on('delete.Cell', handle_clear_output);\n  events.on('kernel_ready.Kernel', handle_kernel_cleanup);\n\n  OutputArea.prototype.register_mime_type(EXEC_MIME_TYPE, append_mime, {\n    safe: true,\n    index: 0\n  });\n}\n\nif (window.Jupyter !== undefined) {\n  try {\n    var events = require('base/js/events');\n    var OutputArea = require('notebook/js/outputarea').OutputArea;\n    if (OutputArea.prototype.mime_types().indexOf(EXEC_MIME_TYPE) == -1) {\n      register_renderer(events, OutputArea);\n    }\n  } catch(err) {\n  }\n}\n",
      "application/vnd.holoviews_load.v0+json": ""
     },
     "metadata": {},
     "output_type": "display_data"
    },
    {
     "data": {
      "application/vnd.holoviews_exec.v0+json": "",
      "text/html": [
       "<div id='1d1a4cd4-8e97-401c-8581-5a8f7b45ba5a'>\n",
       "  <div id=\"ad95f419-fbae-498c-902d-b100d1c4fdbd\" data-root-id=\"1d1a4cd4-8e97-401c-8581-5a8f7b45ba5a\" style=\"display: contents;\"></div>\n",
       "</div>\n",
       "<script type=\"application/javascript\">(function(root) {\n",
       "  var docs_json = {\"1231c942-2179-4f75-9dd8-aa72918deb93\":{\"version\":\"3.6.3\",\"title\":\"Bokeh Application\",\"roots\":[{\"type\":\"object\",\"name\":\"panel.models.browser.BrowserInfo\",\"id\":\"1d1a4cd4-8e97-401c-8581-5a8f7b45ba5a\"},{\"type\":\"object\",\"name\":\"panel.models.comm_manager.CommManager\",\"id\":\"776351c4-8346-46f3-8afd-583aef1763aa\",\"attributes\":{\"plot_id\":\"1d1a4cd4-8e97-401c-8581-5a8f7b45ba5a\",\"comm_id\":\"a6136bb528c34bd196856f79fa8c952c\",\"client_comm_id\":\"62d716a664724b6d825c7828a8d6f860\"}}],\"defs\":[{\"type\":\"model\",\"name\":\"ReactiveHTML1\"},{\"type\":\"model\",\"name\":\"FlexBox1\",\"properties\":[{\"name\":\"align_content\",\"kind\":\"Any\",\"default\":\"flex-start\"},{\"name\":\"align_items\",\"kind\":\"Any\",\"default\":\"flex-start\"},{\"name\":\"flex_direction\",\"kind\":\"Any\",\"default\":\"row\"},{\"name\":\"flex_wrap\",\"kind\":\"Any\",\"default\":\"wrap\"},{\"name\":\"gap\",\"kind\":\"Any\",\"default\":\"\"},{\"name\":\"justify_content\",\"kind\":\"Any\",\"default\":\"flex-start\"}]},{\"type\":\"model\",\"name\":\"FloatPanel1\",\"properties\":[{\"name\":\"config\",\"kind\":\"Any\",\"default\":{\"type\":\"map\"}},{\"name\":\"contained\",\"kind\":\"Any\",\"default\":true},{\"name\":\"position\",\"kind\":\"Any\",\"default\":\"right-top\"},{\"name\":\"offsetx\",\"kind\":\"Any\",\"default\":null},{\"name\":\"offsety\",\"kind\":\"Any\",\"default\":null},{\"name\":\"theme\",\"kind\":\"Any\",\"default\":\"primary\"},{\"name\":\"status\",\"kind\":\"Any\",\"default\":\"normalized\"}]},{\"type\":\"model\",\"name\":\"GridStack1\",\"properties\":[{\"name\":\"mode\",\"kind\":\"Any\",\"default\":\"warn\"},{\"name\":\"ncols\",\"kind\":\"Any\",\"default\":null},{\"name\":\"nrows\",\"kind\":\"Any\",\"default\":null},{\"name\":\"allow_resize\",\"kind\":\"Any\",\"default\":true},{\"name\":\"allow_drag\",\"kind\":\"Any\",\"default\":true},{\"name\":\"state\",\"kind\":\"Any\",\"default\":[]}]},{\"type\":\"model\",\"name\":\"drag1\",\"properties\":[{\"name\":\"slider_width\",\"kind\":\"Any\",\"default\":5},{\"name\":\"slider_color\",\"kind\":\"Any\",\"default\":\"black\"},{\"name\":\"value\",\"kind\":\"Any\",\"default\":50}]},{\"type\":\"model\",\"name\":\"click1\",\"properties\":[{\"name\":\"terminal_output\",\"kind\":\"Any\",\"default\":\"\"},{\"name\":\"debug_name\",\"kind\":\"Any\",\"default\":\"\"},{\"name\":\"clears\",\"kind\":\"Any\",\"default\":0}]},{\"type\":\"model\",\"name\":\"FastWrapper1\",\"properties\":[{\"name\":\"object\",\"kind\":\"Any\",\"default\":null},{\"name\":\"style\",\"kind\":\"Any\",\"default\":null}]},{\"type\":\"model\",\"name\":\"NotificationAreaBase1\",\"properties\":[{\"name\":\"js_events\",\"kind\":\"Any\",\"default\":{\"type\":\"map\"}},{\"name\":\"position\",\"kind\":\"Any\",\"default\":\"bottom-right\"},{\"name\":\"_clear\",\"kind\":\"Any\",\"default\":0}]},{\"type\":\"model\",\"name\":\"NotificationArea1\",\"properties\":[{\"name\":\"js_events\",\"kind\":\"Any\",\"default\":{\"type\":\"map\"}},{\"name\":\"notifications\",\"kind\":\"Any\",\"default\":[]},{\"name\":\"position\",\"kind\":\"Any\",\"default\":\"bottom-right\"},{\"name\":\"_clear\",\"kind\":\"Any\",\"default\":0},{\"name\":\"types\",\"kind\":\"Any\",\"default\":[{\"type\":\"map\",\"entries\":[[\"type\",\"warning\"],[\"background\",\"#ffc107\"],[\"icon\",{\"type\":\"map\",\"entries\":[[\"className\",\"fas fa-exclamation-triangle\"],[\"tagName\",\"i\"],[\"color\",\"white\"]]}]]},{\"type\":\"map\",\"entries\":[[\"type\",\"info\"],[\"background\",\"#007bff\"],[\"icon\",{\"type\":\"map\",\"entries\":[[\"className\",\"fas fa-info-circle\"],[\"tagName\",\"i\"],[\"color\",\"white\"]]}]]}]}]},{\"type\":\"model\",\"name\":\"Notification\",\"properties\":[{\"name\":\"background\",\"kind\":\"Any\",\"default\":null},{\"name\":\"duration\",\"kind\":\"Any\",\"default\":3000},{\"name\":\"icon\",\"kind\":\"Any\",\"default\":null},{\"name\":\"message\",\"kind\":\"Any\",\"default\":\"\"},{\"name\":\"notification_type\",\"kind\":\"Any\",\"default\":null},{\"name\":\"_rendered\",\"kind\":\"Any\",\"default\":false},{\"name\":\"_destroyed\",\"kind\":\"Any\",\"default\":false}]},{\"type\":\"model\",\"name\":\"TemplateActions1\",\"properties\":[{\"name\":\"open_modal\",\"kind\":\"Any\",\"default\":0},{\"name\":\"close_modal\",\"kind\":\"Any\",\"default\":0}]},{\"type\":\"model\",\"name\":\"BootstrapTemplateActions1\",\"properties\":[{\"name\":\"open_modal\",\"kind\":\"Any\",\"default\":0},{\"name\":\"close_modal\",\"kind\":\"Any\",\"default\":0}]},{\"type\":\"model\",\"name\":\"TemplateEditor1\",\"properties\":[{\"name\":\"layout\",\"kind\":\"Any\",\"default\":[]}]},{\"type\":\"model\",\"name\":\"MaterialTemplateActions1\",\"properties\":[{\"name\":\"open_modal\",\"kind\":\"Any\",\"default\":0},{\"name\":\"close_modal\",\"kind\":\"Any\",\"default\":0}]},{\"type\":\"model\",\"name\":\"ReactiveESM1\",\"properties\":[{\"name\":\"esm_constants\",\"kind\":\"Any\",\"default\":{\"type\":\"map\"}}]},{\"type\":\"model\",\"name\":\"JSComponent1\",\"properties\":[{\"name\":\"esm_constants\",\"kind\":\"Any\",\"default\":{\"type\":\"map\"}}]},{\"type\":\"model\",\"name\":\"ReactComponent1\",\"properties\":[{\"name\":\"esm_constants\",\"kind\":\"Any\",\"default\":{\"type\":\"map\"}}]},{\"type\":\"model\",\"name\":\"AnyWidgetComponent1\",\"properties\":[{\"name\":\"esm_constants\",\"kind\":\"Any\",\"default\":{\"type\":\"map\"}}]},{\"type\":\"model\",\"name\":\"request_value1\",\"properties\":[{\"name\":\"fill\",\"kind\":\"Any\",\"default\":\"none\"},{\"name\":\"_synced\",\"kind\":\"Any\",\"default\":null},{\"name\":\"_request_sync\",\"kind\":\"Any\",\"default\":0}]}]}};\n",
       "  var render_items = [{\"docid\":\"1231c942-2179-4f75-9dd8-aa72918deb93\",\"roots\":{\"1d1a4cd4-8e97-401c-8581-5a8f7b45ba5a\":\"ad95f419-fbae-498c-902d-b100d1c4fdbd\"},\"root_ids\":[\"1d1a4cd4-8e97-401c-8581-5a8f7b45ba5a\"]}];\n",
       "  var docs = Object.values(docs_json)\n",
       "  if (!docs) {\n",
       "    return\n",
       "  }\n",
       "  const py_version = docs[0].version.replace('rc', '-rc.').replace('.dev', '-dev.')\n",
       "  async function embed_document(root) {\n",
       "    var Bokeh = get_bokeh(root)\n",
       "    await Bokeh.embed.embed_items_notebook(docs_json, render_items);\n",
       "    for (const render_item of render_items) {\n",
       "      for (const root_id of render_item.root_ids) {\n",
       "\tconst id_el = document.getElementById(root_id)\n",
       "\tif (id_el.children.length && id_el.children[0].hasAttribute('data-root-id')) {\n",
       "\t  const root_el = id_el.children[0]\n",
       "\t  root_el.id = root_el.id + '-rendered'\n",
       "\t  for (const child of root_el.children) {\n",
       "            // Ensure JupyterLab does not capture keyboard shortcuts\n",
       "            // see: https://jupyterlab.readthedocs.io/en/4.1.x/extension/notebook.html#keyboard-interaction-model\n",
       "\t    child.setAttribute('data-lm-suppress-shortcuts', 'true')\n",
       "\t  }\n",
       "\t}\n",
       "      }\n",
       "    }\n",
       "  }\n",
       "  function get_bokeh(root) {\n",
       "    if (root.Bokeh === undefined) {\n",
       "      return null\n",
       "    } else if (root.Bokeh.version !== py_version) {\n",
       "      if (root.Bokeh.versions === undefined || !root.Bokeh.versions.has(py_version)) {\n",
       "\treturn null\n",
       "      }\n",
       "      return root.Bokeh.versions.get(py_version);\n",
       "    } else if (root.Bokeh.version === py_version) {\n",
       "      return root.Bokeh\n",
       "    }\n",
       "    return null\n",
       "  }\n",
       "  function is_loaded(root) {\n",
       "    var Bokeh = get_bokeh(root)\n",
       "    return (Bokeh != null && Bokeh.Panel !== undefined)\n",
       "  }\n",
       "  if (is_loaded(root)) {\n",
       "    embed_document(root);\n",
       "  } else {\n",
       "    var attempts = 0;\n",
       "    var timer = setInterval(function(root) {\n",
       "      if (is_loaded(root)) {\n",
       "        clearInterval(timer);\n",
       "        embed_document(root);\n",
       "      } else if (document.readyState == \"complete\") {\n",
       "        attempts++;\n",
       "        if (attempts > 200) {\n",
       "          clearInterval(timer);\n",
       "\t  var Bokeh = get_bokeh(root)\n",
       "\t  if (Bokeh == null || Bokeh.Panel == null) {\n",
       "            console.warn(\"Panel: ERROR: Unable to run Panel code because Bokeh or Panel library is missing\");\n",
       "\t  } else {\n",
       "\t    console.warn(\"Panel: WARNING: Attempting to render but not all required libraries could be resolved.\")\n",
       "\t    embed_document(root)\n",
       "\t  }\n",
       "        }\n",
       "      }\n",
       "    }, 25, root)\n",
       "  }\n",
       "})(window);</script>"
      ]
     },
     "metadata": {
      "application/vnd.holoviews_exec.v0+json": {
       "id": "1d1a4cd4-8e97-401c-8581-5a8f7b45ba5a"
      }
     },
     "output_type": "display_data"
    },
    {
     "data": {
      "text/html": [
       "\n",
       "<div class=\"logo-block\">\n",
       "<img src='data:image/png;base64,iVBORw0KGgoAAAANSUhEUgAAAEAAAABACAYAAACqaXHeAAAABHNCSVQICAgIfAhkiAAAAAlwSFlz\n",
       "AAAB+wAAAfsBxc2miwAAABl0RVh0U29mdHdhcmUAd3d3Lmlua3NjYXBlLm9yZ5vuPBoAAA6zSURB\n",
       "VHic7ZtpeFRVmsf/5966taWqUlUJ2UioBBJiIBAwCZtog9IOgjqACsogKtqirT2ttt069nQ/zDzt\n",
       "tI4+CrJIREFaFgWhBXpUNhHZQoKBkIUASchWla1S+3ar7r1nPkDaCAnZKoQP/D7mnPOe9/xy76n3\n",
       "nFSAW9ziFoPFNED2LLK5wcyBDObkb8ZkxuaoSYlI6ZcOKq1eWFdedqNzGHQBk9RMEwFAASkk0Xw3\n",
       "ETacDNi2vtvc7L0ROdw0AjoSotQVkKSvHQz/wRO1lScGModBFbDMaNRN1A4tUBCS3lk7BWhQkgpD\n",
       "lG4852/+7DWr1R3uHAZVQDsbh6ZPN7CyxUrCzJMRouusj0ipRwD2uKm0Zn5d2dFwzX1TCGhnmdGo\n",
       "G62Nna+isiUqhkzuKrkQaJlPEv5mFl2fvGg2t/VnzkEV8F5ioioOEWkLG86fvbpthynjdhXYZziQ\n",
       "x1hC9J2NFyi8vCTt91Fh04KGip0AaG9zuCk2wQCVyoNU3Hjezee9bq92duzzTmxsRJoy+jEZZZYo\n",
       "GTKJ6SJngdJqAfRzpze0+jHreUtPc7gpBLQnIYK6BYp/uGhw9YK688eu7v95ysgshcg9qSLMo3JC\n",
       "4jqLKQFBgdKDPoQ+Pltb8dUyQLpeDjeVgI6EgLIQFT5tEl3rn2losHVsexbZ3EyT9wE1uGdkIPcy\n",
       "BGxn8QUq1QrA5nqW5i2tLqvrrM9NK6AdkVIvL9E9bZL/oyfMVd/jqvc8LylzRBKDJSzIExwhQzuL\n",
       "QYGQj4rHfFTc8mUdu3E7yoLtbTe9gI4EqVgVkug2i5+uXGo919ixbRog+3fTbQ8qJe4ZOYNfMoTI\n",
       "OoshUNosgO60AisX15aeI2PSIp5KiFLI9ubb1vV3Qb2ltwLakUCDAkWX7/nHKRmmGIl9VgYsUhJm\n",
       "2NXjKYADtM1ygne9QQDIXlk49FBstMKx66D1v4+XuQr7vqTe0VcBHQlRWiOCbmmSYe2SqtL6q5rJ\n",
       "zsTb7lKx3FKOYC4DoqyS/B5bvLPxvD9Qtf6saxYLQGJErmDOdOMr/zo96km1nElr8bmPOBwI9COv\n",
       "HnFPRIwmkSOv9kcAS4heRsidOkpeWBgZM+UBrTFAXNYL5Vf2ii9c1trNzpYdaoVil3WIc+wdk+gQ\n",
       "noie3ecCcxt9ITcLAPWt/laGEO/9U6PmzZkenTtsSMQ8uYywJVW+grCstAvCIaAdArAsIWkRDDs/\n",
       "KzLm2YcjY1Lv0UdW73HabE9n6V66cxSzfEmuJssTpKGVp+0vHq73FwL46eOjpMpbRAnNmJFrGJNu\n",
       "Ukf9Yrz+3rghiumCKNXXWPhLYcjxGsIpoCMsIRoFITkW8AuyM8jC1+/QLx4bozCEJIq38+1rtpR6\n",
       "V/yzb8eBlRb3fo5l783N0CWolAzJHaVNzkrTzlEp2bQ2q3TC5gn6wpnoQAmwSiGh2GitnTmVMc5O\n",
       "UyfKWUKCIsU7+fZDKwqdT6DDpvkzAX4/+AMFjk0tDp5GRXLpQ2MUmhgDp5gxQT8+Y7hyPsMi8uxF\n",
       "71H0oebujHALECjFKaW9Lm68n18wXp2kVzIcABytD5iXFzg+WVXkegpAsOOYziqo0OkK76GyquC3\n",
       "ltZAzMhhqlSNmmWTE5T6e3IN05ITFLM4GdN0vtZ3ob8Jh1NAKXFbm5PtLU/eqTSlGjkNAJjdgn/N\n",
       "aedXa0tdi7+t9G0FIF49rtMSEgAs1kDLkTPO7ebm4IUWeyh1bKomXqlgMG6kJmHcSM0clYLJ8XtR\n",
       "1GTnbV3F6I5wCGikAb402npp1h1s7LQUZZSMIfALFOuL3UUrfnS8+rez7v9qcold5tilgHbO1fjK\n",
       "9ubb17u9oshxzMiUBKXWqJNxd+fqb0tLVs4lILFnK71H0Ind7uiPgACVcFJlrb0tV6DzxqqTIhUM\n",
       "CwDf1/rrVhTa33/3pGPxJYdQ2l2cbgVcQSosdx8uqnDtbGjh9SlDVSMNWhlnilfqZk42Th2ZpLpf\n",
       "xrHec5e815zrr0dfBZSwzkZfqsv+1FS1KUknUwPARVvItfKUY+cn57yP7qv07UE3p8B2uhUwLk09\n",
       "e0SCOrK+hbdYHYLjRIl71wWzv9jpEoeOHhGRrJAzyEyNiJuUqX0g2sBN5kGK6y2Blp5M3lsB9Qh4\n",
       "y2Ja6x6+i0ucmKgwMATwhSjdUu49tKrQ/pvN5d53ml2CGwCmJipmKjgmyuaXzNeL2a0AkQ01Th5j\n",
       "2DktO3Jyk8f9vcOBQHV94OK+fPumJmvQHxJoWkaKWq9Vs+yUsbq0zGT1I4RgeH2b5wef7+c7bl8F\n",
       "eKgoHVVZa8ZPEORzR6sT1BzDUAD/d9F78e2Tzv99v8D+fLVTqAKAsbGamKey1Mt9Ann4eH3gTXTz\n",
       "idWtAJ8PQWOk7NzSeQn/OTHDuEikVF1R4z8BQCy+6D1aWRfY0tTGG2OM8rRoPaeIj5ZHzJxszElN\n",
       "VM8K8JS5WOfv8mzRnQAKoEhmt8gyPM4lU9SmBK1MCQBnW4KONT86v1hZ1PbwSXPw4JWussVjtH9Y\n",
       "NCoiL9UoH/6PSu8jFrfY2t36erQHXLIEakMi1SydmzB31h3GGXFDFNPaK8Rme9B79Ixrd0WN+1ij\n",
       "NRQ/doRmuFLBkHSTOm5GruG+pFjFdAmorG4IXH1Qua6ASniclfFtDYt+oUjKipPrCQB7QBQ2lrgP\n",
       "fFzm+9XWUtcqJ3/5vDLDpJ79XHZk3u8nGZ42qlj1+ydtbxysCezrydp6ugmipNJ7WBPB5tydY0jP\n",
       "HaVNzs3QzeE4ZpTbI+ZbnSFPbVOw9vsfnVvqWnirPyCNGD08IlqtYkh2hjZ5dErEQzoNm+6ykyOt\n",
       "Lt5/PQEuSRRKo22VkydK+vvS1XEKlhCJAnsqvcVvH7f/ZU2R67eXbMEGAMiIV5oWZWiWvz5Fv2xG\n",
       "sjqNJQRvn3Rs2lji/lNP19VjAQDgD7FHhujZB9OGqYxRkZxixgRDVlqS6uEOFaJUVu0rPFzctrnF\n",
       "JqijImVp8dEKVWyUXDk92zAuMZ6bFwpBU1HrOw6AdhQgUooChb0+ItMbWJitSo5Ws3IAOGEOtL53\n",
       "0vHZih9sC4vtofZ7Qu6523V/fmGcds1TY3V36pUsBwAbSlxnVh2xLfAD/IAIMDf7XYIkNmXfpp2l\n",
       "18rkAJAy9HKFaIr/qULkeQQKy9zf1JgDB2uaeFNGijo5QsUyacNUUTOnGO42xSnv4oOwpDi1zYkc\n",
       "efUc3I5Gk6PhyTuVKaOGyLUAYPGIoY9Pu/atL/L92+4q9wbflRJ2Trpm/jPjdBtfnqB/dIThcl8A\n",
       "KG7hbRuKnb8qsQsVvVlTrwQAQMUlf3kwJI24Z4JhPMtcfng5GcH49GsrxJpGvvHIaeem2ma+KSjQ\n",
       "lIwUdYyCY8j4dE1KzijNnIP2llF2wcXNnsoapw9XxsgYAl6k+KzUXbi2yP3KR2ecf6z3BFsBICdW\n",
       "nvnIaG3eHybqX7vbpEqUMT+9OL4Qpe8VON7dXuFd39v19FoAABRVePbGGuXTszO0P7tu6lghUonE\n",
       "llRdrhArLvmKdh9u29jcFiRRkfLUxBiFNiqSU9icoZQHo5mYBI1MBgBH6wMNb+U7Pnw337H4gi1Y\n",
       "ciWs+uks3Z9fztUvfzxTm9Ne8XXkvQLHNytOOZeiD4e0PgkAIAYCYknKUNUDSXEKzdWNpnil7r4p\n",
       "xqkjTarZMtk/K8TQ6Qve78qqvXurGwIJqcOUKfUWHsm8KGvxSP68YudXq4pcj39X49uOK2X142O0\n",
       "Tz5/u/7TVybqH0rSya6ZBwD21/gubbrgWdDgEOx9WUhfBaC2ibcEBYm7a7x+ukrBMNcEZggyR0TE\n",
       "T8zUPjikQ4VosQZbTpS4vqizBKvqmvjsqnpfzaZyx9JPiz1/bfGKdgD45XB1zoIMzYbfTdS/NClB\n",
       "Gct0USiY3YL/g0LHy/uq/Ef6uo5+n0R/vyhp17Klpge763f8rMu6YU/zrn2nml+2WtH+Z+5IAAFc\n",
       "2bUTdTDOSNa9+cQY7YLsOIXhevEkCvzph7a8laecz/Un/z4/Ae04XeL3UQb57IwU9ZDr9UuKVajv\n",
       "nxp1+1UVIo/LjztZkKH59fO3G/JemqCfmaCRqbqbd90ZZ8FfjtkfAyD0J/9+C2h1hDwsSxvGjNDc\n",
       "b4zk5NfrSwiQblLHzZhg+Jf4aPlUwpDqkQqa9nimbt1/TDH8OitGMaQnj+RJS6B1fbF7SY1TqO5v\n",
       "/v0WAADl1f7zokgS7s7VT2DZ7pegUjBM7mjtiDZbcN4j0YrHH0rXpCtY0qPX0cVL0rv5jv/ZXend\n",
       "0u/EESYBAFBU4T4Qa5TflZOhTe7pmKpaP8kCVUVw1+yhXfJWvn1P3hnXi33JsTN6PnP3hHZ8Z3/h\n",
       "aLHzmkNPuPj7Bc/F/Q38CwjTpSwQXgE4Vmwry9tpfq/ZFgqFMy4AVDtCvi8rvMvOmv0N4YwbVgEA\n",
       "sPM72/KVnzfspmH7HQGCRLG2yL1+z8XwvPcdCbsAANh+xPzstgMtxeGKt+6MK3/tacfvwhWvIwMi\n",
       "oKEBtm0H7W+UVfkc/Y1V0BhoPlDr/w1w/eu1vjIgAgDg22OtX6/eYfnEz/focrZTHAFR+PSs56/7\n",
       "q32nwpjazxgwAQCwcU/T62t3WL7r6/jVRa6/byp1rei+Z98ZUAEAhEPHPc8fKnTU9nbgtnOe8h0l\n",
       "9hcGIqmODLQAHCy2Xti6v/XNRivf43f4fFvIteu854+VHnR7q9tfBlwAAGz+pnndB9vM26UebAe8\n",
       "SLHujPOTPVW+rwY+sxskAAC2HrA8t2Vvc7ffP1r9o+vwR2dcr92InIAbKKC1FZ5tB1tf+/G8p8sv\n",
       "N/9Q5zd/XR34LYCwV5JdccMEAMDBk45DH243r/X4xGvqxFa/GNpS7n6rwOwNWwHVE26oAADYurf1\n",
       "zx/utOzt+DMKYM0p17YtZZ5VNzqfsB2HewG1WXE8PoZ7gOclbTIvynZf9JV+fqZtfgs/8F/Nu5rB\n",
       "EIBmJ+8QRMmpU7EzGRsf2FzuePqYRbzh/zE26EwdrT10f6r6o8HOYzCJB9Dpff8tbnGLG8L/A/WE\n",
       "roTBs2RqAAAAAElFTkSuQmCC'\n",
       "     style='height:25px; border-radius:12px; display: inline-block; float: left; vertical-align: middle'></img>\n",
       "\n",
       "\n",
       "  <img src='data:image/png;base64,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'\n",
       "       style='height:15px; border-radius:12px; display: inline-block; float: left'></img>\n",
       "  \n",
       "\n",
       "\n",
       "\n",
       "\n",
       "</div>\n"
      ]
     },
     "metadata": {},
     "output_type": "display_data"
    },
    {
     "name": "stderr",
     "output_type": "stream",
     "text": [
      "WARNING:param.panel_extension: bokeh extension not recognized and will be skipped.\n"
     ]
    },
    {
     "data": {
      "text/html": [
       "<script type=\"esms-options\">{\"shimMode\": true}</script><style>*[data-root-id],\n",
       "*[data-root-id] > * {\n",
       "  box-sizing: border-box;\n",
       "  font-family: var(--jp-ui-font-family);\n",
       "  font-size: var(--jp-ui-font-size1);\n",
       "  color: var(--vscode-editor-foreground, var(--jp-ui-font-color1));\n",
       "}\n",
       "\n",
       "/* Override VSCode background color */\n",
       ".cell-output-ipywidget-background:has(\n",
       "    > .cell-output-ipywidget-background > .lm-Widget > *[data-root-id]\n",
       "  ),\n",
       ".cell-output-ipywidget-background:has(> .lm-Widget > *[data-root-id]) {\n",
       "  background-color: transparent !important;\n",
       "}\n",
       "</style>"
      ]
     },
     "metadata": {},
     "output_type": "display_data"
    },
    {
     "data": {
      "application/javascript": "(function(root) {\n  function now() {\n    return new Date();\n  }\n\n  const force = false;\n  const py_version = '3.6.3'.replace('rc', '-rc.').replace('.dev', '-dev.');\n  const reloading = true;\n  const Bokeh = root.Bokeh;\n\n  // Set a timeout for this load but only if we are not already initializing\n  if (typeof (root._bokeh_timeout) === \"undefined\" || (force || !root._bokeh_is_initializing)) {\n    root._bokeh_timeout = Date.now() + 5000;\n    root._bokeh_failed_load = false;\n  }\n\n  function run_callbacks() {\n    try {\n      root._bokeh_onload_callbacks.forEach(function(callback) {\n        if (callback != null)\n          callback();\n      });\n    } finally {\n      delete root._bokeh_onload_callbacks;\n    }\n    console.debug(\"Bokeh: all callbacks have finished\");\n  }\n\n  function load_libs(css_urls, js_urls, js_modules, js_exports, callback) {\n    if (css_urls == null) css_urls = [];\n    if (js_urls == null) js_urls = [];\n    if (js_modules == null) js_modules = [];\n    if (js_exports == null) js_exports = {};\n\n    root._bokeh_onload_callbacks.push(callback);\n\n    if (root._bokeh_is_loading > 0) {\n      // Don't load bokeh if it is still initializing\n      console.debug(\"Bokeh: BokehJS is being loaded, scheduling callback at\", now());\n      return null;\n    } else if (js_urls.length === 0 && js_modules.length === 0 && Object.keys(js_exports).length === 0) {\n      // There is nothing to load\n      run_callbacks();\n      return null;\n    }\n\n    function on_load() {\n      root._bokeh_is_loading--;\n      if (root._bokeh_is_loading === 0) {\n        console.debug(\"Bokeh: all BokehJS libraries/stylesheets loaded\");\n        run_callbacks()\n      }\n    }\n    window._bokeh_on_load = on_load\n\n    function on_error(e) {\n      const src_el = e.srcElement\n      console.error(\"failed to load \" + (src_el.href || src_el.src));\n    }\n\n    const skip = [];\n    if (window.requirejs) {\n      window.requirejs.config({'packages': {}, 'paths': {}, 'shim': {}});\n      root._bokeh_is_loading = css_urls.length + 0;\n    } else {\n      root._bokeh_is_loading = css_urls.length + js_urls.length + js_modules.length + Object.keys(js_exports).length;\n    }\n\n    const existing_stylesheets = []\n    const links = document.getElementsByTagName('link')\n    for (let i = 0; i < links.length; i++) {\n      const link = links[i]\n      if (link.href != null) {\n        existing_stylesheets.push(link.href)\n      }\n    }\n    for (let i = 0; i < css_urls.length; i++) {\n      const url = css_urls[i];\n      const escaped = encodeURI(url)\n      if (existing_stylesheets.indexOf(escaped) !== -1) {\n        on_load()\n        continue;\n      }\n      const element = document.createElement(\"link\");\n      element.onload = on_load;\n      element.onerror = on_error;\n      element.rel = \"stylesheet\";\n      element.type = \"text/css\";\n      element.href = url;\n      console.debug(\"Bokeh: injecting link tag for BokehJS stylesheet: \", url);\n      document.body.appendChild(element);\n    }    var existing_scripts = []\n    const scripts = document.getElementsByTagName('script')\n    for (let i = 0; i < scripts.length; i++) {\n      var script = scripts[i]\n      if (script.src != null) {\n        existing_scripts.push(script.src)\n      }\n    }\n    for (let i = 0; i < js_urls.length; i++) {\n      const url = js_urls[i];\n      const escaped = encodeURI(url)\n      if (skip.indexOf(escaped) !== -1 || existing_scripts.indexOf(escaped) !== -1) {\n        if (!window.requirejs) {\n          on_load();\n        }\n        continue;\n      }\n      const element = document.createElement('script');\n      element.onload = on_load;\n      element.onerror = on_error;\n      element.async = false;\n      element.src = url;\n      console.debug(\"Bokeh: injecting script tag for BokehJS library: \", url);\n      document.head.appendChild(element);\n    }\n    for (let i = 0; i < js_modules.length; i++) {\n      const url = js_modules[i];\n      const escaped = encodeURI(url)\n      if (skip.indexOf(escaped) !== -1 || existing_scripts.indexOf(escaped) !== -1) {\n        if (!window.requirejs) {\n          on_load();\n        }\n        continue;\n      }\n      var element = document.createElement('script');\n      element.onload = on_load;\n      element.onerror = on_error;\n      element.async = false;\n      element.src = url;\n      element.type = \"module\";\n      console.debug(\"Bokeh: injecting script tag for BokehJS library: \", url);\n      document.head.appendChild(element);\n    }\n    for (const name in js_exports) {\n      const url = js_exports[name];\n      const escaped = encodeURI(url)\n      if (skip.indexOf(escaped) >= 0 || root[name] != null) {\n        if (!window.requirejs) {\n          on_load();\n        }\n        continue;\n      }\n      var element = document.createElement('script');\n      element.onerror = on_error;\n      element.async = false;\n      element.type = \"module\";\n      console.debug(\"Bokeh: injecting script tag for BokehJS library: \", url);\n      element.textContent = `\n      import ${name} from \"${url}\"\n      window.${name} = ${name}\n      window._bokeh_on_load()\n      `\n      document.head.appendChild(element);\n    }\n    if (!js_urls.length && !js_modules.length) {\n      on_load()\n    }\n  };\n\n  function inject_raw_css(css) {\n    const element = document.createElement(\"style\");\n    element.appendChild(document.createTextNode(css));\n    document.body.appendChild(element);\n  }\n\n  const js_urls = [\"https://cdn.holoviz.org/panel/1.6.0/dist/bundled/reactiveesm/es-module-shims@^1.10.0/dist/es-module-shims.min.js\"];\n  const js_modules = [];\n  const js_exports = {};\n  const css_urls = [];\n  const inline_js = [    function(Bokeh) {\n      Bokeh.set_log_level(\"info\");\n    },\nfunction(Bokeh) {} // ensure no trailing comma for IE\n  ];\n\n  function run_inline_js() {\n    if ((root.Bokeh !== undefined) || (force === true)) {\n      for (let i = 0; i < inline_js.length; i++) {\n        try {\n          inline_js[i].call(root, root.Bokeh);\n        } catch(e) {\n          if (!reloading) {\n            throw e;\n          }\n        }\n      }\n      // Cache old bokeh versions\n      if (Bokeh != undefined && !reloading) {\n        var NewBokeh = root.Bokeh;\n        if (Bokeh.versions === undefined) {\n          Bokeh.versions = new Map();\n        }\n        if (NewBokeh.version !== Bokeh.version) {\n          Bokeh.versions.set(NewBokeh.version, NewBokeh)\n        }\n        root.Bokeh = Bokeh;\n      }\n    } else if (Date.now() < root._bokeh_timeout) {\n      setTimeout(run_inline_js, 100);\n    } else if (!root._bokeh_failed_load) {\n      console.log(\"Bokeh: BokehJS failed to load within specified timeout.\");\n      root._bokeh_failed_load = true;\n    }\n    root._bokeh_is_initializing = false\n  }\n\n  function load_or_wait() {\n    // Implement a backoff loop that tries to ensure we do not load multiple\n    // versions of Bokeh and its dependencies at the same time.\n    // In recent versions we use the root._bokeh_is_initializing flag\n    // to determine whether there is an ongoing attempt to initialize\n    // bokeh, however for backward compatibility we also try to ensure\n    // that we do not start loading a newer (Panel>=1.0 and Bokeh>3) version\n    // before older versions are fully initialized.\n    if (root._bokeh_is_initializing && Date.now() > root._bokeh_timeout) {\n      // If the timeout and bokeh was not successfully loaded we reset\n      // everything and try loading again\n      root._bokeh_timeout = Date.now() + 5000;\n      root._bokeh_is_initializing = false;\n      root._bokeh_onload_callbacks = undefined;\n      root._bokeh_is_loading = 0\n      console.log(\"Bokeh: BokehJS was loaded multiple times but one version failed to initialize.\");\n      load_or_wait();\n    } else if (root._bokeh_is_initializing || (typeof root._bokeh_is_initializing === \"undefined\" && root._bokeh_onload_callbacks !== undefined)) {\n      setTimeout(load_or_wait, 100);\n    } else {\n      root._bokeh_is_initializing = true\n      root._bokeh_onload_callbacks = []\n      const bokeh_loaded = root.Bokeh != null && (root.Bokeh.version === py_version || (root.Bokeh.versions !== undefined && root.Bokeh.versions.has(py_version)));\n      if (!reloading && !bokeh_loaded) {\n        if (root.Bokeh) {\n          root.Bokeh = undefined;\n        }\n        console.debug(\"Bokeh: BokehJS not loaded, scheduling load and callback at\", now());\n      }\n      load_libs(css_urls, js_urls, js_modules, js_exports, function() {\n        console.debug(\"Bokeh: BokehJS plotting callback run at\", now());\n        run_inline_js();\n      });\n    }\n  }\n  // Give older versions of the autoload script a head-start to ensure\n  // they initialize before we start loading newer version.\n  setTimeout(load_or_wait, 100)\n}(window));",
      "application/vnd.holoviews_load.v0+json": ""
     },
     "metadata": {},
     "output_type": "display_data"
    },
    {
     "data": {
      "application/javascript": "\nif ((window.PyViz === undefined) || (window.PyViz instanceof HTMLElement)) {\n  window.PyViz = {comms: {}, comm_status:{}, kernels:{}, receivers: {}, plot_index: []}\n}\n\n\n    function JupyterCommManager() {\n    }\n\n    JupyterCommManager.prototype.register_target = function(plot_id, comm_id, msg_handler) {\n      if (window.comm_manager || ((window.Jupyter !== undefined) && (Jupyter.notebook.kernel != null))) {\n        var comm_manager = window.comm_manager || Jupyter.notebook.kernel.comm_manager;\n        comm_manager.register_target(comm_id, function(comm) {\n          comm.on_msg(msg_handler);\n        });\n      } else if ((plot_id in window.PyViz.kernels) && (window.PyViz.kernels[plot_id])) {\n        window.PyViz.kernels[plot_id].registerCommTarget(comm_id, function(comm) {\n          comm.onMsg = msg_handler;\n        });\n      } else if (typeof google != 'undefined' && google.colab.kernel != null) {\n        google.colab.kernel.comms.registerTarget(comm_id, (comm) => {\n          var messages = comm.messages[Symbol.asyncIterator]();\n          function processIteratorResult(result) {\n            var message = result.value;\n            console.log(message)\n            var content = {data: message.data, comm_id};\n            var buffers = []\n            for (var buffer of message.buffers || []) {\n              buffers.push(new DataView(buffer))\n            }\n            var metadata = message.metadata || {};\n            var msg = {content, buffers, metadata}\n            msg_handler(msg);\n            return messages.next().then(processIteratorResult);\n          }\n          return messages.next().then(processIteratorResult);\n        })\n      }\n    }\n\n    JupyterCommManager.prototype.get_client_comm = function(plot_id, comm_id, msg_handler) {\n      if (comm_id in window.PyViz.comms) {\n        return window.PyViz.comms[comm_id];\n      } else if (window.comm_manager || ((window.Jupyter !== undefined) && (Jupyter.notebook.kernel != null))) {\n        var comm_manager = window.comm_manager || Jupyter.notebook.kernel.comm_manager;\n        var comm = comm_manager.new_comm(comm_id, {}, {}, {}, comm_id);\n        if (msg_handler) {\n          comm.on_msg(msg_handler);\n        }\n      } else if ((plot_id in window.PyViz.kernels) && (window.PyViz.kernels[plot_id])) {\n        var comm = window.PyViz.kernels[plot_id].connectToComm(comm_id);\n        comm.open();\n        if (msg_handler) {\n          comm.onMsg = msg_handler;\n        }\n      } else if (typeof google != 'undefined' && google.colab.kernel != null) {\n        var comm_promise = google.colab.kernel.comms.open(comm_id)\n        comm_promise.then((comm) => {\n          window.PyViz.comms[comm_id] = comm;\n          if (msg_handler) {\n            var messages = comm.messages[Symbol.asyncIterator]();\n            function processIteratorResult(result) {\n              var message = result.value;\n              var content = {data: message.data};\n              var metadata = message.metadata || {comm_id};\n              var msg = {content, metadata}\n              msg_handler(msg);\n              return messages.next().then(processIteratorResult);\n            }\n            return messages.next().then(processIteratorResult);\n          }\n        })\n        var sendClosure = (data, metadata, buffers, disposeOnDone) => {\n          return comm_promise.then((comm) => {\n            comm.send(data, metadata, buffers, disposeOnDone);\n          });\n        };\n        var comm = {\n          send: sendClosure\n        };\n      }\n      window.PyViz.comms[comm_id] = comm;\n      return comm;\n    }\n    window.PyViz.comm_manager = new JupyterCommManager();\n    \n\n\nvar JS_MIME_TYPE = 'application/javascript';\nvar HTML_MIME_TYPE = 'text/html';\nvar EXEC_MIME_TYPE = 'application/vnd.holoviews_exec.v0+json';\nvar CLASS_NAME = 'output';\n\n/**\n * Render data to the DOM node\n */\nfunction render(props, node) {\n  var div = document.createElement(\"div\");\n  var script = document.createElement(\"script\");\n  node.appendChild(div);\n  node.appendChild(script);\n}\n\n/**\n * Handle when a new output is added\n */\nfunction handle_add_output(event, handle) {\n  var output_area = handle.output_area;\n  var output = handle.output;\n  if ((output.data == undefined) || (!output.data.hasOwnProperty(EXEC_MIME_TYPE))) {\n    return\n  }\n  var id = output.metadata[EXEC_MIME_TYPE][\"id\"];\n  var toinsert = output_area.element.find(\".\" + CLASS_NAME.split(' ')[0]);\n  if (id !== undefined) {\n    var nchildren = toinsert.length;\n    var html_node = toinsert[nchildren-1].children[0];\n    html_node.innerHTML = output.data[HTML_MIME_TYPE];\n    var scripts = [];\n    var nodelist = html_node.querySelectorAll(\"script\");\n    for (var i in nodelist) {\n      if (nodelist.hasOwnProperty(i)) {\n        scripts.push(nodelist[i])\n      }\n    }\n\n    scripts.forEach( function (oldScript) {\n      var newScript = document.createElement(\"script\");\n      var attrs = [];\n      var nodemap = oldScript.attributes;\n      for (var j in nodemap) {\n        if (nodemap.hasOwnProperty(j)) {\n          attrs.push(nodemap[j])\n        }\n      }\n      attrs.forEach(function(attr) { newScript.setAttribute(attr.name, attr.value) });\n      newScript.appendChild(document.createTextNode(oldScript.innerHTML));\n      oldScript.parentNode.replaceChild(newScript, oldScript);\n    });\n    if (JS_MIME_TYPE in output.data) {\n      toinsert[nchildren-1].children[1].textContent = output.data[JS_MIME_TYPE];\n    }\n    output_area._hv_plot_id = id;\n    if ((window.Bokeh !== undefined) && (id in Bokeh.index)) {\n      window.PyViz.plot_index[id] = Bokeh.index[id];\n    } else {\n      window.PyViz.plot_index[id] = null;\n    }\n  } else if (output.metadata[EXEC_MIME_TYPE][\"server_id\"] !== undefined) {\n    var bk_div = document.createElement(\"div\");\n    bk_div.innerHTML = output.data[HTML_MIME_TYPE];\n    var script_attrs = bk_div.children[0].attributes;\n    for (var i = 0; i < script_attrs.length; i++) {\n      toinsert[toinsert.length - 1].childNodes[1].setAttribute(script_attrs[i].name, script_attrs[i].value);\n    }\n    // store reference to server id on output_area\n    output_area._bokeh_server_id = output.metadata[EXEC_MIME_TYPE][\"server_id\"];\n  }\n}\n\n/**\n * Handle when an output is cleared or removed\n */\nfunction handle_clear_output(event, handle) {\n  var id = handle.cell.output_area._hv_plot_id;\n  var server_id = handle.cell.output_area._bokeh_server_id;\n  if (((id === undefined) || !(id in PyViz.plot_index)) && (server_id !== undefined)) { return; }\n  var comm = window.PyViz.comm_manager.get_client_comm(\"hv-extension-comm\", \"hv-extension-comm\", function () {});\n  if (server_id !== null) {\n    comm.send({event_type: 'server_delete', 'id': server_id});\n    return;\n  } else if (comm !== null) {\n    comm.send({event_type: 'delete', 'id': id});\n  }\n  delete PyViz.plot_index[id];\n  if ((window.Bokeh !== undefined) & (id in window.Bokeh.index)) {\n    var doc = window.Bokeh.index[id].model.document\n    doc.clear();\n    const i = window.Bokeh.documents.indexOf(doc);\n    if (i > -1) {\n      window.Bokeh.documents.splice(i, 1);\n    }\n  }\n}\n\n/**\n * Handle kernel restart event\n */\nfunction handle_kernel_cleanup(event, handle) {\n  delete PyViz.comms[\"hv-extension-comm\"];\n  window.PyViz.plot_index = {}\n}\n\n/**\n * Handle update_display_data messages\n */\nfunction handle_update_output(event, handle) {\n  handle_clear_output(event, {cell: {output_area: handle.output_area}})\n  handle_add_output(event, handle)\n}\n\nfunction register_renderer(events, OutputArea) {\n  function append_mime(data, metadata, element) {\n    // create a DOM node to render to\n    var toinsert = this.create_output_subarea(\n    metadata,\n    CLASS_NAME,\n    EXEC_MIME_TYPE\n    );\n    this.keyboard_manager.register_events(toinsert);\n    // Render to node\n    var props = {data: data, metadata: metadata[EXEC_MIME_TYPE]};\n    render(props, toinsert[0]);\n    element.append(toinsert);\n    return toinsert\n  }\n\n  events.on('output_added.OutputArea', handle_add_output);\n  events.on('output_updated.OutputArea', handle_update_output);\n  events.on('clear_output.CodeCell', handle_clear_output);\n  events.on('delete.Cell', handle_clear_output);\n  events.on('kernel_ready.Kernel', handle_kernel_cleanup);\n\n  OutputArea.prototype.register_mime_type(EXEC_MIME_TYPE, append_mime, {\n    safe: true,\n    index: 0\n  });\n}\n\nif (window.Jupyter !== undefined) {\n  try {\n    var events = require('base/js/events');\n    var OutputArea = require('notebook/js/outputarea').OutputArea;\n    if (OutputArea.prototype.mime_types().indexOf(EXEC_MIME_TYPE) == -1) {\n      register_renderer(events, OutputArea);\n    }\n  } catch(err) {\n  }\n}\n",
      "application/vnd.holoviews_load.v0+json": ""
     },
     "metadata": {},
     "output_type": "display_data"
    }
   ],
   "source": [
    "%load_ext autoreload\n",
    "%autoreload 2\n",
    "\n",
    "import numpy as np\n",
    "from tqdm import tqdm\n",
    "import h5py\n",
    "\n",
    "import holoviews as hv\n",
    "import panel as pn\n",
    "\n",
    "hv.extension('bokeh')\n",
    "pn.extension('bokeh')\n",
    "\n",
    "import h5py\n",
    "\n",
    "import torch\n",
    "import glob\n",
    "\n",
    "import sys\n",
    "sys.path.append('..') # path to the src directory\n",
    "sys.path.append('/home/m3learning/Northwestern/M3Learning-Util/src')\n",
    "sys.path.append('/home/m3learning/Northwestern/AutoPhysLearn/src')\n",
    "\n",
    "\n",
    "import matplotlib.pyplot as plt"
   ]
  },
  {
   "cell_type": "markdown",
   "metadata": {},
   "source": [
    "## load and write data"
   ]
  },
  {
   "cell_type": "code",
   "execution_count": 48,
   "metadata": {},
   "outputs": [
    {
     "name": "stderr",
     "output_type": "stream",
     "text": [
      "Fitting scalers for 00.250_noise: 100%|██████████| 10000/10000 [00:05<00:00, 1998.96it/s]\n"
     ]
    }
   ],
   "source": [
    "from Gaussian_Sampler.data.datasets import Fake_PV_Dataset\n",
    "datapath = '/home/m3learning/Northwestern/Northwestern_link/Gaussian_Sampler/'\n",
    "\n",
    "dset = Fake_PV_Dataset(shape=(100,100,750),\n",
    "                       save_folder=datapath,\n",
    "                       scaled=True, # make sure to change \n",
    "                       noise_level=5, # make sure to change in other places\n",
    "                       # TEST: scaling kernel size\n",
    "                       scaling_kernel_size=1,\n",
    "                    #    overwrite=True\n",
    "                       )\n"
   ]
  },
  {
   "cell_type": "markdown",
   "metadata": {},
   "source": [
    "## Visualize input and sampler"
   ]
  },
  {
   "cell_type": "code",
   "execution_count": 49,
   "metadata": {},
   "outputs": [],
   "source": [
    "# from Gaussian_Sampler.data.custom_sampler import Gaussian_Sampler\n",
    "# sampler = Gaussian_Sampler(dset, batch_size=100, orig_shape=dset.shape[0:-1], \n",
    "#                            # TEST: gaussian std\n",
    "#                            gaussian_std=0, \n",
    "#                            # TEST: num neighbors\n",
    "#                            num_neighbors=10)\n",
    "# batch_inds = next(iter(sampler))\n"
   ]
  },
  {
   "cell_type": "code",
   "execution_count": 51,
   "metadata": {},
   "outputs": [],
   "source": [
    "# from Gaussian_Sampler.viz.hv_viz import Fake_PV_viz\n",
    "\n",
    "# viz = Fake_PV_viz(dset, sampler)"
   ]
  },
  {
   "cell_type": "code",
   "execution_count": 52,
   "metadata": {},
   "outputs": [],
   "source": [
    "# plt.clf()\n",
    "# with dset.open_h5() as f:\n",
    "#     for i in range(0,9999,675):\n",
    "#         plt.plot(f[dset.noise_][i])\n",
    "#         # plt.plot(dset.scaler.fit_transform(f[dset.noise_][i].reshape(-1,1)).flatten())\n",
    "#         # plt.plot(dset.kernel_scalers[i].transform(f[dset.noise_][i].reshape(-1,1)).flatten())\n",
    "#         # plt.plot(dset.scaler.fit_transform(f[dset.noise_][i].reshape(1,-1)).flatten())"
   ]
  },
  {
   "cell_type": "code",
   "execution_count": 53,
   "metadata": {},
   "outputs": [],
   "source": [
    "# plt.clf()\n",
    "# for i in range(0,9999,675):\n",
    "#     plt.plot(dset[i][1])"
   ]
  },
  {
   "cell_type": "code",
   "execution_count": 54,
   "metadata": {},
   "outputs": [],
   "source": [
    "# input_viz = viz.layout_input()\n",
    "# input_viz.show(port=5006, websocket_origin=\"*\")"
   ]
  },
  {
   "cell_type": "code",
   "execution_count": 55,
   "metadata": {},
   "outputs": [],
   "source": [
    "# # input_viz.stop()\n",
    "# input_viz.clear()"
   ]
  },
  {
   "cell_type": "code",
   "execution_count": 56,
   "metadata": {},
   "outputs": [],
   "source": [
    "# batch_viz = viz.layout_batch()\n",
    "# pane = batch_viz.show(port=5006, websocket_origin=\"*\",threaded=True)\n"
   ]
  },
  {
   "cell_type": "code",
   "execution_count": 57,
   "metadata": {},
   "outputs": [],
   "source": [
    "# batch_viz.clear()"
   ]
  },
  {
   "cell_type": "markdown",
   "metadata": {},
   "source": [
    "## initialize model"
   ]
  },
  {
   "cell_type": "code",
   "execution_count": 79,
   "metadata": {},
   "outputs": [],
   "source": [
    "from Gaussian_Sampler.models.pv_fitter import Fitter_AE, generate_pseudovoigt_1D, pseudovoigt_1D_activations, pseudovoigt_1D_fitters\n",
    "from autophyslearn.spectroscopic.nn import block_factory, Conv_Block, FC_Block\n",
    "from autophyslearn.spectroscopic.nn import Multiscale1DFitter\n",
    "\n",
    "\n",
    "num_fits = 4 # number of curves to sum up\n",
    "num_params = 4 # number of parameters to fit\n",
    "\n",
    "fitter = Fitter_AE(function=generate_pseudovoigt_1D,\n",
    "                   dset=dset,\n",
    "                   num_params=num_params,\n",
    "                   num_fits=num_fits,\n",
    "                   input_channels = 1,\n",
    "                   learning_rate=3e-5,\n",
    "                   device='cuda:0',\n",
    "                   encoder = Multiscale1DFitter,\n",
    "                   encoder_params = {\n",
    "                       \"model_block_dict\": { # factory wrapper for blocks\n",
    "                            \"hidden_x1\": block_factory(Conv_Block)(output_channels_list=[8,4], \n",
    "                                                                    kernel_size_list=[5,3], \n",
    "                                                                    pool_list=[128], \n",
    "                                                                    max_pool=False),\n",
    "                            \"hidden_xfc\": block_factory(FC_Block)(output_size_list=[64,32]),\n",
    "                            \"hidden_x2\": block_factory(Conv_Block)(output_channels_list=[4,4,4], \n",
    "                                                                    kernel_size_list=[3,3,3], \n",
    "                                                                    pool_list=[8,4], \n",
    "                                                                    max_pool=True),\n",
    "                            \"hidden_embedding\": block_factory(FC_Block)(output_size_list=[8,num_params*num_fits]),\n",
    "                        },\n",
    "                        'final_activation_function': pseudovoigt_1D_activations,\n",
    "                        # TEST: LIMITS,\n",
    "                        \"skip_connections\": {'hidden_xfc': 'hidden_embedding'},\n",
    "                        \"scaler\": pseudovoigt_1D_fitters( limits = [2,dset.shape[-1],dset.shape[-1]] ) \n",
    "                    },\n",
    "                    checkpoint_folder='home/m3learning/Northwestern/Northwestern_link/Gaussian_Sampler/checkpoints',\n",
    "                    # sampler = sampler,\n",
    "                    # sampler_params = {'dset': dset, \n",
    "                    #                   'batch_size': 100, \n",
    "                    #                   'gaussian_std': 5, \n",
    "                    #                   'orig_shape': dset.shape[0:-1], \n",
    "                    #                   'num_neighbors': 20, },\n",
    "                )"
   ]
  },
  {
   "cell_type": "code",
   "execution_count": 80,
   "metadata": {},
   "outputs": [
    {
     "name": "stdout",
     "output_type": "stream",
     "text": [
      "/home/m3learning/Northwestern/Gaussian_Sampler/Notebooks/home/m3learning/Northwestern/Northwestern_link/Gaussian_Sampler/checkpoints\n"
     ]
    },
    {
     "name": "stderr",
     "output_type": "stream",
     "text": [
      "  0%|          | 0/100 [00:00<?, ?it/s]"
     ]
    },
    {
     "name": "stderr",
     "output_type": "stream",
     "text": [
      "100%|██████████| 100/100 [00:09<00:00, 10.65it/s]\n"
     ]
    },
    {
     "name": "stdout",
     "output_type": "stream",
     "text": [
      "Epoch: 000/010 | Train Loss: 0.0147\n",
      ".............................\n"
     ]
    },
    {
     "name": "stderr",
     "output_type": "stream",
     "text": [
      "100%|██████████| 100/100 [00:09<00:00, 11.00it/s]\n"
     ]
    },
    {
     "name": "stdout",
     "output_type": "stream",
     "text": [
      "Epoch: 001/010 | Train Loss: 0.0138\n",
      ".............................\n"
     ]
    },
    {
     "name": "stderr",
     "output_type": "stream",
     "text": [
      "100%|██████████| 100/100 [00:09<00:00, 10.73it/s]\n"
     ]
    },
    {
     "name": "stdout",
     "output_type": "stream",
     "text": [
      "Epoch: 002/010 | Train Loss: 0.0131\n",
      ".............................\n"
     ]
    },
    {
     "name": "stderr",
     "output_type": "stream",
     "text": [
      "100%|██████████| 100/100 [00:09<00:00, 10.83it/s]\n"
     ]
    },
    {
     "name": "stdout",
     "output_type": "stream",
     "text": [
      "Epoch: 003/010 | Train Loss: 0.0127\n",
      ".............................\n"
     ]
    },
    {
     "name": "stderr",
     "output_type": "stream",
     "text": [
      "100%|██████████| 100/100 [00:09<00:00, 10.96it/s]\n"
     ]
    },
    {
     "name": "stdout",
     "output_type": "stream",
     "text": [
      "Epoch: 004/010 | Train Loss: 0.0122\n",
      ".............................\n"
     ]
    },
    {
     "name": "stderr",
     "output_type": "stream",
     "text": [
      "100%|██████████| 100/100 [00:09<00:00, 10.93it/s]\n"
     ]
    },
    {
     "name": "stdout",
     "output_type": "stream",
     "text": [
      "Epoch: 005/010 | Train Loss: 0.0117\n",
      ".............................\n"
     ]
    },
    {
     "name": "stderr",
     "output_type": "stream",
     "text": [
      "100%|██████████| 100/100 [00:09<00:00, 10.70it/s]\n"
     ]
    },
    {
     "name": "stdout",
     "output_type": "stream",
     "text": [
      "Epoch: 006/010 | Train Loss: 0.0109\n",
      ".............................\n"
     ]
    },
    {
     "name": "stderr",
     "output_type": "stream",
     "text": [
      "100%|██████████| 100/100 [00:09<00:00, 11.09it/s]\n"
     ]
    },
    {
     "name": "stdout",
     "output_type": "stream",
     "text": [
      "Epoch: 007/010 | Train Loss: 0.0103\n",
      ".............................\n"
     ]
    },
    {
     "name": "stderr",
     "output_type": "stream",
     "text": [
      "100%|██████████| 100/100 [00:09<00:00, 11.06it/s]\n"
     ]
    },
    {
     "name": "stdout",
     "output_type": "stream",
     "text": [
      "Epoch: 008/010 | Train Loss: 0.0098\n",
      ".............................\n"
     ]
    },
    {
     "name": "stderr",
     "output_type": "stream",
     "text": [
      "100%|██████████| 100/100 [00:09<00:00, 11.02it/s]"
     ]
    },
    {
     "name": "stdout",
     "output_type": "stream",
     "text": [
      "Epoch: 009/010 | Train Loss: 0.0095\n",
      ".............................\n"
     ]
    },
    {
     "name": "stderr",
     "output_type": "stream",
     "text": [
      "\n"
     ]
    }
   ],
   "source": [
    "fitter.train(epochs=10,save_every=10)"
   ]
  },
  {
   "cell_type": "code",
   "execution_count": 81,
   "metadata": {},
   "outputs": [
    {
     "data": {
      "text/plain": [
       "'model_visualization.pdf'"
      ]
     },
     "execution_count": 81,
     "metadata": {},
     "output_type": "execute_result"
    }
   ],
   "source": [
    "from torchviz import make_dot\n",
    "x = torch.Tensor(dset[2346][1]).reshape(-1,1,dset.spec_len).float().to('cuda:0')\n",
    "# Generate the dot graph\n",
    "dot = make_dot(fitter.encoder(x), params=dict(fitter.encoder.named_parameters()))\n",
    "\n",
    "# Save the graph as a PDF\n",
    "dot.render(\"model_visualization\", format=\"pdf\")"
   ]
  },
  {
   "cell_type": "code",
   "execution_count": 82,
   "metadata": {},
   "outputs": [
    {
     "data": {
      "image/svg+xml": [
       "<?xml version=\"1.0\" encoding=\"UTF-8\" standalone=\"no\"?>\n",
       "<!DOCTYPE svg PUBLIC \"-//W3C//DTD SVG 1.1//EN\"\n",
       " \"http://www.w3.org/Graphics/SVG/1.1/DTD/svg11.dtd\">\n",
       "<!-- Generated by graphviz version 2.50.0 (0)\n",
       " -->\n",
       "<!-- Title: model Pages: 1 -->\n",
       "<svg width=\"1230pt\" height=\"3930pt\"\n",
       " viewBox=\"0.00 0.00 1230.00 3930.00\" xmlns=\"http://www.w3.org/2000/svg\" xmlns:xlink=\"http://www.w3.org/1999/xlink\">\n",
       "<g id=\"graph0\" class=\"graph\" transform=\"scale(1 1) rotate(0) translate(4 3926)\">\n",
       "<title>model</title>\n",
       "<polygon fill=\"white\" stroke=\"transparent\" points=\"-4,4 -4,-3926 1226,-3926 1226,4 -4,4\"/>\n",
       "<!-- 0 -->\n",
       "<g id=\"node1\" class=\"node\">\n",
       "<title>0</title>\n",
       "<polygon fill=\"lightyellow\" stroke=\"transparent\" points=\"566,-3922 441,-3922 441,-3890 566,-3890 566,-3922\"/>\n",
       "<polygon fill=\"none\" stroke=\"black\" points=\"441.5,-3890 441.5,-3922 509.5,-3922 509.5,-3890 441.5,-3890\"/>\n",
       "<text text-anchor=\"start\" x=\"446.5\" y=\"-3909\" font-family=\"Linux libertine\" font-size=\"10.00\">input&#45;tensor</text>\n",
       "<text text-anchor=\"start\" x=\"457\" y=\"-3898\" font-family=\"Linux libertine\" font-size=\"10.00\">depth:0</text>\n",
       "<polygon fill=\"none\" stroke=\"black\" points=\"509.5,-3890 509.5,-3922 566.5,-3922 566.5,-3890 509.5,-3890\"/>\n",
       "<text text-anchor=\"start\" x=\"514.5\" y=\"-3903.5\" font-family=\"Linux libertine\" font-size=\"10.00\">(1, 1, 750)</text>\n",
       "</g>\n",
       "<!-- 1 -->\n",
       "<g id=\"node2\" class=\"node\">\n",
       "<title>1</title>\n",
       "<polygon fill=\"aliceblue\" stroke=\"transparent\" points=\"580.5,-3854 426.5,-3854 426.5,-3812 580.5,-3812 580.5,-3854\"/>\n",
       "<polygon fill=\"none\" stroke=\"black\" points=\"426.5,-3812 426.5,-3854 474.5,-3854 474.5,-3812 426.5,-3812\"/>\n",
       "<text text-anchor=\"start\" x=\"431.5\" y=\"-3836\" font-family=\"Linux libertine\" font-size=\"10.00\">reshape</text>\n",
       "<text text-anchor=\"start\" x=\"432\" y=\"-3825\" font-family=\"Linux libertine\" font-size=\"10.00\">depth:1</text>\n",
       "<polygon fill=\"none\" stroke=\"black\" points=\"474.5,-3833 474.5,-3854 521.5,-3854 521.5,-3833 474.5,-3833\"/>\n",
       "<text text-anchor=\"start\" x=\"484\" y=\"-3841\" font-family=\"Linux libertine\" font-size=\"10.00\">input:</text>\n",
       "<polygon fill=\"none\" stroke=\"black\" points=\"521.5,-3833 521.5,-3854 580.5,-3854 580.5,-3833 521.5,-3833\"/>\n",
       "<text text-anchor=\"start\" x=\"526.5\" y=\"-3841\" font-family=\"Linux libertine\" font-size=\"10.00\">(1, 1, 750) </text>\n",
       "<polygon fill=\"none\" stroke=\"black\" points=\"474.5,-3812 474.5,-3833 521.5,-3833 521.5,-3812 474.5,-3812\"/>\n",
       "<text text-anchor=\"start\" x=\"479.5\" y=\"-3820\" font-family=\"Linux libertine\" font-size=\"10.00\">output: </text>\n",
       "<polygon fill=\"none\" stroke=\"black\" points=\"521.5,-3812 521.5,-3833 580.5,-3833 580.5,-3812 521.5,-3812\"/>\n",
       "<text text-anchor=\"start\" x=\"526.5\" y=\"-3820\" font-family=\"Linux libertine\" font-size=\"10.00\">(1, 1, 750) </text>\n",
       "</g>\n",
       "<!-- 0&#45;&gt;1 -->\n",
       "<g id=\"edge1\" class=\"edge\">\n",
       "<title>0&#45;&gt;1</title>\n",
       "<path fill=\"none\" stroke=\"black\" d=\"M503.5,-3889.94C503.5,-3882.45 503.5,-3873.12 503.5,-3864.24\"/>\n",
       "<polygon fill=\"black\" stroke=\"black\" points=\"507,-3864.16 503.5,-3854.16 500,-3864.16 507,-3864.16\"/>\n",
       "</g>\n",
       "<!-- 2 -->\n",
       "<g id=\"node3\" class=\"node\">\n",
       "<title>2</title>\n",
       "<polygon fill=\"aliceblue\" stroke=\"transparent\" points=\"580.5,-3776 426.5,-3776 426.5,-3734 580.5,-3734 580.5,-3776\"/>\n",
       "<polygon fill=\"none\" stroke=\"black\" points=\"426.5,-3734 426.5,-3776 474.5,-3776 474.5,-3734 426.5,-3734\"/>\n",
       "<text text-anchor=\"start\" x=\"431.5\" y=\"-3758\" font-family=\"Linux libertine\" font-size=\"10.00\">reshape</text>\n",
       "<text text-anchor=\"start\" x=\"432\" y=\"-3747\" font-family=\"Linux libertine\" font-size=\"10.00\">depth:2</text>\n",
       "<polygon fill=\"none\" stroke=\"black\" points=\"474.5,-3755 474.5,-3776 521.5,-3776 521.5,-3755 474.5,-3755\"/>\n",
       "<text text-anchor=\"start\" x=\"484\" y=\"-3763\" font-family=\"Linux libertine\" font-size=\"10.00\">input:</text>\n",
       "<polygon fill=\"none\" stroke=\"black\" points=\"521.5,-3755 521.5,-3776 580.5,-3776 580.5,-3755 521.5,-3755\"/>\n",
       "<text text-anchor=\"start\" x=\"526.5\" y=\"-3763\" font-family=\"Linux libertine\" font-size=\"10.00\">(1, 1, 750) </text>\n",
       "<polygon fill=\"none\" stroke=\"black\" points=\"474.5,-3734 474.5,-3755 521.5,-3755 521.5,-3734 474.5,-3734\"/>\n",
       "<text text-anchor=\"start\" x=\"479.5\" y=\"-3742\" font-family=\"Linux libertine\" font-size=\"10.00\">output: </text>\n",
       "<polygon fill=\"none\" stroke=\"black\" points=\"521.5,-3734 521.5,-3755 580.5,-3755 580.5,-3734 521.5,-3734\"/>\n",
       "<text text-anchor=\"start\" x=\"526.5\" y=\"-3742\" font-family=\"Linux libertine\" font-size=\"10.00\">(1, 1, 750) </text>\n",
       "</g>\n",
       "<!-- 1&#45;&gt;2 -->\n",
       "<g id=\"edge2\" class=\"edge\">\n",
       "<title>1&#45;&gt;2</title>\n",
       "<path fill=\"none\" stroke=\"black\" d=\"M503.5,-3811.63C503.5,-3803.82 503.5,-3794.73 503.5,-3786.18\"/>\n",
       "<polygon fill=\"black\" stroke=\"black\" points=\"507,-3786.16 503.5,-3776.16 500,-3786.16 507,-3786.16\"/>\n",
       "</g>\n",
       "<!-- 3 -->\n",
       "<g id=\"node4\" class=\"node\">\n",
       "<title>3</title>\n",
       "<polygon fill=\"#c1ffc1\" stroke=\"transparent\" points=\"580,-3698 427,-3698 427,-3656 580,-3656 580,-3698\"/>\n",
       "<polygon fill=\"none\" stroke=\"black\" points=\"427.5,-3656 427.5,-3698 474.5,-3698 474.5,-3656 427.5,-3656\"/>\n",
       "<text text-anchor=\"start\" x=\"433\" y=\"-3680\" font-family=\"Linux libertine\" font-size=\"10.00\">Conv1d</text>\n",
       "<text text-anchor=\"start\" x=\"432.5\" y=\"-3669\" font-family=\"Linux libertine\" font-size=\"10.00\">depth:2</text>\n",
       "<polygon fill=\"none\" stroke=\"black\" points=\"474.5,-3677 474.5,-3698 521.5,-3698 521.5,-3677 474.5,-3677\"/>\n",
       "<text text-anchor=\"start\" x=\"484\" y=\"-3685\" font-family=\"Linux libertine\" font-size=\"10.00\">input:</text>\n",
       "<polygon fill=\"none\" stroke=\"black\" points=\"521.5,-3677 521.5,-3698 580.5,-3698 580.5,-3677 521.5,-3677\"/>\n",
       "<text text-anchor=\"start\" x=\"526.5\" y=\"-3685\" font-family=\"Linux libertine\" font-size=\"10.00\">(1, 1, 750) </text>\n",
       "<polygon fill=\"none\" stroke=\"black\" points=\"474.5,-3656 474.5,-3677 521.5,-3677 521.5,-3656 474.5,-3656\"/>\n",
       "<text text-anchor=\"start\" x=\"479.5\" y=\"-3664\" font-family=\"Linux libertine\" font-size=\"10.00\">output: </text>\n",
       "<polygon fill=\"none\" stroke=\"black\" points=\"521.5,-3656 521.5,-3677 580.5,-3677 580.5,-3656 521.5,-3656\"/>\n",
       "<text text-anchor=\"start\" x=\"526.5\" y=\"-3664\" font-family=\"Linux libertine\" font-size=\"10.00\">(1, 8, 746) </text>\n",
       "</g>\n",
       "<!-- 2&#45;&gt;3 -->\n",
       "<g id=\"edge3\" class=\"edge\">\n",
       "<title>2&#45;&gt;3</title>\n",
       "<path fill=\"none\" stroke=\"black\" d=\"M503.5,-3733.63C503.5,-3725.82 503.5,-3716.73 503.5,-3708.18\"/>\n",
       "<polygon fill=\"black\" stroke=\"black\" points=\"507,-3708.16 503.5,-3698.16 500,-3708.16 507,-3708.16\"/>\n",
       "</g>\n",
       "<!-- 4 -->\n",
       "<g id=\"node5\" class=\"node\">\n",
       "<title>4</title>\n",
       "<polygon fill=\"#c1ffc1\" stroke=\"transparent\" points=\"580,-3620 427,-3620 427,-3578 580,-3578 580,-3620\"/>\n",
       "<polygon fill=\"none\" stroke=\"black\" points=\"427.5,-3578 427.5,-3620 474.5,-3620 474.5,-3578 427.5,-3578\"/>\n",
       "<text text-anchor=\"start\" x=\"439\" y=\"-3602\" font-family=\"Linux libertine\" font-size=\"10.00\">SELU</text>\n",
       "<text text-anchor=\"start\" x=\"432.5\" y=\"-3591\" font-family=\"Linux libertine\" font-size=\"10.00\">depth:2</text>\n",
       "<polygon fill=\"none\" stroke=\"black\" points=\"474.5,-3599 474.5,-3620 521.5,-3620 521.5,-3599 474.5,-3599\"/>\n",
       "<text text-anchor=\"start\" x=\"484\" y=\"-3607\" font-family=\"Linux libertine\" font-size=\"10.00\">input:</text>\n",
       "<polygon fill=\"none\" stroke=\"black\" points=\"521.5,-3599 521.5,-3620 580.5,-3620 580.5,-3599 521.5,-3599\"/>\n",
       "<text text-anchor=\"start\" x=\"526.5\" y=\"-3607\" font-family=\"Linux libertine\" font-size=\"10.00\">(1, 8, 746) </text>\n",
       "<polygon fill=\"none\" stroke=\"black\" points=\"474.5,-3578 474.5,-3599 521.5,-3599 521.5,-3578 474.5,-3578\"/>\n",
       "<text text-anchor=\"start\" x=\"479.5\" y=\"-3586\" font-family=\"Linux libertine\" font-size=\"10.00\">output: </text>\n",
       "<polygon fill=\"none\" stroke=\"black\" points=\"521.5,-3578 521.5,-3599 580.5,-3599 580.5,-3578 521.5,-3578\"/>\n",
       "<text text-anchor=\"start\" x=\"526.5\" y=\"-3586\" font-family=\"Linux libertine\" font-size=\"10.00\">(1, 8, 746) </text>\n",
       "</g>\n",
       "<!-- 3&#45;&gt;4 -->\n",
       "<g id=\"edge4\" class=\"edge\">\n",
       "<title>3&#45;&gt;4</title>\n",
       "<path fill=\"none\" stroke=\"black\" d=\"M503.5,-3655.63C503.5,-3647.82 503.5,-3638.73 503.5,-3630.18\"/>\n",
       "<polygon fill=\"black\" stroke=\"black\" points=\"507,-3630.16 503.5,-3620.16 500,-3630.16 507,-3630.16\"/>\n",
       "</g>\n",
       "<!-- 5 -->\n",
       "<g id=\"node6\" class=\"node\">\n",
       "<title>5</title>\n",
       "<polygon fill=\"#c1ffc1\" stroke=\"transparent\" points=\"580,-3542 427,-3542 427,-3500 580,-3500 580,-3542\"/>\n",
       "<polygon fill=\"none\" stroke=\"black\" points=\"427.5,-3500 427.5,-3542 474.5,-3542 474.5,-3500 427.5,-3500\"/>\n",
       "<text text-anchor=\"start\" x=\"433\" y=\"-3524\" font-family=\"Linux libertine\" font-size=\"10.00\">Conv1d</text>\n",
       "<text text-anchor=\"start\" x=\"432.5\" y=\"-3513\" font-family=\"Linux libertine\" font-size=\"10.00\">depth:2</text>\n",
       "<polygon fill=\"none\" stroke=\"black\" points=\"474.5,-3521 474.5,-3542 521.5,-3542 521.5,-3521 474.5,-3521\"/>\n",
       "<text text-anchor=\"start\" x=\"484\" y=\"-3529\" font-family=\"Linux libertine\" font-size=\"10.00\">input:</text>\n",
       "<polygon fill=\"none\" stroke=\"black\" points=\"521.5,-3521 521.5,-3542 580.5,-3542 580.5,-3521 521.5,-3521\"/>\n",
       "<text text-anchor=\"start\" x=\"526.5\" y=\"-3529\" font-family=\"Linux libertine\" font-size=\"10.00\">(1, 8, 746) </text>\n",
       "<polygon fill=\"none\" stroke=\"black\" points=\"474.5,-3500 474.5,-3521 521.5,-3521 521.5,-3500 474.5,-3500\"/>\n",
       "<text text-anchor=\"start\" x=\"479.5\" y=\"-3508\" font-family=\"Linux libertine\" font-size=\"10.00\">output: </text>\n",
       "<polygon fill=\"none\" stroke=\"black\" points=\"521.5,-3500 521.5,-3521 580.5,-3521 580.5,-3500 521.5,-3500\"/>\n",
       "<text text-anchor=\"start\" x=\"526.5\" y=\"-3508\" font-family=\"Linux libertine\" font-size=\"10.00\">(1, 4, 744) </text>\n",
       "</g>\n",
       "<!-- 4&#45;&gt;5 -->\n",
       "<g id=\"edge5\" class=\"edge\">\n",
       "<title>4&#45;&gt;5</title>\n",
       "<path fill=\"none\" stroke=\"black\" d=\"M503.5,-3577.63C503.5,-3569.82 503.5,-3560.73 503.5,-3552.18\"/>\n",
       "<polygon fill=\"black\" stroke=\"black\" points=\"507,-3552.16 503.5,-3542.16 500,-3552.16 507,-3552.16\"/>\n",
       "</g>\n",
       "<!-- 6 -->\n",
       "<g id=\"node7\" class=\"node\">\n",
       "<title>6</title>\n",
       "<polygon fill=\"#c1ffc1\" stroke=\"transparent\" points=\"580,-3464 427,-3464 427,-3422 580,-3422 580,-3464\"/>\n",
       "<polygon fill=\"none\" stroke=\"black\" points=\"427.5,-3422 427.5,-3464 474.5,-3464 474.5,-3422 427.5,-3422\"/>\n",
       "<text text-anchor=\"start\" x=\"439\" y=\"-3446\" font-family=\"Linux libertine\" font-size=\"10.00\">SELU</text>\n",
       "<text text-anchor=\"start\" x=\"432.5\" y=\"-3435\" font-family=\"Linux libertine\" font-size=\"10.00\">depth:2</text>\n",
       "<polygon fill=\"none\" stroke=\"black\" points=\"474.5,-3443 474.5,-3464 521.5,-3464 521.5,-3443 474.5,-3443\"/>\n",
       "<text text-anchor=\"start\" x=\"484\" y=\"-3451\" font-family=\"Linux libertine\" font-size=\"10.00\">input:</text>\n",
       "<polygon fill=\"none\" stroke=\"black\" points=\"521.5,-3443 521.5,-3464 580.5,-3464 580.5,-3443 521.5,-3443\"/>\n",
       "<text text-anchor=\"start\" x=\"526.5\" y=\"-3451\" font-family=\"Linux libertine\" font-size=\"10.00\">(1, 4, 744) </text>\n",
       "<polygon fill=\"none\" stroke=\"black\" points=\"474.5,-3422 474.5,-3443 521.5,-3443 521.5,-3422 474.5,-3422\"/>\n",
       "<text text-anchor=\"start\" x=\"479.5\" y=\"-3430\" font-family=\"Linux libertine\" font-size=\"10.00\">output: </text>\n",
       "<polygon fill=\"none\" stroke=\"black\" points=\"521.5,-3422 521.5,-3443 580.5,-3443 580.5,-3422 521.5,-3422\"/>\n",
       "<text text-anchor=\"start\" x=\"526.5\" y=\"-3430\" font-family=\"Linux libertine\" font-size=\"10.00\">(1, 4, 744) </text>\n",
       "</g>\n",
       "<!-- 5&#45;&gt;6 -->\n",
       "<g id=\"edge6\" class=\"edge\">\n",
       "<title>5&#45;&gt;6</title>\n",
       "<path fill=\"none\" stroke=\"black\" d=\"M503.5,-3499.63C503.5,-3491.82 503.5,-3482.73 503.5,-3474.18\"/>\n",
       "<polygon fill=\"black\" stroke=\"black\" points=\"507,-3474.16 503.5,-3464.16 500,-3474.16 507,-3474.16\"/>\n",
       "</g>\n",
       "<!-- 7 -->\n",
       "<g id=\"node8\" class=\"node\">\n",
       "<title>7</title>\n",
       "<polygon fill=\"#c1ffc1\" stroke=\"transparent\" points=\"607.5,-3386 399.5,-3386 399.5,-3344 607.5,-3344 607.5,-3386\"/>\n",
       "<polygon fill=\"none\" stroke=\"black\" points=\"399.5,-3344 399.5,-3386 501.5,-3386 501.5,-3344 399.5,-3344\"/>\n",
       "<text text-anchor=\"start\" x=\"404.5\" y=\"-3368\" font-family=\"Linux libertine\" font-size=\"10.00\">AdaptiveAvgPool1d</text>\n",
       "<text text-anchor=\"start\" x=\"432\" y=\"-3357\" font-family=\"Linux libertine\" font-size=\"10.00\">depth:2</text>\n",
       "<polygon fill=\"none\" stroke=\"black\" points=\"501.5,-3365 501.5,-3386 548.5,-3386 548.5,-3365 501.5,-3365\"/>\n",
       "<text text-anchor=\"start\" x=\"511\" y=\"-3373\" font-family=\"Linux libertine\" font-size=\"10.00\">input:</text>\n",
       "<polygon fill=\"none\" stroke=\"black\" points=\"548.5,-3365 548.5,-3386 607.5,-3386 607.5,-3365 548.5,-3365\"/>\n",
       "<text text-anchor=\"start\" x=\"553.5\" y=\"-3373\" font-family=\"Linux libertine\" font-size=\"10.00\">(1, 4, 744) </text>\n",
       "<polygon fill=\"none\" stroke=\"black\" points=\"501.5,-3344 501.5,-3365 548.5,-3365 548.5,-3344 501.5,-3344\"/>\n",
       "<text text-anchor=\"start\" x=\"506.5\" y=\"-3352\" font-family=\"Linux libertine\" font-size=\"10.00\">output: </text>\n",
       "<polygon fill=\"none\" stroke=\"black\" points=\"548.5,-3344 548.5,-3365 607.5,-3365 607.5,-3344 548.5,-3344\"/>\n",
       "<text text-anchor=\"start\" x=\"553.5\" y=\"-3352\" font-family=\"Linux libertine\" font-size=\"10.00\">(1, 4, 128) </text>\n",
       "</g>\n",
       "<!-- 6&#45;&gt;7 -->\n",
       "<g id=\"edge7\" class=\"edge\">\n",
       "<title>6&#45;&gt;7</title>\n",
       "<path fill=\"none\" stroke=\"black\" d=\"M503.5,-3421.63C503.5,-3413.82 503.5,-3404.73 503.5,-3396.18\"/>\n",
       "<polygon fill=\"black\" stroke=\"black\" points=\"507,-3396.16 503.5,-3386.16 500,-3396.16 507,-3396.16\"/>\n",
       "</g>\n",
       "<!-- 8 -->\n",
       "<g id=\"node9\" class=\"node\">\n",
       "<title>8</title>\n",
       "<polygon fill=\"aliceblue\" stroke=\"transparent\" points=\"580.5,-3308 426.5,-3308 426.5,-3266 580.5,-3266 580.5,-3308\"/>\n",
       "<polygon fill=\"none\" stroke=\"black\" points=\"426.5,-3266 426.5,-3308 474.5,-3308 474.5,-3266 426.5,-3266\"/>\n",
       "<text text-anchor=\"start\" x=\"431.5\" y=\"-3290\" font-family=\"Linux libertine\" font-size=\"10.00\">reshape</text>\n",
       "<text text-anchor=\"start\" x=\"432\" y=\"-3279\" font-family=\"Linux libertine\" font-size=\"10.00\">depth:2</text>\n",
       "<polygon fill=\"none\" stroke=\"black\" points=\"474.5,-3287 474.5,-3308 521.5,-3308 521.5,-3287 474.5,-3287\"/>\n",
       "<text text-anchor=\"start\" x=\"484\" y=\"-3295\" font-family=\"Linux libertine\" font-size=\"10.00\">input:</text>\n",
       "<polygon fill=\"none\" stroke=\"black\" points=\"521.5,-3287 521.5,-3308 580.5,-3308 580.5,-3287 521.5,-3287\"/>\n",
       "<text text-anchor=\"start\" x=\"526.5\" y=\"-3295\" font-family=\"Linux libertine\" font-size=\"10.00\">(1, 4, 128) </text>\n",
       "<polygon fill=\"none\" stroke=\"black\" points=\"474.5,-3266 474.5,-3287 521.5,-3287 521.5,-3266 474.5,-3266\"/>\n",
       "<text text-anchor=\"start\" x=\"479.5\" y=\"-3274\" font-family=\"Linux libertine\" font-size=\"10.00\">output: </text>\n",
       "<polygon fill=\"none\" stroke=\"black\" points=\"521.5,-3266 521.5,-3287 580.5,-3287 580.5,-3266 521.5,-3266\"/>\n",
       "<text text-anchor=\"start\" x=\"532\" y=\"-3274\" font-family=\"Linux libertine\" font-size=\"10.00\">(1, 512) </text>\n",
       "</g>\n",
       "<!-- 7&#45;&gt;8 -->\n",
       "<g id=\"edge8\" class=\"edge\">\n",
       "<title>7&#45;&gt;8</title>\n",
       "<path fill=\"none\" stroke=\"black\" d=\"M503.5,-3343.63C503.5,-3335.82 503.5,-3326.73 503.5,-3318.18\"/>\n",
       "<polygon fill=\"black\" stroke=\"black\" points=\"507,-3318.16 503.5,-3308.16 500,-3318.16 507,-3318.16\"/>\n",
       "</g>\n",
       "<!-- 9 -->\n",
       "<g id=\"node10\" class=\"node\">\n",
       "<title>9</title>\n",
       "<polygon fill=\"#c1ffc1\" stroke=\"transparent\" points=\"574.5,-3230 432.5,-3230 432.5,-3188 574.5,-3188 574.5,-3230\"/>\n",
       "<polygon fill=\"none\" stroke=\"black\" points=\"432.5,-3188 432.5,-3230 479.5,-3230 479.5,-3188 432.5,-3188\"/>\n",
       "<text text-anchor=\"start\" x=\"441\" y=\"-3212\" font-family=\"Linux libertine\" font-size=\"10.00\">Linear</text>\n",
       "<text text-anchor=\"start\" x=\"437.5\" y=\"-3201\" font-family=\"Linux libertine\" font-size=\"10.00\">depth:2</text>\n",
       "<polygon fill=\"none\" stroke=\"black\" points=\"479.5,-3209 479.5,-3230 526.5,-3230 526.5,-3209 479.5,-3209\"/>\n",
       "<text text-anchor=\"start\" x=\"489\" y=\"-3217\" font-family=\"Linux libertine\" font-size=\"10.00\">input:</text>\n",
       "<polygon fill=\"none\" stroke=\"black\" points=\"526.5,-3209 526.5,-3230 574.5,-3230 574.5,-3209 526.5,-3209\"/>\n",
       "<text text-anchor=\"start\" x=\"531.5\" y=\"-3217\" font-family=\"Linux libertine\" font-size=\"10.00\">(1, 512) </text>\n",
       "<polygon fill=\"none\" stroke=\"black\" points=\"479.5,-3188 479.5,-3209 526.5,-3209 526.5,-3188 479.5,-3188\"/>\n",
       "<text text-anchor=\"start\" x=\"484.5\" y=\"-3196\" font-family=\"Linux libertine\" font-size=\"10.00\">output: </text>\n",
       "<polygon fill=\"none\" stroke=\"black\" points=\"526.5,-3188 526.5,-3209 574.5,-3209 574.5,-3188 526.5,-3188\"/>\n",
       "<text text-anchor=\"start\" x=\"534.5\" y=\"-3196\" font-family=\"Linux libertine\" font-size=\"10.00\">(1, 64) </text>\n",
       "</g>\n",
       "<!-- 8&#45;&gt;9 -->\n",
       "<g id=\"edge9\" class=\"edge\">\n",
       "<title>8&#45;&gt;9</title>\n",
       "<path fill=\"none\" stroke=\"black\" d=\"M503.5,-3265.63C503.5,-3257.82 503.5,-3248.73 503.5,-3240.18\"/>\n",
       "<polygon fill=\"black\" stroke=\"black\" points=\"507,-3240.16 503.5,-3230.16 500,-3240.16 507,-3240.16\"/>\n",
       "</g>\n",
       "<!-- 10 -->\n",
       "<g id=\"node11\" class=\"node\">\n",
       "<title>10</title>\n",
       "<polygon fill=\"#c1ffc1\" stroke=\"transparent\" points=\"571.5,-3152 435.5,-3152 435.5,-3110 571.5,-3110 571.5,-3152\"/>\n",
       "<polygon fill=\"none\" stroke=\"black\" points=\"435.5,-3110 435.5,-3152 482.5,-3152 482.5,-3110 435.5,-3110\"/>\n",
       "<text text-anchor=\"start\" x=\"447\" y=\"-3134\" font-family=\"Linux libertine\" font-size=\"10.00\">SELU</text>\n",
       "<text text-anchor=\"start\" x=\"440.5\" y=\"-3123\" font-family=\"Linux libertine\" font-size=\"10.00\">depth:2</text>\n",
       "<polygon fill=\"none\" stroke=\"black\" points=\"482.5,-3131 482.5,-3152 529.5,-3152 529.5,-3131 482.5,-3131\"/>\n",
       "<text text-anchor=\"start\" x=\"492\" y=\"-3139\" font-family=\"Linux libertine\" font-size=\"10.00\">input:</text>\n",
       "<polygon fill=\"none\" stroke=\"black\" points=\"529.5,-3131 529.5,-3152 571.5,-3152 571.5,-3131 529.5,-3131\"/>\n",
       "<text text-anchor=\"start\" x=\"534.5\" y=\"-3139\" font-family=\"Linux libertine\" font-size=\"10.00\">(1, 64) </text>\n",
       "<polygon fill=\"none\" stroke=\"black\" points=\"482.5,-3110 482.5,-3131 529.5,-3131 529.5,-3110 482.5,-3110\"/>\n",
       "<text text-anchor=\"start\" x=\"487.5\" y=\"-3118\" font-family=\"Linux libertine\" font-size=\"10.00\">output: </text>\n",
       "<polygon fill=\"none\" stroke=\"black\" points=\"529.5,-3110 529.5,-3131 571.5,-3131 571.5,-3110 529.5,-3110\"/>\n",
       "<text text-anchor=\"start\" x=\"534.5\" y=\"-3118\" font-family=\"Linux libertine\" font-size=\"10.00\">(1, 64) </text>\n",
       "</g>\n",
       "<!-- 9&#45;&gt;10 -->\n",
       "<g id=\"edge10\" class=\"edge\">\n",
       "<title>9&#45;&gt;10</title>\n",
       "<path fill=\"none\" stroke=\"black\" d=\"M503.5,-3187.63C503.5,-3179.82 503.5,-3170.73 503.5,-3162.18\"/>\n",
       "<polygon fill=\"black\" stroke=\"black\" points=\"507,-3162.16 503.5,-3152.16 500,-3162.16 507,-3162.16\"/>\n",
       "</g>\n",
       "<!-- 11 -->\n",
       "<g id=\"node12\" class=\"node\">\n",
       "<title>11</title>\n",
       "<polygon fill=\"#c1ffc1\" stroke=\"transparent\" points=\"571.5,-3074 435.5,-3074 435.5,-3032 571.5,-3032 571.5,-3074\"/>\n",
       "<polygon fill=\"none\" stroke=\"black\" points=\"435.5,-3032 435.5,-3074 482.5,-3074 482.5,-3032 435.5,-3032\"/>\n",
       "<text text-anchor=\"start\" x=\"444\" y=\"-3056\" font-family=\"Linux libertine\" font-size=\"10.00\">Linear</text>\n",
       "<text text-anchor=\"start\" x=\"440.5\" y=\"-3045\" font-family=\"Linux libertine\" font-size=\"10.00\">depth:2</text>\n",
       "<polygon fill=\"none\" stroke=\"black\" points=\"482.5,-3053 482.5,-3074 529.5,-3074 529.5,-3053 482.5,-3053\"/>\n",
       "<text text-anchor=\"start\" x=\"492\" y=\"-3061\" font-family=\"Linux libertine\" font-size=\"10.00\">input:</text>\n",
       "<polygon fill=\"none\" stroke=\"black\" points=\"529.5,-3053 529.5,-3074 571.5,-3074 571.5,-3053 529.5,-3053\"/>\n",
       "<text text-anchor=\"start\" x=\"534.5\" y=\"-3061\" font-family=\"Linux libertine\" font-size=\"10.00\">(1, 64) </text>\n",
       "<polygon fill=\"none\" stroke=\"black\" points=\"482.5,-3032 482.5,-3053 529.5,-3053 529.5,-3032 482.5,-3032\"/>\n",
       "<text text-anchor=\"start\" x=\"487.5\" y=\"-3040\" font-family=\"Linux libertine\" font-size=\"10.00\">output: </text>\n",
       "<polygon fill=\"none\" stroke=\"black\" points=\"529.5,-3032 529.5,-3053 571.5,-3053 571.5,-3032 529.5,-3032\"/>\n",
       "<text text-anchor=\"start\" x=\"534.5\" y=\"-3040\" font-family=\"Linux libertine\" font-size=\"10.00\">(1, 32) </text>\n",
       "</g>\n",
       "<!-- 10&#45;&gt;11 -->\n",
       "<g id=\"edge11\" class=\"edge\">\n",
       "<title>10&#45;&gt;11</title>\n",
       "<path fill=\"none\" stroke=\"black\" d=\"M503.5,-3109.63C503.5,-3101.82 503.5,-3092.73 503.5,-3084.18\"/>\n",
       "<polygon fill=\"black\" stroke=\"black\" points=\"507,-3084.16 503.5,-3074.16 500,-3084.16 507,-3084.16\"/>\n",
       "</g>\n",
       "<!-- 12 -->\n",
       "<g id=\"node13\" class=\"node\">\n",
       "<title>12</title>\n",
       "<polygon fill=\"#c1ffc1\" stroke=\"transparent\" points=\"571.5,-2996 435.5,-2996 435.5,-2954 571.5,-2954 571.5,-2996\"/>\n",
       "<polygon fill=\"none\" stroke=\"black\" points=\"435.5,-2954 435.5,-2996 482.5,-2996 482.5,-2954 435.5,-2954\"/>\n",
       "<text text-anchor=\"start\" x=\"447\" y=\"-2978\" font-family=\"Linux libertine\" font-size=\"10.00\">SELU</text>\n",
       "<text text-anchor=\"start\" x=\"440.5\" y=\"-2967\" font-family=\"Linux libertine\" font-size=\"10.00\">depth:2</text>\n",
       "<polygon fill=\"none\" stroke=\"black\" points=\"482.5,-2975 482.5,-2996 529.5,-2996 529.5,-2975 482.5,-2975\"/>\n",
       "<text text-anchor=\"start\" x=\"492\" y=\"-2983\" font-family=\"Linux libertine\" font-size=\"10.00\">input:</text>\n",
       "<polygon fill=\"none\" stroke=\"black\" points=\"529.5,-2975 529.5,-2996 571.5,-2996 571.5,-2975 529.5,-2975\"/>\n",
       "<text text-anchor=\"start\" x=\"534.5\" y=\"-2983\" font-family=\"Linux libertine\" font-size=\"10.00\">(1, 32) </text>\n",
       "<polygon fill=\"none\" stroke=\"black\" points=\"482.5,-2954 482.5,-2975 529.5,-2975 529.5,-2954 482.5,-2954\"/>\n",
       "<text text-anchor=\"start\" x=\"487.5\" y=\"-2962\" font-family=\"Linux libertine\" font-size=\"10.00\">output: </text>\n",
       "<polygon fill=\"none\" stroke=\"black\" points=\"529.5,-2954 529.5,-2975 571.5,-2975 571.5,-2954 529.5,-2954\"/>\n",
       "<text text-anchor=\"start\" x=\"534.5\" y=\"-2962\" font-family=\"Linux libertine\" font-size=\"10.00\">(1, 32) </text>\n",
       "</g>\n",
       "<!-- 11&#45;&gt;12 -->\n",
       "<g id=\"edge12\" class=\"edge\">\n",
       "<title>11&#45;&gt;12</title>\n",
       "<path fill=\"none\" stroke=\"black\" d=\"M503.5,-3031.63C503.5,-3023.82 503.5,-3014.73 503.5,-3006.18\"/>\n",
       "<polygon fill=\"black\" stroke=\"black\" points=\"507,-3006.16 503.5,-2996.16 500,-3006.16 507,-3006.16\"/>\n",
       "</g>\n",
       "<!-- 13 -->\n",
       "<g id=\"node14\" class=\"node\">\n",
       "<title>13</title>\n",
       "<polygon fill=\"aliceblue\" stroke=\"transparent\" points=\"631.5,-2918 483.5,-2918 483.5,-2876 631.5,-2876 631.5,-2918\"/>\n",
       "<polygon fill=\"none\" stroke=\"black\" points=\"483.5,-2876 483.5,-2918 531.5,-2918 531.5,-2876 483.5,-2876\"/>\n",
       "<text text-anchor=\"start\" x=\"488.5\" y=\"-2900\" font-family=\"Linux libertine\" font-size=\"10.00\">reshape</text>\n",
       "<text text-anchor=\"start\" x=\"489\" y=\"-2889\" font-family=\"Linux libertine\" font-size=\"10.00\">depth:2</text>\n",
       "<polygon fill=\"none\" stroke=\"black\" points=\"531.5,-2897 531.5,-2918 578.5,-2918 578.5,-2897 531.5,-2897\"/>\n",
       "<text text-anchor=\"start\" x=\"541\" y=\"-2905\" font-family=\"Linux libertine\" font-size=\"10.00\">input:</text>\n",
       "<polygon fill=\"none\" stroke=\"black\" points=\"578.5,-2897 578.5,-2918 631.5,-2918 631.5,-2897 578.5,-2897\"/>\n",
       "<text text-anchor=\"start\" x=\"589\" y=\"-2905\" font-family=\"Linux libertine\" font-size=\"10.00\">(1, 32) </text>\n",
       "<polygon fill=\"none\" stroke=\"black\" points=\"531.5,-2876 531.5,-2897 578.5,-2897 578.5,-2876 531.5,-2876\"/>\n",
       "<text text-anchor=\"start\" x=\"536.5\" y=\"-2884\" font-family=\"Linux libertine\" font-size=\"10.00\">output: </text>\n",
       "<polygon fill=\"none\" stroke=\"black\" points=\"578.5,-2876 578.5,-2897 631.5,-2897 631.5,-2876 578.5,-2876\"/>\n",
       "<text text-anchor=\"start\" x=\"583.5\" y=\"-2884\" font-family=\"Linux libertine\" font-size=\"10.00\">(1, 2, 16) </text>\n",
       "</g>\n",
       "<!-- 12&#45;&gt;13 -->\n",
       "<g id=\"edge14\" class=\"edge\">\n",
       "<title>12&#45;&gt;13</title>\n",
       "<path fill=\"none\" stroke=\"black\" d=\"M517.97,-2953.63C523.89,-2945.3 530.84,-2935.52 537.25,-2926.5\"/>\n",
       "<polygon fill=\"black\" stroke=\"black\" points=\"540.24,-2928.34 543.18,-2918.16 534.53,-2924.28 540.24,-2928.34\"/>\n",
       "</g>\n",
       "<!-- 24 -->\n",
       "<g id=\"node25\" class=\"node\">\n",
       "<title>24</title>\n",
       "<polygon fill=\"aliceblue\" stroke=\"transparent\" points=\"587,-2060 416,-2060 416,-2018 587,-2018 587,-2060\"/>\n",
       "<polygon fill=\"none\" stroke=\"black\" points=\"416.5,-2018 416.5,-2060 463.5,-2060 463.5,-2018 416.5,-2018\"/>\n",
       "<text text-anchor=\"start\" x=\"433\" y=\"-2042\" font-family=\"Linux libertine\" font-size=\"10.00\">cat</text>\n",
       "<text text-anchor=\"start\" x=\"421.5\" y=\"-2031\" font-family=\"Linux libertine\" font-size=\"10.00\">depth:1</text>\n",
       "<polygon fill=\"none\" stroke=\"black\" points=\"463.5,-2039 463.5,-2060 510.5,-2060 510.5,-2039 463.5,-2039\"/>\n",
       "<text text-anchor=\"start\" x=\"473\" y=\"-2047\" font-family=\"Linux libertine\" font-size=\"10.00\">input:</text>\n",
       "<polygon fill=\"none\" stroke=\"black\" points=\"510.5,-2039 510.5,-2060 587.5,-2060 587.5,-2039 510.5,-2039\"/>\n",
       "<text text-anchor=\"start\" x=\"515.5\" y=\"-2047\" font-family=\"Linux libertine\" font-size=\"10.00\">(1, 16), (1, 32) </text>\n",
       "<polygon fill=\"none\" stroke=\"black\" points=\"463.5,-2018 463.5,-2039 510.5,-2039 510.5,-2018 463.5,-2018\"/>\n",
       "<text text-anchor=\"start\" x=\"468.5\" y=\"-2026\" font-family=\"Linux libertine\" font-size=\"10.00\">output: </text>\n",
       "<polygon fill=\"none\" stroke=\"black\" points=\"510.5,-2018 510.5,-2039 587.5,-2039 587.5,-2018 510.5,-2018\"/>\n",
       "<text text-anchor=\"start\" x=\"533\" y=\"-2026\" font-family=\"Linux libertine\" font-size=\"10.00\">(1, 48) </text>\n",
       "</g>\n",
       "<!-- 12&#45;&gt;24 -->\n",
       "<g id=\"edge13\" class=\"edge\">\n",
       "<title>12&#45;&gt;24</title>\n",
       "<path fill=\"none\" stroke=\"black\" d=\"M491.45,-2953.83C485.65,-2943.42 479,-2930.34 474.5,-2918 459.22,-2876.06 452.5,-2864.64 452.5,-2820 452.5,-2820 452.5,-2820 452.5,-2194 452.5,-2148.94 471.79,-2099.8 486.16,-2069.44\"/>\n",
       "<polygon fill=\"black\" stroke=\"black\" points=\"489.4,-2070.79 490.63,-2060.27 483.1,-2067.73 489.4,-2070.79\"/>\n",
       "</g>\n",
       "<!-- 14 -->\n",
       "<g id=\"node15\" class=\"node\">\n",
       "<title>14</title>\n",
       "<polygon fill=\"#c1ffc1\" stroke=\"transparent\" points=\"643.5,-2840 481.5,-2840 481.5,-2798 643.5,-2798 643.5,-2840\"/>\n",
       "<polygon fill=\"none\" stroke=\"black\" points=\"481.5,-2798 481.5,-2840 543.5,-2840 543.5,-2798 481.5,-2798\"/>\n",
       "<text text-anchor=\"start\" x=\"486.5\" y=\"-2822\" font-family=\"Linux libertine\" font-size=\"10.00\">MaxPool1d</text>\n",
       "<text text-anchor=\"start\" x=\"494\" y=\"-2811\" font-family=\"Linux libertine\" font-size=\"10.00\">depth:2</text>\n",
       "<polygon fill=\"none\" stroke=\"black\" points=\"543.5,-2819 543.5,-2840 590.5,-2840 590.5,-2819 543.5,-2819\"/>\n",
       "<text text-anchor=\"start\" x=\"553\" y=\"-2827\" font-family=\"Linux libertine\" font-size=\"10.00\">input:</text>\n",
       "<polygon fill=\"none\" stroke=\"black\" points=\"590.5,-2819 590.5,-2840 643.5,-2840 643.5,-2819 590.5,-2819\"/>\n",
       "<text text-anchor=\"start\" x=\"595.5\" y=\"-2827\" font-family=\"Linux libertine\" font-size=\"10.00\">(1, 2, 16) </text>\n",
       "<polygon fill=\"none\" stroke=\"black\" points=\"543.5,-2798 543.5,-2819 590.5,-2819 590.5,-2798 543.5,-2798\"/>\n",
       "<text text-anchor=\"start\" x=\"548.5\" y=\"-2806\" font-family=\"Linux libertine\" font-size=\"10.00\">output: </text>\n",
       "<polygon fill=\"none\" stroke=\"black\" points=\"590.5,-2798 590.5,-2819 643.5,-2819 643.5,-2798 590.5,-2798\"/>\n",
       "<text text-anchor=\"start\" x=\"598.5\" y=\"-2806\" font-family=\"Linux libertine\" font-size=\"10.00\">(1, 2, 8) </text>\n",
       "</g>\n",
       "<!-- 13&#45;&gt;14 -->\n",
       "<g id=\"edge15\" class=\"edge\">\n",
       "<title>13&#45;&gt;14</title>\n",
       "<path fill=\"none\" stroke=\"black\" d=\"M558.84,-2875.63C559.35,-2867.82 559.95,-2858.73 560.51,-2850.18\"/>\n",
       "<polygon fill=\"black\" stroke=\"black\" points=\"564.01,-2850.37 561.17,-2840.16 557.02,-2849.91 564.01,-2850.37\"/>\n",
       "</g>\n",
       "<!-- 15 -->\n",
       "<g id=\"node16\" class=\"node\">\n",
       "<title>15</title>\n",
       "<polygon fill=\"#c1ffc1\" stroke=\"transparent\" points=\"633,-2762 492,-2762 492,-2720 633,-2720 633,-2762\"/>\n",
       "<polygon fill=\"none\" stroke=\"black\" points=\"492.5,-2720 492.5,-2762 539.5,-2762 539.5,-2720 492.5,-2720\"/>\n",
       "<text text-anchor=\"start\" x=\"498\" y=\"-2744\" font-family=\"Linux libertine\" font-size=\"10.00\">Conv1d</text>\n",
       "<text text-anchor=\"start\" x=\"497.5\" y=\"-2733\" font-family=\"Linux libertine\" font-size=\"10.00\">depth:2</text>\n",
       "<polygon fill=\"none\" stroke=\"black\" points=\"539.5,-2741 539.5,-2762 586.5,-2762 586.5,-2741 539.5,-2741\"/>\n",
       "<text text-anchor=\"start\" x=\"549\" y=\"-2749\" font-family=\"Linux libertine\" font-size=\"10.00\">input:</text>\n",
       "<polygon fill=\"none\" stroke=\"black\" points=\"586.5,-2741 586.5,-2762 633.5,-2762 633.5,-2741 586.5,-2741\"/>\n",
       "<text text-anchor=\"start\" x=\"591.5\" y=\"-2749\" font-family=\"Linux libertine\" font-size=\"10.00\">(1, 2, 8) </text>\n",
       "<polygon fill=\"none\" stroke=\"black\" points=\"539.5,-2720 539.5,-2741 586.5,-2741 586.5,-2720 539.5,-2720\"/>\n",
       "<text text-anchor=\"start\" x=\"544.5\" y=\"-2728\" font-family=\"Linux libertine\" font-size=\"10.00\">output: </text>\n",
       "<polygon fill=\"none\" stroke=\"black\" points=\"586.5,-2720 586.5,-2741 633.5,-2741 633.5,-2720 586.5,-2720\"/>\n",
       "<text text-anchor=\"start\" x=\"591.5\" y=\"-2728\" font-family=\"Linux libertine\" font-size=\"10.00\">(1, 4, 6) </text>\n",
       "</g>\n",
       "<!-- 14&#45;&gt;15 -->\n",
       "<g id=\"edge16\" class=\"edge\">\n",
       "<title>14&#45;&gt;15</title>\n",
       "<path fill=\"none\" stroke=\"black\" d=\"M562.5,-2797.63C562.5,-2789.82 562.5,-2780.73 562.5,-2772.18\"/>\n",
       "<polygon fill=\"black\" stroke=\"black\" points=\"566,-2772.16 562.5,-2762.16 559,-2772.16 566,-2772.16\"/>\n",
       "</g>\n",
       "<!-- 16 -->\n",
       "<g id=\"node17\" class=\"node\">\n",
       "<title>16</title>\n",
       "<polygon fill=\"#c1ffc1\" stroke=\"transparent\" points=\"634,-2684 493,-2684 493,-2642 634,-2642 634,-2684\"/>\n",
       "<polygon fill=\"none\" stroke=\"black\" points=\"493.5,-2642 493.5,-2684 540.5,-2684 540.5,-2642 493.5,-2642\"/>\n",
       "<text text-anchor=\"start\" x=\"505\" y=\"-2666\" font-family=\"Linux libertine\" font-size=\"10.00\">SELU</text>\n",
       "<text text-anchor=\"start\" x=\"498.5\" y=\"-2655\" font-family=\"Linux libertine\" font-size=\"10.00\">depth:2</text>\n",
       "<polygon fill=\"none\" stroke=\"black\" points=\"540.5,-2663 540.5,-2684 587.5,-2684 587.5,-2663 540.5,-2663\"/>\n",
       "<text text-anchor=\"start\" x=\"550\" y=\"-2671\" font-family=\"Linux libertine\" font-size=\"10.00\">input:</text>\n",
       "<polygon fill=\"none\" stroke=\"black\" points=\"587.5,-2663 587.5,-2684 634.5,-2684 634.5,-2663 587.5,-2663\"/>\n",
       "<text text-anchor=\"start\" x=\"592.5\" y=\"-2671\" font-family=\"Linux libertine\" font-size=\"10.00\">(1, 4, 6) </text>\n",
       "<polygon fill=\"none\" stroke=\"black\" points=\"540.5,-2642 540.5,-2663 587.5,-2663 587.5,-2642 540.5,-2642\"/>\n",
       "<text text-anchor=\"start\" x=\"545.5\" y=\"-2650\" font-family=\"Linux libertine\" font-size=\"10.00\">output: </text>\n",
       "<polygon fill=\"none\" stroke=\"black\" points=\"587.5,-2642 587.5,-2663 634.5,-2663 634.5,-2642 587.5,-2642\"/>\n",
       "<text text-anchor=\"start\" x=\"592.5\" y=\"-2650\" font-family=\"Linux libertine\" font-size=\"10.00\">(1, 4, 6) </text>\n",
       "</g>\n",
       "<!-- 15&#45;&gt;16 -->\n",
       "<g id=\"edge17\" class=\"edge\">\n",
       "<title>15&#45;&gt;16</title>\n",
       "<path fill=\"none\" stroke=\"black\" d=\"M562.77,-2719.63C562.87,-2711.82 562.99,-2702.73 563.1,-2694.18\"/>\n",
       "<polygon fill=\"black\" stroke=\"black\" points=\"566.6,-2694.2 563.23,-2684.16 559.6,-2694.11 566.6,-2694.2\"/>\n",
       "</g>\n",
       "<!-- 17 -->\n",
       "<g id=\"node18\" class=\"node\">\n",
       "<title>17</title>\n",
       "<polygon fill=\"#c1ffc1\" stroke=\"transparent\" points=\"636,-2606 495,-2606 495,-2564 636,-2564 636,-2606\"/>\n",
       "<polygon fill=\"none\" stroke=\"black\" points=\"495.5,-2564 495.5,-2606 542.5,-2606 542.5,-2564 495.5,-2564\"/>\n",
       "<text text-anchor=\"start\" x=\"501\" y=\"-2588\" font-family=\"Linux libertine\" font-size=\"10.00\">Conv1d</text>\n",
       "<text text-anchor=\"start\" x=\"500.5\" y=\"-2577\" font-family=\"Linux libertine\" font-size=\"10.00\">depth:2</text>\n",
       "<polygon fill=\"none\" stroke=\"black\" points=\"542.5,-2585 542.5,-2606 589.5,-2606 589.5,-2585 542.5,-2585\"/>\n",
       "<text text-anchor=\"start\" x=\"552\" y=\"-2593\" font-family=\"Linux libertine\" font-size=\"10.00\">input:</text>\n",
       "<polygon fill=\"none\" stroke=\"black\" points=\"589.5,-2585 589.5,-2606 636.5,-2606 636.5,-2585 589.5,-2585\"/>\n",
       "<text text-anchor=\"start\" x=\"594.5\" y=\"-2593\" font-family=\"Linux libertine\" font-size=\"10.00\">(1, 4, 6) </text>\n",
       "<polygon fill=\"none\" stroke=\"black\" points=\"542.5,-2564 542.5,-2585 589.5,-2585 589.5,-2564 542.5,-2564\"/>\n",
       "<text text-anchor=\"start\" x=\"547.5\" y=\"-2572\" font-family=\"Linux libertine\" font-size=\"10.00\">output: </text>\n",
       "<polygon fill=\"none\" stroke=\"black\" points=\"589.5,-2564 589.5,-2585 636.5,-2585 636.5,-2564 589.5,-2564\"/>\n",
       "<text text-anchor=\"start\" x=\"594.5\" y=\"-2572\" font-family=\"Linux libertine\" font-size=\"10.00\">(1, 4, 4) </text>\n",
       "</g>\n",
       "<!-- 16&#45;&gt;17 -->\n",
       "<g id=\"edge18\" class=\"edge\">\n",
       "<title>16&#45;&gt;17</title>\n",
       "<path fill=\"none\" stroke=\"black\" d=\"M564.04,-2641.63C564.24,-2633.82 564.48,-2624.73 564.71,-2616.18\"/>\n",
       "<polygon fill=\"black\" stroke=\"black\" points=\"568.21,-2616.25 564.97,-2606.16 561.21,-2616.06 568.21,-2616.25\"/>\n",
       "</g>\n",
       "<!-- 18 -->\n",
       "<g id=\"node19\" class=\"node\">\n",
       "<title>18</title>\n",
       "<polygon fill=\"#c1ffc1\" stroke=\"transparent\" points=\"640,-2528 499,-2528 499,-2486 640,-2486 640,-2528\"/>\n",
       "<polygon fill=\"none\" stroke=\"black\" points=\"499.5,-2486 499.5,-2528 546.5,-2528 546.5,-2486 499.5,-2486\"/>\n",
       "<text text-anchor=\"start\" x=\"511\" y=\"-2510\" font-family=\"Linux libertine\" font-size=\"10.00\">SELU</text>\n",
       "<text text-anchor=\"start\" x=\"504.5\" y=\"-2499\" font-family=\"Linux libertine\" font-size=\"10.00\">depth:2</text>\n",
       "<polygon fill=\"none\" stroke=\"black\" points=\"546.5,-2507 546.5,-2528 593.5,-2528 593.5,-2507 546.5,-2507\"/>\n",
       "<text text-anchor=\"start\" x=\"556\" y=\"-2515\" font-family=\"Linux libertine\" font-size=\"10.00\">input:</text>\n",
       "<polygon fill=\"none\" stroke=\"black\" points=\"593.5,-2507 593.5,-2528 640.5,-2528 640.5,-2507 593.5,-2507\"/>\n",
       "<text text-anchor=\"start\" x=\"598.5\" y=\"-2515\" font-family=\"Linux libertine\" font-size=\"10.00\">(1, 4, 4) </text>\n",
       "<polygon fill=\"none\" stroke=\"black\" points=\"546.5,-2486 546.5,-2507 593.5,-2507 593.5,-2486 546.5,-2486\"/>\n",
       "<text text-anchor=\"start\" x=\"551.5\" y=\"-2494\" font-family=\"Linux libertine\" font-size=\"10.00\">output: </text>\n",
       "<polygon fill=\"none\" stroke=\"black\" points=\"593.5,-2486 593.5,-2507 640.5,-2507 640.5,-2486 593.5,-2486\"/>\n",
       "<text text-anchor=\"start\" x=\"598.5\" y=\"-2494\" font-family=\"Linux libertine\" font-size=\"10.00\">(1, 4, 4) </text>\n",
       "</g>\n",
       "<!-- 17&#45;&gt;18 -->\n",
       "<g id=\"edge19\" class=\"edge\">\n",
       "<title>17&#45;&gt;18</title>\n",
       "<path fill=\"none\" stroke=\"black\" d=\"M566.57,-2563.63C566.98,-2555.82 567.46,-2546.73 567.91,-2538.18\"/>\n",
       "<polygon fill=\"black\" stroke=\"black\" points=\"571.41,-2538.33 568.44,-2528.16 564.42,-2537.96 571.41,-2538.33\"/>\n",
       "</g>\n",
       "<!-- 19 -->\n",
       "<g id=\"node20\" class=\"node\">\n",
       "<title>19</title>\n",
       "<polygon fill=\"#c1ffc1\" stroke=\"transparent\" points=\"648,-2450 507,-2450 507,-2408 648,-2408 648,-2450\"/>\n",
       "<polygon fill=\"none\" stroke=\"black\" points=\"507.5,-2408 507.5,-2450 554.5,-2450 554.5,-2408 507.5,-2408\"/>\n",
       "<text text-anchor=\"start\" x=\"513\" y=\"-2432\" font-family=\"Linux libertine\" font-size=\"10.00\">Conv1d</text>\n",
       "<text text-anchor=\"start\" x=\"512.5\" y=\"-2421\" font-family=\"Linux libertine\" font-size=\"10.00\">depth:2</text>\n",
       "<polygon fill=\"none\" stroke=\"black\" points=\"554.5,-2429 554.5,-2450 601.5,-2450 601.5,-2429 554.5,-2429\"/>\n",
       "<text text-anchor=\"start\" x=\"564\" y=\"-2437\" font-family=\"Linux libertine\" font-size=\"10.00\">input:</text>\n",
       "<polygon fill=\"none\" stroke=\"black\" points=\"601.5,-2429 601.5,-2450 648.5,-2450 648.5,-2429 601.5,-2429\"/>\n",
       "<text text-anchor=\"start\" x=\"606.5\" y=\"-2437\" font-family=\"Linux libertine\" font-size=\"10.00\">(1, 4, 4) </text>\n",
       "<polygon fill=\"none\" stroke=\"black\" points=\"554.5,-2408 554.5,-2429 601.5,-2429 601.5,-2408 554.5,-2408\"/>\n",
       "<text text-anchor=\"start\" x=\"559.5\" y=\"-2416\" font-family=\"Linux libertine\" font-size=\"10.00\">output: </text>\n",
       "<polygon fill=\"none\" stroke=\"black\" points=\"601.5,-2408 601.5,-2429 648.5,-2429 648.5,-2408 601.5,-2408\"/>\n",
       "<text text-anchor=\"start\" x=\"606.5\" y=\"-2416\" font-family=\"Linux libertine\" font-size=\"10.00\">(1, 4, 2) </text>\n",
       "</g>\n",
       "<!-- 18&#45;&gt;19 -->\n",
       "<g id=\"edge20\" class=\"edge\">\n",
       "<title>18&#45;&gt;19</title>\n",
       "<path fill=\"none\" stroke=\"black\" d=\"M571.64,-2485.63C572.47,-2477.82 573.42,-2468.73 574.32,-2460.18\"/>\n",
       "<polygon fill=\"black\" stroke=\"black\" points=\"577.81,-2460.47 575.38,-2450.16 570.85,-2459.74 577.81,-2460.47\"/>\n",
       "</g>\n",
       "<!-- 20 -->\n",
       "<g id=\"node21\" class=\"node\">\n",
       "<title>20</title>\n",
       "<polygon fill=\"#c1ffc1\" stroke=\"transparent\" points=\"676.5,-2372 480.5,-2372 480.5,-2330 676.5,-2330 676.5,-2372\"/>\n",
       "<polygon fill=\"none\" stroke=\"black\" points=\"480.5,-2330 480.5,-2372 582.5,-2372 582.5,-2330 480.5,-2330\"/>\n",
       "<text text-anchor=\"start\" x=\"485.5\" y=\"-2354\" font-family=\"Linux libertine\" font-size=\"10.00\">AdaptiveAvgPool1d</text>\n",
       "<text text-anchor=\"start\" x=\"513\" y=\"-2343\" font-family=\"Linux libertine\" font-size=\"10.00\">depth:2</text>\n",
       "<polygon fill=\"none\" stroke=\"black\" points=\"582.5,-2351 582.5,-2372 629.5,-2372 629.5,-2351 582.5,-2351\"/>\n",
       "<text text-anchor=\"start\" x=\"592\" y=\"-2359\" font-family=\"Linux libertine\" font-size=\"10.00\">input:</text>\n",
       "<polygon fill=\"none\" stroke=\"black\" points=\"629.5,-2351 629.5,-2372 676.5,-2372 676.5,-2351 629.5,-2351\"/>\n",
       "<text text-anchor=\"start\" x=\"634.5\" y=\"-2359\" font-family=\"Linux libertine\" font-size=\"10.00\">(1, 4, 2) </text>\n",
       "<polygon fill=\"none\" stroke=\"black\" points=\"582.5,-2330 582.5,-2351 629.5,-2351 629.5,-2330 582.5,-2330\"/>\n",
       "<text text-anchor=\"start\" x=\"587.5\" y=\"-2338\" font-family=\"Linux libertine\" font-size=\"10.00\">output: </text>\n",
       "<polygon fill=\"none\" stroke=\"black\" points=\"629.5,-2330 629.5,-2351 676.5,-2351 676.5,-2330 629.5,-2330\"/>\n",
       "<text text-anchor=\"start\" x=\"634.5\" y=\"-2338\" font-family=\"Linux libertine\" font-size=\"10.00\">(1, 4, 8) </text>\n",
       "</g>\n",
       "<!-- 19&#45;&gt;20 -->\n",
       "<g id=\"edge21\" class=\"edge\">\n",
       "<title>19&#45;&gt;20</title>\n",
       "<path fill=\"none\" stroke=\"black\" d=\"M577.77,-2407.63C577.87,-2399.82 577.99,-2390.73 578.1,-2382.18\"/>\n",
       "<polygon fill=\"black\" stroke=\"black\" points=\"581.6,-2382.2 578.23,-2372.16 574.6,-2382.11 581.6,-2382.2\"/>\n",
       "</g>\n",
       "<!-- 21 -->\n",
       "<g id=\"node22\" class=\"node\">\n",
       "<title>21</title>\n",
       "<polygon fill=\"#c1ffc1\" stroke=\"transparent\" points=\"649,-2294 508,-2294 508,-2252 649,-2252 649,-2294\"/>\n",
       "<polygon fill=\"none\" stroke=\"black\" points=\"508.5,-2252 508.5,-2294 555.5,-2294 555.5,-2252 508.5,-2252\"/>\n",
       "<text text-anchor=\"start\" x=\"520\" y=\"-2276\" font-family=\"Linux libertine\" font-size=\"10.00\">SELU</text>\n",
       "<text text-anchor=\"start\" x=\"513.5\" y=\"-2265\" font-family=\"Linux libertine\" font-size=\"10.00\">depth:2</text>\n",
       "<polygon fill=\"none\" stroke=\"black\" points=\"555.5,-2273 555.5,-2294 602.5,-2294 602.5,-2273 555.5,-2273\"/>\n",
       "<text text-anchor=\"start\" x=\"565\" y=\"-2281\" font-family=\"Linux libertine\" font-size=\"10.00\">input:</text>\n",
       "<polygon fill=\"none\" stroke=\"black\" points=\"602.5,-2273 602.5,-2294 649.5,-2294 649.5,-2273 602.5,-2273\"/>\n",
       "<text text-anchor=\"start\" x=\"607.5\" y=\"-2281\" font-family=\"Linux libertine\" font-size=\"10.00\">(1, 4, 8) </text>\n",
       "<polygon fill=\"none\" stroke=\"black\" points=\"555.5,-2252 555.5,-2273 602.5,-2273 602.5,-2252 555.5,-2252\"/>\n",
       "<text text-anchor=\"start\" x=\"560.5\" y=\"-2260\" font-family=\"Linux libertine\" font-size=\"10.00\">output: </text>\n",
       "<polygon fill=\"none\" stroke=\"black\" points=\"602.5,-2252 602.5,-2273 649.5,-2273 649.5,-2252 602.5,-2252\"/>\n",
       "<text text-anchor=\"start\" x=\"607.5\" y=\"-2260\" font-family=\"Linux libertine\" font-size=\"10.00\">(1, 4, 8) </text>\n",
       "</g>\n",
       "<!-- 20&#45;&gt;21 -->\n",
       "<g id=\"edge22\" class=\"edge\">\n",
       "<title>20&#45;&gt;21</title>\n",
       "<path fill=\"none\" stroke=\"black\" d=\"M578.5,-2329.63C578.5,-2321.82 578.5,-2312.73 578.5,-2304.18\"/>\n",
       "<polygon fill=\"black\" stroke=\"black\" points=\"582,-2304.16 578.5,-2294.16 575,-2304.16 582,-2304.16\"/>\n",
       "</g>\n",
       "<!-- 22 -->\n",
       "<g id=\"node23\" class=\"node\">\n",
       "<title>22</title>\n",
       "<polygon fill=\"#c1ffc1\" stroke=\"transparent\" points=\"676.5,-2216 480.5,-2216 480.5,-2174 676.5,-2174 676.5,-2216\"/>\n",
       "<polygon fill=\"none\" stroke=\"black\" points=\"480.5,-2174 480.5,-2216 582.5,-2216 582.5,-2174 480.5,-2174\"/>\n",
       "<text text-anchor=\"start\" x=\"485.5\" y=\"-2198\" font-family=\"Linux libertine\" font-size=\"10.00\">AdaptiveAvgPool1d</text>\n",
       "<text text-anchor=\"start\" x=\"513\" y=\"-2187\" font-family=\"Linux libertine\" font-size=\"10.00\">depth:2</text>\n",
       "<polygon fill=\"none\" stroke=\"black\" points=\"582.5,-2195 582.5,-2216 629.5,-2216 629.5,-2195 582.5,-2195\"/>\n",
       "<text text-anchor=\"start\" x=\"592\" y=\"-2203\" font-family=\"Linux libertine\" font-size=\"10.00\">input:</text>\n",
       "<polygon fill=\"none\" stroke=\"black\" points=\"629.5,-2195 629.5,-2216 676.5,-2216 676.5,-2195 629.5,-2195\"/>\n",
       "<text text-anchor=\"start\" x=\"634.5\" y=\"-2203\" font-family=\"Linux libertine\" font-size=\"10.00\">(1, 4, 8) </text>\n",
       "<polygon fill=\"none\" stroke=\"black\" points=\"582.5,-2174 582.5,-2195 629.5,-2195 629.5,-2174 582.5,-2174\"/>\n",
       "<text text-anchor=\"start\" x=\"587.5\" y=\"-2182\" font-family=\"Linux libertine\" font-size=\"10.00\">output: </text>\n",
       "<polygon fill=\"none\" stroke=\"black\" points=\"629.5,-2174 629.5,-2195 676.5,-2195 676.5,-2174 629.5,-2174\"/>\n",
       "<text text-anchor=\"start\" x=\"634.5\" y=\"-2182\" font-family=\"Linux libertine\" font-size=\"10.00\">(1, 4, 4) </text>\n",
       "</g>\n",
       "<!-- 21&#45;&gt;22 -->\n",
       "<g id=\"edge23\" class=\"edge\">\n",
       "<title>21&#45;&gt;22</title>\n",
       "<path fill=\"none\" stroke=\"black\" d=\"M578.5,-2251.63C578.5,-2243.82 578.5,-2234.73 578.5,-2226.18\"/>\n",
       "<polygon fill=\"black\" stroke=\"black\" points=\"582,-2226.16 578.5,-2216.16 575,-2226.16 582,-2226.16\"/>\n",
       "</g>\n",
       "<!-- 23 -->\n",
       "<g id=\"node24\" class=\"node\">\n",
       "<title>23</title>\n",
       "<polygon fill=\"aliceblue\" stroke=\"transparent\" points=\"635,-2138 494,-2138 494,-2096 635,-2096 635,-2138\"/>\n",
       "<polygon fill=\"none\" stroke=\"black\" points=\"494.5,-2096 494.5,-2138 541.5,-2138 541.5,-2096 494.5,-2096\"/>\n",
       "<text text-anchor=\"start\" x=\"502.5\" y=\"-2120\" font-family=\"Linux libertine\" font-size=\"10.00\">flatten</text>\n",
       "<text text-anchor=\"start\" x=\"499.5\" y=\"-2109\" font-family=\"Linux libertine\" font-size=\"10.00\">depth:1</text>\n",
       "<polygon fill=\"none\" stroke=\"black\" points=\"541.5,-2117 541.5,-2138 588.5,-2138 588.5,-2117 541.5,-2117\"/>\n",
       "<text text-anchor=\"start\" x=\"551\" y=\"-2125\" font-family=\"Linux libertine\" font-size=\"10.00\">input:</text>\n",
       "<polygon fill=\"none\" stroke=\"black\" points=\"588.5,-2117 588.5,-2138 635.5,-2138 635.5,-2117 588.5,-2117\"/>\n",
       "<text text-anchor=\"start\" x=\"593.5\" y=\"-2125\" font-family=\"Linux libertine\" font-size=\"10.00\">(1, 4, 4) </text>\n",
       "<polygon fill=\"none\" stroke=\"black\" points=\"541.5,-2096 541.5,-2117 588.5,-2117 588.5,-2096 541.5,-2096\"/>\n",
       "<text text-anchor=\"start\" x=\"546.5\" y=\"-2104\" font-family=\"Linux libertine\" font-size=\"10.00\">output: </text>\n",
       "<polygon fill=\"none\" stroke=\"black\" points=\"588.5,-2096 588.5,-2117 635.5,-2117 635.5,-2096 588.5,-2096\"/>\n",
       "<text text-anchor=\"start\" x=\"596\" y=\"-2104\" font-family=\"Linux libertine\" font-size=\"10.00\">(1, 16) </text>\n",
       "</g>\n",
       "<!-- 22&#45;&gt;23 -->\n",
       "<g id=\"edge24\" class=\"edge\">\n",
       "<title>22&#45;&gt;23</title>\n",
       "<path fill=\"none\" stroke=\"black\" d=\"M574.75,-2173.63C573.31,-2165.82 571.63,-2156.73 570.06,-2148.18\"/>\n",
       "<polygon fill=\"black\" stroke=\"black\" points=\"573.47,-2147.36 568.21,-2138.16 566.58,-2148.63 573.47,-2147.36\"/>\n",
       "</g>\n",
       "<!-- 23&#45;&gt;24 -->\n",
       "<g id=\"edge25\" class=\"edge\">\n",
       "<title>23&#45;&gt;24</title>\n",
       "<path fill=\"none\" stroke=\"black\" d=\"M547.62,-2095.63C540.57,-2087.13 532.27,-2077.12 524.66,-2067.94\"/>\n",
       "<polygon fill=\"black\" stroke=\"black\" points=\"527.29,-2065.62 518.21,-2060.16 521.9,-2070.09 527.29,-2065.62\"/>\n",
       "</g>\n",
       "<!-- 25 -->\n",
       "<g id=\"node26\" class=\"node\">\n",
       "<title>25</title>\n",
       "<polygon fill=\"aliceblue\" stroke=\"transparent\" points=\"570,-1982 433,-1982 433,-1940 570,-1940 570,-1982\"/>\n",
       "<polygon fill=\"none\" stroke=\"black\" points=\"433.5,-1940 433.5,-1982 481.5,-1982 481.5,-1940 433.5,-1940\"/>\n",
       "<text text-anchor=\"start\" x=\"438.5\" y=\"-1964\" font-family=\"Linux libertine\" font-size=\"10.00\">reshape</text>\n",
       "<text text-anchor=\"start\" x=\"439\" y=\"-1953\" font-family=\"Linux libertine\" font-size=\"10.00\">depth:2</text>\n",
       "<polygon fill=\"none\" stroke=\"black\" points=\"481.5,-1961 481.5,-1982 528.5,-1982 528.5,-1961 481.5,-1961\"/>\n",
       "<text text-anchor=\"start\" x=\"491\" y=\"-1969\" font-family=\"Linux libertine\" font-size=\"10.00\">input:</text>\n",
       "<polygon fill=\"none\" stroke=\"black\" points=\"528.5,-1961 528.5,-1982 570.5,-1982 570.5,-1961 528.5,-1961\"/>\n",
       "<text text-anchor=\"start\" x=\"533.5\" y=\"-1969\" font-family=\"Linux libertine\" font-size=\"10.00\">(1, 48) </text>\n",
       "<polygon fill=\"none\" stroke=\"black\" points=\"481.5,-1940 481.5,-1961 528.5,-1961 528.5,-1940 481.5,-1940\"/>\n",
       "<text text-anchor=\"start\" x=\"486.5\" y=\"-1948\" font-family=\"Linux libertine\" font-size=\"10.00\">output: </text>\n",
       "<polygon fill=\"none\" stroke=\"black\" points=\"528.5,-1940 528.5,-1961 570.5,-1961 570.5,-1940 528.5,-1940\"/>\n",
       "<text text-anchor=\"start\" x=\"533.5\" y=\"-1948\" font-family=\"Linux libertine\" font-size=\"10.00\">(1, 48) </text>\n",
       "</g>\n",
       "<!-- 24&#45;&gt;25 -->\n",
       "<g id=\"edge26\" class=\"edge\">\n",
       "<title>24&#45;&gt;25</title>\n",
       "<path fill=\"none\" stroke=\"black\" d=\"M501.5,-2017.63C501.5,-2009.82 501.5,-2000.73 501.5,-1992.18\"/>\n",
       "<polygon fill=\"black\" stroke=\"black\" points=\"505,-1992.16 501.5,-1982.16 498,-1992.16 505,-1992.16\"/>\n",
       "</g>\n",
       "<!-- 26 -->\n",
       "<g id=\"node27\" class=\"node\">\n",
       "<title>26</title>\n",
       "<polygon fill=\"#c1ffc1\" stroke=\"transparent\" points=\"569.5,-1904 433.5,-1904 433.5,-1862 569.5,-1862 569.5,-1904\"/>\n",
       "<polygon fill=\"none\" stroke=\"black\" points=\"433.5,-1862 433.5,-1904 480.5,-1904 480.5,-1862 433.5,-1862\"/>\n",
       "<text text-anchor=\"start\" x=\"442\" y=\"-1886\" font-family=\"Linux libertine\" font-size=\"10.00\">Linear</text>\n",
       "<text text-anchor=\"start\" x=\"438.5\" y=\"-1875\" font-family=\"Linux libertine\" font-size=\"10.00\">depth:2</text>\n",
       "<polygon fill=\"none\" stroke=\"black\" points=\"480.5,-1883 480.5,-1904 527.5,-1904 527.5,-1883 480.5,-1883\"/>\n",
       "<text text-anchor=\"start\" x=\"490\" y=\"-1891\" font-family=\"Linux libertine\" font-size=\"10.00\">input:</text>\n",
       "<polygon fill=\"none\" stroke=\"black\" points=\"527.5,-1883 527.5,-1904 569.5,-1904 569.5,-1883 527.5,-1883\"/>\n",
       "<text text-anchor=\"start\" x=\"532.5\" y=\"-1891\" font-family=\"Linux libertine\" font-size=\"10.00\">(1, 48) </text>\n",
       "<polygon fill=\"none\" stroke=\"black\" points=\"480.5,-1862 480.5,-1883 527.5,-1883 527.5,-1862 480.5,-1862\"/>\n",
       "<text text-anchor=\"start\" x=\"485.5\" y=\"-1870\" font-family=\"Linux libertine\" font-size=\"10.00\">output: </text>\n",
       "<polygon fill=\"none\" stroke=\"black\" points=\"527.5,-1862 527.5,-1883 569.5,-1883 569.5,-1862 527.5,-1862\"/>\n",
       "<text text-anchor=\"start\" x=\"535.5\" y=\"-1870\" font-family=\"Linux libertine\" font-size=\"10.00\">(1, 8) </text>\n",
       "</g>\n",
       "<!-- 25&#45;&gt;26 -->\n",
       "<g id=\"edge27\" class=\"edge\">\n",
       "<title>25&#45;&gt;26</title>\n",
       "<path fill=\"none\" stroke=\"black\" d=\"M501.5,-1939.63C501.5,-1931.82 501.5,-1922.73 501.5,-1914.18\"/>\n",
       "<polygon fill=\"black\" stroke=\"black\" points=\"505,-1914.16 501.5,-1904.16 498,-1914.16 505,-1914.16\"/>\n",
       "</g>\n",
       "<!-- 27 -->\n",
       "<g id=\"node28\" class=\"node\">\n",
       "<title>27</title>\n",
       "<polygon fill=\"#c1ffc1\" stroke=\"transparent\" points=\"566.5,-1826 436.5,-1826 436.5,-1784 566.5,-1784 566.5,-1826\"/>\n",
       "<polygon fill=\"none\" stroke=\"black\" points=\"436.5,-1784 436.5,-1826 483.5,-1826 483.5,-1784 436.5,-1784\"/>\n",
       "<text text-anchor=\"start\" x=\"448\" y=\"-1808\" font-family=\"Linux libertine\" font-size=\"10.00\">SELU</text>\n",
       "<text text-anchor=\"start\" x=\"441.5\" y=\"-1797\" font-family=\"Linux libertine\" font-size=\"10.00\">depth:2</text>\n",
       "<polygon fill=\"none\" stroke=\"black\" points=\"483.5,-1805 483.5,-1826 530.5,-1826 530.5,-1805 483.5,-1805\"/>\n",
       "<text text-anchor=\"start\" x=\"493\" y=\"-1813\" font-family=\"Linux libertine\" font-size=\"10.00\">input:</text>\n",
       "<polygon fill=\"none\" stroke=\"black\" points=\"530.5,-1805 530.5,-1826 566.5,-1826 566.5,-1805 530.5,-1805\"/>\n",
       "<text text-anchor=\"start\" x=\"535.5\" y=\"-1813\" font-family=\"Linux libertine\" font-size=\"10.00\">(1, 8) </text>\n",
       "<polygon fill=\"none\" stroke=\"black\" points=\"483.5,-1784 483.5,-1805 530.5,-1805 530.5,-1784 483.5,-1784\"/>\n",
       "<text text-anchor=\"start\" x=\"488.5\" y=\"-1792\" font-family=\"Linux libertine\" font-size=\"10.00\">output: </text>\n",
       "<polygon fill=\"none\" stroke=\"black\" points=\"530.5,-1784 530.5,-1805 566.5,-1805 566.5,-1784 530.5,-1784\"/>\n",
       "<text text-anchor=\"start\" x=\"535.5\" y=\"-1792\" font-family=\"Linux libertine\" font-size=\"10.00\">(1, 8) </text>\n",
       "</g>\n",
       "<!-- 26&#45;&gt;27 -->\n",
       "<g id=\"edge28\" class=\"edge\">\n",
       "<title>26&#45;&gt;27</title>\n",
       "<path fill=\"none\" stroke=\"black\" d=\"M501.5,-1861.63C501.5,-1853.82 501.5,-1844.73 501.5,-1836.18\"/>\n",
       "<polygon fill=\"black\" stroke=\"black\" points=\"505,-1836.16 501.5,-1826.16 498,-1836.16 505,-1836.16\"/>\n",
       "</g>\n",
       "<!-- 28 -->\n",
       "<g id=\"node29\" class=\"node\">\n",
       "<title>28</title>\n",
       "<polygon fill=\"#c1ffc1\" stroke=\"transparent\" points=\"569.5,-1748 433.5,-1748 433.5,-1706 569.5,-1706 569.5,-1748\"/>\n",
       "<polygon fill=\"none\" stroke=\"black\" points=\"433.5,-1706 433.5,-1748 480.5,-1748 480.5,-1706 433.5,-1706\"/>\n",
       "<text text-anchor=\"start\" x=\"442\" y=\"-1730\" font-family=\"Linux libertine\" font-size=\"10.00\">Linear</text>\n",
       "<text text-anchor=\"start\" x=\"438.5\" y=\"-1719\" font-family=\"Linux libertine\" font-size=\"10.00\">depth:2</text>\n",
       "<polygon fill=\"none\" stroke=\"black\" points=\"480.5,-1727 480.5,-1748 527.5,-1748 527.5,-1727 480.5,-1727\"/>\n",
       "<text text-anchor=\"start\" x=\"490\" y=\"-1735\" font-family=\"Linux libertine\" font-size=\"10.00\">input:</text>\n",
       "<polygon fill=\"none\" stroke=\"black\" points=\"527.5,-1727 527.5,-1748 569.5,-1748 569.5,-1727 527.5,-1727\"/>\n",
       "<text text-anchor=\"start\" x=\"535.5\" y=\"-1735\" font-family=\"Linux libertine\" font-size=\"10.00\">(1, 8) </text>\n",
       "<polygon fill=\"none\" stroke=\"black\" points=\"480.5,-1706 480.5,-1727 527.5,-1727 527.5,-1706 480.5,-1706\"/>\n",
       "<text text-anchor=\"start\" x=\"485.5\" y=\"-1714\" font-family=\"Linux libertine\" font-size=\"10.00\">output: </text>\n",
       "<polygon fill=\"none\" stroke=\"black\" points=\"527.5,-1706 527.5,-1727 569.5,-1727 569.5,-1706 527.5,-1706\"/>\n",
       "<text text-anchor=\"start\" x=\"532.5\" y=\"-1714\" font-family=\"Linux libertine\" font-size=\"10.00\">(1, 16) </text>\n",
       "</g>\n",
       "<!-- 27&#45;&gt;28 -->\n",
       "<g id=\"edge29\" class=\"edge\">\n",
       "<title>27&#45;&gt;28</title>\n",
       "<path fill=\"none\" stroke=\"black\" d=\"M501.5,-1783.63C501.5,-1775.82 501.5,-1766.73 501.5,-1758.18\"/>\n",
       "<polygon fill=\"black\" stroke=\"black\" points=\"505,-1758.16 501.5,-1748.16 498,-1758.16 505,-1758.16\"/>\n",
       "</g>\n",
       "<!-- 29 -->\n",
       "<g id=\"node30\" class=\"node\">\n",
       "<title>29</title>\n",
       "<polygon fill=\"#c1ffc1\" stroke=\"transparent\" points=\"569.5,-1670 433.5,-1670 433.5,-1628 569.5,-1628 569.5,-1670\"/>\n",
       "<polygon fill=\"none\" stroke=\"black\" points=\"433.5,-1628 433.5,-1670 480.5,-1670 480.5,-1628 433.5,-1628\"/>\n",
       "<text text-anchor=\"start\" x=\"445\" y=\"-1652\" font-family=\"Linux libertine\" font-size=\"10.00\">SELU</text>\n",
       "<text text-anchor=\"start\" x=\"438.5\" y=\"-1641\" font-family=\"Linux libertine\" font-size=\"10.00\">depth:2</text>\n",
       "<polygon fill=\"none\" stroke=\"black\" points=\"480.5,-1649 480.5,-1670 527.5,-1670 527.5,-1649 480.5,-1649\"/>\n",
       "<text text-anchor=\"start\" x=\"490\" y=\"-1657\" font-family=\"Linux libertine\" font-size=\"10.00\">input:</text>\n",
       "<polygon fill=\"none\" stroke=\"black\" points=\"527.5,-1649 527.5,-1670 569.5,-1670 569.5,-1649 527.5,-1649\"/>\n",
       "<text text-anchor=\"start\" x=\"532.5\" y=\"-1657\" font-family=\"Linux libertine\" font-size=\"10.00\">(1, 16) </text>\n",
       "<polygon fill=\"none\" stroke=\"black\" points=\"480.5,-1628 480.5,-1649 527.5,-1649 527.5,-1628 480.5,-1628\"/>\n",
       "<text text-anchor=\"start\" x=\"485.5\" y=\"-1636\" font-family=\"Linux libertine\" font-size=\"10.00\">output: </text>\n",
       "<polygon fill=\"none\" stroke=\"black\" points=\"527.5,-1628 527.5,-1649 569.5,-1649 569.5,-1628 527.5,-1628\"/>\n",
       "<text text-anchor=\"start\" x=\"532.5\" y=\"-1636\" font-family=\"Linux libertine\" font-size=\"10.00\">(1, 16) </text>\n",
       "</g>\n",
       "<!-- 28&#45;&gt;29 -->\n",
       "<g id=\"edge30\" class=\"edge\">\n",
       "<title>28&#45;&gt;29</title>\n",
       "<path fill=\"none\" stroke=\"black\" d=\"M501.5,-1705.63C501.5,-1697.82 501.5,-1688.73 501.5,-1680.18\"/>\n",
       "<polygon fill=\"black\" stroke=\"black\" points=\"505,-1680.16 501.5,-1670.16 498,-1680.16 505,-1680.16\"/>\n",
       "</g>\n",
       "<!-- 30 -->\n",
       "<g id=\"node31\" class=\"node\">\n",
       "<title>30</title>\n",
       "<polygon fill=\"aliceblue\" stroke=\"transparent\" points=\"572.5,-1592 430.5,-1592 430.5,-1550 572.5,-1550 572.5,-1592\"/>\n",
       "<polygon fill=\"none\" stroke=\"black\" points=\"430.5,-1550 430.5,-1592 478.5,-1592 478.5,-1550 430.5,-1550\"/>\n",
       "<text text-anchor=\"start\" x=\"435.5\" y=\"-1574\" font-family=\"Linux libertine\" font-size=\"10.00\">reshape</text>\n",
       "<text text-anchor=\"start\" x=\"436\" y=\"-1563\" font-family=\"Linux libertine\" font-size=\"10.00\">depth:1</text>\n",
       "<polygon fill=\"none\" stroke=\"black\" points=\"478.5,-1571 478.5,-1592 525.5,-1592 525.5,-1571 478.5,-1571\"/>\n",
       "<text text-anchor=\"start\" x=\"488\" y=\"-1579\" font-family=\"Linux libertine\" font-size=\"10.00\">input:</text>\n",
       "<polygon fill=\"none\" stroke=\"black\" points=\"525.5,-1571 525.5,-1592 572.5,-1592 572.5,-1571 525.5,-1571\"/>\n",
       "<text text-anchor=\"start\" x=\"533\" y=\"-1579\" font-family=\"Linux libertine\" font-size=\"10.00\">(1, 16) </text>\n",
       "<polygon fill=\"none\" stroke=\"black\" points=\"478.5,-1550 478.5,-1571 525.5,-1571 525.5,-1550 478.5,-1550\"/>\n",
       "<text text-anchor=\"start\" x=\"483.5\" y=\"-1558\" font-family=\"Linux libertine\" font-size=\"10.00\">output: </text>\n",
       "<polygon fill=\"none\" stroke=\"black\" points=\"525.5,-1550 525.5,-1571 572.5,-1571 572.5,-1550 525.5,-1550\"/>\n",
       "<text text-anchor=\"start\" x=\"530.5\" y=\"-1558\" font-family=\"Linux libertine\" font-size=\"10.00\">(1, 4, 4) </text>\n",
       "</g>\n",
       "<!-- 29&#45;&gt;30 -->\n",
       "<g id=\"edge31\" class=\"edge\">\n",
       "<title>29&#45;&gt;30</title>\n",
       "<path fill=\"none\" stroke=\"black\" d=\"M501.5,-1627.63C501.5,-1619.82 501.5,-1610.73 501.5,-1602.18\"/>\n",
       "<polygon fill=\"black\" stroke=\"black\" points=\"505,-1602.16 501.5,-1592.16 498,-1602.16 505,-1602.16\"/>\n",
       "</g>\n",
       "<!-- 31 -->\n",
       "<g id=\"node32\" class=\"node\">\n",
       "<title>31</title>\n",
       "<polygon fill=\"aliceblue\" stroke=\"transparent\" points=\"316,-1514 157,-1514 157,-1472 316,-1472 316,-1514\"/>\n",
       "<polygon fill=\"none\" stroke=\"black\" points=\"157.5,-1472 157.5,-1514 222.5,-1514 222.5,-1472 157.5,-1472\"/>\n",
       "<text text-anchor=\"start\" x=\"162.5\" y=\"-1496\" font-family=\"Linux libertine\" font-size=\"10.00\">__getitem__</text>\n",
       "<text text-anchor=\"start\" x=\"171.5\" y=\"-1485\" font-family=\"Linux libertine\" font-size=\"10.00\">depth:1</text>\n",
       "<polygon fill=\"none\" stroke=\"black\" points=\"222.5,-1493 222.5,-1514 269.5,-1514 269.5,-1493 222.5,-1493\"/>\n",
       "<text text-anchor=\"start\" x=\"232\" y=\"-1501\" font-family=\"Linux libertine\" font-size=\"10.00\">input:</text>\n",
       "<polygon fill=\"none\" stroke=\"black\" points=\"269.5,-1493 269.5,-1514 316.5,-1514 316.5,-1493 269.5,-1493\"/>\n",
       "<text text-anchor=\"start\" x=\"274.5\" y=\"-1501\" font-family=\"Linux libertine\" font-size=\"10.00\">(1, 4, 4) </text>\n",
       "<polygon fill=\"none\" stroke=\"black\" points=\"222.5,-1472 222.5,-1493 269.5,-1493 269.5,-1472 222.5,-1472\"/>\n",
       "<text text-anchor=\"start\" x=\"227.5\" y=\"-1480\" font-family=\"Linux libertine\" font-size=\"10.00\">output: </text>\n",
       "<polygon fill=\"none\" stroke=\"black\" points=\"269.5,-1472 269.5,-1493 316.5,-1493 316.5,-1472 269.5,-1472\"/>\n",
       "<text text-anchor=\"start\" x=\"280\" y=\"-1480\" font-family=\"Linux libertine\" font-size=\"10.00\">(1, 4) </text>\n",
       "</g>\n",
       "<!-- 30&#45;&gt;31 -->\n",
       "<g id=\"edge32\" class=\"edge\">\n",
       "<title>30&#45;&gt;31</title>\n",
       "<path fill=\"none\" stroke=\"black\" d=\"M431.53,-1549.93C396.06,-1539.76 352.82,-1527.36 316.09,-1516.83\"/>\n",
       "<polygon fill=\"black\" stroke=\"black\" points=\"316.98,-1513.44 306.4,-1514.05 315.05,-1520.17 316.98,-1513.44\"/>\n",
       "</g>\n",
       "<!-- 33 -->\n",
       "<g id=\"node34\" class=\"node\">\n",
       "<title>33</title>\n",
       "<polygon fill=\"aliceblue\" stroke=\"transparent\" points=\"493,-1514 334,-1514 334,-1472 493,-1472 493,-1514\"/>\n",
       "<polygon fill=\"none\" stroke=\"black\" points=\"334.5,-1472 334.5,-1514 399.5,-1514 399.5,-1472 334.5,-1472\"/>\n",
       "<text text-anchor=\"start\" x=\"339.5\" y=\"-1496\" font-family=\"Linux libertine\" font-size=\"10.00\">__getitem__</text>\n",
       "<text text-anchor=\"start\" x=\"348.5\" y=\"-1485\" font-family=\"Linux libertine\" font-size=\"10.00\">depth:1</text>\n",
       "<polygon fill=\"none\" stroke=\"black\" points=\"399.5,-1493 399.5,-1514 446.5,-1514 446.5,-1493 399.5,-1493\"/>\n",
       "<text text-anchor=\"start\" x=\"409\" y=\"-1501\" font-family=\"Linux libertine\" font-size=\"10.00\">input:</text>\n",
       "<polygon fill=\"none\" stroke=\"black\" points=\"446.5,-1493 446.5,-1514 493.5,-1514 493.5,-1493 446.5,-1493\"/>\n",
       "<text text-anchor=\"start\" x=\"451.5\" y=\"-1501\" font-family=\"Linux libertine\" font-size=\"10.00\">(1, 4, 4) </text>\n",
       "<polygon fill=\"none\" stroke=\"black\" points=\"399.5,-1472 399.5,-1493 446.5,-1493 446.5,-1472 399.5,-1472\"/>\n",
       "<text text-anchor=\"start\" x=\"404.5\" y=\"-1480\" font-family=\"Linux libertine\" font-size=\"10.00\">output: </text>\n",
       "<polygon fill=\"none\" stroke=\"black\" points=\"446.5,-1472 446.5,-1493 493.5,-1493 493.5,-1472 446.5,-1472\"/>\n",
       "<text text-anchor=\"start\" x=\"457\" y=\"-1480\" font-family=\"Linux libertine\" font-size=\"10.00\">(1, 4) </text>\n",
       "</g>\n",
       "<!-- 30&#45;&gt;33 -->\n",
       "<g id=\"edge33\" class=\"edge\">\n",
       "<title>30&#45;&gt;33</title>\n",
       "<path fill=\"none\" stroke=\"black\" d=\"M477.92,-1549.63C467.68,-1540.79 455.54,-1530.3 444.57,-1520.84\"/>\n",
       "<polygon fill=\"black\" stroke=\"black\" points=\"446.7,-1518.05 436.84,-1514.16 442.12,-1523.34 446.7,-1518.05\"/>\n",
       "</g>\n",
       "<!-- 38 -->\n",
       "<g id=\"node39\" class=\"node\">\n",
       "<title>38</title>\n",
       "<polygon fill=\"aliceblue\" stroke=\"transparent\" points=\"670,-1514 511,-1514 511,-1472 670,-1472 670,-1514\"/>\n",
       "<polygon fill=\"none\" stroke=\"black\" points=\"511.5,-1472 511.5,-1514 576.5,-1514 576.5,-1472 511.5,-1472\"/>\n",
       "<text text-anchor=\"start\" x=\"516.5\" y=\"-1496\" font-family=\"Linux libertine\" font-size=\"10.00\">__getitem__</text>\n",
       "<text text-anchor=\"start\" x=\"525.5\" y=\"-1485\" font-family=\"Linux libertine\" font-size=\"10.00\">depth:1</text>\n",
       "<polygon fill=\"none\" stroke=\"black\" points=\"576.5,-1493 576.5,-1514 623.5,-1514 623.5,-1493 576.5,-1493\"/>\n",
       "<text text-anchor=\"start\" x=\"586\" y=\"-1501\" font-family=\"Linux libertine\" font-size=\"10.00\">input:</text>\n",
       "<polygon fill=\"none\" stroke=\"black\" points=\"623.5,-1493 623.5,-1514 670.5,-1514 670.5,-1493 623.5,-1493\"/>\n",
       "<text text-anchor=\"start\" x=\"628.5\" y=\"-1501\" font-family=\"Linux libertine\" font-size=\"10.00\">(1, 4, 4) </text>\n",
       "<polygon fill=\"none\" stroke=\"black\" points=\"576.5,-1472 576.5,-1493 623.5,-1493 623.5,-1472 576.5,-1472\"/>\n",
       "<text text-anchor=\"start\" x=\"581.5\" y=\"-1480\" font-family=\"Linux libertine\" font-size=\"10.00\">output: </text>\n",
       "<polygon fill=\"none\" stroke=\"black\" points=\"623.5,-1472 623.5,-1493 670.5,-1493 670.5,-1472 623.5,-1472\"/>\n",
       "<text text-anchor=\"start\" x=\"634\" y=\"-1480\" font-family=\"Linux libertine\" font-size=\"10.00\">(1, 4) </text>\n",
       "</g>\n",
       "<!-- 30&#45;&gt;38 -->\n",
       "<g id=\"edge34\" class=\"edge\">\n",
       "<title>30&#45;&gt;38</title>\n",
       "<path fill=\"none\" stroke=\"black\" d=\"M525.35,-1549.63C535.71,-1540.79 547.99,-1530.3 559.07,-1520.84\"/>\n",
       "<polygon fill=\"black\" stroke=\"black\" points=\"561.56,-1523.31 566.89,-1514.16 557.01,-1517.99 561.56,-1523.31\"/>\n",
       "</g>\n",
       "<!-- 43 -->\n",
       "<g id=\"node44\" class=\"node\">\n",
       "<title>43</title>\n",
       "<polygon fill=\"aliceblue\" stroke=\"transparent\" points=\"847,-1514 688,-1514 688,-1472 847,-1472 847,-1514\"/>\n",
       "<polygon fill=\"none\" stroke=\"black\" points=\"688.5,-1472 688.5,-1514 753.5,-1514 753.5,-1472 688.5,-1472\"/>\n",
       "<text text-anchor=\"start\" x=\"693.5\" y=\"-1496\" font-family=\"Linux libertine\" font-size=\"10.00\">__getitem__</text>\n",
       "<text text-anchor=\"start\" x=\"702.5\" y=\"-1485\" font-family=\"Linux libertine\" font-size=\"10.00\">depth:1</text>\n",
       "<polygon fill=\"none\" stroke=\"black\" points=\"753.5,-1493 753.5,-1514 800.5,-1514 800.5,-1493 753.5,-1493\"/>\n",
       "<text text-anchor=\"start\" x=\"763\" y=\"-1501\" font-family=\"Linux libertine\" font-size=\"10.00\">input:</text>\n",
       "<polygon fill=\"none\" stroke=\"black\" points=\"800.5,-1493 800.5,-1514 847.5,-1514 847.5,-1493 800.5,-1493\"/>\n",
       "<text text-anchor=\"start\" x=\"805.5\" y=\"-1501\" font-family=\"Linux libertine\" font-size=\"10.00\">(1, 4, 4) </text>\n",
       "<polygon fill=\"none\" stroke=\"black\" points=\"753.5,-1472 753.5,-1493 800.5,-1493 800.5,-1472 753.5,-1472\"/>\n",
       "<text text-anchor=\"start\" x=\"758.5\" y=\"-1480\" font-family=\"Linux libertine\" font-size=\"10.00\">output: </text>\n",
       "<polygon fill=\"none\" stroke=\"black\" points=\"800.5,-1472 800.5,-1493 847.5,-1493 847.5,-1472 800.5,-1472\"/>\n",
       "<text text-anchor=\"start\" x=\"811\" y=\"-1480\" font-family=\"Linux libertine\" font-size=\"10.00\">(1, 4) </text>\n",
       "</g>\n",
       "<!-- 30&#45;&gt;43 -->\n",
       "<g id=\"edge35\" class=\"edge\">\n",
       "<title>30&#45;&gt;43</title>\n",
       "<path fill=\"none\" stroke=\"black\" d=\"M571.74,-1549.93C607.34,-1539.76 650.74,-1527.36 687.61,-1516.83\"/>\n",
       "<polygon fill=\"black\" stroke=\"black\" points=\"688.68,-1520.16 697.33,-1514.05 686.75,-1513.43 688.68,-1520.16\"/>\n",
       "</g>\n",
       "<!-- 32 -->\n",
       "<g id=\"node33\" class=\"node\">\n",
       "<title>32</title>\n",
       "<polygon fill=\"#c1ffc1\" stroke=\"transparent\" points=\"330.5,-1202 200.5,-1202 200.5,-1160 330.5,-1160 330.5,-1202\"/>\n",
       "<polygon fill=\"none\" stroke=\"black\" points=\"200.5,-1160 200.5,-1202 247.5,-1202 247.5,-1160 200.5,-1160\"/>\n",
       "<text text-anchor=\"start\" x=\"211.5\" y=\"-1184\" font-family=\"Linux libertine\" font-size=\"10.00\">ReLU</text>\n",
       "<text text-anchor=\"start\" x=\"205.5\" y=\"-1173\" font-family=\"Linux libertine\" font-size=\"10.00\">depth:1</text>\n",
       "<polygon fill=\"none\" stroke=\"black\" points=\"247.5,-1181 247.5,-1202 294.5,-1202 294.5,-1181 247.5,-1181\"/>\n",
       "<text text-anchor=\"start\" x=\"257\" y=\"-1189\" font-family=\"Linux libertine\" font-size=\"10.00\">input:</text>\n",
       "<polygon fill=\"none\" stroke=\"black\" points=\"294.5,-1181 294.5,-1202 330.5,-1202 330.5,-1181 294.5,-1181\"/>\n",
       "<text text-anchor=\"start\" x=\"299.5\" y=\"-1189\" font-family=\"Linux libertine\" font-size=\"10.00\">(1, 4) </text>\n",
       "<polygon fill=\"none\" stroke=\"black\" points=\"247.5,-1160 247.5,-1181 294.5,-1181 294.5,-1160 247.5,-1160\"/>\n",
       "<text text-anchor=\"start\" x=\"252.5\" y=\"-1168\" font-family=\"Linux libertine\" font-size=\"10.00\">output: </text>\n",
       "<polygon fill=\"none\" stroke=\"black\" points=\"294.5,-1160 294.5,-1181 330.5,-1181 330.5,-1160 294.5,-1160\"/>\n",
       "<text text-anchor=\"start\" x=\"299.5\" y=\"-1168\" font-family=\"Linux libertine\" font-size=\"10.00\">(1, 4) </text>\n",
       "</g>\n",
       "<!-- 31&#45;&gt;32 -->\n",
       "<g id=\"edge36\" class=\"edge\">\n",
       "<title>31&#45;&gt;32</title>\n",
       "<path fill=\"none\" stroke=\"black\" d=\"M238.4,-1471.66C243.38,-1418.43 256.82,-1274.84 262.69,-1212.06\"/>\n",
       "<polygon fill=\"black\" stroke=\"black\" points=\"266.18,-1212.29 263.63,-1202.01 259.21,-1211.64 266.18,-1212.29\"/>\n",
       "</g>\n",
       "<!-- 47 -->\n",
       "<g id=\"node48\" class=\"node\">\n",
       "<title>47</title>\n",
       "<polygon fill=\"aliceblue\" stroke=\"transparent\" points=\"567.5,-1124 421.5,-1124 421.5,-1082 567.5,-1082 567.5,-1124\"/>\n",
       "<polygon fill=\"none\" stroke=\"black\" points=\"421.5,-1082 421.5,-1124 468.5,-1124 468.5,-1082 421.5,-1082\"/>\n",
       "<text text-anchor=\"start\" x=\"433\" y=\"-1106\" font-family=\"Linux libertine\" font-size=\"10.00\">stack</text>\n",
       "<text text-anchor=\"start\" x=\"426.5\" y=\"-1095\" font-family=\"Linux libertine\" font-size=\"10.00\">depth:1</text>\n",
       "<polygon fill=\"none\" stroke=\"black\" points=\"468.5,-1103 468.5,-1124 515.5,-1124 515.5,-1103 468.5,-1103\"/>\n",
       "<text text-anchor=\"start\" x=\"478\" y=\"-1111\" font-family=\"Linux libertine\" font-size=\"10.00\">input:</text>\n",
       "<polygon fill=\"none\" stroke=\"black\" points=\"515.5,-1103 515.5,-1124 567.5,-1124 567.5,-1103 515.5,-1103\"/>\n",
       "<text text-anchor=\"start\" x=\"520.5\" y=\"-1111\" font-family=\"Linux libertine\" font-size=\"10.00\">4 x (1, 4) </text>\n",
       "<polygon fill=\"none\" stroke=\"black\" points=\"468.5,-1082 468.5,-1103 515.5,-1103 515.5,-1082 468.5,-1082\"/>\n",
       "<text text-anchor=\"start\" x=\"473.5\" y=\"-1090\" font-family=\"Linux libertine\" font-size=\"10.00\">output: </text>\n",
       "<polygon fill=\"none\" stroke=\"black\" points=\"515.5,-1082 515.5,-1103 567.5,-1103 567.5,-1082 515.5,-1082\"/>\n",
       "<text text-anchor=\"start\" x=\"523\" y=\"-1090\" font-family=\"Linux libertine\" font-size=\"10.00\">(1, 4, 4) </text>\n",
       "</g>\n",
       "<!-- 32&#45;&gt;47 -->\n",
       "<g id=\"edge37\" class=\"edge\">\n",
       "<title>32&#45;&gt;47</title>\n",
       "<path fill=\"none\" stroke=\"black\" d=\"M325.97,-1159.93C356.23,-1149.89 393.03,-1137.68 424.51,-1127.23\"/>\n",
       "<polygon fill=\"black\" stroke=\"black\" points=\"425.7,-1130.52 434.09,-1124.05 423.5,-1123.88 425.7,-1130.52\"/>\n",
       "</g>\n",
       "<!-- 34 -->\n",
       "<g id=\"node35\" class=\"node\">\n",
       "<title>34</title>\n",
       "<polygon fill=\"#c1ffc1\" stroke=\"transparent\" points=\"485.5,-1436 355.5,-1436 355.5,-1394 485.5,-1394 485.5,-1436\"/>\n",
       "<polygon fill=\"none\" stroke=\"black\" points=\"355.5,-1394 355.5,-1436 402.5,-1436 402.5,-1394 355.5,-1394\"/>\n",
       "<text text-anchor=\"start\" x=\"368\" y=\"-1418\" font-family=\"Linux libertine\" font-size=\"10.00\">Tanh</text>\n",
       "<text text-anchor=\"start\" x=\"360.5\" y=\"-1407\" font-family=\"Linux libertine\" font-size=\"10.00\">depth:1</text>\n",
       "<polygon fill=\"none\" stroke=\"black\" points=\"402.5,-1415 402.5,-1436 449.5,-1436 449.5,-1415 402.5,-1415\"/>\n",
       "<text text-anchor=\"start\" x=\"412\" y=\"-1423\" font-family=\"Linux libertine\" font-size=\"10.00\">input:</text>\n",
       "<polygon fill=\"none\" stroke=\"black\" points=\"449.5,-1415 449.5,-1436 485.5,-1436 485.5,-1415 449.5,-1415\"/>\n",
       "<text text-anchor=\"start\" x=\"454.5\" y=\"-1423\" font-family=\"Linux libertine\" font-size=\"10.00\">(1, 4) </text>\n",
       "<polygon fill=\"none\" stroke=\"black\" points=\"402.5,-1394 402.5,-1415 449.5,-1415 449.5,-1394 402.5,-1394\"/>\n",
       "<text text-anchor=\"start\" x=\"407.5\" y=\"-1402\" font-family=\"Linux libertine\" font-size=\"10.00\">output: </text>\n",
       "<polygon fill=\"none\" stroke=\"black\" points=\"449.5,-1394 449.5,-1415 485.5,-1415 485.5,-1394 449.5,-1394\"/>\n",
       "<text text-anchor=\"start\" x=\"454.5\" y=\"-1402\" font-family=\"Linux libertine\" font-size=\"10.00\">(1, 4) </text>\n",
       "</g>\n",
       "<!-- 33&#45;&gt;34 -->\n",
       "<g id=\"edge38\" class=\"edge\">\n",
       "<title>33&#45;&gt;34</title>\n",
       "<path fill=\"none\" stroke=\"black\" d=\"M415.38,-1471.63C416.1,-1463.82 416.93,-1454.73 417.72,-1446.18\"/>\n",
       "<polygon fill=\"black\" stroke=\"black\" points=\"421.21,-1446.44 418.64,-1436.16 414.24,-1445.8 421.21,-1446.44\"/>\n",
       "</g>\n",
       "<!-- 35 -->\n",
       "<g id=\"node36\" class=\"node\">\n",
       "<title>35</title>\n",
       "<polygon fill=\"aliceblue\" stroke=\"transparent\" points=\"485.5,-1358 355.5,-1358 355.5,-1316 485.5,-1316 485.5,-1358\"/>\n",
       "<polygon fill=\"none\" stroke=\"black\" points=\"355.5,-1316 355.5,-1358 402.5,-1358 402.5,-1316 355.5,-1316\"/>\n",
       "<text text-anchor=\"start\" x=\"372\" y=\"-1340\" font-family=\"Linux libertine\" font-size=\"10.00\">div</text>\n",
       "<text text-anchor=\"start\" x=\"360.5\" y=\"-1329\" font-family=\"Linux libertine\" font-size=\"10.00\">depth:1</text>\n",
       "<polygon fill=\"none\" stroke=\"black\" points=\"402.5,-1337 402.5,-1358 449.5,-1358 449.5,-1337 402.5,-1337\"/>\n",
       "<text text-anchor=\"start\" x=\"412\" y=\"-1345\" font-family=\"Linux libertine\" font-size=\"10.00\">input:</text>\n",
       "<polygon fill=\"none\" stroke=\"black\" points=\"449.5,-1337 449.5,-1358 485.5,-1358 485.5,-1337 449.5,-1337\"/>\n",
       "<text text-anchor=\"start\" x=\"454.5\" y=\"-1345\" font-family=\"Linux libertine\" font-size=\"10.00\">(1, 4) </text>\n",
       "<polygon fill=\"none\" stroke=\"black\" points=\"402.5,-1316 402.5,-1337 449.5,-1337 449.5,-1316 402.5,-1316\"/>\n",
       "<text text-anchor=\"start\" x=\"407.5\" y=\"-1324\" font-family=\"Linux libertine\" font-size=\"10.00\">output: </text>\n",
       "<polygon fill=\"none\" stroke=\"black\" points=\"449.5,-1316 449.5,-1337 485.5,-1337 485.5,-1316 449.5,-1316\"/>\n",
       "<text text-anchor=\"start\" x=\"454.5\" y=\"-1324\" font-family=\"Linux libertine\" font-size=\"10.00\">(1, 4) </text>\n",
       "</g>\n",
       "<!-- 34&#45;&gt;35 -->\n",
       "<g id=\"edge39\" class=\"edge\">\n",
       "<title>34&#45;&gt;35</title>\n",
       "<path fill=\"none\" stroke=\"black\" d=\"M420.5,-1393.63C420.5,-1385.82 420.5,-1376.73 420.5,-1368.18\"/>\n",
       "<polygon fill=\"black\" stroke=\"black\" points=\"424,-1368.16 420.5,-1358.16 417,-1368.16 424,-1368.16\"/>\n",
       "</g>\n",
       "<!-- 36 -->\n",
       "<g id=\"node37\" class=\"node\">\n",
       "<title>36</title>\n",
       "<polygon fill=\"aliceblue\" stroke=\"transparent\" points=\"485.5,-1280 355.5,-1280 355.5,-1238 485.5,-1238 485.5,-1280\"/>\n",
       "<polygon fill=\"none\" stroke=\"black\" points=\"355.5,-1238 355.5,-1280 402.5,-1280 402.5,-1238 355.5,-1238\"/>\n",
       "<text text-anchor=\"start\" x=\"370\" y=\"-1262\" font-family=\"Linux libertine\" font-size=\"10.00\">add</text>\n",
       "<text text-anchor=\"start\" x=\"360.5\" y=\"-1251\" font-family=\"Linux libertine\" font-size=\"10.00\">depth:1</text>\n",
       "<polygon fill=\"none\" stroke=\"black\" points=\"402.5,-1259 402.5,-1280 449.5,-1280 449.5,-1259 402.5,-1259\"/>\n",
       "<text text-anchor=\"start\" x=\"412\" y=\"-1267\" font-family=\"Linux libertine\" font-size=\"10.00\">input:</text>\n",
       "<polygon fill=\"none\" stroke=\"black\" points=\"449.5,-1259 449.5,-1280 485.5,-1280 485.5,-1259 449.5,-1259\"/>\n",
       "<text text-anchor=\"start\" x=\"454.5\" y=\"-1267\" font-family=\"Linux libertine\" font-size=\"10.00\">(1, 4) </text>\n",
       "<polygon fill=\"none\" stroke=\"black\" points=\"402.5,-1238 402.5,-1259 449.5,-1259 449.5,-1238 402.5,-1238\"/>\n",
       "<text text-anchor=\"start\" x=\"407.5\" y=\"-1246\" font-family=\"Linux libertine\" font-size=\"10.00\">output: </text>\n",
       "<polygon fill=\"none\" stroke=\"black\" points=\"449.5,-1238 449.5,-1259 485.5,-1259 485.5,-1238 449.5,-1238\"/>\n",
       "<text text-anchor=\"start\" x=\"454.5\" y=\"-1246\" font-family=\"Linux libertine\" font-size=\"10.00\">(1, 4) </text>\n",
       "</g>\n",
       "<!-- 35&#45;&gt;36 -->\n",
       "<g id=\"edge40\" class=\"edge\">\n",
       "<title>35&#45;&gt;36</title>\n",
       "<path fill=\"none\" stroke=\"black\" d=\"M420.5,-1315.63C420.5,-1307.82 420.5,-1298.73 420.5,-1290.18\"/>\n",
       "<polygon fill=\"black\" stroke=\"black\" points=\"424,-1290.16 420.5,-1280.16 417,-1290.16 424,-1290.16\"/>\n",
       "</g>\n",
       "<!-- 37 -->\n",
       "<g id=\"node38\" class=\"node\">\n",
       "<title>37</title>\n",
       "<polygon fill=\"aliceblue\" stroke=\"transparent\" points=\"485.5,-1202 355.5,-1202 355.5,-1160 485.5,-1160 485.5,-1202\"/>\n",
       "<polygon fill=\"none\" stroke=\"black\" points=\"355.5,-1160 355.5,-1202 402.5,-1202 402.5,-1160 355.5,-1160\"/>\n",
       "<text text-anchor=\"start\" x=\"365\" y=\"-1184\" font-family=\"Linux libertine\" font-size=\"10.00\">clamp</text>\n",
       "<text text-anchor=\"start\" x=\"360.5\" y=\"-1173\" font-family=\"Linux libertine\" font-size=\"10.00\">depth:1</text>\n",
       "<polygon fill=\"none\" stroke=\"black\" points=\"402.5,-1181 402.5,-1202 449.5,-1202 449.5,-1181 402.5,-1181\"/>\n",
       "<text text-anchor=\"start\" x=\"412\" y=\"-1189\" font-family=\"Linux libertine\" font-size=\"10.00\">input:</text>\n",
       "<polygon fill=\"none\" stroke=\"black\" points=\"449.5,-1181 449.5,-1202 485.5,-1202 485.5,-1181 449.5,-1181\"/>\n",
       "<text text-anchor=\"start\" x=\"454.5\" y=\"-1189\" font-family=\"Linux libertine\" font-size=\"10.00\">(1, 4) </text>\n",
       "<polygon fill=\"none\" stroke=\"black\" points=\"402.5,-1160 402.5,-1181 449.5,-1181 449.5,-1160 402.5,-1160\"/>\n",
       "<text text-anchor=\"start\" x=\"407.5\" y=\"-1168\" font-family=\"Linux libertine\" font-size=\"10.00\">output: </text>\n",
       "<polygon fill=\"none\" stroke=\"black\" points=\"449.5,-1160 449.5,-1181 485.5,-1181 485.5,-1160 449.5,-1160\"/>\n",
       "<text text-anchor=\"start\" x=\"454.5\" y=\"-1168\" font-family=\"Linux libertine\" font-size=\"10.00\">(1, 4) </text>\n",
       "</g>\n",
       "<!-- 36&#45;&gt;37 -->\n",
       "<g id=\"edge41\" class=\"edge\">\n",
       "<title>36&#45;&gt;37</title>\n",
       "<path fill=\"none\" stroke=\"black\" d=\"M420.5,-1237.63C420.5,-1229.82 420.5,-1220.73 420.5,-1212.18\"/>\n",
       "<polygon fill=\"black\" stroke=\"black\" points=\"424,-1212.16 420.5,-1202.16 417,-1212.16 424,-1212.16\"/>\n",
       "</g>\n",
       "<!-- 37&#45;&gt;47 -->\n",
       "<g id=\"edge42\" class=\"edge\">\n",
       "<title>37&#45;&gt;47</title>\n",
       "<path fill=\"none\" stroke=\"black\" d=\"M440.33,-1159.63C448.78,-1150.96 458.75,-1140.71 467.83,-1131.39\"/>\n",
       "<polygon fill=\"black\" stroke=\"black\" points=\"470.4,-1133.77 474.87,-1124.16 465.39,-1128.88 470.4,-1133.77\"/>\n",
       "</g>\n",
       "<!-- 39 -->\n",
       "<g id=\"node40\" class=\"node\">\n",
       "<title>39</title>\n",
       "<polygon fill=\"#c1ffc1\" stroke=\"transparent\" points=\"654.5,-1436 524.5,-1436 524.5,-1394 654.5,-1394 654.5,-1436\"/>\n",
       "<polygon fill=\"none\" stroke=\"black\" points=\"524.5,-1394 524.5,-1436 571.5,-1436 571.5,-1394 524.5,-1394\"/>\n",
       "<text text-anchor=\"start\" x=\"537\" y=\"-1418\" font-family=\"Linux libertine\" font-size=\"10.00\">Tanh</text>\n",
       "<text text-anchor=\"start\" x=\"529.5\" y=\"-1407\" font-family=\"Linux libertine\" font-size=\"10.00\">depth:1</text>\n",
       "<polygon fill=\"none\" stroke=\"black\" points=\"571.5,-1415 571.5,-1436 618.5,-1436 618.5,-1415 571.5,-1415\"/>\n",
       "<text text-anchor=\"start\" x=\"581\" y=\"-1423\" font-family=\"Linux libertine\" font-size=\"10.00\">input:</text>\n",
       "<polygon fill=\"none\" stroke=\"black\" points=\"618.5,-1415 618.5,-1436 654.5,-1436 654.5,-1415 618.5,-1415\"/>\n",
       "<text text-anchor=\"start\" x=\"623.5\" y=\"-1423\" font-family=\"Linux libertine\" font-size=\"10.00\">(1, 4) </text>\n",
       "<polygon fill=\"none\" stroke=\"black\" points=\"571.5,-1394 571.5,-1415 618.5,-1415 618.5,-1394 571.5,-1394\"/>\n",
       "<text text-anchor=\"start\" x=\"576.5\" y=\"-1402\" font-family=\"Linux libertine\" font-size=\"10.00\">output: </text>\n",
       "<polygon fill=\"none\" stroke=\"black\" points=\"618.5,-1394 618.5,-1415 654.5,-1415 654.5,-1394 618.5,-1394\"/>\n",
       "<text text-anchor=\"start\" x=\"623.5\" y=\"-1402\" font-family=\"Linux libertine\" font-size=\"10.00\">(1, 4) </text>\n",
       "</g>\n",
       "<!-- 38&#45;&gt;39 -->\n",
       "<g id=\"edge43\" class=\"edge\">\n",
       "<title>38&#45;&gt;39</title>\n",
       "<path fill=\"none\" stroke=\"black\" d=\"M590.23,-1471.63C590.13,-1463.82 590.01,-1454.73 589.9,-1446.18\"/>\n",
       "<polygon fill=\"black\" stroke=\"black\" points=\"593.4,-1446.11 589.77,-1436.16 586.4,-1446.2 593.4,-1446.11\"/>\n",
       "</g>\n",
       "<!-- 40 -->\n",
       "<g id=\"node41\" class=\"node\">\n",
       "<title>40</title>\n",
       "<polygon fill=\"aliceblue\" stroke=\"transparent\" points=\"650.5,-1358 520.5,-1358 520.5,-1316 650.5,-1316 650.5,-1358\"/>\n",
       "<polygon fill=\"none\" stroke=\"black\" points=\"520.5,-1316 520.5,-1358 567.5,-1358 567.5,-1316 520.5,-1316\"/>\n",
       "<text text-anchor=\"start\" x=\"537\" y=\"-1340\" font-family=\"Linux libertine\" font-size=\"10.00\">div</text>\n",
       "<text text-anchor=\"start\" x=\"525.5\" y=\"-1329\" font-family=\"Linux libertine\" font-size=\"10.00\">depth:1</text>\n",
       "<polygon fill=\"none\" stroke=\"black\" points=\"567.5,-1337 567.5,-1358 614.5,-1358 614.5,-1337 567.5,-1337\"/>\n",
       "<text text-anchor=\"start\" x=\"577\" y=\"-1345\" font-family=\"Linux libertine\" font-size=\"10.00\">input:</text>\n",
       "<polygon fill=\"none\" stroke=\"black\" points=\"614.5,-1337 614.5,-1358 650.5,-1358 650.5,-1337 614.5,-1337\"/>\n",
       "<text text-anchor=\"start\" x=\"619.5\" y=\"-1345\" font-family=\"Linux libertine\" font-size=\"10.00\">(1, 4) </text>\n",
       "<polygon fill=\"none\" stroke=\"black\" points=\"567.5,-1316 567.5,-1337 614.5,-1337 614.5,-1316 567.5,-1316\"/>\n",
       "<text text-anchor=\"start\" x=\"572.5\" y=\"-1324\" font-family=\"Linux libertine\" font-size=\"10.00\">output: </text>\n",
       "<polygon fill=\"none\" stroke=\"black\" points=\"614.5,-1316 614.5,-1337 650.5,-1337 650.5,-1316 614.5,-1316\"/>\n",
       "<text text-anchor=\"start\" x=\"619.5\" y=\"-1324\" font-family=\"Linux libertine\" font-size=\"10.00\">(1, 4) </text>\n",
       "</g>\n",
       "<!-- 39&#45;&gt;40 -->\n",
       "<g id=\"edge44\" class=\"edge\">\n",
       "<title>39&#45;&gt;40</title>\n",
       "<path fill=\"none\" stroke=\"black\" d=\"M588.43,-1393.63C588.02,-1385.82 587.54,-1376.73 587.09,-1368.18\"/>\n",
       "<polygon fill=\"black\" stroke=\"black\" points=\"590.58,-1367.96 586.56,-1358.16 583.59,-1368.33 590.58,-1367.96\"/>\n",
       "</g>\n",
       "<!-- 41 -->\n",
       "<g id=\"node42\" class=\"node\">\n",
       "<title>41</title>\n",
       "<polygon fill=\"aliceblue\" stroke=\"transparent\" points=\"649.5,-1280 519.5,-1280 519.5,-1238 649.5,-1238 649.5,-1280\"/>\n",
       "<polygon fill=\"none\" stroke=\"black\" points=\"519.5,-1238 519.5,-1280 566.5,-1280 566.5,-1238 519.5,-1238\"/>\n",
       "<text text-anchor=\"start\" x=\"534\" y=\"-1262\" font-family=\"Linux libertine\" font-size=\"10.00\">add</text>\n",
       "<text text-anchor=\"start\" x=\"524.5\" y=\"-1251\" font-family=\"Linux libertine\" font-size=\"10.00\">depth:1</text>\n",
       "<polygon fill=\"none\" stroke=\"black\" points=\"566.5,-1259 566.5,-1280 613.5,-1280 613.5,-1259 566.5,-1259\"/>\n",
       "<text text-anchor=\"start\" x=\"576\" y=\"-1267\" font-family=\"Linux libertine\" font-size=\"10.00\">input:</text>\n",
       "<polygon fill=\"none\" stroke=\"black\" points=\"613.5,-1259 613.5,-1280 649.5,-1280 649.5,-1259 613.5,-1259\"/>\n",
       "<text text-anchor=\"start\" x=\"618.5\" y=\"-1267\" font-family=\"Linux libertine\" font-size=\"10.00\">(1, 4) </text>\n",
       "<polygon fill=\"none\" stroke=\"black\" points=\"566.5,-1238 566.5,-1259 613.5,-1259 613.5,-1238 566.5,-1238\"/>\n",
       "<text text-anchor=\"start\" x=\"571.5\" y=\"-1246\" font-family=\"Linux libertine\" font-size=\"10.00\">output: </text>\n",
       "<polygon fill=\"none\" stroke=\"black\" points=\"613.5,-1238 613.5,-1259 649.5,-1259 649.5,-1238 613.5,-1238\"/>\n",
       "<text text-anchor=\"start\" x=\"618.5\" y=\"-1246\" font-family=\"Linux libertine\" font-size=\"10.00\">(1, 4) </text>\n",
       "</g>\n",
       "<!-- 40&#45;&gt;41 -->\n",
       "<g id=\"edge45\" class=\"edge\">\n",
       "<title>40&#45;&gt;41</title>\n",
       "<path fill=\"none\" stroke=\"black\" d=\"M585.23,-1315.63C585.13,-1307.82 585.01,-1298.73 584.9,-1290.18\"/>\n",
       "<polygon fill=\"black\" stroke=\"black\" points=\"588.4,-1290.11 584.77,-1280.16 581.4,-1290.2 588.4,-1290.11\"/>\n",
       "</g>\n",
       "<!-- 42 -->\n",
       "<g id=\"node43\" class=\"node\">\n",
       "<title>42</title>\n",
       "<polygon fill=\"aliceblue\" stroke=\"transparent\" points=\"647.5,-1202 517.5,-1202 517.5,-1160 647.5,-1160 647.5,-1202\"/>\n",
       "<polygon fill=\"none\" stroke=\"black\" points=\"517.5,-1160 517.5,-1202 564.5,-1202 564.5,-1160 517.5,-1160\"/>\n",
       "<text text-anchor=\"start\" x=\"527\" y=\"-1184\" font-family=\"Linux libertine\" font-size=\"10.00\">clamp</text>\n",
       "<text text-anchor=\"start\" x=\"522.5\" y=\"-1173\" font-family=\"Linux libertine\" font-size=\"10.00\">depth:1</text>\n",
       "<polygon fill=\"none\" stroke=\"black\" points=\"564.5,-1181 564.5,-1202 611.5,-1202 611.5,-1181 564.5,-1181\"/>\n",
       "<text text-anchor=\"start\" x=\"574\" y=\"-1189\" font-family=\"Linux libertine\" font-size=\"10.00\">input:</text>\n",
       "<polygon fill=\"none\" stroke=\"black\" points=\"611.5,-1181 611.5,-1202 647.5,-1202 647.5,-1181 611.5,-1181\"/>\n",
       "<text text-anchor=\"start\" x=\"616.5\" y=\"-1189\" font-family=\"Linux libertine\" font-size=\"10.00\">(1, 4) </text>\n",
       "<polygon fill=\"none\" stroke=\"black\" points=\"564.5,-1160 564.5,-1181 611.5,-1181 611.5,-1160 564.5,-1160\"/>\n",
       "<text text-anchor=\"start\" x=\"569.5\" y=\"-1168\" font-family=\"Linux libertine\" font-size=\"10.00\">output: </text>\n",
       "<polygon fill=\"none\" stroke=\"black\" points=\"611.5,-1160 611.5,-1181 647.5,-1181 647.5,-1160 611.5,-1160\"/>\n",
       "<text text-anchor=\"start\" x=\"616.5\" y=\"-1168\" font-family=\"Linux libertine\" font-size=\"10.00\">(1, 4) </text>\n",
       "</g>\n",
       "<!-- 41&#45;&gt;42 -->\n",
       "<g id=\"edge46\" class=\"edge\">\n",
       "<title>41&#45;&gt;42</title>\n",
       "<path fill=\"none\" stroke=\"black\" d=\"M583.96,-1237.63C583.76,-1229.82 583.52,-1220.73 583.29,-1212.18\"/>\n",
       "<polygon fill=\"black\" stroke=\"black\" points=\"586.79,-1212.06 583.03,-1202.16 579.79,-1212.25 586.79,-1212.06\"/>\n",
       "</g>\n",
       "<!-- 42&#45;&gt;47 -->\n",
       "<g id=\"edge47\" class=\"edge\">\n",
       "<title>42&#45;&gt;47</title>\n",
       "<path fill=\"none\" stroke=\"black\" d=\"M558.92,-1159.63C548.68,-1150.79 536.54,-1140.3 525.57,-1130.84\"/>\n",
       "<polygon fill=\"black\" stroke=\"black\" points=\"527.7,-1128.05 517.84,-1124.16 523.12,-1133.34 527.7,-1128.05\"/>\n",
       "</g>\n",
       "<!-- 44 -->\n",
       "<g id=\"node45\" class=\"node\">\n",
       "<title>44</title>\n",
       "<polygon fill=\"#c1ffc1\" stroke=\"transparent\" points=\"824.5,-1436 694.5,-1436 694.5,-1394 824.5,-1394 824.5,-1436\"/>\n",
       "<polygon fill=\"none\" stroke=\"black\" points=\"694.5,-1394 694.5,-1436 741.5,-1436 741.5,-1394 694.5,-1394\"/>\n",
       "<text text-anchor=\"start\" x=\"707\" y=\"-1418\" font-family=\"Linux libertine\" font-size=\"10.00\">Tanh</text>\n",
       "<text text-anchor=\"start\" x=\"699.5\" y=\"-1407\" font-family=\"Linux libertine\" font-size=\"10.00\">depth:1</text>\n",
       "<polygon fill=\"none\" stroke=\"black\" points=\"741.5,-1415 741.5,-1436 788.5,-1436 788.5,-1415 741.5,-1415\"/>\n",
       "<text text-anchor=\"start\" x=\"751\" y=\"-1423\" font-family=\"Linux libertine\" font-size=\"10.00\">input:</text>\n",
       "<polygon fill=\"none\" stroke=\"black\" points=\"788.5,-1415 788.5,-1436 824.5,-1436 824.5,-1415 788.5,-1415\"/>\n",
       "<text text-anchor=\"start\" x=\"793.5\" y=\"-1423\" font-family=\"Linux libertine\" font-size=\"10.00\">(1, 4) </text>\n",
       "<polygon fill=\"none\" stroke=\"black\" points=\"741.5,-1394 741.5,-1415 788.5,-1415 788.5,-1394 741.5,-1394\"/>\n",
       "<text text-anchor=\"start\" x=\"746.5\" y=\"-1402\" font-family=\"Linux libertine\" font-size=\"10.00\">output: </text>\n",
       "<polygon fill=\"none\" stroke=\"black\" points=\"788.5,-1394 788.5,-1415 824.5,-1415 824.5,-1394 788.5,-1394\"/>\n",
       "<text text-anchor=\"start\" x=\"793.5\" y=\"-1402\" font-family=\"Linux libertine\" font-size=\"10.00\">(1, 4) </text>\n",
       "</g>\n",
       "<!-- 43&#45;&gt;44 -->\n",
       "<g id=\"edge48\" class=\"edge\">\n",
       "<title>43&#45;&gt;44</title>\n",
       "<path fill=\"none\" stroke=\"black\" d=\"M765.36,-1471.63C764.53,-1463.82 763.58,-1454.73 762.68,-1446.18\"/>\n",
       "<polygon fill=\"black\" stroke=\"black\" points=\"766.15,-1445.74 761.62,-1436.16 759.19,-1446.47 766.15,-1445.74\"/>\n",
       "</g>\n",
       "<!-- 45 -->\n",
       "<g id=\"node46\" class=\"node\">\n",
       "<title>45</title>\n",
       "<polygon fill=\"aliceblue\" stroke=\"transparent\" points=\"798.5,-1358 668.5,-1358 668.5,-1316 798.5,-1316 798.5,-1358\"/>\n",
       "<polygon fill=\"none\" stroke=\"black\" points=\"668.5,-1316 668.5,-1358 715.5,-1358 715.5,-1316 668.5,-1316\"/>\n",
       "<text text-anchor=\"start\" x=\"683\" y=\"-1340\" font-family=\"Linux libertine\" font-size=\"10.00\">mul</text>\n",
       "<text text-anchor=\"start\" x=\"673.5\" y=\"-1329\" font-family=\"Linux libertine\" font-size=\"10.00\">depth:1</text>\n",
       "<polygon fill=\"none\" stroke=\"black\" points=\"715.5,-1337 715.5,-1358 762.5,-1358 762.5,-1337 715.5,-1337\"/>\n",
       "<text text-anchor=\"start\" x=\"725\" y=\"-1345\" font-family=\"Linux libertine\" font-size=\"10.00\">input:</text>\n",
       "<polygon fill=\"none\" stroke=\"black\" points=\"762.5,-1337 762.5,-1358 798.5,-1358 798.5,-1337 762.5,-1337\"/>\n",
       "<text text-anchor=\"start\" x=\"767.5\" y=\"-1345\" font-family=\"Linux libertine\" font-size=\"10.00\">(1, 4) </text>\n",
       "<polygon fill=\"none\" stroke=\"black\" points=\"715.5,-1316 715.5,-1337 762.5,-1337 762.5,-1316 715.5,-1316\"/>\n",
       "<text text-anchor=\"start\" x=\"720.5\" y=\"-1324\" font-family=\"Linux libertine\" font-size=\"10.00\">output: </text>\n",
       "<polygon fill=\"none\" stroke=\"black\" points=\"762.5,-1316 762.5,-1337 798.5,-1337 798.5,-1316 762.5,-1316\"/>\n",
       "<text text-anchor=\"start\" x=\"767.5\" y=\"-1324\" font-family=\"Linux libertine\" font-size=\"10.00\">(1, 4) </text>\n",
       "</g>\n",
       "<!-- 44&#45;&gt;45 -->\n",
       "<g id=\"edge49\" class=\"edge\">\n",
       "<title>44&#45;&gt;45</title>\n",
       "<path fill=\"none\" stroke=\"black\" d=\"M752.53,-1393.63C749.83,-1385.73 746.68,-1376.53 743.73,-1367.9\"/>\n",
       "<polygon fill=\"black\" stroke=\"black\" points=\"746.95,-1366.49 740.4,-1358.16 740.32,-1368.75 746.95,-1366.49\"/>\n",
       "</g>\n",
       "<!-- 46 -->\n",
       "<g id=\"node47\" class=\"node\">\n",
       "<title>46</title>\n",
       "<polygon fill=\"aliceblue\" stroke=\"transparent\" points=\"797.5,-1280 667.5,-1280 667.5,-1238 797.5,-1238 797.5,-1280\"/>\n",
       "<polygon fill=\"none\" stroke=\"black\" points=\"667.5,-1238 667.5,-1280 714.5,-1280 714.5,-1238 667.5,-1238\"/>\n",
       "<text text-anchor=\"start\" x=\"682\" y=\"-1262\" font-family=\"Linux libertine\" font-size=\"10.00\">add</text>\n",
       "<text text-anchor=\"start\" x=\"672.5\" y=\"-1251\" font-family=\"Linux libertine\" font-size=\"10.00\">depth:1</text>\n",
       "<polygon fill=\"none\" stroke=\"black\" points=\"714.5,-1259 714.5,-1280 761.5,-1280 761.5,-1259 714.5,-1259\"/>\n",
       "<text text-anchor=\"start\" x=\"724\" y=\"-1267\" font-family=\"Linux libertine\" font-size=\"10.00\">input:</text>\n",
       "<polygon fill=\"none\" stroke=\"black\" points=\"761.5,-1259 761.5,-1280 797.5,-1280 797.5,-1259 761.5,-1259\"/>\n",
       "<text text-anchor=\"start\" x=\"766.5\" y=\"-1267\" font-family=\"Linux libertine\" font-size=\"10.00\">(1, 4) </text>\n",
       "<polygon fill=\"none\" stroke=\"black\" points=\"714.5,-1238 714.5,-1259 761.5,-1259 761.5,-1238 714.5,-1238\"/>\n",
       "<text text-anchor=\"start\" x=\"719.5\" y=\"-1246\" font-family=\"Linux libertine\" font-size=\"10.00\">output: </text>\n",
       "<polygon fill=\"none\" stroke=\"black\" points=\"761.5,-1238 761.5,-1259 797.5,-1259 797.5,-1238 761.5,-1238\"/>\n",
       "<text text-anchor=\"start\" x=\"766.5\" y=\"-1246\" font-family=\"Linux libertine\" font-size=\"10.00\">(1, 4) </text>\n",
       "</g>\n",
       "<!-- 45&#45;&gt;46 -->\n",
       "<g id=\"edge50\" class=\"edge\">\n",
       "<title>45&#45;&gt;46</title>\n",
       "<path fill=\"none\" stroke=\"black\" d=\"M733.23,-1315.63C733.13,-1307.82 733.01,-1298.73 732.9,-1290.18\"/>\n",
       "<polygon fill=\"black\" stroke=\"black\" points=\"736.4,-1290.11 732.77,-1280.16 729.4,-1290.2 736.4,-1290.11\"/>\n",
       "</g>\n",
       "<!-- 46&#45;&gt;47 -->\n",
       "<g id=\"edge51\" class=\"edge\">\n",
       "<title>46&#45;&gt;47</title>\n",
       "<path fill=\"none\" stroke=\"black\" d=\"M721.7,-1237.9C708.88,-1215.85 685.55,-1180.82 656.5,-1160 633.13,-1143.25 604.32,-1131.16 577.51,-1122.61\"/>\n",
       "<polygon fill=\"black\" stroke=\"black\" points=\"578.32,-1119.2 567.73,-1119.61 576.27,-1125.89 578.32,-1119.2\"/>\n",
       "</g>\n",
       "<!-- 48 -->\n",
       "<g id=\"node49\" class=\"node\">\n",
       "<title>48</title>\n",
       "<polygon fill=\"aliceblue\" stroke=\"transparent\" points=\"309,-1046 150,-1046 150,-1004 309,-1004 309,-1046\"/>\n",
       "<polygon fill=\"none\" stroke=\"black\" points=\"150.5,-1004 150.5,-1046 215.5,-1046 215.5,-1004 150.5,-1004\"/>\n",
       "<text text-anchor=\"start\" x=\"155.5\" y=\"-1028\" font-family=\"Linux libertine\" font-size=\"10.00\">__getitem__</text>\n",
       "<text text-anchor=\"start\" x=\"164.5\" y=\"-1017\" font-family=\"Linux libertine\" font-size=\"10.00\">depth:1</text>\n",
       "<polygon fill=\"none\" stroke=\"black\" points=\"215.5,-1025 215.5,-1046 262.5,-1046 262.5,-1025 215.5,-1025\"/>\n",
       "<text text-anchor=\"start\" x=\"225\" y=\"-1033\" font-family=\"Linux libertine\" font-size=\"10.00\">input:</text>\n",
       "<polygon fill=\"none\" stroke=\"black\" points=\"262.5,-1025 262.5,-1046 309.5,-1046 309.5,-1025 262.5,-1025\"/>\n",
       "<text text-anchor=\"start\" x=\"267.5\" y=\"-1033\" font-family=\"Linux libertine\" font-size=\"10.00\">(1, 4, 4) </text>\n",
       "<polygon fill=\"none\" stroke=\"black\" points=\"215.5,-1004 215.5,-1025 262.5,-1025 262.5,-1004 215.5,-1004\"/>\n",
       "<text text-anchor=\"start\" x=\"220.5\" y=\"-1012\" font-family=\"Linux libertine\" font-size=\"10.00\">output: </text>\n",
       "<polygon fill=\"none\" stroke=\"black\" points=\"262.5,-1004 262.5,-1025 309.5,-1025 309.5,-1004 262.5,-1004\"/>\n",
       "<text text-anchor=\"start\" x=\"273\" y=\"-1012\" font-family=\"Linux libertine\" font-size=\"10.00\">(1, 4) </text>\n",
       "</g>\n",
       "<!-- 47&#45;&gt;48 -->\n",
       "<g id=\"edge52\" class=\"edge\">\n",
       "<title>47&#45;&gt;48</title>\n",
       "<path fill=\"none\" stroke=\"black\" d=\"M424.53,-1081.93C389.06,-1071.76 345.82,-1059.36 309.09,-1048.83\"/>\n",
       "<polygon fill=\"black\" stroke=\"black\" points=\"309.98,-1045.44 299.4,-1046.05 308.05,-1052.17 309.98,-1045.44\"/>\n",
       "</g>\n",
       "<!-- 50 -->\n",
       "<g id=\"node51\" class=\"node\">\n",
       "<title>50</title>\n",
       "<polygon fill=\"aliceblue\" stroke=\"transparent\" points=\"486,-1046 327,-1046 327,-1004 486,-1004 486,-1046\"/>\n",
       "<polygon fill=\"none\" stroke=\"black\" points=\"327.5,-1004 327.5,-1046 392.5,-1046 392.5,-1004 327.5,-1004\"/>\n",
       "<text text-anchor=\"start\" x=\"332.5\" y=\"-1028\" font-family=\"Linux libertine\" font-size=\"10.00\">__getitem__</text>\n",
       "<text text-anchor=\"start\" x=\"341.5\" y=\"-1017\" font-family=\"Linux libertine\" font-size=\"10.00\">depth:1</text>\n",
       "<polygon fill=\"none\" stroke=\"black\" points=\"392.5,-1025 392.5,-1046 439.5,-1046 439.5,-1025 392.5,-1025\"/>\n",
       "<text text-anchor=\"start\" x=\"402\" y=\"-1033\" font-family=\"Linux libertine\" font-size=\"10.00\">input:</text>\n",
       "<polygon fill=\"none\" stroke=\"black\" points=\"439.5,-1025 439.5,-1046 486.5,-1046 486.5,-1025 439.5,-1025\"/>\n",
       "<text text-anchor=\"start\" x=\"444.5\" y=\"-1033\" font-family=\"Linux libertine\" font-size=\"10.00\">(1, 4, 4) </text>\n",
       "<polygon fill=\"none\" stroke=\"black\" points=\"392.5,-1004 392.5,-1025 439.5,-1025 439.5,-1004 392.5,-1004\"/>\n",
       "<text text-anchor=\"start\" x=\"397.5\" y=\"-1012\" font-family=\"Linux libertine\" font-size=\"10.00\">output: </text>\n",
       "<polygon fill=\"none\" stroke=\"black\" points=\"439.5,-1004 439.5,-1025 486.5,-1025 486.5,-1004 439.5,-1004\"/>\n",
       "<text text-anchor=\"start\" x=\"450\" y=\"-1012\" font-family=\"Linux libertine\" font-size=\"10.00\">(1, 4) </text>\n",
       "</g>\n",
       "<!-- 47&#45;&gt;50 -->\n",
       "<g id=\"edge53\" class=\"edge\">\n",
       "<title>47&#45;&gt;50</title>\n",
       "<path fill=\"none\" stroke=\"black\" d=\"M470.92,-1081.63C460.68,-1072.79 448.54,-1062.3 437.57,-1052.84\"/>\n",
       "<polygon fill=\"black\" stroke=\"black\" points=\"439.7,-1050.05 429.84,-1046.16 435.12,-1055.34 439.7,-1050.05\"/>\n",
       "</g>\n",
       "<!-- 52 -->\n",
       "<g id=\"node53\" class=\"node\">\n",
       "<title>52</title>\n",
       "<polygon fill=\"aliceblue\" stroke=\"transparent\" points=\"663,-1046 504,-1046 504,-1004 663,-1004 663,-1046\"/>\n",
       "<polygon fill=\"none\" stroke=\"black\" points=\"504.5,-1004 504.5,-1046 569.5,-1046 569.5,-1004 504.5,-1004\"/>\n",
       "<text text-anchor=\"start\" x=\"509.5\" y=\"-1028\" font-family=\"Linux libertine\" font-size=\"10.00\">__getitem__</text>\n",
       "<text text-anchor=\"start\" x=\"518.5\" y=\"-1017\" font-family=\"Linux libertine\" font-size=\"10.00\">depth:1</text>\n",
       "<polygon fill=\"none\" stroke=\"black\" points=\"569.5,-1025 569.5,-1046 616.5,-1046 616.5,-1025 569.5,-1025\"/>\n",
       "<text text-anchor=\"start\" x=\"579\" y=\"-1033\" font-family=\"Linux libertine\" font-size=\"10.00\">input:</text>\n",
       "<polygon fill=\"none\" stroke=\"black\" points=\"616.5,-1025 616.5,-1046 663.5,-1046 663.5,-1025 616.5,-1025\"/>\n",
       "<text text-anchor=\"start\" x=\"621.5\" y=\"-1033\" font-family=\"Linux libertine\" font-size=\"10.00\">(1, 4, 4) </text>\n",
       "<polygon fill=\"none\" stroke=\"black\" points=\"569.5,-1004 569.5,-1025 616.5,-1025 616.5,-1004 569.5,-1004\"/>\n",
       "<text text-anchor=\"start\" x=\"574.5\" y=\"-1012\" font-family=\"Linux libertine\" font-size=\"10.00\">output: </text>\n",
       "<polygon fill=\"none\" stroke=\"black\" points=\"616.5,-1004 616.5,-1025 663.5,-1025 663.5,-1004 616.5,-1004\"/>\n",
       "<text text-anchor=\"start\" x=\"627\" y=\"-1012\" font-family=\"Linux libertine\" font-size=\"10.00\">(1, 4) </text>\n",
       "</g>\n",
       "<!-- 47&#45;&gt;52 -->\n",
       "<g id=\"edge54\" class=\"edge\">\n",
       "<title>47&#45;&gt;52</title>\n",
       "<path fill=\"none\" stroke=\"black\" d=\"M518.35,-1081.63C528.71,-1072.79 540.99,-1062.3 552.07,-1052.84\"/>\n",
       "<polygon fill=\"black\" stroke=\"black\" points=\"554.56,-1055.31 559.89,-1046.16 550.01,-1049.99 554.56,-1055.31\"/>\n",
       "</g>\n",
       "<!-- 54 -->\n",
       "<g id=\"node55\" class=\"node\">\n",
       "<title>54</title>\n",
       "<polygon fill=\"aliceblue\" stroke=\"transparent\" points=\"790,-968 631,-968 631,-926 790,-926 790,-968\"/>\n",
       "<polygon fill=\"none\" stroke=\"black\" points=\"631.5,-926 631.5,-968 696.5,-968 696.5,-926 631.5,-926\"/>\n",
       "<text text-anchor=\"start\" x=\"636.5\" y=\"-950\" font-family=\"Linux libertine\" font-size=\"10.00\">__getitem__</text>\n",
       "<text text-anchor=\"start\" x=\"645.5\" y=\"-939\" font-family=\"Linux libertine\" font-size=\"10.00\">depth:1</text>\n",
       "<polygon fill=\"none\" stroke=\"black\" points=\"696.5,-947 696.5,-968 743.5,-968 743.5,-947 696.5,-947\"/>\n",
       "<text text-anchor=\"start\" x=\"706\" y=\"-955\" font-family=\"Linux libertine\" font-size=\"10.00\">input:</text>\n",
       "<polygon fill=\"none\" stroke=\"black\" points=\"743.5,-947 743.5,-968 790.5,-968 790.5,-947 743.5,-947\"/>\n",
       "<text text-anchor=\"start\" x=\"748.5\" y=\"-955\" font-family=\"Linux libertine\" font-size=\"10.00\">(1, 4, 4) </text>\n",
       "<polygon fill=\"none\" stroke=\"black\" points=\"696.5,-926 696.5,-947 743.5,-947 743.5,-926 696.5,-926\"/>\n",
       "<text text-anchor=\"start\" x=\"701.5\" y=\"-934\" font-family=\"Linux libertine\" font-size=\"10.00\">output: </text>\n",
       "<polygon fill=\"none\" stroke=\"black\" points=\"743.5,-926 743.5,-947 790.5,-947 790.5,-926 743.5,-926\"/>\n",
       "<text text-anchor=\"start\" x=\"754\" y=\"-934\" font-family=\"Linux libertine\" font-size=\"10.00\">(1, 4) </text>\n",
       "</g>\n",
       "<!-- 47&#45;&gt;54 -->\n",
       "<g id=\"edge55\" class=\"edge\">\n",
       "<title>47&#45;&gt;54</title>\n",
       "<path fill=\"none\" stroke=\"black\" d=\"M567.75,-1093.59C602.86,-1086.18 643.3,-1072.23 671.5,-1046 690.63,-1028.21 700.55,-999.81 705.58,-978.16\"/>\n",
       "<polygon fill=\"black\" stroke=\"black\" points=\"709.06,-978.65 707.68,-968.14 702.2,-977.21 709.06,-978.65\"/>\n",
       "</g>\n",
       "<!-- 49 -->\n",
       "<g id=\"node50\" class=\"node\">\n",
       "<title>49</title>\n",
       "<polygon fill=\"aliceblue\" stroke=\"transparent\" points=\"315.5,-968 185.5,-968 185.5,-926 315.5,-926 315.5,-968\"/>\n",
       "<polygon fill=\"none\" stroke=\"black\" points=\"185.5,-926 185.5,-968 232.5,-968 232.5,-926 185.5,-926\"/>\n",
       "<text text-anchor=\"start\" x=\"200\" y=\"-950\" font-family=\"Linux libertine\" font-size=\"10.00\">mul</text>\n",
       "<text text-anchor=\"start\" x=\"190.5\" y=\"-939\" font-family=\"Linux libertine\" font-size=\"10.00\">depth:1</text>\n",
       "<polygon fill=\"none\" stroke=\"black\" points=\"232.5,-947 232.5,-968 279.5,-968 279.5,-947 232.5,-947\"/>\n",
       "<text text-anchor=\"start\" x=\"242\" y=\"-955\" font-family=\"Linux libertine\" font-size=\"10.00\">input:</text>\n",
       "<polygon fill=\"none\" stroke=\"black\" points=\"279.5,-947 279.5,-968 315.5,-968 315.5,-947 279.5,-947\"/>\n",
       "<text text-anchor=\"start\" x=\"284.5\" y=\"-955\" font-family=\"Linux libertine\" font-size=\"10.00\">(1, 4) </text>\n",
       "<polygon fill=\"none\" stroke=\"black\" points=\"232.5,-926 232.5,-947 279.5,-947 279.5,-926 232.5,-926\"/>\n",
       "<text text-anchor=\"start\" x=\"237.5\" y=\"-934\" font-family=\"Linux libertine\" font-size=\"10.00\">output: </text>\n",
       "<polygon fill=\"none\" stroke=\"black\" points=\"279.5,-926 279.5,-947 315.5,-947 315.5,-926 279.5,-926\"/>\n",
       "<text text-anchor=\"start\" x=\"284.5\" y=\"-934\" font-family=\"Linux libertine\" font-size=\"10.00\">(1, 4) </text>\n",
       "</g>\n",
       "<!-- 48&#45;&gt;49 -->\n",
       "<g id=\"edge56\" class=\"edge\">\n",
       "<title>48&#45;&gt;49</title>\n",
       "<path fill=\"none\" stroke=\"black\" d=\"M235.13,-1003.63C237.31,-995.73 239.85,-986.53 242.24,-977.9\"/>\n",
       "<polygon fill=\"black\" stroke=\"black\" points=\"245.64,-978.73 244.93,-968.16 238.89,-976.87 245.64,-978.73\"/>\n",
       "</g>\n",
       "<!-- 55 -->\n",
       "<g id=\"node56\" class=\"node\">\n",
       "<title>55</title>\n",
       "<polygon fill=\"aliceblue\" stroke=\"transparent\" points=\"546.5,-890 400.5,-890 400.5,-848 546.5,-848 546.5,-890\"/>\n",
       "<polygon fill=\"none\" stroke=\"black\" points=\"400.5,-848 400.5,-890 447.5,-890 447.5,-848 400.5,-848\"/>\n",
       "<text text-anchor=\"start\" x=\"412\" y=\"-872\" font-family=\"Linux libertine\" font-size=\"10.00\">stack</text>\n",
       "<text text-anchor=\"start\" x=\"405.5\" y=\"-861\" font-family=\"Linux libertine\" font-size=\"10.00\">depth:1</text>\n",
       "<polygon fill=\"none\" stroke=\"black\" points=\"447.5,-869 447.5,-890 494.5,-890 494.5,-869 447.5,-869\"/>\n",
       "<text text-anchor=\"start\" x=\"457\" y=\"-877\" font-family=\"Linux libertine\" font-size=\"10.00\">input:</text>\n",
       "<polygon fill=\"none\" stroke=\"black\" points=\"494.5,-869 494.5,-890 546.5,-890 546.5,-869 494.5,-869\"/>\n",
       "<text text-anchor=\"start\" x=\"499.5\" y=\"-877\" font-family=\"Linux libertine\" font-size=\"10.00\">4 x (1, 4) </text>\n",
       "<polygon fill=\"none\" stroke=\"black\" points=\"447.5,-848 447.5,-869 494.5,-869 494.5,-848 447.5,-848\"/>\n",
       "<text text-anchor=\"start\" x=\"452.5\" y=\"-856\" font-family=\"Linux libertine\" font-size=\"10.00\">output: </text>\n",
       "<polygon fill=\"none\" stroke=\"black\" points=\"494.5,-848 494.5,-869 546.5,-869 546.5,-848 494.5,-848\"/>\n",
       "<text text-anchor=\"start\" x=\"502\" y=\"-856\" font-family=\"Linux libertine\" font-size=\"10.00\">(1, 4, 4) </text>\n",
       "</g>\n",
       "<!-- 49&#45;&gt;55 -->\n",
       "<g id=\"edge57\" class=\"edge\">\n",
       "<title>49&#45;&gt;55</title>\n",
       "<path fill=\"none\" stroke=\"black\" d=\"M309.38,-925.93C338.72,-915.93 374.38,-903.78 404.94,-893.36\"/>\n",
       "<polygon fill=\"black\" stroke=\"black\" points=\"406.34,-896.59 414.67,-890.05 404.08,-889.96 406.34,-896.59\"/>\n",
       "</g>\n",
       "<!-- 51 -->\n",
       "<g id=\"node52\" class=\"node\">\n",
       "<title>51</title>\n",
       "<polygon fill=\"aliceblue\" stroke=\"transparent\" points=\"464.5,-968 334.5,-968 334.5,-926 464.5,-926 464.5,-968\"/>\n",
       "<polygon fill=\"none\" stroke=\"black\" points=\"334.5,-926 334.5,-968 381.5,-968 381.5,-926 334.5,-926\"/>\n",
       "<text text-anchor=\"start\" x=\"349\" y=\"-950\" font-family=\"Linux libertine\" font-size=\"10.00\">mul</text>\n",
       "<text text-anchor=\"start\" x=\"339.5\" y=\"-939\" font-family=\"Linux libertine\" font-size=\"10.00\">depth:1</text>\n",
       "<polygon fill=\"none\" stroke=\"black\" points=\"381.5,-947 381.5,-968 428.5,-968 428.5,-947 381.5,-947\"/>\n",
       "<text text-anchor=\"start\" x=\"391\" y=\"-955\" font-family=\"Linux libertine\" font-size=\"10.00\">input:</text>\n",
       "<polygon fill=\"none\" stroke=\"black\" points=\"428.5,-947 428.5,-968 464.5,-968 464.5,-947 428.5,-947\"/>\n",
       "<text text-anchor=\"start\" x=\"433.5\" y=\"-955\" font-family=\"Linux libertine\" font-size=\"10.00\">(1, 4) </text>\n",
       "<polygon fill=\"none\" stroke=\"black\" points=\"381.5,-926 381.5,-947 428.5,-947 428.5,-926 381.5,-926\"/>\n",
       "<text text-anchor=\"start\" x=\"386.5\" y=\"-934\" font-family=\"Linux libertine\" font-size=\"10.00\">output: </text>\n",
       "<polygon fill=\"none\" stroke=\"black\" points=\"428.5,-926 428.5,-947 464.5,-947 464.5,-926 428.5,-926\"/>\n",
       "<text text-anchor=\"start\" x=\"433.5\" y=\"-934\" font-family=\"Linux libertine\" font-size=\"10.00\">(1, 4) </text>\n",
       "</g>\n",
       "<!-- 50&#45;&gt;51 -->\n",
       "<g id=\"edge58\" class=\"edge\">\n",
       "<title>50&#45;&gt;51</title>\n",
       "<path fill=\"none\" stroke=\"black\" d=\"M404.62,-1003.63C403.9,-995.82 403.07,-986.73 402.28,-978.18\"/>\n",
       "<polygon fill=\"black\" stroke=\"black\" points=\"405.76,-977.8 401.36,-968.16 398.79,-978.44 405.76,-977.8\"/>\n",
       "</g>\n",
       "<!-- 51&#45;&gt;55 -->\n",
       "<g id=\"edge59\" class=\"edge\">\n",
       "<title>51&#45;&gt;55</title>\n",
       "<path fill=\"none\" stroke=\"black\" d=\"M419.33,-925.63C427.78,-916.96 437.75,-906.71 446.83,-897.39\"/>\n",
       "<polygon fill=\"black\" stroke=\"black\" points=\"449.4,-899.77 453.87,-890.16 444.39,-894.88 449.4,-899.77\"/>\n",
       "</g>\n",
       "<!-- 53 -->\n",
       "<g id=\"node54\" class=\"node\">\n",
       "<title>53</title>\n",
       "<polygon fill=\"aliceblue\" stroke=\"transparent\" points=\"612.5,-968 482.5,-968 482.5,-926 612.5,-926 612.5,-968\"/>\n",
       "<polygon fill=\"none\" stroke=\"black\" points=\"482.5,-926 482.5,-968 529.5,-968 529.5,-926 482.5,-926\"/>\n",
       "<text text-anchor=\"start\" x=\"497\" y=\"-950\" font-family=\"Linux libertine\" font-size=\"10.00\">mul</text>\n",
       "<text text-anchor=\"start\" x=\"487.5\" y=\"-939\" font-family=\"Linux libertine\" font-size=\"10.00\">depth:1</text>\n",
       "<polygon fill=\"none\" stroke=\"black\" points=\"529.5,-947 529.5,-968 576.5,-968 576.5,-947 529.5,-947\"/>\n",
       "<text text-anchor=\"start\" x=\"539\" y=\"-955\" font-family=\"Linux libertine\" font-size=\"10.00\">input:</text>\n",
       "<polygon fill=\"none\" stroke=\"black\" points=\"576.5,-947 576.5,-968 612.5,-968 612.5,-947 576.5,-947\"/>\n",
       "<text text-anchor=\"start\" x=\"581.5\" y=\"-955\" font-family=\"Linux libertine\" font-size=\"10.00\">(1, 4) </text>\n",
       "<polygon fill=\"none\" stroke=\"black\" points=\"529.5,-926 529.5,-947 576.5,-947 576.5,-926 529.5,-926\"/>\n",
       "<text text-anchor=\"start\" x=\"534.5\" y=\"-934\" font-family=\"Linux libertine\" font-size=\"10.00\">output: </text>\n",
       "<polygon fill=\"none\" stroke=\"black\" points=\"576.5,-926 576.5,-947 612.5,-947 612.5,-926 576.5,-926\"/>\n",
       "<text text-anchor=\"start\" x=\"581.5\" y=\"-934\" font-family=\"Linux libertine\" font-size=\"10.00\">(1, 4) </text>\n",
       "</g>\n",
       "<!-- 52&#45;&gt;53 -->\n",
       "<g id=\"edge60\" class=\"edge\">\n",
       "<title>52&#45;&gt;53</title>\n",
       "<path fill=\"none\" stroke=\"black\" d=\"M573.85,-1003.63C570.03,-995.56 565.56,-986.12 561.4,-977.34\"/>\n",
       "<polygon fill=\"black\" stroke=\"black\" points=\"564.49,-975.7 557.05,-968.16 558.17,-978.7 564.49,-975.7\"/>\n",
       "</g>\n",
       "<!-- 53&#45;&gt;55 -->\n",
       "<g id=\"edge61\" class=\"edge\">\n",
       "<title>53&#45;&gt;55</title>\n",
       "<path fill=\"none\" stroke=\"black\" d=\"M527.67,-925.63C519.22,-916.96 509.25,-906.71 500.17,-897.39\"/>\n",
       "<polygon fill=\"black\" stroke=\"black\" points=\"502.61,-894.88 493.13,-890.16 497.6,-899.77 502.61,-894.88\"/>\n",
       "</g>\n",
       "<!-- 54&#45;&gt;55 -->\n",
       "<g id=\"edge62\" class=\"edge\">\n",
       "<title>54&#45;&gt;55</title>\n",
       "<path fill=\"none\" stroke=\"black\" d=\"M647.92,-925.93C616.6,-915.89 578.52,-903.68 545.94,-893.23\"/>\n",
       "<polygon fill=\"black\" stroke=\"black\" points=\"546.61,-889.77 536.02,-890.05 544.47,-896.43 546.61,-889.77\"/>\n",
       "</g>\n",
       "<!-- 56 -->\n",
       "<g id=\"node57\" class=\"node\">\n",
       "<title>56</title>\n",
       "<polygon fill=\"aliceblue\" stroke=\"transparent\" points=\"376,-812 217,-812 217,-770 376,-770 376,-812\"/>\n",
       "<polygon fill=\"none\" stroke=\"black\" points=\"217.5,-770 217.5,-812 282.5,-812 282.5,-770 217.5,-770\"/>\n",
       "<text text-anchor=\"start\" x=\"222.5\" y=\"-794\" font-family=\"Linux libertine\" font-size=\"10.00\">__getitem__</text>\n",
       "<text text-anchor=\"start\" x=\"231.5\" y=\"-783\" font-family=\"Linux libertine\" font-size=\"10.00\">depth:1</text>\n",
       "<polygon fill=\"none\" stroke=\"black\" points=\"282.5,-791 282.5,-812 329.5,-812 329.5,-791 282.5,-791\"/>\n",
       "<text text-anchor=\"start\" x=\"292\" y=\"-799\" font-family=\"Linux libertine\" font-size=\"10.00\">input:</text>\n",
       "<polygon fill=\"none\" stroke=\"black\" points=\"329.5,-791 329.5,-812 376.5,-812 376.5,-791 329.5,-791\"/>\n",
       "<text text-anchor=\"start\" x=\"334.5\" y=\"-799\" font-family=\"Linux libertine\" font-size=\"10.00\">(1, 4, 4) </text>\n",
       "<polygon fill=\"none\" stroke=\"black\" points=\"282.5,-770 282.5,-791 329.5,-791 329.5,-770 282.5,-770\"/>\n",
       "<text text-anchor=\"start\" x=\"287.5\" y=\"-778\" font-family=\"Linux libertine\" font-size=\"10.00\">output: </text>\n",
       "<polygon fill=\"none\" stroke=\"black\" points=\"329.5,-770 329.5,-791 376.5,-791 376.5,-770 329.5,-770\"/>\n",
       "<text text-anchor=\"start\" x=\"340\" y=\"-778\" font-family=\"Linux libertine\" font-size=\"10.00\">(1, 4) </text>\n",
       "</g>\n",
       "<!-- 55&#45;&gt;56 -->\n",
       "<g id=\"edge63\" class=\"edge\">\n",
       "<title>55&#45;&gt;56</title>\n",
       "<path fill=\"none\" stroke=\"black\" d=\"M426.53,-847.83C403.84,-838.09 376.43,-826.32 352.64,-816.11\"/>\n",
       "<polygon fill=\"black\" stroke=\"black\" points=\"353.95,-812.86 343.38,-812.13 351.19,-819.29 353.95,-812.86\"/>\n",
       "</g>\n",
       "<!-- 58 -->\n",
       "<g id=\"node59\" class=\"node\">\n",
       "<title>58</title>\n",
       "<polygon fill=\"aliceblue\" stroke=\"transparent\" points=\"839,-812 680,-812 680,-770 839,-770 839,-812\"/>\n",
       "<polygon fill=\"none\" stroke=\"black\" points=\"680.5,-770 680.5,-812 745.5,-812 745.5,-770 680.5,-770\"/>\n",
       "<text text-anchor=\"start\" x=\"685.5\" y=\"-794\" font-family=\"Linux libertine\" font-size=\"10.00\">__getitem__</text>\n",
       "<text text-anchor=\"start\" x=\"694.5\" y=\"-783\" font-family=\"Linux libertine\" font-size=\"10.00\">depth:1</text>\n",
       "<polygon fill=\"none\" stroke=\"black\" points=\"745.5,-791 745.5,-812 792.5,-812 792.5,-791 745.5,-791\"/>\n",
       "<text text-anchor=\"start\" x=\"755\" y=\"-799\" font-family=\"Linux libertine\" font-size=\"10.00\">input:</text>\n",
       "<polygon fill=\"none\" stroke=\"black\" points=\"792.5,-791 792.5,-812 839.5,-812 839.5,-791 792.5,-791\"/>\n",
       "<text text-anchor=\"start\" x=\"797.5\" y=\"-799\" font-family=\"Linux libertine\" font-size=\"10.00\">(1, 4, 4) </text>\n",
       "<polygon fill=\"none\" stroke=\"black\" points=\"745.5,-770 745.5,-791 792.5,-791 792.5,-770 745.5,-770\"/>\n",
       "<text text-anchor=\"start\" x=\"750.5\" y=\"-778\" font-family=\"Linux libertine\" font-size=\"10.00\">output: </text>\n",
       "<polygon fill=\"none\" stroke=\"black\" points=\"792.5,-770 792.5,-791 839.5,-791 839.5,-770 792.5,-770\"/>\n",
       "<text text-anchor=\"start\" x=\"803\" y=\"-778\" font-family=\"Linux libertine\" font-size=\"10.00\">(1, 4) </text>\n",
       "</g>\n",
       "<!-- 55&#45;&gt;58 -->\n",
       "<g id=\"edge64\" class=\"edge\">\n",
       "<title>55&#45;&gt;58</title>\n",
       "<path fill=\"none\" stroke=\"black\" d=\"M546.78,-848.53C585.69,-838.19 633.72,-825.42 674.29,-814.64\"/>\n",
       "<polygon fill=\"black\" stroke=\"black\" points=\"675.4,-817.97 684.17,-812.02 673.6,-811.2 675.4,-817.97\"/>\n",
       "</g>\n",
       "<!-- 60 -->\n",
       "<g id=\"node61\" class=\"node\">\n",
       "<title>60</title>\n",
       "<polygon fill=\"aliceblue\" stroke=\"transparent\" points=\"553,-812 394,-812 394,-770 553,-770 553,-812\"/>\n",
       "<polygon fill=\"none\" stroke=\"black\" points=\"394.5,-770 394.5,-812 459.5,-812 459.5,-770 394.5,-770\"/>\n",
       "<text text-anchor=\"start\" x=\"399.5\" y=\"-794\" font-family=\"Linux libertine\" font-size=\"10.00\">__getitem__</text>\n",
       "<text text-anchor=\"start\" x=\"408.5\" y=\"-783\" font-family=\"Linux libertine\" font-size=\"10.00\">depth:1</text>\n",
       "<polygon fill=\"none\" stroke=\"black\" points=\"459.5,-791 459.5,-812 506.5,-812 506.5,-791 459.5,-791\"/>\n",
       "<text text-anchor=\"start\" x=\"469\" y=\"-799\" font-family=\"Linux libertine\" font-size=\"10.00\">input:</text>\n",
       "<polygon fill=\"none\" stroke=\"black\" points=\"506.5,-791 506.5,-812 553.5,-812 553.5,-791 506.5,-791\"/>\n",
       "<text text-anchor=\"start\" x=\"511.5\" y=\"-799\" font-family=\"Linux libertine\" font-size=\"10.00\">(1, 4, 4) </text>\n",
       "<polygon fill=\"none\" stroke=\"black\" points=\"459.5,-770 459.5,-791 506.5,-791 506.5,-770 459.5,-770\"/>\n",
       "<text text-anchor=\"start\" x=\"464.5\" y=\"-778\" font-family=\"Linux libertine\" font-size=\"10.00\">output: </text>\n",
       "<polygon fill=\"none\" stroke=\"black\" points=\"506.5,-770 506.5,-791 553.5,-791 553.5,-770 506.5,-770\"/>\n",
       "<text text-anchor=\"start\" x=\"517\" y=\"-778\" font-family=\"Linux libertine\" font-size=\"10.00\">(1, 4) </text>\n",
       "</g>\n",
       "<!-- 55&#45;&gt;60 -->\n",
       "<g id=\"edge65\" class=\"edge\">\n",
       "<title>55&#45;&gt;60</title>\n",
       "<path fill=\"none\" stroke=\"black\" d=\"M473.5,-847.63C473.5,-839.82 473.5,-830.73 473.5,-822.18\"/>\n",
       "<polygon fill=\"black\" stroke=\"black\" points=\"477,-822.16 473.5,-812.16 470,-822.16 477,-822.16\"/>\n",
       "</g>\n",
       "<!-- 62 -->\n",
       "<g id=\"node63\" class=\"node\">\n",
       "<title>62</title>\n",
       "<polygon fill=\"aliceblue\" stroke=\"transparent\" points=\"176,-734 17,-734 17,-692 176,-692 176,-734\"/>\n",
       "<polygon fill=\"none\" stroke=\"black\" points=\"17.5,-692 17.5,-734 82.5,-734 82.5,-692 17.5,-692\"/>\n",
       "<text text-anchor=\"start\" x=\"22.5\" y=\"-716\" font-family=\"Linux libertine\" font-size=\"10.00\">__getitem__</text>\n",
       "<text text-anchor=\"start\" x=\"31.5\" y=\"-705\" font-family=\"Linux libertine\" font-size=\"10.00\">depth:1</text>\n",
       "<polygon fill=\"none\" stroke=\"black\" points=\"82.5,-713 82.5,-734 129.5,-734 129.5,-713 82.5,-713\"/>\n",
       "<text text-anchor=\"start\" x=\"92\" y=\"-721\" font-family=\"Linux libertine\" font-size=\"10.00\">input:</text>\n",
       "<polygon fill=\"none\" stroke=\"black\" points=\"129.5,-713 129.5,-734 176.5,-734 176.5,-713 129.5,-713\"/>\n",
       "<text text-anchor=\"start\" x=\"134.5\" y=\"-721\" font-family=\"Linux libertine\" font-size=\"10.00\">(1, 4, 4) </text>\n",
       "<polygon fill=\"none\" stroke=\"black\" points=\"82.5,-692 82.5,-713 129.5,-713 129.5,-692 82.5,-692\"/>\n",
       "<text text-anchor=\"start\" x=\"87.5\" y=\"-700\" font-family=\"Linux libertine\" font-size=\"10.00\">output: </text>\n",
       "<polygon fill=\"none\" stroke=\"black\" points=\"129.5,-692 129.5,-713 176.5,-713 176.5,-692 129.5,-692\"/>\n",
       "<text text-anchor=\"start\" x=\"140\" y=\"-700\" font-family=\"Linux libertine\" font-size=\"10.00\">(1, 4) </text>\n",
       "</g>\n",
       "<!-- 55&#45;&gt;62 -->\n",
       "<g id=\"edge66\" class=\"edge\">\n",
       "<title>55&#45;&gt;62</title>\n",
       "<path fill=\"none\" stroke=\"black\" d=\"M400.47,-862.77C345.07,-856.45 268.34,-842.55 207.5,-812 173.18,-794.77 141.12,-764.27 120.36,-741.87\"/>\n",
       "<polygon fill=\"black\" stroke=\"black\" points=\"122.82,-739.37 113.51,-734.31 117.64,-744.07 122.82,-739.37\"/>\n",
       "</g>\n",
       "<!-- 89 -->\n",
       "<g id=\"node90\" class=\"node\">\n",
       "<title>89</title>\n",
       "<polygon fill=\"lightyellow\" stroke=\"transparent\" points=\"1172,-807 1051,-807 1051,-775 1172,-775 1172,-807\"/>\n",
       "<polygon fill=\"none\" stroke=\"black\" points=\"1051.5,-775 1051.5,-807 1127.5,-807 1127.5,-775 1051.5,-775\"/>\n",
       "<text text-anchor=\"start\" x=\"1056.5\" y=\"-794\" font-family=\"Linux libertine\" font-size=\"10.00\">output&#45;tensor</text>\n",
       "<text text-anchor=\"start\" x=\"1071\" y=\"-783\" font-family=\"Linux libertine\" font-size=\"10.00\">depth:0</text>\n",
       "<polygon fill=\"none\" stroke=\"black\" points=\"1127.5,-775 1127.5,-807 1172.5,-807 1172.5,-775 1127.5,-775\"/>\n",
       "<text text-anchor=\"start\" x=\"1132.5\" y=\"-788.5\" font-family=\"Linux libertine\" font-size=\"10.00\">(1, 4, 4)</text>\n",
       "</g>\n",
       "<!-- 55&#45;&gt;89 -->\n",
       "<g id=\"edge106\" class=\"edge\">\n",
       "<title>55&#45;&gt;89</title>\n",
       "<path fill=\"none\" stroke=\"black\" d=\"M546.87,-865.1C655.85,-859.81 866.56,-845.86 1042.5,-812 1046.32,-811.27 1050.23,-810.41 1054.15,-809.48\"/>\n",
       "<polygon fill=\"black\" stroke=\"black\" points=\"1055.05,-812.87 1063.89,-807.03 1053.34,-806.08 1055.05,-812.87\"/>\n",
       "</g>\n",
       "<!-- 57 -->\n",
       "<g id=\"node58\" class=\"node\">\n",
       "<title>57</title>\n",
       "<polygon fill=\"aliceblue\" stroke=\"transparent\" points=\"374,-734 219,-734 219,-692 374,-692 374,-734\"/>\n",
       "<polygon fill=\"none\" stroke=\"black\" points=\"219.5,-692 219.5,-734 280.5,-734 280.5,-692 219.5,-692\"/>\n",
       "<text text-anchor=\"start\" x=\"224.5\" y=\"-716\" font-family=\"Linux libertine\" font-size=\"10.00\">unsqueeze</text>\n",
       "<text text-anchor=\"start\" x=\"231.5\" y=\"-705\" font-family=\"Linux libertine\" font-size=\"10.00\">depth:1</text>\n",
       "<polygon fill=\"none\" stroke=\"black\" points=\"280.5,-713 280.5,-734 327.5,-734 327.5,-713 280.5,-713\"/>\n",
       "<text text-anchor=\"start\" x=\"290\" y=\"-721\" font-family=\"Linux libertine\" font-size=\"10.00\">input:</text>\n",
       "<polygon fill=\"none\" stroke=\"black\" points=\"327.5,-713 327.5,-734 374.5,-734 374.5,-713 327.5,-713\"/>\n",
       "<text text-anchor=\"start\" x=\"338\" y=\"-721\" font-family=\"Linux libertine\" font-size=\"10.00\">(1, 4) </text>\n",
       "<polygon fill=\"none\" stroke=\"black\" points=\"280.5,-692 280.5,-713 327.5,-713 327.5,-692 280.5,-692\"/>\n",
       "<text text-anchor=\"start\" x=\"285.5\" y=\"-700\" font-family=\"Linux libertine\" font-size=\"10.00\">output: </text>\n",
       "<polygon fill=\"none\" stroke=\"black\" points=\"327.5,-692 327.5,-713 374.5,-713 374.5,-692 327.5,-692\"/>\n",
       "<text text-anchor=\"start\" x=\"332.5\" y=\"-700\" font-family=\"Linux libertine\" font-size=\"10.00\">(1, 4, 1) </text>\n",
       "</g>\n",
       "<!-- 56&#45;&gt;57 -->\n",
       "<g id=\"edge67\" class=\"edge\">\n",
       "<title>56&#45;&gt;57</title>\n",
       "<path fill=\"none\" stroke=\"black\" d=\"M296.5,-769.63C296.5,-761.82 296.5,-752.73 296.5,-744.18\"/>\n",
       "<polygon fill=\"black\" stroke=\"black\" points=\"300,-744.16 296.5,-734.16 293,-744.16 300,-744.16\"/>\n",
       "</g>\n",
       "<!-- 66 -->\n",
       "<g id=\"node67\" class=\"node\">\n",
       "<title>66</title>\n",
       "<polygon fill=\"aliceblue\" stroke=\"transparent\" points=\"641,-656 500,-656 500,-614 641,-614 641,-656\"/>\n",
       "<polygon fill=\"none\" stroke=\"black\" points=\"500.5,-614 500.5,-656 547.5,-656 547.5,-614 500.5,-614\"/>\n",
       "<text text-anchor=\"start\" x=\"515\" y=\"-638\" font-family=\"Linux libertine\" font-size=\"10.00\">mul</text>\n",
       "<text text-anchor=\"start\" x=\"505.5\" y=\"-627\" font-family=\"Linux libertine\" font-size=\"10.00\">depth:1</text>\n",
       "<polygon fill=\"none\" stroke=\"black\" points=\"547.5,-635 547.5,-656 594.5,-656 594.5,-635 547.5,-635\"/>\n",
       "<text text-anchor=\"start\" x=\"557\" y=\"-643\" font-family=\"Linux libertine\" font-size=\"10.00\">input:</text>\n",
       "<polygon fill=\"none\" stroke=\"black\" points=\"594.5,-635 594.5,-656 641.5,-656 641.5,-635 594.5,-635\"/>\n",
       "<text text-anchor=\"start\" x=\"599.5\" y=\"-643\" font-family=\"Linux libertine\" font-size=\"10.00\">(1, 4, 1) </text>\n",
       "<polygon fill=\"none\" stroke=\"black\" points=\"547.5,-614 547.5,-635 594.5,-635 594.5,-614 547.5,-614\"/>\n",
       "<text text-anchor=\"start\" x=\"552.5\" y=\"-622\" font-family=\"Linux libertine\" font-size=\"10.00\">output: </text>\n",
       "<polygon fill=\"none\" stroke=\"black\" points=\"594.5,-614 594.5,-635 641.5,-635 641.5,-614 594.5,-614\"/>\n",
       "<text text-anchor=\"start\" x=\"599.5\" y=\"-622\" font-family=\"Linux libertine\" font-size=\"10.00\">(1, 4, 1) </text>\n",
       "</g>\n",
       "<!-- 57&#45;&gt;66 -->\n",
       "<g id=\"edge68\" class=\"edge\">\n",
       "<title>57&#45;&gt;66</title>\n",
       "<path fill=\"none\" stroke=\"black\" d=\"M368.85,-691.93C405.96,-681.64 451.29,-669.07 489.56,-658.45\"/>\n",
       "<polygon fill=\"black\" stroke=\"black\" points=\"490.94,-661.7 499.64,-655.65 489.07,-654.95 490.94,-661.7\"/>\n",
       "</g>\n",
       "<!-- 76 -->\n",
       "<g id=\"node77\" class=\"node\">\n",
       "<title>76</title>\n",
       "<polygon fill=\"aliceblue\" stroke=\"transparent\" points=\"260,-578 103,-578 103,-536 260,-536 260,-578\"/>\n",
       "<polygon fill=\"none\" stroke=\"black\" points=\"103.5,-536 103.5,-578 150.5,-578 150.5,-536 103.5,-536\"/>\n",
       "<text text-anchor=\"start\" x=\"118\" y=\"-560\" font-family=\"Linux libertine\" font-size=\"10.00\">mul</text>\n",
       "<text text-anchor=\"start\" x=\"108.5\" y=\"-549\" font-family=\"Linux libertine\" font-size=\"10.00\">depth:1</text>\n",
       "<polygon fill=\"none\" stroke=\"black\" points=\"150.5,-557 150.5,-578 197.5,-578 197.5,-557 150.5,-557\"/>\n",
       "<text text-anchor=\"start\" x=\"160\" y=\"-565\" font-family=\"Linux libertine\" font-size=\"10.00\">input:</text>\n",
       "<polygon fill=\"none\" stroke=\"black\" points=\"197.5,-557 197.5,-578 260.5,-578 260.5,-557 197.5,-557\"/>\n",
       "<text text-anchor=\"start\" x=\"202.5\" y=\"-565\" font-family=\"Linux libertine\" font-size=\"10.00\">2 x (1, 4, 1) </text>\n",
       "<polygon fill=\"none\" stroke=\"black\" points=\"150.5,-536 150.5,-557 197.5,-557 197.5,-536 150.5,-536\"/>\n",
       "<text text-anchor=\"start\" x=\"155.5\" y=\"-544\" font-family=\"Linux libertine\" font-size=\"10.00\">output: </text>\n",
       "<polygon fill=\"none\" stroke=\"black\" points=\"197.5,-536 197.5,-557 260.5,-557 260.5,-536 197.5,-536\"/>\n",
       "<text text-anchor=\"start\" x=\"210.5\" y=\"-544\" font-family=\"Linux libertine\" font-size=\"10.00\">(1, 4, 1) </text>\n",
       "</g>\n",
       "<!-- 57&#45;&gt;76 -->\n",
       "<g id=\"edge69\" class=\"edge\">\n",
       "<title>57&#45;&gt;76</title>\n",
       "<path fill=\"none\" stroke=\"black\" d=\"M273.47,-691.96C262.49,-681.79 249.59,-668.89 239.5,-656 222.56,-634.37 206.92,-607.34 196.16,-587.15\"/>\n",
       "<polygon fill=\"black\" stroke=\"black\" points=\"199.17,-585.35 191.43,-578.12 192.97,-588.6 199.17,-585.35\"/>\n",
       "</g>\n",
       "<!-- 59 -->\n",
       "<g id=\"node60\" class=\"node\">\n",
       "<title>59</title>\n",
       "<polygon fill=\"aliceblue\" stroke=\"transparent\" points=\"906,-734 751,-734 751,-692 906,-692 906,-734\"/>\n",
       "<polygon fill=\"none\" stroke=\"black\" points=\"751.5,-692 751.5,-734 812.5,-734 812.5,-692 751.5,-692\"/>\n",
       "<text text-anchor=\"start\" x=\"756.5\" y=\"-716\" font-family=\"Linux libertine\" font-size=\"10.00\">unsqueeze</text>\n",
       "<text text-anchor=\"start\" x=\"763.5\" y=\"-705\" font-family=\"Linux libertine\" font-size=\"10.00\">depth:1</text>\n",
       "<polygon fill=\"none\" stroke=\"black\" points=\"812.5,-713 812.5,-734 859.5,-734 859.5,-713 812.5,-713\"/>\n",
       "<text text-anchor=\"start\" x=\"822\" y=\"-721\" font-family=\"Linux libertine\" font-size=\"10.00\">input:</text>\n",
       "<polygon fill=\"none\" stroke=\"black\" points=\"859.5,-713 859.5,-734 906.5,-734 906.5,-713 859.5,-713\"/>\n",
       "<text text-anchor=\"start\" x=\"870\" y=\"-721\" font-family=\"Linux libertine\" font-size=\"10.00\">(1, 4) </text>\n",
       "<polygon fill=\"none\" stroke=\"black\" points=\"812.5,-692 812.5,-713 859.5,-713 859.5,-692 812.5,-692\"/>\n",
       "<text text-anchor=\"start\" x=\"817.5\" y=\"-700\" font-family=\"Linux libertine\" font-size=\"10.00\">output: </text>\n",
       "<polygon fill=\"none\" stroke=\"black\" points=\"859.5,-692 859.5,-713 906.5,-713 906.5,-692 859.5,-692\"/>\n",
       "<text text-anchor=\"start\" x=\"864.5\" y=\"-700\" font-family=\"Linux libertine\" font-size=\"10.00\">(1, 4, 1) </text>\n",
       "</g>\n",
       "<!-- 58&#45;&gt;59 -->\n",
       "<g id=\"edge70\" class=\"edge\">\n",
       "<title>58&#45;&gt;59</title>\n",
       "<path fill=\"none\" stroke=\"black\" d=\"M777.99,-769.63C785.79,-761.05 794.99,-750.91 803.38,-741.67\"/>\n",
       "<polygon fill=\"black\" stroke=\"black\" points=\"806.07,-743.92 810.2,-734.16 800.88,-739.21 806.07,-743.92\"/>\n",
       "</g>\n",
       "<!-- 70 -->\n",
       "<g id=\"node71\" class=\"node\">\n",
       "<title>70</title>\n",
       "<polygon fill=\"aliceblue\" stroke=\"transparent\" points=\"1222,-656 1029,-656 1029,-614 1222,-614 1222,-656\"/>\n",
       "<polygon fill=\"none\" stroke=\"black\" points=\"1029.5,-614 1029.5,-656 1076.5,-656 1076.5,-614 1029.5,-614\"/>\n",
       "<text text-anchor=\"start\" x=\"1044.5\" y=\"-638\" font-family=\"Linux libertine\" font-size=\"10.00\">sub</text>\n",
       "<text text-anchor=\"start\" x=\"1034.5\" y=\"-627\" font-family=\"Linux libertine\" font-size=\"10.00\">depth:1</text>\n",
       "<polygon fill=\"none\" stroke=\"black\" points=\"1076.5,-635 1076.5,-656 1123.5,-656 1123.5,-635 1076.5,-635\"/>\n",
       "<text text-anchor=\"start\" x=\"1086\" y=\"-643\" font-family=\"Linux libertine\" font-size=\"10.00\">input:</text>\n",
       "<polygon fill=\"none\" stroke=\"black\" points=\"1123.5,-635 1123.5,-656 1222.5,-656 1222.5,-635 1123.5,-635\"/>\n",
       "<text text-anchor=\"start\" x=\"1128.5\" y=\"-643\" font-family=\"Linux libertine\" font-size=\"10.00\">(1, 4, 750), (1, 4, 1) </text>\n",
       "<polygon fill=\"none\" stroke=\"black\" points=\"1076.5,-614 1076.5,-635 1123.5,-635 1123.5,-614 1076.5,-614\"/>\n",
       "<text text-anchor=\"start\" x=\"1081.5\" y=\"-622\" font-family=\"Linux libertine\" font-size=\"10.00\">output: </text>\n",
       "<polygon fill=\"none\" stroke=\"black\" points=\"1123.5,-614 1123.5,-635 1222.5,-635 1222.5,-614 1123.5,-614\"/>\n",
       "<text text-anchor=\"start\" x=\"1148.5\" y=\"-622\" font-family=\"Linux libertine\" font-size=\"10.00\">(1, 4, 750) </text>\n",
       "</g>\n",
       "<!-- 59&#45;&gt;70 -->\n",
       "<g id=\"edge71\" class=\"edge\">\n",
       "<title>59&#45;&gt;70</title>\n",
       "<path fill=\"none\" stroke=\"black\" d=\"M906.15,-692.13C946.4,-681.83 995.73,-669.21 1037.41,-658.54\"/>\n",
       "<polygon fill=\"black\" stroke=\"black\" points=\"1038.46,-661.89 1047.28,-656.02 1036.72,-655.11 1038.46,-661.89\"/>\n",
       "</g>\n",
       "<!-- 77 -->\n",
       "<g id=\"node78\" class=\"node\">\n",
       "<title>77</title>\n",
       "<polygon fill=\"aliceblue\" stroke=\"transparent\" points=\"1011,-656 818,-656 818,-614 1011,-614 1011,-656\"/>\n",
       "<polygon fill=\"none\" stroke=\"black\" points=\"818.5,-614 818.5,-656 865.5,-656 865.5,-614 818.5,-614\"/>\n",
       "<text text-anchor=\"start\" x=\"833.5\" y=\"-638\" font-family=\"Linux libertine\" font-size=\"10.00\">sub</text>\n",
       "<text text-anchor=\"start\" x=\"823.5\" y=\"-627\" font-family=\"Linux libertine\" font-size=\"10.00\">depth:1</text>\n",
       "<polygon fill=\"none\" stroke=\"black\" points=\"865.5,-635 865.5,-656 912.5,-656 912.5,-635 865.5,-635\"/>\n",
       "<text text-anchor=\"start\" x=\"875\" y=\"-643\" font-family=\"Linux libertine\" font-size=\"10.00\">input:</text>\n",
       "<polygon fill=\"none\" stroke=\"black\" points=\"912.5,-635 912.5,-656 1011.5,-656 1011.5,-635 912.5,-635\"/>\n",
       "<text text-anchor=\"start\" x=\"917.5\" y=\"-643\" font-family=\"Linux libertine\" font-size=\"10.00\">(1, 4, 750), (1, 4, 1) </text>\n",
       "<polygon fill=\"none\" stroke=\"black\" points=\"865.5,-614 865.5,-635 912.5,-635 912.5,-614 865.5,-614\"/>\n",
       "<text text-anchor=\"start\" x=\"870.5\" y=\"-622\" font-family=\"Linux libertine\" font-size=\"10.00\">output: </text>\n",
       "<polygon fill=\"none\" stroke=\"black\" points=\"912.5,-614 912.5,-635 1011.5,-635 1011.5,-614 912.5,-614\"/>\n",
       "<text text-anchor=\"start\" x=\"937.5\" y=\"-622\" font-family=\"Linux libertine\" font-size=\"10.00\">(1, 4, 750) </text>\n",
       "</g>\n",
       "<!-- 59&#45;&gt;77 -->\n",
       "<g id=\"edge72\" class=\"edge\">\n",
       "<title>59&#45;&gt;77</title>\n",
       "<path fill=\"none\" stroke=\"black\" d=\"M851.55,-691.63C861.56,-682.79 873.42,-672.3 884.13,-662.84\"/>\n",
       "<polygon fill=\"black\" stroke=\"black\" points=\"886.51,-665.4 891.69,-656.16 881.88,-660.16 886.51,-665.4\"/>\n",
       "</g>\n",
       "<!-- 61 -->\n",
       "<g id=\"node62\" class=\"node\">\n",
       "<title>61</title>\n",
       "<polygon fill=\"aliceblue\" stroke=\"transparent\" points=\"549,-734 394,-734 394,-692 549,-692 549,-734\"/>\n",
       "<polygon fill=\"none\" stroke=\"black\" points=\"394.5,-692 394.5,-734 455.5,-734 455.5,-692 394.5,-692\"/>\n",
       "<text text-anchor=\"start\" x=\"399.5\" y=\"-716\" font-family=\"Linux libertine\" font-size=\"10.00\">unsqueeze</text>\n",
       "<text text-anchor=\"start\" x=\"406.5\" y=\"-705\" font-family=\"Linux libertine\" font-size=\"10.00\">depth:1</text>\n",
       "<polygon fill=\"none\" stroke=\"black\" points=\"455.5,-713 455.5,-734 502.5,-734 502.5,-713 455.5,-713\"/>\n",
       "<text text-anchor=\"start\" x=\"465\" y=\"-721\" font-family=\"Linux libertine\" font-size=\"10.00\">input:</text>\n",
       "<polygon fill=\"none\" stroke=\"black\" points=\"502.5,-713 502.5,-734 549.5,-734 549.5,-713 502.5,-713\"/>\n",
       "<text text-anchor=\"start\" x=\"513\" y=\"-721\" font-family=\"Linux libertine\" font-size=\"10.00\">(1, 4) </text>\n",
       "<polygon fill=\"none\" stroke=\"black\" points=\"455.5,-692 455.5,-713 502.5,-713 502.5,-692 455.5,-692\"/>\n",
       "<text text-anchor=\"start\" x=\"460.5\" y=\"-700\" font-family=\"Linux libertine\" font-size=\"10.00\">output: </text>\n",
       "<polygon fill=\"none\" stroke=\"black\" points=\"502.5,-692 502.5,-713 549.5,-713 549.5,-692 502.5,-692\"/>\n",
       "<text text-anchor=\"start\" x=\"507.5\" y=\"-700\" font-family=\"Linux libertine\" font-size=\"10.00\">(1, 4, 1) </text>\n",
       "</g>\n",
       "<!-- 60&#45;&gt;61 -->\n",
       "<g id=\"edge73\" class=\"edge\">\n",
       "<title>60&#45;&gt;61</title>\n",
       "<path fill=\"none\" stroke=\"black\" d=\"M472.96,-769.63C472.76,-761.82 472.52,-752.73 472.29,-744.18\"/>\n",
       "<polygon fill=\"black\" stroke=\"black\" points=\"475.79,-744.06 472.03,-734.16 468.79,-744.25 475.79,-744.06\"/>\n",
       "</g>\n",
       "<!-- 67 -->\n",
       "<g id=\"node68\" class=\"node\">\n",
       "<title>67</title>\n",
       "<polygon fill=\"aliceblue\" stroke=\"transparent\" points=\"645,-578 488,-578 488,-536 645,-536 645,-578\"/>\n",
       "<polygon fill=\"none\" stroke=\"black\" points=\"488.5,-536 488.5,-578 535.5,-578 535.5,-536 488.5,-536\"/>\n",
       "<text text-anchor=\"start\" x=\"505\" y=\"-560\" font-family=\"Linux libertine\" font-size=\"10.00\">div</text>\n",
       "<text text-anchor=\"start\" x=\"493.5\" y=\"-549\" font-family=\"Linux libertine\" font-size=\"10.00\">depth:1</text>\n",
       "<polygon fill=\"none\" stroke=\"black\" points=\"535.5,-557 535.5,-578 582.5,-578 582.5,-557 535.5,-557\"/>\n",
       "<text text-anchor=\"start\" x=\"545\" y=\"-565\" font-family=\"Linux libertine\" font-size=\"10.00\">input:</text>\n",
       "<polygon fill=\"none\" stroke=\"black\" points=\"582.5,-557 582.5,-578 645.5,-578 645.5,-557 582.5,-557\"/>\n",
       "<text text-anchor=\"start\" x=\"587.5\" y=\"-565\" font-family=\"Linux libertine\" font-size=\"10.00\">2 x (1, 4, 1) </text>\n",
       "<polygon fill=\"none\" stroke=\"black\" points=\"535.5,-536 535.5,-557 582.5,-557 582.5,-536 535.5,-536\"/>\n",
       "<text text-anchor=\"start\" x=\"540.5\" y=\"-544\" font-family=\"Linux libertine\" font-size=\"10.00\">output: </text>\n",
       "<polygon fill=\"none\" stroke=\"black\" points=\"582.5,-536 582.5,-557 645.5,-557 645.5,-536 582.5,-536\"/>\n",
       "<text text-anchor=\"start\" x=\"595.5\" y=\"-544\" font-family=\"Linux libertine\" font-size=\"10.00\">(1, 4, 1) </text>\n",
       "</g>\n",
       "<!-- 61&#45;&gt;67 -->\n",
       "<g id=\"edge74\" class=\"edge\">\n",
       "<title>61&#45;&gt;67</title>\n",
       "<path fill=\"none\" stroke=\"black\" d=\"M471.24,-691.66C471.88,-670.67 475.5,-637.73 490.5,-614 497.9,-602.3 508.69,-592.22 519.82,-583.97\"/>\n",
       "<polygon fill=\"black\" stroke=\"black\" points=\"522.16,-586.61 528.36,-578.02 518.15,-580.87 522.16,-586.61\"/>\n",
       "</g>\n",
       "<!-- 68 -->\n",
       "<g id=\"node69\" class=\"node\">\n",
       "<title>68</title>\n",
       "<polygon fill=\"aliceblue\" stroke=\"transparent\" points=\"800,-656 659,-656 659,-614 800,-614 800,-656\"/>\n",
       "<polygon fill=\"none\" stroke=\"black\" points=\"659.5,-614 659.5,-656 706.5,-656 706.5,-614 659.5,-614\"/>\n",
       "<text text-anchor=\"start\" x=\"673\" y=\"-638\" font-family=\"Linux libertine\" font-size=\"10.00\">pow</text>\n",
       "<text text-anchor=\"start\" x=\"664.5\" y=\"-627\" font-family=\"Linux libertine\" font-size=\"10.00\">depth:1</text>\n",
       "<polygon fill=\"none\" stroke=\"black\" points=\"706.5,-635 706.5,-656 753.5,-656 753.5,-635 706.5,-635\"/>\n",
       "<text text-anchor=\"start\" x=\"716\" y=\"-643\" font-family=\"Linux libertine\" font-size=\"10.00\">input:</text>\n",
       "<polygon fill=\"none\" stroke=\"black\" points=\"753.5,-635 753.5,-656 800.5,-656 800.5,-635 753.5,-635\"/>\n",
       "<text text-anchor=\"start\" x=\"758.5\" y=\"-643\" font-family=\"Linux libertine\" font-size=\"10.00\">(1, 4, 1) </text>\n",
       "<polygon fill=\"none\" stroke=\"black\" points=\"706.5,-614 706.5,-635 753.5,-635 753.5,-614 706.5,-614\"/>\n",
       "<text text-anchor=\"start\" x=\"711.5\" y=\"-622\" font-family=\"Linux libertine\" font-size=\"10.00\">output: </text>\n",
       "<polygon fill=\"none\" stroke=\"black\" points=\"753.5,-614 753.5,-635 800.5,-635 800.5,-614 753.5,-614\"/>\n",
       "<text text-anchor=\"start\" x=\"758.5\" y=\"-622\" font-family=\"Linux libertine\" font-size=\"10.00\">(1, 4, 1) </text>\n",
       "</g>\n",
       "<!-- 61&#45;&gt;68 -->\n",
       "<g id=\"edge75\" class=\"edge\">\n",
       "<title>61&#45;&gt;68</title>\n",
       "<path fill=\"none\" stroke=\"black\" d=\"M539.62,-691.93C574.01,-681.8 615.89,-669.47 651.56,-658.96\"/>\n",
       "<polygon fill=\"black\" stroke=\"black\" points=\"652.84,-662.23 661.44,-656.05 650.86,-655.52 652.84,-662.23\"/>\n",
       "</g>\n",
       "<!-- 75 -->\n",
       "<g id=\"node76\" class=\"node\">\n",
       "<title>75</title>\n",
       "<polygon fill=\"aliceblue\" stroke=\"transparent\" points=\"390,-656 249,-656 249,-614 390,-614 390,-656\"/>\n",
       "<polygon fill=\"none\" stroke=\"black\" points=\"249.5,-614 249.5,-656 296.5,-656 296.5,-614 249.5,-614\"/>\n",
       "<text text-anchor=\"start\" x=\"264\" y=\"-638\" font-family=\"Linux libertine\" font-size=\"10.00\">mul</text>\n",
       "<text text-anchor=\"start\" x=\"254.5\" y=\"-627\" font-family=\"Linux libertine\" font-size=\"10.00\">depth:1</text>\n",
       "<polygon fill=\"none\" stroke=\"black\" points=\"296.5,-635 296.5,-656 343.5,-656 343.5,-635 296.5,-635\"/>\n",
       "<text text-anchor=\"start\" x=\"306\" y=\"-643\" font-family=\"Linux libertine\" font-size=\"10.00\">input:</text>\n",
       "<polygon fill=\"none\" stroke=\"black\" points=\"343.5,-635 343.5,-656 390.5,-656 390.5,-635 343.5,-635\"/>\n",
       "<text text-anchor=\"start\" x=\"348.5\" y=\"-643\" font-family=\"Linux libertine\" font-size=\"10.00\">(1, 4, 1) </text>\n",
       "<polygon fill=\"none\" stroke=\"black\" points=\"296.5,-614 296.5,-635 343.5,-635 343.5,-614 296.5,-614\"/>\n",
       "<text text-anchor=\"start\" x=\"301.5\" y=\"-622\" font-family=\"Linux libertine\" font-size=\"10.00\">output: </text>\n",
       "<polygon fill=\"none\" stroke=\"black\" points=\"343.5,-614 343.5,-635 390.5,-635 390.5,-614 343.5,-614\"/>\n",
       "<text text-anchor=\"start\" x=\"348.5\" y=\"-622\" font-family=\"Linux libertine\" font-size=\"10.00\">(1, 4, 1) </text>\n",
       "</g>\n",
       "<!-- 61&#45;&gt;75 -->\n",
       "<g id=\"edge76\" class=\"edge\">\n",
       "<title>61&#45;&gt;75</title>\n",
       "<path fill=\"none\" stroke=\"black\" d=\"M431.17,-691.83C412.02,-682.26 388.97,-670.74 368.8,-660.65\"/>\n",
       "<polygon fill=\"black\" stroke=\"black\" points=\"370.27,-657.47 359.76,-656.13 367.14,-663.73 370.27,-657.47\"/>\n",
       "</g>\n",
       "<!-- 80 -->\n",
       "<g id=\"node81\" class=\"node\">\n",
       "<title>80</title>\n",
       "<polygon fill=\"aliceblue\" stroke=\"transparent\" points=\"532,-500 391,-500 391,-458 532,-458 532,-500\"/>\n",
       "<polygon fill=\"none\" stroke=\"black\" points=\"391.5,-458 391.5,-500 438.5,-500 438.5,-458 391.5,-458\"/>\n",
       "<text text-anchor=\"start\" x=\"405\" y=\"-482\" font-family=\"Linux libertine\" font-size=\"10.00\">pow</text>\n",
       "<text text-anchor=\"start\" x=\"396.5\" y=\"-471\" font-family=\"Linux libertine\" font-size=\"10.00\">depth:1</text>\n",
       "<polygon fill=\"none\" stroke=\"black\" points=\"438.5,-479 438.5,-500 485.5,-500 485.5,-479 438.5,-479\"/>\n",
       "<text text-anchor=\"start\" x=\"448\" y=\"-487\" font-family=\"Linux libertine\" font-size=\"10.00\">input:</text>\n",
       "<polygon fill=\"none\" stroke=\"black\" points=\"485.5,-479 485.5,-500 532.5,-500 532.5,-479 485.5,-479\"/>\n",
       "<text text-anchor=\"start\" x=\"490.5\" y=\"-487\" font-family=\"Linux libertine\" font-size=\"10.00\">(1, 4, 1) </text>\n",
       "<polygon fill=\"none\" stroke=\"black\" points=\"438.5,-458 438.5,-479 485.5,-479 485.5,-458 438.5,-458\"/>\n",
       "<text text-anchor=\"start\" x=\"443.5\" y=\"-466\" font-family=\"Linux libertine\" font-size=\"10.00\">output: </text>\n",
       "<polygon fill=\"none\" stroke=\"black\" points=\"485.5,-458 485.5,-479 532.5,-479 532.5,-458 485.5,-458\"/>\n",
       "<text text-anchor=\"start\" x=\"490.5\" y=\"-466\" font-family=\"Linux libertine\" font-size=\"10.00\">(1, 4, 1) </text>\n",
       "</g>\n",
       "<!-- 61&#45;&gt;80 -->\n",
       "<g id=\"edge77\" class=\"edge\">\n",
       "<title>61&#45;&gt;80</title>\n",
       "<path fill=\"none\" stroke=\"black\" d=\"M470.63,-691.82C468.87,-651.03 464.89,-558.57 462.81,-510.42\"/>\n",
       "<polygon fill=\"black\" stroke=\"black\" points=\"466.3,-510.14 462.38,-500.3 459.31,-510.44 466.3,-510.14\"/>\n",
       "</g>\n",
       "<!-- 63 -->\n",
       "<g id=\"node64\" class=\"node\">\n",
       "<title>63</title>\n",
       "<polygon fill=\"aliceblue\" stroke=\"transparent\" points=\"155,-422 0,-422 0,-380 155,-380 155,-422\"/>\n",
       "<polygon fill=\"none\" stroke=\"black\" points=\"0.5,-380 0.5,-422 61.5,-422 61.5,-380 0.5,-380\"/>\n",
       "<text text-anchor=\"start\" x=\"5.5\" y=\"-404\" font-family=\"Linux libertine\" font-size=\"10.00\">unsqueeze</text>\n",
       "<text text-anchor=\"start\" x=\"12.5\" y=\"-393\" font-family=\"Linux libertine\" font-size=\"10.00\">depth:1</text>\n",
       "<polygon fill=\"none\" stroke=\"black\" points=\"61.5,-401 61.5,-422 108.5,-422 108.5,-401 61.5,-401\"/>\n",
       "<text text-anchor=\"start\" x=\"71\" y=\"-409\" font-family=\"Linux libertine\" font-size=\"10.00\">input:</text>\n",
       "<polygon fill=\"none\" stroke=\"black\" points=\"108.5,-401 108.5,-422 155.5,-422 155.5,-401 108.5,-401\"/>\n",
       "<text text-anchor=\"start\" x=\"119\" y=\"-409\" font-family=\"Linux libertine\" font-size=\"10.00\">(1, 4) </text>\n",
       "<polygon fill=\"none\" stroke=\"black\" points=\"61.5,-380 61.5,-401 108.5,-401 108.5,-380 61.5,-380\"/>\n",
       "<text text-anchor=\"start\" x=\"66.5\" y=\"-388\" font-family=\"Linux libertine\" font-size=\"10.00\">output: </text>\n",
       "<polygon fill=\"none\" stroke=\"black\" points=\"108.5,-380 108.5,-401 155.5,-401 155.5,-380 108.5,-380\"/>\n",
       "<text text-anchor=\"start\" x=\"113.5\" y=\"-388\" font-family=\"Linux libertine\" font-size=\"10.00\">(1, 4, 1) </text>\n",
       "</g>\n",
       "<!-- 62&#45;&gt;63 -->\n",
       "<g id=\"edge78\" class=\"edge\">\n",
       "<title>62&#45;&gt;63</title>\n",
       "<path fill=\"none\" stroke=\"black\" d=\"M95.25,-691.66C91.99,-638.43 83.19,-494.84 79.34,-432.06\"/>\n",
       "<polygon fill=\"black\" stroke=\"black\" points=\"82.83,-431.78 78.73,-422.01 75.84,-432.21 82.83,-431.78\"/>\n",
       "</g>\n",
       "<!-- 83 -->\n",
       "<g id=\"node84\" class=\"node\">\n",
       "<title>83</title>\n",
       "<polygon fill=\"aliceblue\" stroke=\"transparent\" points=\"373,-266 180,-266 180,-224 373,-224 373,-266\"/>\n",
       "<polygon fill=\"none\" stroke=\"black\" points=\"180.5,-224 180.5,-266 227.5,-266 227.5,-224 180.5,-224\"/>\n",
       "<text text-anchor=\"start\" x=\"195\" y=\"-248\" font-family=\"Linux libertine\" font-size=\"10.00\">mul</text>\n",
       "<text text-anchor=\"start\" x=\"185.5\" y=\"-237\" font-family=\"Linux libertine\" font-size=\"10.00\">depth:1</text>\n",
       "<polygon fill=\"none\" stroke=\"black\" points=\"227.5,-245 227.5,-266 274.5,-266 274.5,-245 227.5,-245\"/>\n",
       "<text text-anchor=\"start\" x=\"237\" y=\"-253\" font-family=\"Linux libertine\" font-size=\"10.00\">input:</text>\n",
       "<polygon fill=\"none\" stroke=\"black\" points=\"274.5,-245 274.5,-266 373.5,-266 373.5,-245 274.5,-245\"/>\n",
       "<text text-anchor=\"start\" x=\"279.5\" y=\"-253\" font-family=\"Linux libertine\" font-size=\"10.00\">(1, 4, 1), (1, 4, 750) </text>\n",
       "<polygon fill=\"none\" stroke=\"black\" points=\"227.5,-224 227.5,-245 274.5,-245 274.5,-224 227.5,-224\"/>\n",
       "<text text-anchor=\"start\" x=\"232.5\" y=\"-232\" font-family=\"Linux libertine\" font-size=\"10.00\">output: </text>\n",
       "<polygon fill=\"none\" stroke=\"black\" points=\"274.5,-224 274.5,-245 373.5,-245 373.5,-224 274.5,-224\"/>\n",
       "<text text-anchor=\"start\" x=\"299.5\" y=\"-232\" font-family=\"Linux libertine\" font-size=\"10.00\">(1, 4, 750) </text>\n",
       "</g>\n",
       "<!-- 63&#45;&gt;83 -->\n",
       "<g id=\"edge79\" class=\"edge\">\n",
       "<title>63&#45;&gt;83</title>\n",
       "<path fill=\"none\" stroke=\"black\" d=\"M93.34,-379.74C110.66,-358.51 140.04,-325.1 170.5,-302 186.03,-290.22 204.39,-279.57 221.42,-270.79\"/>\n",
       "<polygon fill=\"black\" stroke=\"black\" points=\"223.36,-273.73 230.72,-266.11 220.21,-267.48 223.36,-273.73\"/>\n",
       "</g>\n",
       "<!-- 84 -->\n",
       "<g id=\"node85\" class=\"node\">\n",
       "<title>84</title>\n",
       "<polygon fill=\"aliceblue\" stroke=\"transparent\" points=\"789.5,-344 645.5,-344 645.5,-302 789.5,-302 789.5,-344\"/>\n",
       "<polygon fill=\"none\" stroke=\"black\" points=\"645.5,-302 645.5,-344 695.5,-344 695.5,-302 645.5,-302\"/>\n",
       "<text text-anchor=\"start\" x=\"650.5\" y=\"-326\" font-family=\"Linux libertine\" font-size=\"10.00\">__rsub__</text>\n",
       "<text text-anchor=\"start\" x=\"652\" y=\"-315\" font-family=\"Linux libertine\" font-size=\"10.00\">depth:1</text>\n",
       "<polygon fill=\"none\" stroke=\"black\" points=\"695.5,-323 695.5,-344 742.5,-344 742.5,-323 695.5,-323\"/>\n",
       "<text text-anchor=\"start\" x=\"705\" y=\"-331\" font-family=\"Linux libertine\" font-size=\"10.00\">input:</text>\n",
       "<polygon fill=\"none\" stroke=\"black\" points=\"742.5,-323 742.5,-344 789.5,-344 789.5,-323 742.5,-323\"/>\n",
       "<text text-anchor=\"start\" x=\"747.5\" y=\"-331\" font-family=\"Linux libertine\" font-size=\"10.00\">(1, 4, 1) </text>\n",
       "<polygon fill=\"none\" stroke=\"black\" points=\"695.5,-302 695.5,-323 742.5,-323 742.5,-302 695.5,-302\"/>\n",
       "<text text-anchor=\"start\" x=\"700.5\" y=\"-310\" font-family=\"Linux libertine\" font-size=\"10.00\">output: </text>\n",
       "<polygon fill=\"none\" stroke=\"black\" points=\"742.5,-302 742.5,-323 789.5,-323 789.5,-302 742.5,-302\"/>\n",
       "<text text-anchor=\"start\" x=\"747.5\" y=\"-310\" font-family=\"Linux libertine\" font-size=\"10.00\">(1, 4, 1) </text>\n",
       "</g>\n",
       "<!-- 63&#45;&gt;84 -->\n",
       "<g id=\"edge80\" class=\"edge\">\n",
       "<title>63&#45;&gt;84</title>\n",
       "<path fill=\"none\" stroke=\"black\" d=\"M155.05,-386.66C170.73,-384.22 187.12,-381.87 202.5,-380 390.92,-357.13 443.12,-374.36 635.05,-343.92\"/>\n",
       "<polygon fill=\"black\" stroke=\"black\" points=\"635.87,-347.33 645.19,-342.29 634.76,-340.42 635.87,-347.33\"/>\n",
       "</g>\n",
       "<!-- 64 -->\n",
       "<g id=\"node65\" class=\"node\">\n",
       "<title>64</title>\n",
       "<polygon fill=\"aliceblue\" stroke=\"transparent\" points=\"1033,-812 880,-812 880,-770 1033,-770 1033,-812\"/>\n",
       "<polygon fill=\"none\" stroke=\"black\" points=\"880.5,-770 880.5,-812 927.5,-812 927.5,-770 880.5,-770\"/>\n",
       "<text text-anchor=\"start\" x=\"888.5\" y=\"-794\" font-family=\"Linux libertine\" font-size=\"10.00\">repeat</text>\n",
       "<text text-anchor=\"start\" x=\"885.5\" y=\"-783\" font-family=\"Linux libertine\" font-size=\"10.00\">depth:1</text>\n",
       "<polygon fill=\"none\" stroke=\"black\" points=\"927.5,-791 927.5,-812 974.5,-812 974.5,-791 927.5,-791\"/>\n",
       "<text text-anchor=\"start\" x=\"937\" y=\"-799\" font-family=\"Linux libertine\" font-size=\"10.00\">input:</text>\n",
       "<polygon fill=\"none\" stroke=\"black\" points=\"974.5,-791 974.5,-812 1033.5,-812 1033.5,-791 974.5,-791\"/>\n",
       "<text text-anchor=\"start\" x=\"989\" y=\"-799\" font-family=\"Linux libertine\" font-size=\"10.00\">(750,) </text>\n",
       "<polygon fill=\"none\" stroke=\"black\" points=\"927.5,-770 927.5,-791 974.5,-791 974.5,-770 927.5,-770\"/>\n",
       "<text text-anchor=\"start\" x=\"932.5\" y=\"-778\" font-family=\"Linux libertine\" font-size=\"10.00\">output: </text>\n",
       "<polygon fill=\"none\" stroke=\"black\" points=\"974.5,-770 974.5,-791 1033.5,-791 1033.5,-770 974.5,-770\"/>\n",
       "<text text-anchor=\"start\" x=\"979.5\" y=\"-778\" font-family=\"Linux libertine\" font-size=\"10.00\">(1, 4, 750) </text>\n",
       "</g>\n",
       "<!-- 65 -->\n",
       "<g id=\"node66\" class=\"node\">\n",
       "<title>65</title>\n",
       "<polygon fill=\"aliceblue\" stroke=\"transparent\" points=\"1077,-734 924,-734 924,-692 1077,-692 1077,-734\"/>\n",
       "<polygon fill=\"none\" stroke=\"black\" points=\"924.5,-692 924.5,-734 971.5,-734 971.5,-692 924.5,-692\"/>\n",
       "<text text-anchor=\"start\" x=\"943\" y=\"-716\" font-family=\"Linux libertine\" font-size=\"10.00\">to</text>\n",
       "<text text-anchor=\"start\" x=\"929.5\" y=\"-705\" font-family=\"Linux libertine\" font-size=\"10.00\">depth:1</text>\n",
       "<polygon fill=\"none\" stroke=\"black\" points=\"971.5,-713 971.5,-734 1018.5,-734 1018.5,-713 971.5,-713\"/>\n",
       "<text text-anchor=\"start\" x=\"981\" y=\"-721\" font-family=\"Linux libertine\" font-size=\"10.00\">input:</text>\n",
       "<polygon fill=\"none\" stroke=\"black\" points=\"1018.5,-713 1018.5,-734 1077.5,-734 1077.5,-713 1018.5,-713\"/>\n",
       "<text text-anchor=\"start\" x=\"1023.5\" y=\"-721\" font-family=\"Linux libertine\" font-size=\"10.00\">(1, 4, 750) </text>\n",
       "<polygon fill=\"none\" stroke=\"black\" points=\"971.5,-692 971.5,-713 1018.5,-713 1018.5,-692 971.5,-692\"/>\n",
       "<text text-anchor=\"start\" x=\"976.5\" y=\"-700\" font-family=\"Linux libertine\" font-size=\"10.00\">output: </text>\n",
       "<polygon fill=\"none\" stroke=\"black\" points=\"1018.5,-692 1018.5,-713 1077.5,-713 1077.5,-692 1018.5,-692\"/>\n",
       "<text text-anchor=\"start\" x=\"1023.5\" y=\"-700\" font-family=\"Linux libertine\" font-size=\"10.00\">(1, 4, 750) </text>\n",
       "</g>\n",
       "<!-- 64&#45;&gt;65 -->\n",
       "<g id=\"edge81\" class=\"edge\">\n",
       "<title>64&#45;&gt;65</title>\n",
       "<path fill=\"none\" stroke=\"black\" d=\"M968.29,-769.63C973.01,-761.48 978.54,-751.92 983.68,-743.06\"/>\n",
       "<polygon fill=\"black\" stroke=\"black\" points=\"986.85,-744.57 988.83,-734.16 980.79,-741.06 986.85,-744.57\"/>\n",
       "</g>\n",
       "<!-- 65&#45;&gt;70 -->\n",
       "<g id=\"edge82\" class=\"edge\">\n",
       "<title>65&#45;&gt;70</title>\n",
       "<path fill=\"none\" stroke=\"black\" d=\"M1033.67,-691.83C1048.93,-682.56 1067.2,-671.45 1083.41,-661.59\"/>\n",
       "<polygon fill=\"black\" stroke=\"black\" points=\"1085.45,-664.45 1092.18,-656.26 1081.81,-658.47 1085.45,-664.45\"/>\n",
       "</g>\n",
       "<!-- 65&#45;&gt;77 -->\n",
       "<g id=\"edge83\" class=\"edge\">\n",
       "<title>65&#45;&gt;77</title>\n",
       "<path fill=\"none\" stroke=\"black\" d=\"M977.45,-691.63C967.44,-682.79 955.58,-672.3 944.87,-662.84\"/>\n",
       "<polygon fill=\"black\" stroke=\"black\" points=\"947.12,-660.16 937.31,-656.16 942.49,-665.4 947.12,-660.16\"/>\n",
       "</g>\n",
       "<!-- 66&#45;&gt;67 -->\n",
       "<g id=\"edge84\" class=\"edge\">\n",
       "<title>66&#45;&gt;67</title>\n",
       "<path fill=\"none\" stroke=\"black\" d=\"M569.43,-613.63C569.02,-605.82 568.54,-596.73 568.09,-588.18\"/>\n",
       "<polygon fill=\"black\" stroke=\"black\" points=\"571.58,-587.96 567.56,-578.16 564.59,-588.33 571.58,-587.96\"/>\n",
       "</g>\n",
       "<!-- 74 -->\n",
       "<g id=\"node75\" class=\"node\">\n",
       "<title>74</title>\n",
       "<polygon fill=\"aliceblue\" stroke=\"transparent\" points=\"627,-344 434,-344 434,-302 627,-302 627,-344\"/>\n",
       "<polygon fill=\"none\" stroke=\"black\" points=\"434.5,-302 434.5,-344 481.5,-344 481.5,-302 434.5,-302\"/>\n",
       "<text text-anchor=\"start\" x=\"449\" y=\"-326\" font-family=\"Linux libertine\" font-size=\"10.00\">mul</text>\n",
       "<text text-anchor=\"start\" x=\"439.5\" y=\"-315\" font-family=\"Linux libertine\" font-size=\"10.00\">depth:1</text>\n",
       "<polygon fill=\"none\" stroke=\"black\" points=\"481.5,-323 481.5,-344 528.5,-344 528.5,-323 481.5,-323\"/>\n",
       "<text text-anchor=\"start\" x=\"491\" y=\"-331\" font-family=\"Linux libertine\" font-size=\"10.00\">input:</text>\n",
       "<polygon fill=\"none\" stroke=\"black\" points=\"528.5,-323 528.5,-344 627.5,-344 627.5,-323 528.5,-323\"/>\n",
       "<text text-anchor=\"start\" x=\"533.5\" y=\"-331\" font-family=\"Linux libertine\" font-size=\"10.00\">(1, 4, 1), (1, 4, 750) </text>\n",
       "<polygon fill=\"none\" stroke=\"black\" points=\"481.5,-302 481.5,-323 528.5,-323 528.5,-302 481.5,-302\"/>\n",
       "<text text-anchor=\"start\" x=\"486.5\" y=\"-310\" font-family=\"Linux libertine\" font-size=\"10.00\">output: </text>\n",
       "<polygon fill=\"none\" stroke=\"black\" points=\"528.5,-302 528.5,-323 627.5,-323 627.5,-302 528.5,-302\"/>\n",
       "<text text-anchor=\"start\" x=\"553.5\" y=\"-310\" font-family=\"Linux libertine\" font-size=\"10.00\">(1, 4, 750) </text>\n",
       "</g>\n",
       "<!-- 67&#45;&gt;74 -->\n",
       "<g id=\"edge85\" class=\"edge\">\n",
       "<title>67&#45;&gt;74</title>\n",
       "<path fill=\"none\" stroke=\"black\" d=\"M563.37,-535.82C557.04,-495.03 542.69,-402.57 535.22,-354.42\"/>\n",
       "<polygon fill=\"black\" stroke=\"black\" points=\"538.64,-353.65 533.65,-344.3 531.73,-354.72 538.64,-353.65\"/>\n",
       "</g>\n",
       "<!-- 69 -->\n",
       "<g id=\"node70\" class=\"node\">\n",
       "<title>69</title>\n",
       "<polygon fill=\"aliceblue\" stroke=\"transparent\" points=\"804,-578 663,-578 663,-536 804,-536 804,-578\"/>\n",
       "<polygon fill=\"none\" stroke=\"black\" points=\"663.5,-536 663.5,-578 710.5,-578 710.5,-536 663.5,-536\"/>\n",
       "<text text-anchor=\"start\" x=\"680\" y=\"-560\" font-family=\"Linux libertine\" font-size=\"10.00\">div</text>\n",
       "<text text-anchor=\"start\" x=\"668.5\" y=\"-549\" font-family=\"Linux libertine\" font-size=\"10.00\">depth:1</text>\n",
       "<polygon fill=\"none\" stroke=\"black\" points=\"710.5,-557 710.5,-578 757.5,-578 757.5,-557 710.5,-557\"/>\n",
       "<text text-anchor=\"start\" x=\"720\" y=\"-565\" font-family=\"Linux libertine\" font-size=\"10.00\">input:</text>\n",
       "<polygon fill=\"none\" stroke=\"black\" points=\"757.5,-557 757.5,-578 804.5,-578 804.5,-557 757.5,-557\"/>\n",
       "<text text-anchor=\"start\" x=\"762.5\" y=\"-565\" font-family=\"Linux libertine\" font-size=\"10.00\">(1, 4, 1) </text>\n",
       "<polygon fill=\"none\" stroke=\"black\" points=\"710.5,-536 710.5,-557 757.5,-557 757.5,-536 710.5,-536\"/>\n",
       "<text text-anchor=\"start\" x=\"715.5\" y=\"-544\" font-family=\"Linux libertine\" font-size=\"10.00\">output: </text>\n",
       "<polygon fill=\"none\" stroke=\"black\" points=\"757.5,-536 757.5,-557 804.5,-557 804.5,-536 757.5,-536\"/>\n",
       "<text text-anchor=\"start\" x=\"762.5\" y=\"-544\" font-family=\"Linux libertine\" font-size=\"10.00\">(1, 4, 1) </text>\n",
       "</g>\n",
       "<!-- 68&#45;&gt;69 -->\n",
       "<g id=\"edge86\" class=\"edge\">\n",
       "<title>68&#45;&gt;69</title>\n",
       "<path fill=\"none\" stroke=\"black\" d=\"M730.57,-613.63C730.98,-605.82 731.46,-596.73 731.91,-588.18\"/>\n",
       "<polygon fill=\"black\" stroke=\"black\" points=\"735.41,-588.33 732.44,-578.16 728.42,-587.96 735.41,-588.33\"/>\n",
       "</g>\n",
       "<!-- 72 -->\n",
       "<g id=\"node73\" class=\"node\">\n",
       "<title>72</title>\n",
       "<polygon fill=\"aliceblue\" stroke=\"transparent\" points=\"830,-500 637,-500 637,-458 830,-458 830,-500\"/>\n",
       "<polygon fill=\"none\" stroke=\"black\" points=\"637.5,-458 637.5,-500 684.5,-500 684.5,-458 637.5,-458\"/>\n",
       "<text text-anchor=\"start\" x=\"652\" y=\"-482\" font-family=\"Linux libertine\" font-size=\"10.00\">mul</text>\n",
       "<text text-anchor=\"start\" x=\"642.5\" y=\"-471\" font-family=\"Linux libertine\" font-size=\"10.00\">depth:1</text>\n",
       "<polygon fill=\"none\" stroke=\"black\" points=\"684.5,-479 684.5,-500 731.5,-500 731.5,-479 684.5,-479\"/>\n",
       "<text text-anchor=\"start\" x=\"694\" y=\"-487\" font-family=\"Linux libertine\" font-size=\"10.00\">input:</text>\n",
       "<polygon fill=\"none\" stroke=\"black\" points=\"731.5,-479 731.5,-500 830.5,-500 830.5,-479 731.5,-479\"/>\n",
       "<text text-anchor=\"start\" x=\"736.5\" y=\"-487\" font-family=\"Linux libertine\" font-size=\"10.00\">(1, 4, 1), (1, 4, 750) </text>\n",
       "<polygon fill=\"none\" stroke=\"black\" points=\"684.5,-458 684.5,-479 731.5,-479 731.5,-458 684.5,-458\"/>\n",
       "<text text-anchor=\"start\" x=\"689.5\" y=\"-466\" font-family=\"Linux libertine\" font-size=\"10.00\">output: </text>\n",
       "<polygon fill=\"none\" stroke=\"black\" points=\"731.5,-458 731.5,-479 830.5,-479 830.5,-458 731.5,-458\"/>\n",
       "<text text-anchor=\"start\" x=\"756.5\" y=\"-466\" font-family=\"Linux libertine\" font-size=\"10.00\">(1, 4, 750) </text>\n",
       "</g>\n",
       "<!-- 69&#45;&gt;72 -->\n",
       "<g id=\"edge87\" class=\"edge\">\n",
       "<title>69&#45;&gt;72</title>\n",
       "<path fill=\"none\" stroke=\"black\" d=\"M733.5,-535.63C733.5,-527.82 733.5,-518.73 733.5,-510.18\"/>\n",
       "<polygon fill=\"black\" stroke=\"black\" points=\"737,-510.16 733.5,-500.16 730,-510.16 737,-510.16\"/>\n",
       "</g>\n",
       "<!-- 71 -->\n",
       "<g id=\"node72\" class=\"node\">\n",
       "<title>71</title>\n",
       "<polygon fill=\"aliceblue\" stroke=\"transparent\" points=\"1086,-578 933,-578 933,-536 1086,-536 1086,-578\"/>\n",
       "<polygon fill=\"none\" stroke=\"black\" points=\"933.5,-536 933.5,-578 980.5,-578 980.5,-536 933.5,-536\"/>\n",
       "<text text-anchor=\"start\" x=\"947\" y=\"-560\" font-family=\"Linux libertine\" font-size=\"10.00\">pow</text>\n",
       "<text text-anchor=\"start\" x=\"938.5\" y=\"-549\" font-family=\"Linux libertine\" font-size=\"10.00\">depth:1</text>\n",
       "<polygon fill=\"none\" stroke=\"black\" points=\"980.5,-557 980.5,-578 1027.5,-578 1027.5,-557 980.5,-557\"/>\n",
       "<text text-anchor=\"start\" x=\"990\" y=\"-565\" font-family=\"Linux libertine\" font-size=\"10.00\">input:</text>\n",
       "<polygon fill=\"none\" stroke=\"black\" points=\"1027.5,-557 1027.5,-578 1086.5,-578 1086.5,-557 1027.5,-557\"/>\n",
       "<text text-anchor=\"start\" x=\"1032.5\" y=\"-565\" font-family=\"Linux libertine\" font-size=\"10.00\">(1, 4, 750) </text>\n",
       "<polygon fill=\"none\" stroke=\"black\" points=\"980.5,-536 980.5,-557 1027.5,-557 1027.5,-536 980.5,-536\"/>\n",
       "<text text-anchor=\"start\" x=\"985.5\" y=\"-544\" font-family=\"Linux libertine\" font-size=\"10.00\">output: </text>\n",
       "<polygon fill=\"none\" stroke=\"black\" points=\"1027.5,-536 1027.5,-557 1086.5,-557 1086.5,-536 1027.5,-536\"/>\n",
       "<text text-anchor=\"start\" x=\"1032.5\" y=\"-544\" font-family=\"Linux libertine\" font-size=\"10.00\">(1, 4, 750) </text>\n",
       "</g>\n",
       "<!-- 70&#45;&gt;71 -->\n",
       "<g id=\"edge88\" class=\"edge\">\n",
       "<title>70&#45;&gt;71</title>\n",
       "<path fill=\"none\" stroke=\"black\" d=\"M1094.72,-613.83C1080.69,-604.64 1063.92,-593.65 1048.98,-583.86\"/>\n",
       "<polygon fill=\"black\" stroke=\"black\" points=\"1050.71,-580.81 1040.43,-578.26 1046.87,-586.67 1050.71,-580.81\"/>\n",
       "</g>\n",
       "<!-- 71&#45;&gt;72 -->\n",
       "<g id=\"edge89\" class=\"edge\">\n",
       "<title>71&#45;&gt;72</title>\n",
       "<path fill=\"none\" stroke=\"black\" d=\"M936.62,-535.93C899.68,-525.76 854.65,-513.36 816.39,-502.83\"/>\n",
       "<polygon fill=\"black\" stroke=\"black\" points=\"816.88,-499.33 806.31,-500.05 815.02,-506.08 816.88,-499.33\"/>\n",
       "</g>\n",
       "<!-- 73 -->\n",
       "<g id=\"node74\" class=\"node\">\n",
       "<title>73</title>\n",
       "<polygon fill=\"aliceblue\" stroke=\"transparent\" points=\"777,-422 624,-422 624,-380 777,-380 777,-422\"/>\n",
       "<polygon fill=\"none\" stroke=\"black\" points=\"624.5,-380 624.5,-422 671.5,-422 671.5,-380 624.5,-380\"/>\n",
       "<text text-anchor=\"start\" x=\"639.5\" y=\"-404\" font-family=\"Linux libertine\" font-size=\"10.00\">exp</text>\n",
       "<text text-anchor=\"start\" x=\"629.5\" y=\"-393\" font-family=\"Linux libertine\" font-size=\"10.00\">depth:1</text>\n",
       "<polygon fill=\"none\" stroke=\"black\" points=\"671.5,-401 671.5,-422 718.5,-422 718.5,-401 671.5,-401\"/>\n",
       "<text text-anchor=\"start\" x=\"681\" y=\"-409\" font-family=\"Linux libertine\" font-size=\"10.00\">input:</text>\n",
       "<polygon fill=\"none\" stroke=\"black\" points=\"718.5,-401 718.5,-422 777.5,-422 777.5,-401 718.5,-401\"/>\n",
       "<text text-anchor=\"start\" x=\"723.5\" y=\"-409\" font-family=\"Linux libertine\" font-size=\"10.00\">(1, 4, 750) </text>\n",
       "<polygon fill=\"none\" stroke=\"black\" points=\"671.5,-380 671.5,-401 718.5,-401 718.5,-380 671.5,-380\"/>\n",
       "<text text-anchor=\"start\" x=\"676.5\" y=\"-388\" font-family=\"Linux libertine\" font-size=\"10.00\">output: </text>\n",
       "<polygon fill=\"none\" stroke=\"black\" points=\"718.5,-380 718.5,-401 777.5,-401 777.5,-380 718.5,-380\"/>\n",
       "<text text-anchor=\"start\" x=\"723.5\" y=\"-388\" font-family=\"Linux libertine\" font-size=\"10.00\">(1, 4, 750) </text>\n",
       "</g>\n",
       "<!-- 72&#45;&gt;73 -->\n",
       "<g id=\"edge90\" class=\"edge\">\n",
       "<title>72&#45;&gt;73</title>\n",
       "<path fill=\"none\" stroke=\"black\" d=\"M724.66,-457.63C721.15,-449.56 717.05,-440.12 713.24,-431.34\"/>\n",
       "<polygon fill=\"black\" stroke=\"black\" points=\"716.45,-429.94 709.25,-422.16 710.03,-432.73 716.45,-429.94\"/>\n",
       "</g>\n",
       "<!-- 73&#45;&gt;74 -->\n",
       "<g id=\"edge91\" class=\"edge\">\n",
       "<title>73&#45;&gt;74</title>\n",
       "<path fill=\"none\" stroke=\"black\" d=\"M655.39,-379.83C633.69,-370.13 607.5,-358.43 584.73,-348.24\"/>\n",
       "<polygon fill=\"black\" stroke=\"black\" points=\"586.08,-345.02 575.53,-344.13 583.23,-351.41 586.08,-345.02\"/>\n",
       "</g>\n",
       "<!-- 85 -->\n",
       "<g id=\"node86\" class=\"node\">\n",
       "<title>85</title>\n",
       "<polygon fill=\"aliceblue\" stroke=\"transparent\" points=\"627,-266 434,-266 434,-224 627,-224 627,-266\"/>\n",
       "<polygon fill=\"none\" stroke=\"black\" points=\"434.5,-224 434.5,-266 481.5,-266 481.5,-224 434.5,-224\"/>\n",
       "<text text-anchor=\"start\" x=\"449\" y=\"-248\" font-family=\"Linux libertine\" font-size=\"10.00\">mul</text>\n",
       "<text text-anchor=\"start\" x=\"439.5\" y=\"-237\" font-family=\"Linux libertine\" font-size=\"10.00\">depth:1</text>\n",
       "<polygon fill=\"none\" stroke=\"black\" points=\"481.5,-245 481.5,-266 528.5,-266 528.5,-245 481.5,-245\"/>\n",
       "<text text-anchor=\"start\" x=\"491\" y=\"-253\" font-family=\"Linux libertine\" font-size=\"10.00\">input:</text>\n",
       "<polygon fill=\"none\" stroke=\"black\" points=\"528.5,-245 528.5,-266 627.5,-266 627.5,-245 528.5,-245\"/>\n",
       "<text text-anchor=\"start\" x=\"533.5\" y=\"-253\" font-family=\"Linux libertine\" font-size=\"10.00\">(1, 4, 1), (1, 4, 750) </text>\n",
       "<polygon fill=\"none\" stroke=\"black\" points=\"481.5,-224 481.5,-245 528.5,-245 528.5,-224 481.5,-224\"/>\n",
       "<text text-anchor=\"start\" x=\"486.5\" y=\"-232\" font-family=\"Linux libertine\" font-size=\"10.00\">output: </text>\n",
       "<polygon fill=\"none\" stroke=\"black\" points=\"528.5,-224 528.5,-245 627.5,-245 627.5,-224 528.5,-224\"/>\n",
       "<text text-anchor=\"start\" x=\"553.5\" y=\"-232\" font-family=\"Linux libertine\" font-size=\"10.00\">(1, 4, 750) </text>\n",
       "</g>\n",
       "<!-- 74&#45;&gt;85 -->\n",
       "<g id=\"edge92\" class=\"edge\">\n",
       "<title>74&#45;&gt;85</title>\n",
       "<path fill=\"none\" stroke=\"black\" d=\"M530.5,-301.63C530.5,-293.82 530.5,-284.73 530.5,-276.18\"/>\n",
       "<polygon fill=\"black\" stroke=\"black\" points=\"534,-276.16 530.5,-266.16 527,-276.16 534,-276.16\"/>\n",
       "</g>\n",
       "<!-- 75&#45;&gt;76 -->\n",
       "<g id=\"edge93\" class=\"edge\">\n",
       "<title>75&#45;&gt;76</title>\n",
       "<path fill=\"none\" stroke=\"black\" d=\"M282.88,-613.83C265.88,-604.47 245.49,-593.24 227.47,-583.32\"/>\n",
       "<polygon fill=\"black\" stroke=\"black\" points=\"228.74,-580.02 218.29,-578.26 225.36,-586.15 228.74,-580.02\"/>\n",
       "</g>\n",
       "<!-- 82 -->\n",
       "<g id=\"node83\" class=\"node\">\n",
       "<title>82</title>\n",
       "<polygon fill=\"aliceblue\" stroke=\"transparent\" points=\"373,-344 180,-344 180,-302 373,-302 373,-344\"/>\n",
       "<polygon fill=\"none\" stroke=\"black\" points=\"180.5,-302 180.5,-344 227.5,-344 227.5,-302 180.5,-302\"/>\n",
       "<text text-anchor=\"start\" x=\"197\" y=\"-326\" font-family=\"Linux libertine\" font-size=\"10.00\">div</text>\n",
       "<text text-anchor=\"start\" x=\"185.5\" y=\"-315\" font-family=\"Linux libertine\" font-size=\"10.00\">depth:1</text>\n",
       "<polygon fill=\"none\" stroke=\"black\" points=\"227.5,-323 227.5,-344 274.5,-344 274.5,-323 227.5,-323\"/>\n",
       "<text text-anchor=\"start\" x=\"237\" y=\"-331\" font-family=\"Linux libertine\" font-size=\"10.00\">input:</text>\n",
       "<polygon fill=\"none\" stroke=\"black\" points=\"274.5,-323 274.5,-344 373.5,-344 373.5,-323 274.5,-323\"/>\n",
       "<text text-anchor=\"start\" x=\"279.5\" y=\"-331\" font-family=\"Linux libertine\" font-size=\"10.00\">(1, 4, 1), (1, 4, 750) </text>\n",
       "<polygon fill=\"none\" stroke=\"black\" points=\"227.5,-302 227.5,-323 274.5,-323 274.5,-302 227.5,-302\"/>\n",
       "<text text-anchor=\"start\" x=\"232.5\" y=\"-310\" font-family=\"Linux libertine\" font-size=\"10.00\">output: </text>\n",
       "<polygon fill=\"none\" stroke=\"black\" points=\"274.5,-302 274.5,-323 373.5,-323 373.5,-302 274.5,-302\"/>\n",
       "<text text-anchor=\"start\" x=\"299.5\" y=\"-310\" font-family=\"Linux libertine\" font-size=\"10.00\">(1, 4, 750) </text>\n",
       "</g>\n",
       "<!-- 76&#45;&gt;82 -->\n",
       "<g id=\"edge94\" class=\"edge\">\n",
       "<title>76&#45;&gt;82</title>\n",
       "<path fill=\"none\" stroke=\"black\" d=\"M179.06,-535.96C175.88,-501.58 173.71,-430.18 202.5,-380 209.21,-368.31 219.44,-358.28 230.17,-350.07\"/>\n",
       "<polygon fill=\"black\" stroke=\"black\" points=\"232.33,-352.82 238.42,-344.15 228.25,-347.13 232.33,-352.82\"/>\n",
       "</g>\n",
       "<!-- 78 -->\n",
       "<g id=\"node79\" class=\"node\">\n",
       "<title>78</title>\n",
       "<polygon fill=\"aliceblue\" stroke=\"transparent\" points=\"431,-578 278,-578 278,-536 431,-536 431,-578\"/>\n",
       "<polygon fill=\"none\" stroke=\"black\" points=\"278.5,-536 278.5,-578 325.5,-578 325.5,-536 278.5,-536\"/>\n",
       "<text text-anchor=\"start\" x=\"292\" y=\"-560\" font-family=\"Linux libertine\" font-size=\"10.00\">pow</text>\n",
       "<text text-anchor=\"start\" x=\"283.5\" y=\"-549\" font-family=\"Linux libertine\" font-size=\"10.00\">depth:1</text>\n",
       "<polygon fill=\"none\" stroke=\"black\" points=\"325.5,-557 325.5,-578 372.5,-578 372.5,-557 325.5,-557\"/>\n",
       "<text text-anchor=\"start\" x=\"335\" y=\"-565\" font-family=\"Linux libertine\" font-size=\"10.00\">input:</text>\n",
       "<polygon fill=\"none\" stroke=\"black\" points=\"372.5,-557 372.5,-578 431.5,-578 431.5,-557 372.5,-557\"/>\n",
       "<text text-anchor=\"start\" x=\"377.5\" y=\"-565\" font-family=\"Linux libertine\" font-size=\"10.00\">(1, 4, 750) </text>\n",
       "<polygon fill=\"none\" stroke=\"black\" points=\"325.5,-536 325.5,-557 372.5,-557 372.5,-536 325.5,-536\"/>\n",
       "<text text-anchor=\"start\" x=\"330.5\" y=\"-544\" font-family=\"Linux libertine\" font-size=\"10.00\">output: </text>\n",
       "<polygon fill=\"none\" stroke=\"black\" points=\"372.5,-536 372.5,-557 431.5,-557 431.5,-536 372.5,-536\"/>\n",
       "<text text-anchor=\"start\" x=\"377.5\" y=\"-544\" font-family=\"Linux libertine\" font-size=\"10.00\">(1, 4, 750) </text>\n",
       "</g>\n",
       "<!-- 77&#45;&gt;78 -->\n",
       "<g id=\"edge95\" class=\"edge\">\n",
       "<title>77&#45;&gt;78</title>\n",
       "<path fill=\"none\" stroke=\"black\" d=\"M817.79,-615.43C814.66,-614.93 811.56,-614.45 808.5,-614 662.57,-592.31 624.71,-597.75 478.5,-578 466.39,-576.36 453.65,-574.49 441.12,-572.55\"/>\n",
       "<polygon fill=\"black\" stroke=\"black\" points=\"441.56,-569.08 431.14,-570.99 440.48,-575.99 441.56,-569.08\"/>\n",
       "</g>\n",
       "<!-- 79 -->\n",
       "<g id=\"node80\" class=\"node\">\n",
       "<title>79</title>\n",
       "<polygon fill=\"aliceblue\" stroke=\"transparent\" points=\"373,-500 220,-500 220,-458 373,-458 373,-500\"/>\n",
       "<polygon fill=\"none\" stroke=\"black\" points=\"220.5,-458 220.5,-500 267.5,-500 267.5,-458 220.5,-458\"/>\n",
       "<text text-anchor=\"start\" x=\"235\" y=\"-482\" font-family=\"Linux libertine\" font-size=\"10.00\">mul</text>\n",
       "<text text-anchor=\"start\" x=\"225.5\" y=\"-471\" font-family=\"Linux libertine\" font-size=\"10.00\">depth:1</text>\n",
       "<polygon fill=\"none\" stroke=\"black\" points=\"267.5,-479 267.5,-500 314.5,-500 314.5,-479 267.5,-479\"/>\n",
       "<text text-anchor=\"start\" x=\"277\" y=\"-487\" font-family=\"Linux libertine\" font-size=\"10.00\">input:</text>\n",
       "<polygon fill=\"none\" stroke=\"black\" points=\"314.5,-479 314.5,-500 373.5,-500 373.5,-479 314.5,-479\"/>\n",
       "<text text-anchor=\"start\" x=\"319.5\" y=\"-487\" font-family=\"Linux libertine\" font-size=\"10.00\">(1, 4, 750) </text>\n",
       "<polygon fill=\"none\" stroke=\"black\" points=\"267.5,-458 267.5,-479 314.5,-479 314.5,-458 267.5,-458\"/>\n",
       "<text text-anchor=\"start\" x=\"272.5\" y=\"-466\" font-family=\"Linux libertine\" font-size=\"10.00\">output: </text>\n",
       "<polygon fill=\"none\" stroke=\"black\" points=\"314.5,-458 314.5,-479 373.5,-479 373.5,-458 314.5,-458\"/>\n",
       "<text text-anchor=\"start\" x=\"319.5\" y=\"-466\" font-family=\"Linux libertine\" font-size=\"10.00\">(1, 4, 750) </text>\n",
       "</g>\n",
       "<!-- 78&#45;&gt;79 -->\n",
       "<g id=\"edge96\" class=\"edge\">\n",
       "<title>78&#45;&gt;79</title>\n",
       "<path fill=\"none\" stroke=\"black\" d=\"M338.96,-535.63C332.53,-527.22 324.98,-517.32 318.04,-508.22\"/>\n",
       "<polygon fill=\"black\" stroke=\"black\" points=\"320.73,-505.99 311.88,-500.16 315.17,-510.23 320.73,-505.99\"/>\n",
       "</g>\n",
       "<!-- 81 -->\n",
       "<g id=\"node82\" class=\"node\">\n",
       "<title>81</title>\n",
       "<polygon fill=\"aliceblue\" stroke=\"transparent\" points=\"405,-422 212,-422 212,-380 405,-380 405,-422\"/>\n",
       "<polygon fill=\"none\" stroke=\"black\" points=\"212.5,-380 212.5,-422 259.5,-422 259.5,-380 212.5,-380\"/>\n",
       "<text text-anchor=\"start\" x=\"227\" y=\"-404\" font-family=\"Linux libertine\" font-size=\"10.00\">add</text>\n",
       "<text text-anchor=\"start\" x=\"217.5\" y=\"-393\" font-family=\"Linux libertine\" font-size=\"10.00\">depth:1</text>\n",
       "<polygon fill=\"none\" stroke=\"black\" points=\"259.5,-401 259.5,-422 306.5,-422 306.5,-401 259.5,-401\"/>\n",
       "<text text-anchor=\"start\" x=\"269\" y=\"-409\" font-family=\"Linux libertine\" font-size=\"10.00\">input:</text>\n",
       "<polygon fill=\"none\" stroke=\"black\" points=\"306.5,-401 306.5,-422 405.5,-422 405.5,-401 306.5,-401\"/>\n",
       "<text text-anchor=\"start\" x=\"311.5\" y=\"-409\" font-family=\"Linux libertine\" font-size=\"10.00\">(1, 4, 750), (1, 4, 1) </text>\n",
       "<polygon fill=\"none\" stroke=\"black\" points=\"259.5,-380 259.5,-401 306.5,-401 306.5,-380 259.5,-380\"/>\n",
       "<text text-anchor=\"start\" x=\"264.5\" y=\"-388\" font-family=\"Linux libertine\" font-size=\"10.00\">output: </text>\n",
       "<polygon fill=\"none\" stroke=\"black\" points=\"306.5,-380 306.5,-401 405.5,-401 405.5,-380 306.5,-380\"/>\n",
       "<text text-anchor=\"start\" x=\"331.5\" y=\"-388\" font-family=\"Linux libertine\" font-size=\"10.00\">(1, 4, 750) </text>\n",
       "</g>\n",
       "<!-- 79&#45;&gt;81 -->\n",
       "<g id=\"edge97\" class=\"edge\">\n",
       "<title>79&#45;&gt;81</title>\n",
       "<path fill=\"none\" stroke=\"black\" d=\"M299.72,-457.63C300.95,-449.82 302.39,-440.73 303.73,-432.18\"/>\n",
       "<polygon fill=\"black\" stroke=\"black\" points=\"307.21,-432.58 305.32,-422.16 300.3,-431.49 307.21,-432.58\"/>\n",
       "</g>\n",
       "<!-- 80&#45;&gt;81 -->\n",
       "<g id=\"edge98\" class=\"edge\">\n",
       "<title>80&#45;&gt;81</title>\n",
       "<path fill=\"none\" stroke=\"black\" d=\"M420.9,-457.83C401.63,-448.26 378.43,-436.74 358.13,-426.65\"/>\n",
       "<polygon fill=\"black\" stroke=\"black\" points=\"359.54,-423.44 349.02,-422.13 356.42,-429.71 359.54,-423.44\"/>\n",
       "</g>\n",
       "<!-- 81&#45;&gt;82 -->\n",
       "<g id=\"edge99\" class=\"edge\">\n",
       "<title>81&#45;&gt;82</title>\n",
       "<path fill=\"none\" stroke=\"black\" d=\"M299.92,-379.63C296.56,-371.65 292.64,-362.33 288.97,-353.62\"/>\n",
       "<polygon fill=\"black\" stroke=\"black\" points=\"292.09,-352.02 284.99,-344.16 285.64,-354.73 292.09,-352.02\"/>\n",
       "</g>\n",
       "<!-- 82&#45;&gt;83 -->\n",
       "<g id=\"edge100\" class=\"edge\">\n",
       "<title>82&#45;&gt;83</title>\n",
       "<path fill=\"none\" stroke=\"black\" d=\"M276.5,-301.63C276.5,-293.82 276.5,-284.73 276.5,-276.18\"/>\n",
       "<polygon fill=\"black\" stroke=\"black\" points=\"280,-276.16 276.5,-266.16 273,-276.16 280,-276.16\"/>\n",
       "</g>\n",
       "<!-- 86 -->\n",
       "<g id=\"node87\" class=\"node\">\n",
       "<title>86</title>\n",
       "<polygon fill=\"aliceblue\" stroke=\"transparent\" points=\"466,-188 297,-188 297,-146 466,-146 466,-188\"/>\n",
       "<polygon fill=\"none\" stroke=\"black\" points=\"297.5,-146 297.5,-188 344.5,-188 344.5,-146 297.5,-146\"/>\n",
       "<text text-anchor=\"start\" x=\"312\" y=\"-170\" font-family=\"Linux libertine\" font-size=\"10.00\">add</text>\n",
       "<text text-anchor=\"start\" x=\"302.5\" y=\"-159\" font-family=\"Linux libertine\" font-size=\"10.00\">depth:1</text>\n",
       "<polygon fill=\"none\" stroke=\"black\" points=\"344.5,-167 344.5,-188 391.5,-188 391.5,-167 344.5,-167\"/>\n",
       "<text text-anchor=\"start\" x=\"354\" y=\"-175\" font-family=\"Linux libertine\" font-size=\"10.00\">input:</text>\n",
       "<polygon fill=\"none\" stroke=\"black\" points=\"391.5,-167 391.5,-188 466.5,-188 466.5,-167 391.5,-167\"/>\n",
       "<text text-anchor=\"start\" x=\"396.5\" y=\"-175\" font-family=\"Linux libertine\" font-size=\"10.00\">2 x (1, 4, 750) </text>\n",
       "<polygon fill=\"none\" stroke=\"black\" points=\"344.5,-146 344.5,-167 391.5,-167 391.5,-146 344.5,-146\"/>\n",
       "<text text-anchor=\"start\" x=\"349.5\" y=\"-154\" font-family=\"Linux libertine\" font-size=\"10.00\">output: </text>\n",
       "<polygon fill=\"none\" stroke=\"black\" points=\"391.5,-146 391.5,-167 466.5,-167 466.5,-146 391.5,-146\"/>\n",
       "<text text-anchor=\"start\" x=\"404.5\" y=\"-154\" font-family=\"Linux libertine\" font-size=\"10.00\">(1, 4, 750) </text>\n",
       "</g>\n",
       "<!-- 83&#45;&gt;86 -->\n",
       "<g id=\"edge101\" class=\"edge\">\n",
       "<title>83&#45;&gt;86</title>\n",
       "<path fill=\"none\" stroke=\"black\" d=\"M304.36,-223.83C316.94,-214.73 331.96,-203.86 345.39,-194.14\"/>\n",
       "<polygon fill=\"black\" stroke=\"black\" points=\"347.46,-196.96 353.51,-188.26 343.35,-191.29 347.46,-196.96\"/>\n",
       "</g>\n",
       "<!-- 84&#45;&gt;85 -->\n",
       "<g id=\"edge102\" class=\"edge\">\n",
       "<title>84&#45;&gt;85</title>\n",
       "<path fill=\"none\" stroke=\"black\" d=\"M667.88,-301.83C643.8,-292.05 614.69,-280.22 589.48,-269.97\"/>\n",
       "<polygon fill=\"black\" stroke=\"black\" points=\"590.61,-266.65 580.03,-266.13 587.98,-273.14 590.61,-266.65\"/>\n",
       "</g>\n",
       "<!-- 85&#45;&gt;86 -->\n",
       "<g id=\"edge103\" class=\"edge\">\n",
       "<title>85&#45;&gt;86</title>\n",
       "<path fill=\"none\" stroke=\"black\" d=\"M490.96,-223.83C472.28,-214.3 449.81,-202.84 430.1,-192.79\"/>\n",
       "<polygon fill=\"black\" stroke=\"black\" points=\"431.46,-189.56 420.96,-188.13 428.28,-195.79 431.46,-189.56\"/>\n",
       "</g>\n",
       "<!-- 87 -->\n",
       "<g id=\"node88\" class=\"node\">\n",
       "<title>87</title>\n",
       "<polygon fill=\"aliceblue\" stroke=\"transparent\" points=\"458,-110 305,-110 305,-68 458,-68 458,-110\"/>\n",
       "<polygon fill=\"none\" stroke=\"black\" points=\"305.5,-68 305.5,-110 352.5,-110 352.5,-68 305.5,-68\"/>\n",
       "<text text-anchor=\"start\" x=\"324\" y=\"-92\" font-family=\"Linux libertine\" font-size=\"10.00\">to</text>\n",
       "<text text-anchor=\"start\" x=\"310.5\" y=\"-81\" font-family=\"Linux libertine\" font-size=\"10.00\">depth:1</text>\n",
       "<polygon fill=\"none\" stroke=\"black\" points=\"352.5,-89 352.5,-110 399.5,-110 399.5,-89 352.5,-89\"/>\n",
       "<text text-anchor=\"start\" x=\"362\" y=\"-97\" font-family=\"Linux libertine\" font-size=\"10.00\">input:</text>\n",
       "<polygon fill=\"none\" stroke=\"black\" points=\"399.5,-89 399.5,-110 458.5,-110 458.5,-89 399.5,-89\"/>\n",
       "<text text-anchor=\"start\" x=\"404.5\" y=\"-97\" font-family=\"Linux libertine\" font-size=\"10.00\">(1, 4, 750) </text>\n",
       "<polygon fill=\"none\" stroke=\"black\" points=\"352.5,-68 352.5,-89 399.5,-89 399.5,-68 352.5,-68\"/>\n",
       "<text text-anchor=\"start\" x=\"357.5\" y=\"-76\" font-family=\"Linux libertine\" font-size=\"10.00\">output: </text>\n",
       "<polygon fill=\"none\" stroke=\"black\" points=\"399.5,-68 399.5,-89 458.5,-89 458.5,-68 399.5,-68\"/>\n",
       "<text text-anchor=\"start\" x=\"404.5\" y=\"-76\" font-family=\"Linux libertine\" font-size=\"10.00\">(1, 4, 750) </text>\n",
       "</g>\n",
       "<!-- 86&#45;&gt;87 -->\n",
       "<g id=\"edge104\" class=\"edge\">\n",
       "<title>86&#45;&gt;87</title>\n",
       "<path fill=\"none\" stroke=\"black\" d=\"M381.5,-145.63C381.5,-137.82 381.5,-128.73 381.5,-120.18\"/>\n",
       "<polygon fill=\"black\" stroke=\"black\" points=\"385,-120.16 381.5,-110.16 378,-120.16 385,-120.16\"/>\n",
       "</g>\n",
       "<!-- 88 -->\n",
       "<g id=\"node89\" class=\"node\">\n",
       "<title>88</title>\n",
       "<polygon fill=\"lightyellow\" stroke=\"transparent\" points=\"448,-32 315,-32 315,0 448,0 448,-32\"/>\n",
       "<polygon fill=\"none\" stroke=\"black\" points=\"315.5,0 315.5,-32 391.5,-32 391.5,0 315.5,0\"/>\n",
       "<text text-anchor=\"start\" x=\"320.5\" y=\"-19\" font-family=\"Linux libertine\" font-size=\"10.00\">output&#45;tensor</text>\n",
       "<text text-anchor=\"start\" x=\"335\" y=\"-8\" font-family=\"Linux libertine\" font-size=\"10.00\">depth:0</text>\n",
       "<polygon fill=\"none\" stroke=\"black\" points=\"391.5,0 391.5,-32 448.5,-32 448.5,0 391.5,0\"/>\n",
       "<text text-anchor=\"start\" x=\"396.5\" y=\"-13.5\" font-family=\"Linux libertine\" font-size=\"10.00\">(1, 4, 750)</text>\n",
       "</g>\n",
       "<!-- 87&#45;&gt;88 -->\n",
       "<g id=\"edge105\" class=\"edge\">\n",
       "<title>87&#45;&gt;88</title>\n",
       "<path fill=\"none\" stroke=\"black\" d=\"M381.5,-67.84C381.5,-59.89 381.5,-50.66 381.5,-42.26\"/>\n",
       "<polygon fill=\"black\" stroke=\"black\" points=\"385,-42.24 381.5,-32.24 378,-42.24 385,-42.24\"/>\n",
       "</g>\n",
       "</g>\n",
       "</svg>\n"
      ],
      "text/plain": [
       "<graphviz.graphs.Digraph at 0x7f5e187a1750>"
      ]
     },
     "execution_count": 82,
     "metadata": {},
     "output_type": "execute_result"
    }
   ],
   "source": [
    "from torchview import draw_graph\n",
    "\n",
    "model_graph = draw_graph(fitter.encoder, input_data=x)\n",
    "\n",
    "# model_graph = draw_graph(fitter.encoder, input_data=x, \n",
    "#                          save_graph=True,\n",
    "#                          filename=\"model_visualization_torchview\",\n",
    "#                          directory=\"./\",\n",
    "#                          format=\"png\")\n",
    "\n",
    "model_graph.visual_graph"
   ]
  },
  {
   "cell_type": "code",
   "execution_count": 13,
   "metadata": {},
   "outputs": [],
   "source": [
    "# import numpy as np\n",
    "\n",
    "# def draw_m_in_array(size_=100):\n",
    "#     arr_ = np.zeros((size_, size_), dtype=int)\n",
    "#     w=size_//10\n",
    "#     size=size_//2\n",
    "#     arr = np.zeros((size, size), dtype=int)\n",
    "\n",
    "#     for i in range(size):\n",
    "#         # Left vertical line\n",
    "#         arr[i, 0:w] = 1\n",
    "#         # Right vertical line\n",
    "#         arr[i, size-w:size] = 1\n",
    "#         # Diagonal from left to middle\n",
    "#         if w <= i < size // 2:\n",
    "#             arr[i-w:i+w,i] = 1\n",
    "#             # Diagonal from right to middle\n",
    "#             arr[i-w:i+w, size-(i+1)] = 1\n",
    "#         arr_[size_//4:size_//4+size,size_//4:size_ //4+size] = arr\n",
    "#     return arr_\n",
    "\n",
    "# m_array = draw_m_in_array()\n",
    "# # plt.imshow(m_array)"
   ]
  },
  {
   "cell_type": "code",
   "execution_count": 83,
   "metadata": {},
   "outputs": [
    {
     "name": "stderr",
     "output_type": "stream",
     "text": [
      "Fitting scalers for 00.000_noise: 100%|██████████| 10000/10000 [00:04<00:00, 2022.04it/s]\n"
     ]
    },
    {
     "data": {
      "text/plain": [
       "<matplotlib.legend.Legend at 0x7f5ef1619e80>"
      ]
     },
     "execution_count": 83,
     "metadata": {},
     "output_type": "execute_result"
    },
    {
     "data": {
      "text/plain": [
       "<Figure size 640x480 with 0 Axes>"
      ]
     },
     "metadata": {},
     "output_type": "display_data"
    },
    {
     "data": {
      "image/png": "[encoded data removed]",
      "text/plain": [
       "<Figure size 1000x1000 with 9 Axes>"
      ]
     },
     "metadata": {},
     "output_type": "display_data"
    }
   ],
   "source": [
    "import matplotlib.pyplot as plt\n",
    "plt.clf()\n",
    "test_inds= [10,923,2346,3456,5873,7889,8245,9357,9795]\n",
    "# batch = next(iter(fitter.dataloader))\n",
    "# print(batch[1].shape)\n",
    "\n",
    "dset.noise_ = 5\n",
    "test_batch = torch.Tensor(dset[test_inds][1]).reshape(-1,1,dset.spec_len).float().to('cuda:0')\n",
    "out = fitter.encoder(test_batch.to('cuda:0'))\n",
    "# print(out[0].shape)\n",
    "px = 0\n",
    "fig, ax = plt.subplots(3,3,figsize=(10,10))\n",
    "ax=ax.flatten()\n",
    "fig.suptitle(f'Random sampler: noise {dset.noise_}, scaling kernel size {dset.scaling_kernel_size}')\n",
    "lines = []\n",
    "\n",
    "\n",
    "for i,ind in enumerate(test_inds):\n",
    "    a = ax[i].plot(test_batch[i].cpu().detach().numpy().flatten(), label='input')\n",
    "    if i==0: lines.append(a[0])\n",
    "    for f in range(out[0].shape[1]):\n",
    "        a = ax[i].plot(out[0][i,f].cpu().detach().numpy(),'-.', linewidth=0.5, label=f'fit {f}')\n",
    "        if i==0: lines.append(a[0]) \n",
    "    a = ax[i].plot(out[0][i].sum(dim=0).cpu().detach().numpy(), 'k--', label='sum')\n",
    "    if i==0: lines.append(a[0])\n",
    "\n",
    "\n",
    "dset.noise_ = 0\n",
    "for i,ind in enumerate(test_inds):\n",
    "    a = ax[i].plot(dset[ind][1], label='0-noise')\n",
    "    ax[i].set_ylim(0, 1)\n",
    "    if i==0: lines.append(a[0])\n",
    "\n",
    "ax[0].legend(handles=lines, loc='upper right')\n",
    "    "
   ]
  },
  {
   "cell_type": "code",
   "execution_count": null,
   "metadata": {},
   "outputs": [],
   "source": []
  },
  {
   "cell_type": "code",
   "execution_count": 138,
   "metadata": {},
   "outputs": [
    {
     "ename": "NameError",
     "evalue": "name 'batch' is not defined",
     "output_type": "error",
     "traceback": [
      "\u001b[0;31m---------------------------------------------------------------------------\u001b[0m",
      "\u001b[0;31mNameError\u001b[0m                                 Traceback (most recent call last)",
      "Cell \u001b[0;32mIn[138], line 2\u001b[0m\n\u001b[1;32m      1\u001b[0m dset\u001b[38;5;241m.\u001b[39mnoise_ \u001b[38;5;241m=\u001b[39m \u001b[38;5;241m0\u001b[39m\n\u001b[0;32m----> 2\u001b[0m plt\u001b[38;5;241m.\u001b[39mplot(dset[\u001b[43mbatch\u001b[49m[\u001b[38;5;241m0\u001b[39m][px]][\u001b[38;5;241m1\u001b[39m][px], label\u001b[38;5;241m=\u001b[39m\u001b[38;5;124m'\u001b[39m\u001b[38;5;124m0-noise\u001b[39m\u001b[38;5;124m'\u001b[39m)\n",
      "\u001b[0;31mNameError\u001b[0m: name 'batch' is not defined"
     ]
    }
   ],
   "source": [
    "dset.noise_ = 0\n",
    "plt.plot(dset[batch[0][px]][1][px], label='0-noise')"
   ]
  },
  {
   "cell_type": "markdown",
   "metadata": {},
   "source": [
    "## Train"
   ]
  },
  {
   "cell_type": "code",
   "execution_count": 14,
   "metadata": {},
   "outputs": [],
   "source": [
    "# # Training unscaled data\n",
    "# num_fits = 4 # number of curves to sum up\n",
    "# num_params = 4 # number of parameters to fit\n",
    "# kernel_sizes = [1,3,5,7,9]\n",
    "# for kernel_size in kernel_sizes:    \n",
    "#     for n,noise in enumerate(dset.noise_levels):\n",
    "#         print('\\n', noise)\n",
    "#         dset.noise_ = n\n",
    "    \n",
    "#         fitter = Fitter_AE(function=generate_pseudovoigt_1D,\n",
    "#                         dset=dset,\n",
    "#                         num_params=num_params,\n",
    "#                         num_fits=num_fits,\n",
    "#                         input_channels = 1,\n",
    "#                         device='cuda:0',\n",
    "#                         encoder = Multiscale1DFitter,\n",
    "#                         encoder_params = {\n",
    "#                             \"model_block_dict\": { # factory wrapper for blocks\n",
    "#                                     \"hidden_x1\": block_factory(Conv_Block)(output_channels_list=[8,4], \n",
    "#                                                                             kernel_size_list=[5,3], \n",
    "#                                                                             pool_list=[128], \n",
    "#                                                                             max_pool=False),\n",
    "#                                     \"hidden_xfc\": block_factory(FC_Block)(output_size_list=[64,32]),\n",
    "#                                     \"hidden_x2\": block_factory(Conv_Block)(output_channels_list=[4,4,4], \n",
    "#                                                                             kernel_size_list=[3,3,3], \n",
    "#                                                                             pool_list=[8,4], \n",
    "#                                                                             max_pool=True),\n",
    "#                                     \"hidden_embedding\": block_factory(FC_Block)(output_size_list=[8,num_params*num_fits]),\n",
    "#                                 },\n",
    "#                                 'final_activation_function': pseudovoigt_1D_activations,\n",
    "#                                 'final_activation_kwargs': {'limits': [20, dset.shape[-1], dset.shape[-1], dset.shape[-3]]},\n",
    "#                                 \"skip_connections\": [\"hidden_xfc\", \"hidden_embedding\"] \n",
    "#                             },\n",
    "#                             sampler = sampler,\n",
    "#                             sampler_params = {'dset': dset, \n",
    "#                                             'batch_size': 100, \n",
    "#                                             'gaussian_std': 5, \n",
    "#                                             'orig_shape': dset.shape[0:-1], \n",
    "#                                             'num_neighbors': 20, },\n",
    "#                             checkpoint_folder=f'/home/m3learning/Northwestern/Northwestern_link/Gaussian_Sampler/checkpoints_standard_minmax_scaled_{kernel_size}/{noise}/',\n",
    "#                         )\n",
    "#         fitter.train(epochs=101,save_every=10)"
   ]
  },
  {
   "cell_type": "markdown",
   "metadata": {},
   "source": [
    "## Fetch embeddings for all noise levels"
   ]
  },
  {
   "cell_type": "code",
   "execution_count": 15,
   "metadata": {},
   "outputs": [],
   "source": [
    "# from Gaussian_Sampler.data.datasets import Fake_PV_Embeddings\n",
    "# emb = Fake_PV_Embeddings(dset, fitter, fitter.checkpoint_folder)"
   ]
  },
  {
   "cell_type": "code",
   "execution_count": 16,
   "metadata": {},
   "outputs": [],
   "source": [
    "# import glob\n",
    "# from Gaussian_Sampler.data.datasets import Fake_PV_Embeddings\n",
    "# kernel_sizes = [1,3,5,7,9]\n",
    "# for kernel_size in kernel_sizes:    \n",
    "#     for n,noise in enumerate(dset.noise_levels):\n",
    "#         print('\\n', noise)\n",
    "#         dset.noise_ = n\n",
    "#         checkpoint_path = glob.glob(f'/home/m3learning/Northwestern/Northwestern_link/Gaussian_Sampler/checkpoints_standard_minmax_scaled_{kernel_size}/{noise}/*.pkl')\n",
    "#         checkpoint_path.sort()\n",
    "#         checkpoint_path = checkpoint_path[-1]\n",
    "#         fitter.load_weights(checkpoint_path)\n",
    "        \n",
    "#         emb = Fake_PV_Embeddings(dset, fitter, checkpoint_path)\n",
    "#         emb.write_embeddings(overwrite=True)"
   ]
  },
  {
   "cell_type": "markdown",
   "metadata": {},
   "source": [
    "## Visualize embeddings"
   ]
  },
  {
   "cell_type": "code",
   "execution_count": 17,
   "metadata": {},
   "outputs": [],
   "source": [
    "from Gaussian_Sampler.data.datasets import Fake_PV_Embeddings\n",
    "from Gaussian_Sampler.viz.hv_viz import Fake_PV_viz_embeddings\n",
    "kernel_size = 5\n",
    "checks = glob.glob(f'/home/m3learning/Northwestern/Northwestern_link/Gaussian_Sampler/checkpoints_standard_minmax_scaled_{kernel_size}/*/*100*.pkl')\n",
    "# checks = glob.glob(f'/home/m3learning/Northwestern/Northwestern_link/Gaussian_Sampler/checkpoints_standard_minmax_scaled/*/*100*.pkl')\n",
    "checks.sort()\n",
    "checkpoint_path = checks[4]\n",
    "fitter.load_weights(checkpoint_path)\n",
    "\n",
    "emb = Fake_PV_Embeddings(dset, fitter, checkpoint_path)\n",
    "emb.write_embeddings(overwrite=False)"
   ]
  },
  {
   "cell_type": "code",
   "execution_count": 18,
   "metadata": {},
   "outputs": [],
   "source": [
    "fitter._dataloader_sampler = sampler\n",
    "emb_viz = Fake_PV_viz_embeddings(fitter, emb, dset)"
   ]
  },
  {
   "cell_type": "code",
   "execution_count": null,
   "metadata": {},
   "outputs": [
    {
     "data": {
      "text/html": [
       "<script type=\"esms-options\">{\"shimMode\": true}</script><style>*[data-root-id],\n",
       "*[data-root-id] > * {\n",
       "  box-sizing: border-box;\n",
       "  font-family: var(--jp-ui-font-family);\n",
       "  font-size: var(--jp-ui-font-size1);\n",
       "  color: var(--vscode-editor-foreground, var(--jp-ui-font-color1));\n",
       "}\n",
       "\n",
       "/* Override VSCode background color */\n",
       ".cell-output-ipywidget-background:has(\n",
       "    > .cell-output-ipywidget-background > .lm-Widget > *[data-root-id]\n",
       "  ),\n",
       ".cell-output-ipywidget-background:has(> .lm-Widget > *[data-root-id]) {\n",
       "  background-color: transparent !important;\n",
       "}\n",
       "</style>"
      ]
     },
     "metadata": {},
     "output_type": "display_data"
    },
    {
     "data": {
      "application/javascript": "(function(root) {\n  function now() {\n    return new Date();\n  }\n\n  const force = false;\n  const py_version = '3.6.3'.replace('rc', '-rc.').replace('.dev', '-dev.');\n  const reloading = true;\n  const Bokeh = root.Bokeh;\n\n  // Set a timeout for this load but only if we are not already initializing\n  if (typeof (root._bokeh_timeout) === \"undefined\" || (force || !root._bokeh_is_initializing)) {\n    root._bokeh_timeout = Date.now() + 5000;\n    root._bokeh_failed_load = false;\n  }\n\n  function run_callbacks() {\n    try {\n      root._bokeh_onload_callbacks.forEach(function(callback) {\n        if (callback != null)\n          callback();\n      });\n    } finally {\n      delete root._bokeh_onload_callbacks;\n    }\n    console.debug(\"Bokeh: all callbacks have finished\");\n  }\n\n  function load_libs(css_urls, js_urls, js_modules, js_exports, callback) {\n    if (css_urls == null) css_urls = [];\n    if (js_urls == null) js_urls = [];\n    if (js_modules == null) js_modules = [];\n    if (js_exports == null) js_exports = {};\n\n    root._bokeh_onload_callbacks.push(callback);\n\n    if (root._bokeh_is_loading > 0) {\n      // Don't load bokeh if it is still initializing\n      console.debug(\"Bokeh: BokehJS is being loaded, scheduling callback at\", now());\n      return null;\n    } else if (js_urls.length === 0 && js_modules.length === 0 && Object.keys(js_exports).length === 0) {\n      // There is nothing to load\n      run_callbacks();\n      return null;\n    }\n\n    function on_load() {\n      root._bokeh_is_loading--;\n      if (root._bokeh_is_loading === 0) {\n        console.debug(\"Bokeh: all BokehJS libraries/stylesheets loaded\");\n        run_callbacks()\n      }\n    }\n    window._bokeh_on_load = on_load\n\n    function on_error(e) {\n      const src_el = e.srcElement\n      console.error(\"failed to load \" + (src_el.href || src_el.src));\n    }\n\n    const skip = [];\n    if (window.requirejs) {\n      window.requirejs.config({'packages': {}, 'paths': {}, 'shim': {}});\n      root._bokeh_is_loading = css_urls.length + 0;\n    } else {\n      root._bokeh_is_loading = css_urls.length + js_urls.length + js_modules.length + Object.keys(js_exports).length;\n    }\n\n    const existing_stylesheets = []\n    const links = document.getElementsByTagName('link')\n    for (let i = 0; i < links.length; i++) {\n      const link = links[i]\n      if (link.href != null) {\n        existing_stylesheets.push(link.href)\n      }\n    }\n    for (let i = 0; i < css_urls.length; i++) {\n      const url = css_urls[i];\n      const escaped = encodeURI(url)\n      if (existing_stylesheets.indexOf(escaped) !== -1) {\n        on_load()\n        continue;\n      }\n      const element = document.createElement(\"link\");\n      element.onload = on_load;\n      element.onerror = on_error;\n      element.rel = \"stylesheet\";\n      element.type = \"text/css\";\n      element.href = url;\n      console.debug(\"Bokeh: injecting link tag for BokehJS stylesheet: \", url);\n      document.body.appendChild(element);\n    }    var existing_scripts = []\n    const scripts = document.getElementsByTagName('script')\n    for (let i = 0; i < scripts.length; i++) {\n      var script = scripts[i]\n      if (script.src != null) {\n        existing_scripts.push(script.src)\n      }\n    }\n    for (let i = 0; i < js_urls.length; i++) {\n      const url = js_urls[i];\n      const escaped = encodeURI(url)\n      if (skip.indexOf(escaped) !== -1 || existing_scripts.indexOf(escaped) !== -1) {\n        if (!window.requirejs) {\n          on_load();\n        }\n        continue;\n      }\n      const element = document.createElement('script');\n      element.onload = on_load;\n      element.onerror = on_error;\n      element.async = false;\n      element.src = url;\n      console.debug(\"Bokeh: injecting script tag for BokehJS library: \", url);\n      document.head.appendChild(element);\n    }\n    for (let i = 0; i < js_modules.length; i++) {\n      const url = js_modules[i];\n      const escaped = encodeURI(url)\n      if (skip.indexOf(escaped) !== -1 || existing_scripts.indexOf(escaped) !== -1) {\n        if (!window.requirejs) {\n          on_load();\n        }\n        continue;\n      }\n      var element = document.createElement('script');\n      element.onload = on_load;\n      element.onerror = on_error;\n      element.async = false;\n      element.src = url;\n      element.type = \"module\";\n      console.debug(\"Bokeh: injecting script tag for BokehJS library: \", url);\n      document.head.appendChild(element);\n    }\n    for (const name in js_exports) {\n      const url = js_exports[name];\n      const escaped = encodeURI(url)\n      if (skip.indexOf(escaped) >= 0 || root[name] != null) {\n        if (!window.requirejs) {\n          on_load();\n        }\n        continue;\n      }\n      var element = document.createElement('script');\n      element.onerror = on_error;\n      element.async = false;\n      element.type = \"module\";\n      console.debug(\"Bokeh: injecting script tag for BokehJS library: \", url);\n      element.textContent = `\n      import ${name} from \"${url}\"\n      window.${name} = ${name}\n      window._bokeh_on_load()\n      `\n      document.head.appendChild(element);\n    }\n    if (!js_urls.length && !js_modules.length) {\n      on_load()\n    }\n  };\n\n  function inject_raw_css(css) {\n    const element = document.createElement(\"style\");\n    element.appendChild(document.createTextNode(css));\n    document.body.appendChild(element);\n  }\n\n  const js_urls = [\"https://cdn.holoviz.org/panel/1.6.0/dist/bundled/reactiveesm/es-module-shims@^1.10.0/dist/es-module-shims.min.js\"];\n  const js_modules = [];\n  const js_exports = {};\n  const css_urls = [];\n  const inline_js = [    function(Bokeh) {\n      Bokeh.set_log_level(\"info\");\n    },\nfunction(Bokeh) {} // ensure no trailing comma for IE\n  ];\n\n  function run_inline_js() {\n    if ((root.Bokeh !== undefined) || (force === true)) {\n      for (let i = 0; i < inline_js.length; i++) {\n        try {\n          inline_js[i].call(root, root.Bokeh);\n        } catch(e) {\n          if (!reloading) {\n            throw e;\n          }\n        }\n      }\n      // Cache old bokeh versions\n      if (Bokeh != undefined && !reloading) {\n        var NewBokeh = root.Bokeh;\n        if (Bokeh.versions === undefined) {\n          Bokeh.versions = new Map();\n        }\n        if (NewBokeh.version !== Bokeh.version) {\n          Bokeh.versions.set(NewBokeh.version, NewBokeh)\n        }\n        root.Bokeh = Bokeh;\n      }\n    } else if (Date.now() < root._bokeh_timeout) {\n      setTimeout(run_inline_js, 100);\n    } else if (!root._bokeh_failed_load) {\n      console.log(\"Bokeh: BokehJS failed to load within specified timeout.\");\n      root._bokeh_failed_load = true;\n    }\n    root._bokeh_is_initializing = false\n  }\n\n  function load_or_wait() {\n    // Implement a backoff loop that tries to ensure we do not load multiple\n    // versions of Bokeh and its dependencies at the same time.\n    // In recent versions we use the root._bokeh_is_initializing flag\n    // to determine whether there is an ongoing attempt to initialize\n    // bokeh, however for backward compatibility we also try to ensure\n    // that we do not start loading a newer (Panel>=1.0 and Bokeh>3) version\n    // before older versions are fully initialized.\n    if (root._bokeh_is_initializing && Date.now() > root._bokeh_timeout) {\n      // If the timeout and bokeh was not successfully loaded we reset\n      // everything and try loading again\n      root._bokeh_timeout = Date.now() + 5000;\n      root._bokeh_is_initializing = false;\n      root._bokeh_onload_callbacks = undefined;\n      root._bokeh_is_loading = 0\n      console.log(\"Bokeh: BokehJS was loaded multiple times but one version failed to initialize.\");\n      load_or_wait();\n    } else if (root._bokeh_is_initializing || (typeof root._bokeh_is_initializing === \"undefined\" && root._bokeh_onload_callbacks !== undefined)) {\n      setTimeout(load_or_wait, 100);\n    } else {\n      root._bokeh_is_initializing = true\n      root._bokeh_onload_callbacks = []\n      const bokeh_loaded = root.Bokeh != null && (root.Bokeh.version === py_version || (root.Bokeh.versions !== undefined && root.Bokeh.versions.has(py_version)));\n      if (!reloading && !bokeh_loaded) {\n        if (root.Bokeh) {\n          root.Bokeh = undefined;\n        }\n        console.debug(\"Bokeh: BokehJS not loaded, scheduling load and callback at\", now());\n      }\n      load_libs(css_urls, js_urls, js_modules, js_exports, function() {\n        console.debug(\"Bokeh: BokehJS plotting callback run at\", now());\n        run_inline_js();\n      });\n    }\n  }\n  // Give older versions of the autoload script a head-start to ensure\n  // they initialize before we start loading newer version.\n  setTimeout(load_or_wait, 100)\n}(window));",
      "application/vnd.holoviews_load.v0+json": ""
     },
     "metadata": {},
     "output_type": "display_data"
    },
    {
     "data": {
      "application/javascript": "\nif ((window.PyViz === undefined) || (window.PyViz instanceof HTMLElement)) {\n  window.PyViz = {comms: {}, comm_status:{}, kernels:{}, receivers: {}, plot_index: []}\n}\n\n\n    function JupyterCommManager() {\n    }\n\n    JupyterCommManager.prototype.register_target = function(plot_id, comm_id, msg_handler) {\n      if (window.comm_manager || ((window.Jupyter !== undefined) && (Jupyter.notebook.kernel != null))) {\n        var comm_manager = window.comm_manager || Jupyter.notebook.kernel.comm_manager;\n        comm_manager.register_target(comm_id, function(comm) {\n          comm.on_msg(msg_handler);\n        });\n      } else if ((plot_id in window.PyViz.kernels) && (window.PyViz.kernels[plot_id])) {\n        window.PyViz.kernels[plot_id].registerCommTarget(comm_id, function(comm) {\n          comm.onMsg = msg_handler;\n        });\n      } else if (typeof google != 'undefined' && google.colab.kernel != null) {\n        google.colab.kernel.comms.registerTarget(comm_id, (comm) => {\n          var messages = comm.messages[Symbol.asyncIterator]();\n          function processIteratorResult(result) {\n            var message = result.value;\n            console.log(message)\n            var content = {data: message.data, comm_id};\n            var buffers = []\n            for (var buffer of message.buffers || []) {\n              buffers.push(new DataView(buffer))\n            }\n            var metadata = message.metadata || {};\n            var msg = {content, buffers, metadata}\n            msg_handler(msg);\n            return messages.next().then(processIteratorResult);\n          }\n          return messages.next().then(processIteratorResult);\n        })\n      }\n    }\n\n    JupyterCommManager.prototype.get_client_comm = function(plot_id, comm_id, msg_handler) {\n      if (comm_id in window.PyViz.comms) {\n        return window.PyViz.comms[comm_id];\n      } else if (window.comm_manager || ((window.Jupyter !== undefined) && (Jupyter.notebook.kernel != null))) {\n        var comm_manager = window.comm_manager || Jupyter.notebook.kernel.comm_manager;\n        var comm = comm_manager.new_comm(comm_id, {}, {}, {}, comm_id);\n        if (msg_handler) {\n          comm.on_msg(msg_handler);\n        }\n      } else if ((plot_id in window.PyViz.kernels) && (window.PyViz.kernels[plot_id])) {\n        var comm = window.PyViz.kernels[plot_id].connectToComm(comm_id);\n        comm.open();\n        if (msg_handler) {\n          comm.onMsg = msg_handler;\n        }\n      } else if (typeof google != 'undefined' && google.colab.kernel != null) {\n        var comm_promise = google.colab.kernel.comms.open(comm_id)\n        comm_promise.then((comm) => {\n          window.PyViz.comms[comm_id] = comm;\n          if (msg_handler) {\n            var messages = comm.messages[Symbol.asyncIterator]();\n            function processIteratorResult(result) {\n              var message = result.value;\n              var content = {data: message.data};\n              var metadata = message.metadata || {comm_id};\n              var msg = {content, metadata}\n              msg_handler(msg);\n              return messages.next().then(processIteratorResult);\n            }\n            return messages.next().then(processIteratorResult);\n          }\n        })\n        var sendClosure = (data, metadata, buffers, disposeOnDone) => {\n          return comm_promise.then((comm) => {\n            comm.send(data, metadata, buffers, disposeOnDone);\n          });\n        };\n        var comm = {\n          send: sendClosure\n        };\n      }\n      window.PyViz.comms[comm_id] = comm;\n      return comm;\n    }\n    window.PyViz.comm_manager = new JupyterCommManager();\n    \n\n\nvar JS_MIME_TYPE = 'application/javascript';\nvar HTML_MIME_TYPE = 'text/html';\nvar EXEC_MIME_TYPE = 'application/vnd.holoviews_exec.v0+json';\nvar CLASS_NAME = 'output';\n\n/**\n * Render data to the DOM node\n */\nfunction render(props, node) {\n  var div = document.createElement(\"div\");\n  var script = document.createElement(\"script\");\n  node.appendChild(div);\n  node.appendChild(script);\n}\n\n/**\n * Handle when a new output is added\n */\nfunction handle_add_output(event, handle) {\n  var output_area = handle.output_area;\n  var output = handle.output;\n  if ((output.data == undefined) || (!output.data.hasOwnProperty(EXEC_MIME_TYPE))) {\n    return\n  }\n  var id = output.metadata[EXEC_MIME_TYPE][\"id\"];\n  var toinsert = output_area.element.find(\".\" + CLASS_NAME.split(' ')[0]);\n  if (id !== undefined) {\n    var nchildren = toinsert.length;\n    var html_node = toinsert[nchildren-1].children[0];\n    html_node.innerHTML = output.data[HTML_MIME_TYPE];\n    var scripts = [];\n    var nodelist = html_node.querySelectorAll(\"script\");\n    for (var i in nodelist) {\n      if (nodelist.hasOwnProperty(i)) {\n        scripts.push(nodelist[i])\n      }\n    }\n\n    scripts.forEach( function (oldScript) {\n      var newScript = document.createElement(\"script\");\n      var attrs = [];\n      var nodemap = oldScript.attributes;\n      for (var j in nodemap) {\n        if (nodemap.hasOwnProperty(j)) {\n          attrs.push(nodemap[j])\n        }\n      }\n      attrs.forEach(function(attr) { newScript.setAttribute(attr.name, attr.value) });\n      newScript.appendChild(document.createTextNode(oldScript.innerHTML));\n      oldScript.parentNode.replaceChild(newScript, oldScript);\n    });\n    if (JS_MIME_TYPE in output.data) {\n      toinsert[nchildren-1].children[1].textContent = output.data[JS_MIME_TYPE];\n    }\n    output_area._hv_plot_id = id;\n    if ((window.Bokeh !== undefined) && (id in Bokeh.index)) {\n      window.PyViz.plot_index[id] = Bokeh.index[id];\n    } else {\n      window.PyViz.plot_index[id] = null;\n    }\n  } else if (output.metadata[EXEC_MIME_TYPE][\"server_id\"] !== undefined) {\n    var bk_div = document.createElement(\"div\");\n    bk_div.innerHTML = output.data[HTML_MIME_TYPE];\n    var script_attrs = bk_div.children[0].attributes;\n    for (var i = 0; i < script_attrs.length; i++) {\n      toinsert[toinsert.length - 1].childNodes[1].setAttribute(script_attrs[i].name, script_attrs[i].value);\n    }\n    // store reference to server id on output_area\n    output_area._bokeh_server_id = output.metadata[EXEC_MIME_TYPE][\"server_id\"];\n  }\n}\n\n/**\n * Handle when an output is cleared or removed\n */\nfunction handle_clear_output(event, handle) {\n  var id = handle.cell.output_area._hv_plot_id;\n  var server_id = handle.cell.output_area._bokeh_server_id;\n  if (((id === undefined) || !(id in PyViz.plot_index)) && (server_id !== undefined)) { return; }\n  var comm = window.PyViz.comm_manager.get_client_comm(\"hv-extension-comm\", \"hv-extension-comm\", function () {});\n  if (server_id !== null) {\n    comm.send({event_type: 'server_delete', 'id': server_id});\n    return;\n  } else if (comm !== null) {\n    comm.send({event_type: 'delete', 'id': id});\n  }\n  delete PyViz.plot_index[id];\n  if ((window.Bokeh !== undefined) & (id in window.Bokeh.index)) {\n    var doc = window.Bokeh.index[id].model.document\n    doc.clear();\n    const i = window.Bokeh.documents.indexOf(doc);\n    if (i > -1) {\n      window.Bokeh.documents.splice(i, 1);\n    }\n  }\n}\n\n/**\n * Handle kernel restart event\n */\nfunction handle_kernel_cleanup(event, handle) {\n  delete PyViz.comms[\"hv-extension-comm\"];\n  window.PyViz.plot_index = {}\n}\n\n/**\n * Handle update_display_data messages\n */\nfunction handle_update_output(event, handle) {\n  handle_clear_output(event, {cell: {output_area: handle.output_area}})\n  handle_add_output(event, handle)\n}\n\nfunction register_renderer(events, OutputArea) {\n  function append_mime(data, metadata, element) {\n    // create a DOM node to render to\n    var toinsert = this.create_output_subarea(\n    metadata,\n    CLASS_NAME,\n    EXEC_MIME_TYPE\n    );\n    this.keyboard_manager.register_events(toinsert);\n    // Render to node\n    var props = {data: data, metadata: metadata[EXEC_MIME_TYPE]};\n    render(props, toinsert[0]);\n    element.append(toinsert);\n    return toinsert\n  }\n\n  events.on('output_added.OutputArea', handle_add_output);\n  events.on('output_updated.OutputArea', handle_update_output);\n  events.on('clear_output.CodeCell', handle_clear_output);\n  events.on('delete.Cell', handle_clear_output);\n  events.on('kernel_ready.Kernel', handle_kernel_cleanup);\n\n  OutputArea.prototype.register_mime_type(EXEC_MIME_TYPE, append_mime, {\n    safe: true,\n    index: 0\n  });\n}\n\nif (window.Jupyter !== undefined) {\n  try {\n    var events = require('base/js/events');\n    var OutputArea = require('notebook/js/outputarea').OutputArea;\n    if (OutputArea.prototype.mime_types().indexOf(EXEC_MIME_TYPE) == -1) {\n      register_renderer(events, OutputArea);\n    }\n  } catch(err) {\n  }\n}\n",
      "application/vnd.holoviews_load.v0+json": ""
     },
     "metadata": {},
     "output_type": "display_data"
    },
    {
     "data": {
      "application/vnd.holoviews_exec.v0+json": "",
      "text/html": [
       "<div id='abacc89e-e6b1-4c92-8aeb-50410e29dd72'>\n",
       "  <div id=\"b242167c-6b30-442d-a4ff-01a583dbfa51\" data-root-id=\"abacc89e-e6b1-4c92-8aeb-50410e29dd72\" style=\"display: contents;\"></div>\n",
       "</div>\n",
       "<script type=\"application/javascript\">(function(root) {\n",
       "  var docs_json = {\"f5c55371-4373-4ce5-95e7-e65cfda8e32e\":{\"version\":\"3.6.3\",\"title\":\"Bokeh Application\",\"roots\":[{\"type\":\"object\",\"name\":\"panel.models.browser.BrowserInfo\",\"id\":\"abacc89e-e6b1-4c92-8aeb-50410e29dd72\"},{\"type\":\"object\",\"name\":\"panel.models.comm_manager.CommManager\",\"id\":\"007e45f1-90cc-4105-8f4c-884fadca639c\",\"attributes\":{\"plot_id\":\"abacc89e-e6b1-4c92-8aeb-50410e29dd72\",\"comm_id\":\"9f83dd7c713e45b8a81f17b8e5fef0b8\",\"client_comm_id\":\"9c94e1a550ca4da6ba86b904db20944c\"}}],\"defs\":[{\"type\":\"model\",\"name\":\"ReactiveHTML1\"},{\"type\":\"model\",\"name\":\"FlexBox1\",\"properties\":[{\"name\":\"align_content\",\"kind\":\"Any\",\"default\":\"flex-start\"},{\"name\":\"align_items\",\"kind\":\"Any\",\"default\":\"flex-start\"},{\"name\":\"flex_direction\",\"kind\":\"Any\",\"default\":\"row\"},{\"name\":\"flex_wrap\",\"kind\":\"Any\",\"default\":\"wrap\"},{\"name\":\"gap\",\"kind\":\"Any\",\"default\":\"\"},{\"name\":\"justify_content\",\"kind\":\"Any\",\"default\":\"flex-start\"}]},{\"type\":\"model\",\"name\":\"FloatPanel1\",\"properties\":[{\"name\":\"config\",\"kind\":\"Any\",\"default\":{\"type\":\"map\"}},{\"name\":\"contained\",\"kind\":\"Any\",\"default\":true},{\"name\":\"position\",\"kind\":\"Any\",\"default\":\"right-top\"},{\"name\":\"offsetx\",\"kind\":\"Any\",\"default\":null},{\"name\":\"offsety\",\"kind\":\"Any\",\"default\":null},{\"name\":\"theme\",\"kind\":\"Any\",\"default\":\"primary\"},{\"name\":\"status\",\"kind\":\"Any\",\"default\":\"normalized\"}]},{\"type\":\"model\",\"name\":\"GridStack1\",\"properties\":[{\"name\":\"mode\",\"kind\":\"Any\",\"default\":\"warn\"},{\"name\":\"ncols\",\"kind\":\"Any\",\"default\":null},{\"name\":\"nrows\",\"kind\":\"Any\",\"default\":null},{\"name\":\"allow_resize\",\"kind\":\"Any\",\"default\":true},{\"name\":\"allow_drag\",\"kind\":\"Any\",\"default\":true},{\"name\":\"state\",\"kind\":\"Any\",\"default\":[]}]},{\"type\":\"model\",\"name\":\"drag1\",\"properties\":[{\"name\":\"slider_width\",\"kind\":\"Any\",\"default\":5},{\"name\":\"slider_color\",\"kind\":\"Any\",\"default\":\"black\"},{\"name\":\"value\",\"kind\":\"Any\",\"default\":50}]},{\"type\":\"model\",\"name\":\"click1\",\"properties\":[{\"name\":\"terminal_output\",\"kind\":\"Any\",\"default\":\"\"},{\"name\":\"debug_name\",\"kind\":\"Any\",\"default\":\"\"},{\"name\":\"clears\",\"kind\":\"Any\",\"default\":0}]},{\"type\":\"model\",\"name\":\"FastWrapper1\",\"properties\":[{\"name\":\"object\",\"kind\":\"Any\",\"default\":null},{\"name\":\"style\",\"kind\":\"Any\",\"default\":null}]},{\"type\":\"model\",\"name\":\"NotificationAreaBase1\",\"properties\":[{\"name\":\"js_events\",\"kind\":\"Any\",\"default\":{\"type\":\"map\"}},{\"name\":\"position\",\"kind\":\"Any\",\"default\":\"bottom-right\"},{\"name\":\"_clear\",\"kind\":\"Any\",\"default\":0}]},{\"type\":\"model\",\"name\":\"NotificationArea1\",\"properties\":[{\"name\":\"js_events\",\"kind\":\"Any\",\"default\":{\"type\":\"map\"}},{\"name\":\"notifications\",\"kind\":\"Any\",\"default\":[]},{\"name\":\"position\",\"kind\":\"Any\",\"default\":\"bottom-right\"},{\"name\":\"_clear\",\"kind\":\"Any\",\"default\":0},{\"name\":\"types\",\"kind\":\"Any\",\"default\":[{\"type\":\"map\",\"entries\":[[\"type\",\"warning\"],[\"background\",\"#ffc107\"],[\"icon\",{\"type\":\"map\",\"entries\":[[\"className\",\"fas fa-exclamation-triangle\"],[\"tagName\",\"i\"],[\"color\",\"white\"]]}]]},{\"type\":\"map\",\"entries\":[[\"type\",\"info\"],[\"background\",\"#007bff\"],[\"icon\",{\"type\":\"map\",\"entries\":[[\"className\",\"fas fa-info-circle\"],[\"tagName\",\"i\"],[\"color\",\"white\"]]}]]}]}]},{\"type\":\"model\",\"name\":\"Notification\",\"properties\":[{\"name\":\"background\",\"kind\":\"Any\",\"default\":null},{\"name\":\"duration\",\"kind\":\"Any\",\"default\":3000},{\"name\":\"icon\",\"kind\":\"Any\",\"default\":null},{\"name\":\"message\",\"kind\":\"Any\",\"default\":\"\"},{\"name\":\"notification_type\",\"kind\":\"Any\",\"default\":null},{\"name\":\"_rendered\",\"kind\":\"Any\",\"default\":false},{\"name\":\"_destroyed\",\"kind\":\"Any\",\"default\":false}]},{\"type\":\"model\",\"name\":\"TemplateActions1\",\"properties\":[{\"name\":\"open_modal\",\"kind\":\"Any\",\"default\":0},{\"name\":\"close_modal\",\"kind\":\"Any\",\"default\":0}]},{\"type\":\"model\",\"name\":\"BootstrapTemplateActions1\",\"properties\":[{\"name\":\"open_modal\",\"kind\":\"Any\",\"default\":0},{\"name\":\"close_modal\",\"kind\":\"Any\",\"default\":0}]},{\"type\":\"model\",\"name\":\"TemplateEditor1\",\"properties\":[{\"name\":\"layout\",\"kind\":\"Any\",\"default\":[]}]},{\"type\":\"model\",\"name\":\"MaterialTemplateActions1\",\"properties\":[{\"name\":\"open_modal\",\"kind\":\"Any\",\"default\":0},{\"name\":\"close_modal\",\"kind\":\"Any\",\"default\":0}]},{\"type\":\"model\",\"name\":\"ReactiveESM1\",\"properties\":[{\"name\":\"esm_constants\",\"kind\":\"Any\",\"default\":{\"type\":\"map\"}}]},{\"type\":\"model\",\"name\":\"JSComponent1\",\"properties\":[{\"name\":\"esm_constants\",\"kind\":\"Any\",\"default\":{\"type\":\"map\"}}]},{\"type\":\"model\",\"name\":\"ReactComponent1\",\"properties\":[{\"name\":\"esm_constants\",\"kind\":\"Any\",\"default\":{\"type\":\"map\"}}]},{\"type\":\"model\",\"name\":\"AnyWidgetComponent1\",\"properties\":[{\"name\":\"esm_constants\",\"kind\":\"Any\",\"default\":{\"type\":\"map\"}}]},{\"type\":\"model\",\"name\":\"request_value1\",\"properties\":[{\"name\":\"fill\",\"kind\":\"Any\",\"default\":\"none\"},{\"name\":\"_synced\",\"kind\":\"Any\",\"default\":null},{\"name\":\"_request_sync\",\"kind\":\"Any\",\"default\":0}]}]}};\n",
       "  var render_items = [{\"docid\":\"f5c55371-4373-4ce5-95e7-e65cfda8e32e\",\"roots\":{\"abacc89e-e6b1-4c92-8aeb-50410e29dd72\":\"b242167c-6b30-442d-a4ff-01a583dbfa51\"},\"root_ids\":[\"abacc89e-e6b1-4c92-8aeb-50410e29dd72\"]}];\n",
       "  var docs = Object.values(docs_json)\n",
       "  if (!docs) {\n",
       "    return\n",
       "  }\n",
       "  const py_version = docs[0].version.replace('rc', '-rc.').replace('.dev', '-dev.')\n",
       "  async function embed_document(root) {\n",
       "    var Bokeh = get_bokeh(root)\n",
       "    await Bokeh.embed.embed_items_notebook(docs_json, render_items);\n",
       "    for (const render_item of render_items) {\n",
       "      for (const root_id of render_item.root_ids) {\n",
       "\tconst id_el = document.getElementById(root_id)\n",
       "\tif (id_el.children.length && id_el.children[0].hasAttribute('data-root-id')) {\n",
       "\t  const root_el = id_el.children[0]\n",
       "\t  root_el.id = root_el.id + '-rendered'\n",
       "\t  for (const child of root_el.children) {\n",
       "            // Ensure JupyterLab does not capture keyboard shortcuts\n",
       "            // see: https://jupyterlab.readthedocs.io/en/4.1.x/extension/notebook.html#keyboard-interaction-model\n",
       "\t    child.setAttribute('data-lm-suppress-shortcuts', 'true')\n",
       "\t  }\n",
       "\t}\n",
       "      }\n",
       "    }\n",
       "  }\n",
       "  function get_bokeh(root) {\n",
       "    if (root.Bokeh === undefined) {\n",
       "      return null\n",
       "    } else if (root.Bokeh.version !== py_version) {\n",
       "      if (root.Bokeh.versions === undefined || !root.Bokeh.versions.has(py_version)) {\n",
       "\treturn null\n",
       "      }\n",
       "      return root.Bokeh.versions.get(py_version);\n",
       "    } else if (root.Bokeh.version === py_version) {\n",
       "      return root.Bokeh\n",
       "    }\n",
       "    return null\n",
       "  }\n",
       "  function is_loaded(root) {\n",
       "    var Bokeh = get_bokeh(root)\n",
       "    return (Bokeh != null && Bokeh.Panel !== undefined)\n",
       "  }\n",
       "  if (is_loaded(root)) {\n",
       "    embed_document(root);\n",
       "  } else {\n",
       "    var attempts = 0;\n",
       "    var timer = setInterval(function(root) {\n",
       "      if (is_loaded(root)) {\n",
       "        clearInterval(timer);\n",
       "        embed_document(root);\n",
       "      } else if (document.readyState == \"complete\") {\n",
       "        attempts++;\n",
       "        if (attempts > 200) {\n",
       "          clearInterval(timer);\n",
       "\t  var Bokeh = get_bokeh(root)\n",
       "\t  if (Bokeh == null || Bokeh.Panel == null) {\n",
       "            console.warn(\"Panel: ERROR: Unable to run Panel code because Bokeh or Panel library is missing\");\n",
       "\t  } else {\n",
       "\t    console.warn(\"Panel: WARNING: Attempting to render but not all required libraries could be resolved.\")\n",
       "\t    embed_document(root)\n",
       "\t  }\n",
       "        }\n",
       "      }\n",
       "    }, 25, root)\n",
       "  }\n",
       "})(window);</script>"
      ]
     },
     "metadata": {
      "application/vnd.holoviews_exec.v0+json": {
       "id": "abacc89e-e6b1-4c92-8aeb-50410e29dd72"
      }
     },
     "output_type": "display_data"
    },
    {
     "name": "stderr",
     "output_type": "stream",
     "text": [
      "WARNING:bokeh.server.util:Host wildcard '*' will allow connections originating from multiple (or possibly all) hostnames or IPs. Use non-wildcard values to restrict access explicitly\n"
     ]
    },
    {
     "name": "stdout",
     "output_type": "stream",
     "text": [
      "Launching server at http://localhost:5006\n"
     ]
    },
    {
     "name": "stderr",
     "output_type": "stream",
     "text": [
      "Fitting scalers: 100%|██████████| 10000/10000 [00:07<00:00, 1255.50it/s]\n",
      "Fitting scalers: 100%|██████████| 10000/10000 [00:07<00:00, 1264.87it/s]\n"
     ]
    }
   ],
   "source": [
    "import panel as pn\n",
    "pn.extension()\n",
    "fits_params = emb_viz.layout_fits_params()\n",
    "# pn.serve(fits_params, port=5006)\n",
    "res = fits_params.show(port=5006, websocket_origin=\"*\",threaded=True)\n"
   ]
  },
  {
   "cell_type": "code",
   "execution_count": 20,
   "metadata": {},
   "outputs": [
    {
     "name": "stderr",
     "output_type": "stream",
     "text": [
      "WARNING:bokeh.server.util:Host wildcard '*' will allow connections originating from multiple (or possibly all) hostnames or IPs. Use non-wildcard values to restrict access explicitly\n"
     ]
    },
    {
     "name": "stdout",
     "output_type": "stream",
     "text": [
      "Launching server at http://localhost:5006\n"
     ]
    }
   ],
   "source": [
    "res.stop()"
   ]
  },
  {
   "cell_type": "code",
   "execution_count": 21,
   "metadata": {},
   "outputs": [
    {
     "data": {
      "text/html": [
       "<style>#sk-container-id-1 {\n",
       "  /* Definition of color scheme common for light and dark mode */\n",
       "  --sklearn-color-text: #000;\n",
       "  --sklearn-color-text-muted: #666;\n",
       "  --sklearn-color-line: gray;\n",
       "  /* Definition of color scheme for unfitted estimators */\n",
       "  --sklearn-color-unfitted-level-0: #fff5e6;\n",
       "  --sklearn-color-unfitted-level-1: #f6e4d2;\n",
       "  --sklearn-color-unfitted-level-2: #ffe0b3;\n",
       "  --sklearn-color-unfitted-level-3: chocolate;\n",
       "  /* Definition of color scheme for fitted estimators */\n",
       "  --sklearn-color-fitted-level-0: #f0f8ff;\n",
       "  --sklearn-color-fitted-level-1: #d4ebff;\n",
       "  --sklearn-color-fitted-level-2: #b3dbfd;\n",
       "  --sklearn-color-fitted-level-3: cornflowerblue;\n",
       "\n",
       "  /* Specific color for light theme */\n",
       "  --sklearn-color-text-on-default-background: var(--sg-text-color, var(--theme-code-foreground, var(--jp-content-font-color1, black)));\n",
       "  --sklearn-color-background: var(--sg-background-color, var(--theme-background, var(--jp-layout-color0, white)));\n",
       "  --sklearn-color-border-box: var(--sg-text-color, var(--theme-code-foreground, var(--jp-content-font-color1, black)));\n",
       "  --sklearn-color-icon: #696969;\n",
       "\n",
       "  @media (prefers-color-scheme: dark) {\n",
       "    /* Redefinition of color scheme for dark theme */\n",
       "    --sklearn-color-text-on-default-background: var(--sg-text-color, var(--theme-code-foreground, var(--jp-content-font-color1, white)));\n",
       "    --sklearn-color-background: var(--sg-background-color, var(--theme-background, var(--jp-layout-color0, #111)));\n",
       "    --sklearn-color-border-box: var(--sg-text-color, var(--theme-code-foreground, var(--jp-content-font-color1, white)));\n",
       "    --sklearn-color-icon: #878787;\n",
       "  }\n",
       "}\n",
       "\n",
       "#sk-container-id-1 {\n",
       "  color: var(--sklearn-color-text);\n",
       "}\n",
       "\n",
       "#sk-container-id-1 pre {\n",
       "  padding: 0;\n",
       "}\n",
       "\n",
       "#sk-container-id-1 input.sk-hidden--visually {\n",
       "  border: 0;\n",
       "  clip: rect(1px 1px 1px 1px);\n",
       "  clip: rect(1px, 1px, 1px, 1px);\n",
       "  height: 1px;\n",
       "  margin: -1px;\n",
       "  overflow: hidden;\n",
       "  padding: 0;\n",
       "  position: absolute;\n",
       "  width: 1px;\n",
       "}\n",
       "\n",
       "#sk-container-id-1 div.sk-dashed-wrapped {\n",
       "  border: 1px dashed var(--sklearn-color-line);\n",
       "  margin: 0 0.4em 0.5em 0.4em;\n",
       "  box-sizing: border-box;\n",
       "  padding-bottom: 0.4em;\n",
       "  background-color: var(--sklearn-color-background);\n",
       "}\n",
       "\n",
       "#sk-container-id-1 div.sk-container {\n",
       "  /* jupyter's `normalize.less` sets `[hidden] { display: none; }`\n",
       "     but bootstrap.min.css set `[hidden] { display: none !important; }`\n",
       "     so we also need the `!important` here to be able to override the\n",
       "     default hidden behavior on the sphinx rendered scikit-learn.org.\n",
       "     See: https://github.com/scikit-learn/scikit-learn/issues/21755 */\n",
       "  display: inline-block !important;\n",
       "  position: relative;\n",
       "}\n",
       "\n",
       "#sk-container-id-1 div.sk-text-repr-fallback {\n",
       "  display: none;\n",
       "}\n",
       "\n",
       "div.sk-parallel-item,\n",
       "div.sk-serial,\n",
       "div.sk-item {\n",
       "  /* draw centered vertical line to link estimators */\n",
       "  background-image: linear-gradient(var(--sklearn-color-text-on-default-background), var(--sklearn-color-text-on-default-background));\n",
       "  background-size: 2px 100%;\n",
       "  background-repeat: no-repeat;\n",
       "  background-position: center center;\n",
       "}\n",
       "\n",
       "/* Parallel-specific style estimator block */\n",
       "\n",
       "#sk-container-id-1 div.sk-parallel-item::after {\n",
       "  content: \"\";\n",
       "  width: 100%;\n",
       "  border-bottom: 2px solid var(--sklearn-color-text-on-default-background);\n",
       "  flex-grow: 1;\n",
       "}\n",
       "\n",
       "#sk-container-id-1 div.sk-parallel {\n",
       "  display: flex;\n",
       "  align-items: stretch;\n",
       "  justify-content: center;\n",
       "  background-color: var(--sklearn-color-background);\n",
       "  position: relative;\n",
       "}\n",
       "\n",
       "#sk-container-id-1 div.sk-parallel-item {\n",
       "  display: flex;\n",
       "  flex-direction: column;\n",
       "}\n",
       "\n",
       "#sk-container-id-1 div.sk-parallel-item:first-child::after {\n",
       "  align-self: flex-end;\n",
       "  width: 50%;\n",
       "}\n",
       "\n",
       "#sk-container-id-1 div.sk-parallel-item:last-child::after {\n",
       "  align-self: flex-start;\n",
       "  width: 50%;\n",
       "}\n",
       "\n",
       "#sk-container-id-1 div.sk-parallel-item:only-child::after {\n",
       "  width: 0;\n",
       "}\n",
       "\n",
       "/* Serial-specific style estimator block */\n",
       "\n",
       "#sk-container-id-1 div.sk-serial {\n",
       "  display: flex;\n",
       "  flex-direction: column;\n",
       "  align-items: center;\n",
       "  background-color: var(--sklearn-color-background);\n",
       "  padding-right: 1em;\n",
       "  padding-left: 1em;\n",
       "}\n",
       "\n",
       "\n",
       "/* Toggleable style: style used for estimator/Pipeline/ColumnTransformer box that is\n",
       "clickable and can be expanded/collapsed.\n",
       "- Pipeline and ColumnTransformer use this feature and define the default style\n",
       "- Estimators will overwrite some part of the style using the `sk-estimator` class\n",
       "*/\n",
       "\n",
       "/* Pipeline and ColumnTransformer style (default) */\n",
       "\n",
       "#sk-container-id-1 div.sk-toggleable {\n",
       "  /* Default theme specific background. It is overwritten whether we have a\n",
       "  specific estimator or a Pipeline/ColumnTransformer */\n",
       "  background-color: var(--sklearn-color-background);\n",
       "}\n",
       "\n",
       "/* Toggleable label */\n",
       "#sk-container-id-1 label.sk-toggleable__label {\n",
       "  cursor: pointer;\n",
       "  display: flex;\n",
       "  width: 100%;\n",
       "  margin-bottom: 0;\n",
       "  padding: 0.5em;\n",
       "  box-sizing: border-box;\n",
       "  text-align: center;\n",
       "  align-items: start;\n",
       "  justify-content: space-between;\n",
       "  gap: 0.5em;\n",
       "}\n",
       "\n",
       "#sk-container-id-1 label.sk-toggleable__label .caption {\n",
       "  font-size: 0.6rem;\n",
       "  font-weight: lighter;\n",
       "  color: var(--sklearn-color-text-muted);\n",
       "}\n",
       "\n",
       "#sk-container-id-1 label.sk-toggleable__label-arrow:before {\n",
       "  /* Arrow on the left of the label */\n",
       "  content: \"▸\";\n",
       "  float: left;\n",
       "  margin-right: 0.25em;\n",
       "  color: var(--sklearn-color-icon);\n",
       "}\n",
       "\n",
       "#sk-container-id-1 label.sk-toggleable__label-arrow:hover:before {\n",
       "  color: var(--sklearn-color-text);\n",
       "}\n",
       "\n",
       "/* Toggleable content - dropdown */\n",
       "\n",
       "#sk-container-id-1 div.sk-toggleable__content {\n",
       "  max-height: 0;\n",
       "  max-width: 0;\n",
       "  overflow: hidden;\n",
       "  text-align: left;\n",
       "  /* unfitted */\n",
       "  background-color: var(--sklearn-color-unfitted-level-0);\n",
       "}\n",
       "\n",
       "#sk-container-id-1 div.sk-toggleable__content.fitted {\n",
       "  /* fitted */\n",
       "  background-color: var(--sklearn-color-fitted-level-0);\n",
       "}\n",
       "\n",
       "#sk-container-id-1 div.sk-toggleable__content pre {\n",
       "  margin: 0.2em;\n",
       "  border-radius: 0.25em;\n",
       "  color: var(--sklearn-color-text);\n",
       "  /* unfitted */\n",
       "  background-color: var(--sklearn-color-unfitted-level-0);\n",
       "}\n",
       "\n",
       "#sk-container-id-1 div.sk-toggleable__content.fitted pre {\n",
       "  /* unfitted */\n",
       "  background-color: var(--sklearn-color-fitted-level-0);\n",
       "}\n",
       "\n",
       "#sk-container-id-1 input.sk-toggleable__control:checked~div.sk-toggleable__content {\n",
       "  /* Expand drop-down */\n",
       "  max-height: 200px;\n",
       "  max-width: 100%;\n",
       "  overflow: auto;\n",
       "}\n",
       "\n",
       "#sk-container-id-1 input.sk-toggleable__control:checked~label.sk-toggleable__label-arrow:before {\n",
       "  content: \"▾\";\n",
       "}\n",
       "\n",
       "/* Pipeline/ColumnTransformer-specific style */\n",
       "\n",
       "#sk-container-id-1 div.sk-label input.sk-toggleable__control:checked~label.sk-toggleable__label {\n",
       "  color: var(--sklearn-color-text);\n",
       "  background-color: var(--sklearn-color-unfitted-level-2);\n",
       "}\n",
       "\n",
       "#sk-container-id-1 div.sk-label.fitted input.sk-toggleable__control:checked~label.sk-toggleable__label {\n",
       "  background-color: var(--sklearn-color-fitted-level-2);\n",
       "}\n",
       "\n",
       "/* Estimator-specific style */\n",
       "\n",
       "/* Colorize estimator box */\n",
       "#sk-container-id-1 div.sk-estimator input.sk-toggleable__control:checked~label.sk-toggleable__label {\n",
       "  /* unfitted */\n",
       "  background-color: var(--sklearn-color-unfitted-level-2);\n",
       "}\n",
       "\n",
       "#sk-container-id-1 div.sk-estimator.fitted input.sk-toggleable__control:checked~label.sk-toggleable__label {\n",
       "  /* fitted */\n",
       "  background-color: var(--sklearn-color-fitted-level-2);\n",
       "}\n",
       "\n",
       "#sk-container-id-1 div.sk-label label.sk-toggleable__label,\n",
       "#sk-container-id-1 div.sk-label label {\n",
       "  /* The background is the default theme color */\n",
       "  color: var(--sklearn-color-text-on-default-background);\n",
       "}\n",
       "\n",
       "/* On hover, darken the color of the background */\n",
       "#sk-container-id-1 div.sk-label:hover label.sk-toggleable__label {\n",
       "  color: var(--sklearn-color-text);\n",
       "  background-color: var(--sklearn-color-unfitted-level-2);\n",
       "}\n",
       "\n",
       "/* Label box, darken color on hover, fitted */\n",
       "#sk-container-id-1 div.sk-label.fitted:hover label.sk-toggleable__label.fitted {\n",
       "  color: var(--sklearn-color-text);\n",
       "  background-color: var(--sklearn-color-fitted-level-2);\n",
       "}\n",
       "\n",
       "/* Estimator label */\n",
       "\n",
       "#sk-container-id-1 div.sk-label label {\n",
       "  font-family: monospace;\n",
       "  font-weight: bold;\n",
       "  display: inline-block;\n",
       "  line-height: 1.2em;\n",
       "}\n",
       "\n",
       "#sk-container-id-1 div.sk-label-container {\n",
       "  text-align: center;\n",
       "}\n",
       "\n",
       "/* Estimator-specific */\n",
       "#sk-container-id-1 div.sk-estimator {\n",
       "  font-family: monospace;\n",
       "  border: 1px dotted var(--sklearn-color-border-box);\n",
       "  border-radius: 0.25em;\n",
       "  box-sizing: border-box;\n",
       "  margin-bottom: 0.5em;\n",
       "  /* unfitted */\n",
       "  background-color: var(--sklearn-color-unfitted-level-0);\n",
       "}\n",
       "\n",
       "#sk-container-id-1 div.sk-estimator.fitted {\n",
       "  /* fitted */\n",
       "  background-color: var(--sklearn-color-fitted-level-0);\n",
       "}\n",
       "\n",
       "/* on hover */\n",
       "#sk-container-id-1 div.sk-estimator:hover {\n",
       "  /* unfitted */\n",
       "  background-color: var(--sklearn-color-unfitted-level-2);\n",
       "}\n",
       "\n",
       "#sk-container-id-1 div.sk-estimator.fitted:hover {\n",
       "  /* fitted */\n",
       "  background-color: var(--sklearn-color-fitted-level-2);\n",
       "}\n",
       "\n",
       "/* Specification for estimator info (e.g. \"i\" and \"?\") */\n",
       "\n",
       "/* Common style for \"i\" and \"?\" */\n",
       "\n",
       ".sk-estimator-doc-link,\n",
       "a:link.sk-estimator-doc-link,\n",
       "a:visited.sk-estimator-doc-link {\n",
       "  float: right;\n",
       "  font-size: smaller;\n",
       "  line-height: 1em;\n",
       "  font-family: monospace;\n",
       "  background-color: var(--sklearn-color-background);\n",
       "  border-radius: 1em;\n",
       "  height: 1em;\n",
       "  width: 1em;\n",
       "  text-decoration: none !important;\n",
       "  margin-left: 0.5em;\n",
       "  text-align: center;\n",
       "  /* unfitted */\n",
       "  border: var(--sklearn-color-unfitted-level-1) 1pt solid;\n",
       "  color: var(--sklearn-color-unfitted-level-1);\n",
       "}\n",
       "\n",
       ".sk-estimator-doc-link.fitted,\n",
       "a:link.sk-estimator-doc-link.fitted,\n",
       "a:visited.sk-estimator-doc-link.fitted {\n",
       "  /* fitted */\n",
       "  border: var(--sklearn-color-fitted-level-1) 1pt solid;\n",
       "  color: var(--sklearn-color-fitted-level-1);\n",
       "}\n",
       "\n",
       "/* On hover */\n",
       "div.sk-estimator:hover .sk-estimator-doc-link:hover,\n",
       ".sk-estimator-doc-link:hover,\n",
       "div.sk-label-container:hover .sk-estimator-doc-link:hover,\n",
       ".sk-estimator-doc-link:hover {\n",
       "  /* unfitted */\n",
       "  background-color: var(--sklearn-color-unfitted-level-3);\n",
       "  color: var(--sklearn-color-background);\n",
       "  text-decoration: none;\n",
       "}\n",
       "\n",
       "div.sk-estimator.fitted:hover .sk-estimator-doc-link.fitted:hover,\n",
       ".sk-estimator-doc-link.fitted:hover,\n",
       "div.sk-label-container:hover .sk-estimator-doc-link.fitted:hover,\n",
       ".sk-estimator-doc-link.fitted:hover {\n",
       "  /* fitted */\n",
       "  background-color: var(--sklearn-color-fitted-level-3);\n",
       "  color: var(--sklearn-color-background);\n",
       "  text-decoration: none;\n",
       "}\n",
       "\n",
       "/* Span, style for the box shown on hovering the info icon */\n",
       ".sk-estimator-doc-link span {\n",
       "  display: none;\n",
       "  z-index: 9999;\n",
       "  position: relative;\n",
       "  font-weight: normal;\n",
       "  right: .2ex;\n",
       "  padding: .5ex;\n",
       "  margin: .5ex;\n",
       "  width: min-content;\n",
       "  min-width: 20ex;\n",
       "  max-width: 50ex;\n",
       "  color: var(--sklearn-color-text);\n",
       "  box-shadow: 2pt 2pt 4pt #999;\n",
       "  /* unfitted */\n",
       "  background: var(--sklearn-color-unfitted-level-0);\n",
       "  border: .5pt solid var(--sklearn-color-unfitted-level-3);\n",
       "}\n",
       "\n",
       ".sk-estimator-doc-link.fitted span {\n",
       "  /* fitted */\n",
       "  background: var(--sklearn-color-fitted-level-0);\n",
       "  border: var(--sklearn-color-fitted-level-3);\n",
       "}\n",
       "\n",
       ".sk-estimator-doc-link:hover span {\n",
       "  display: block;\n",
       "}\n",
       "\n",
       "/* \"?\"-specific style due to the `<a>` HTML tag */\n",
       "\n",
       "#sk-container-id-1 a.estimator_doc_link {\n",
       "  float: right;\n",
       "  font-size: 1rem;\n",
       "  line-height: 1em;\n",
       "  font-family: monospace;\n",
       "  background-color: var(--sklearn-color-background);\n",
       "  border-radius: 1rem;\n",
       "  height: 1rem;\n",
       "  width: 1rem;\n",
       "  text-decoration: none;\n",
       "  /* unfitted */\n",
       "  color: var(--sklearn-color-unfitted-level-1);\n",
       "  border: var(--sklearn-color-unfitted-level-1) 1pt solid;\n",
       "}\n",
       "\n",
       "#sk-container-id-1 a.estimator_doc_link.fitted {\n",
       "  /* fitted */\n",
       "  border: var(--sklearn-color-fitted-level-1) 1pt solid;\n",
       "  color: var(--sklearn-color-fitted-level-1);\n",
       "}\n",
       "\n",
       "/* On hover */\n",
       "#sk-container-id-1 a.estimator_doc_link:hover {\n",
       "  /* unfitted */\n",
       "  background-color: var(--sklearn-color-unfitted-level-3);\n",
       "  color: var(--sklearn-color-background);\n",
       "  text-decoration: none;\n",
       "}\n",
       "\n",
       "#sk-container-id-1 a.estimator_doc_link.fitted:hover {\n",
       "  /* fitted */\n",
       "  background-color: var(--sklearn-color-fitted-level-3);\n",
       "}\n",
       "</style><div id=\"sk-container-id-1\" class=\"sk-top-container\"><div class=\"sk-text-repr-fallback\"><pre>Pipeline(steps=[(&#x27;scaler&#x27;, StandardScaler()), (&#x27;minmax&#x27;, MinMaxScaler())])</pre><b>In a Jupyter environment, please rerun this cell to show the HTML representation or trust the notebook. <br />On GitHub, the HTML representation is unable to render, please try loading this page with nbviewer.org.</b></div><div class=\"sk-container\" hidden><div class=\"sk-item sk-dashed-wrapped\"><div class=\"sk-label-container\"><div class=\"sk-label fitted sk-toggleable\"><input class=\"sk-toggleable__control sk-hidden--visually\" id=\"sk-estimator-id-1\" type=\"checkbox\" ><label for=\"sk-estimator-id-1\" class=\"sk-toggleable__label fitted sk-toggleable__label-arrow\"><div><div>Pipeline</div></div><div><a class=\"sk-estimator-doc-link fitted\" rel=\"noreferrer\" target=\"_blank\" href=\"https://scikit-learn.org/1.6/modules/generated/sklearn.pipeline.Pipeline.html\">?<span>Documentation for Pipeline</span></a><span class=\"sk-estimator-doc-link fitted\">i<span>Fitted</span></span></div></label><div class=\"sk-toggleable__content fitted\"><pre>Pipeline(steps=[(&#x27;scaler&#x27;, StandardScaler()), (&#x27;minmax&#x27;, MinMaxScaler())])</pre></div> </div></div><div class=\"sk-serial\"><div class=\"sk-item\"><div class=\"sk-estimator fitted sk-toggleable\"><input class=\"sk-toggleable__control sk-hidden--visually\" id=\"sk-estimator-id-2\" type=\"checkbox\" ><label for=\"sk-estimator-id-2\" class=\"sk-toggleable__label fitted sk-toggleable__label-arrow\"><div><div>StandardScaler</div></div><div><a class=\"sk-estimator-doc-link fitted\" rel=\"noreferrer\" target=\"_blank\" href=\"https://scikit-learn.org/1.6/modules/generated/sklearn.preprocessing.StandardScaler.html\">?<span>Documentation for StandardScaler</span></a></div></label><div class=\"sk-toggleable__content fitted\"><pre>StandardScaler()</pre></div> </div></div><div class=\"sk-item\"><div class=\"sk-estimator fitted sk-toggleable\"><input class=\"sk-toggleable__control sk-hidden--visually\" id=\"sk-estimator-id-3\" type=\"checkbox\" ><label for=\"sk-estimator-id-3\" class=\"sk-toggleable__label fitted sk-toggleable__label-arrow\"><div><div>MinMaxScaler</div></div><div><a class=\"sk-estimator-doc-link fitted\" rel=\"noreferrer\" target=\"_blank\" href=\"https://scikit-learn.org/1.6/modules/generated/sklearn.preprocessing.MinMaxScaler.html\">?<span>Documentation for MinMaxScaler</span></a></div></label><div class=\"sk-toggleable__content fitted\"><pre>MinMaxScaler()</pre></div> </div></div></div></div></div></div>"
      ],
      "text/plain": [
       "Pipeline(steps=[('scaler', StandardScaler()), ('minmax', MinMaxScaler())])"
      ]
     },
     "execution_count": 21,
     "metadata": {},
     "output_type": "execute_result"
    }
   ],
   "source": [
    "dset.kernel_scalers[0]"
   ]
  },
  {
   "cell_type": "code",
   "execution_count": 22,
   "metadata": {},
   "outputs": [
    {
     "ename": "AttributeError",
     "evalue": "'Column' object has no attribute 'stop'",
     "output_type": "error",
     "traceback": [
      "\u001b[0;31m---------------------------------------------------------------------------\u001b[0m",
      "\u001b[0;31mAttributeError\u001b[0m                            Traceback (most recent call last)",
      "Cell \u001b[0;32mIn[22], line 1\u001b[0m\n\u001b[0;32m----> 1\u001b[0m \u001b[43mfits_params\u001b[49m\u001b[38;5;241;43m.\u001b[39;49m\u001b[43mstop\u001b[49m()\n",
      "\u001b[0;31mAttributeError\u001b[0m: 'Column' object has no attribute 'stop'"
     ]
    }
   ],
   "source": [
    "fits_params.stop()"
   ]
  },
  {
   "cell_type": "code",
   "execution_count": 20,
   "metadata": {},
   "outputs": [
    {
     "data": {
      "text/plain": [
       "8"
      ]
     },
     "execution_count": 20,
     "metadata": {},
     "output_type": "execute_result"
    },
    {
     "name": "stderr",
     "output_type": "stream",
     "text": [
      "WARNING:bokeh.server.util:Host wildcard '*' will allow connections originating from multiple (or possibly all) hostnames or IPs. Use non-wildcard values to restrict access explicitly\n"
     ]
    },
    {
     "name": "stderr",
     "output_type": "stream",
     "text": [
      "WARNING:bokeh.server.util:Host wildcard '*' will allow connections originating from multiple (or possibly all) hostnames or IPs. Use non-wildcard values to restrict access explicitly\n"
     ]
    },
    {
     "name": "stderr",
     "output_type": "stream",
     "text": [
      "WARNING:bokeh.server.util:Host wildcard '*' will allow connections originating from multiple (or possibly all) hostnames or IPs. Use non-wildcard values to restrict access explicitly\n"
     ]
    },
    {
     "name": "stderr",
     "output_type": "stream",
     "text": [
      "WARNING:bokeh.server.util:Host wildcard '*' will allow connections originating from multiple (or possibly all) hostnames or IPs. Use non-wildcard values to restrict access explicitly\n"
     ]
    },
    {
     "name": "stderr",
     "output_type": "stream",
     "text": [
      "WARNING:bokeh.server.util:Host wildcard '*' will allow connections originating from multiple (or possibly all) hostnames or IPs. Use non-wildcard values to restrict access explicitly\n"
     ]
    }
   ],
   "source": [
    "dset.h5_keys().index(emb._noise)"
   ]
  },
  {
   "cell_type": "code",
   "execution_count": 25,
   "metadata": {},
   "outputs": [
    {
     "data": {
      "text/plain": [
       "(100, 4, 750)"
      ]
     },
     "execution_count": 25,
     "metadata": {},
     "output_type": "execute_result"
    },
    {
     "name": "stderr",
     "output_type": "stream",
     "text": [
      "WARNING:bokeh.server.util:Host wildcard '*' will allow connections originating from multiple (or possibly all) hostnames or IPs. Use non-wildcard values to restrict access explicitly\n"
     ]
    },
    {
     "name": "stderr",
     "output_type": "stream",
     "text": [
      "WARNING:bokeh.server.util:Host wildcard '*' will allow connections originating from multiple (or possibly all) hostnames or IPs. Use non-wildcard values to restrict access explicitly\n"
     ]
    },
    {
     "name": "stderr",
     "output_type": "stream",
     "text": [
      "WARNING:bokeh.server.util:Host wildcard '*' will allow connections originating from multiple (or possibly all) hostnames or IPs. Use non-wildcard values to restrict access explicitly\n"
     ]
    },
    {
     "name": "stderr",
     "output_type": "stream",
     "text": [
      "WARNING:bokeh.server.util:Host wildcard '*' will allow connections originating from multiple (or possibly all) hostnames or IPs. Use non-wildcard values to restrict access explicitly\n"
     ]
    }
   ],
   "source": [
    "emb_viz.select_fits_params(which=0).shape"
   ]
  },
  {
   "cell_type": "markdown",
   "metadata": {},
   "source": []
  },
  {
   "cell_type": "code",
   "execution_count": null,
   "metadata": {},
   "outputs": [],
   "source": []
  },
  {
   "cell_type": "markdown",
   "metadata": {},
   "source": []
  },
  {
   "cell_type": "code",
   "execution_count": 19,
   "metadata": {},
   "outputs": [
    {
     "name": "stderr",
     "output_type": "stream",
     "text": [
      "WARNING:bokeh.server.util:Host wildcard '*' will allow connections originating from multiple (or possibly all) hostnames or IPs. Use non-wildcard values to restrict access explicitly\n"
     ]
    },
    {
     "name": "stderr",
     "output_type": "stream",
     "text": [
      "WARNING:bokeh.server.util:Host wildcard '*' will allow connections originating from multiple (or possibly all) hostnames or IPs. Use non-wildcard values to restrict access explicitly\n"
     ]
    },
    {
     "name": "stderr",
     "output_type": "stream",
     "text": [
      "WARNING:param.wrapped: Callable raised \"ValueError('cannot reshape array of size 300000 into shape (100,100,4,newaxis)')\".\n",
      "Invoked as wrapped(s=0, f=0)\n",
      "ERROR:tornado.application:Uncaught exception GET / (127.0.0.1)\n",
      "HTTPServerRequest(protocol='http', host='localhost:5006', method='GET', uri='/', version='HTTP/1.1', remote_ip='127.0.0.1')\n",
      "Traceback (most recent call last):\n",
      "  File \"/home/m3learning/anaconda3/envs/gaussian-sampler/lib/python3.13/site-packages/tornado/web.py\", line 1790, in _execute\n",
      "    result = await result\n",
      "             ^^^^^^^^^^^^\n",
      "  File \"/home/m3learning/anaconda3/envs/gaussian-sampler/lib/python3.13/site-packages/panel/io/server.py\", line 500, in get\n",
      "    session = await self.get_session()\n",
      "              ^^^^^^^^^^^^^^^^^^^^^^^^\n",
      "  File \"/home/m3learning/anaconda3/envs/gaussian-sampler/lib/python3.13/site-packages/panel/io/server.py\", line 386, in get_session\n",
      "    session = await super().get_session()  # type: ignore\n",
      "              ^^^^^^^^^^^^^^^^^^^^^^^^^^^\n",
      "  File \"/home/m3learning/anaconda3/envs/gaussian-sampler/lib/python3.13/site-packages/bokeh/server/views/session_handler.py\", line 145, in get_session\n",
      "    session = await self.application_context.create_session_if_needed(session_id, self.request, token)\n",
      "              ^^^^^^^^^^^^^^^^^^^^^^^^^^^^^^^^^^^^^^^^^^^^^^^^^^^^^^^^^^^^^^^^^^^^^^^^^^^^^^^^^^^^^^^^\n",
      "  File \"/home/m3learning/anaconda3/envs/gaussian-sampler/lib/python3.13/site-packages/bokeh/server/contexts.py\", line 240, in create_session_if_needed\n",
      "    self._application.initialize_document(doc)\n",
      "    ~~~~~~~~~~~~~~~~~~~~~~~~~~~~~~~~~~~~~^^^^^\n",
      "  File \"/home/m3learning/anaconda3/envs/gaussian-sampler/lib/python3.13/site-packages/panel/io/application.py\", line 148, in initialize_document\n",
      "    super().initialize_document(doc)\n",
      "    ~~~~~~~~~~~~~~~~~~~~~~~~~~~^^^^^\n",
      "  File \"/home/m3learning/anaconda3/envs/gaussian-sampler/lib/python3.13/site-packages/bokeh/application/application.py\", line 190, in initialize_document\n",
      "    h.modify_document(doc)\n",
      "    ~~~~~~~~~~~~~~~~~^^^^^\n",
      "  File \"/home/m3learning/anaconda3/envs/gaussian-sampler/lib/python3.13/site-packages/bokeh/application/handlers/function.py\", line 140, in modify_document\n",
      "    self._func(doc)\n",
      "    ~~~~~~~~~~^^^^^\n",
      "  File \"/home/m3learning/anaconda3/envs/gaussian-sampler/lib/python3.13/site-packages/panel/io/application.py\", line 78, in _eval_panel\n",
      "    doc = as_panel(panel)._modify_doc(server_id, title, doc, location)\n",
      "  File \"/home/m3learning/anaconda3/envs/gaussian-sampler/lib/python3.13/site-packages/panel/viewable.py\", line 326, in _modify_doc\n",
      "    return self.server_doc(doc, title, location) # type: ignore\n",
      "           ~~~~~~~~~~~~~~~^^^^^^^^^^^^^^^^^^^^^^\n",
      "  File \"/home/m3learning/anaconda3/envs/gaussian-sampler/lib/python3.13/site-packages/panel/viewable.py\", line 1022, in server_doc\n",
      "    model = self.get_root(doc)\n",
      "  File \"/home/m3learning/anaconda3/envs/gaussian-sampler/lib/python3.13/site-packages/panel/layout/base.py\", line 318, in get_root\n",
      "    root = super().get_root(doc, comm, preprocess)\n",
      "  File \"/home/m3learning/anaconda3/envs/gaussian-sampler/lib/python3.13/site-packages/panel/viewable.py\", line 693, in get_root\n",
      "    root = self._get_model(doc, comm=comm)\n",
      "  File \"/home/m3learning/anaconda3/envs/gaussian-sampler/lib/python3.13/site-packages/panel/layout/base.py\", line 184, in _get_model\n",
      "    objects, _ = self._get_objects(model, [], doc, root, comm)\n",
      "                 ~~~~~~~~~~~~~~~~~^^^^^^^^^^^^^^^^^^^^^^^^^^^^\n",
      "  File \"/home/m3learning/anaconda3/envs/gaussian-sampler/lib/python3.13/site-packages/panel/layout/base.py\", line 166, in _get_objects\n",
      "    child = pane._get_model(doc, root, model, comm)\n",
      "  File \"/home/m3learning/anaconda3/envs/gaussian-sampler/lib/python3.13/site-packages/panel/pane/holoviews.py\", line 437, in _get_model\n",
      "    plot = self._render(doc, comm, root)\n",
      "  File \"/home/m3learning/anaconda3/envs/gaussian-sampler/lib/python3.13/site-packages/panel/pane/holoviews.py\", line 531, in _render\n",
      "    return renderer.get_plot(self.object, **kwargs)\n",
      "           ~~~~~~~~~~~~~~~~~^^^^^^^^^^^^^^^^^^^^^^^\n",
      "  File \"/home/m3learning/anaconda3/envs/gaussian-sampler/lib/python3.13/site-packages/holoviews/plotting/bokeh/renderer.py\", line 68, in get_plot\n",
      "    plot = super().get_plot(obj, doc, renderer, **kwargs)\n",
      "  File \"/home/m3learning/anaconda3/envs/gaussian-sampler/lib/python3.13/site-packages/holoviews/plotting/renderer.py\", line 216, in get_plot\n",
      "    initialize_dynamic(obj)\n",
      "    ~~~~~~~~~~~~~~~~~~^^^^^\n",
      "  File \"/home/m3learning/anaconda3/envs/gaussian-sampler/lib/python3.13/site-packages/holoviews/plotting/util.py\", line 277, in initialize_dynamic\n",
      "    dmap[dmap._initial_key()]\n",
      "    ~~~~^^^^^^^^^^^^^^^^^^^^^\n",
      "  File \"/home/m3learning/anaconda3/envs/gaussian-sampler/lib/python3.13/site-packages/holoviews/core/spaces.py\", line 1216, in __getitem__\n",
      "    val = self._execute_callback(*tuple_key)\n",
      "  File \"/home/m3learning/anaconda3/envs/gaussian-sampler/lib/python3.13/site-packages/holoviews/core/spaces.py\", line 983, in _execute_callback\n",
      "    retval = self.callback(*args, **kwargs)\n",
      "  File \"/home/m3learning/anaconda3/envs/gaussian-sampler/lib/python3.13/site-packages/holoviews/core/spaces.py\", line 552, in __call__\n",
      "    return self.callable()\n",
      "           ~~~~~~~~~~~~~^^\n",
      "  File \"/home/m3learning/anaconda3/envs/gaussian-sampler/lib/python3.13/site-packages/holoviews/core/spaces.py\", line 197, in dynamic_mul\n",
      "    self_el = self.select(HoloMap, **key_map) if self.kdims else self[()]\n",
      "                                                                 ~~~~^^^^\n",
      "  File \"/home/m3learning/anaconda3/envs/gaussian-sampler/lib/python3.13/site-packages/holoviews/core/spaces.py\", line 1216, in __getitem__\n",
      "    val = self._execute_callback(*tuple_key)\n",
      "  File \"/home/m3learning/anaconda3/envs/gaussian-sampler/lib/python3.13/site-packages/holoviews/core/spaces.py\", line 983, in _execute_callback\n",
      "    retval = self.callback(*args, **kwargs)\n",
      "  File \"/home/m3learning/anaconda3/envs/gaussian-sampler/lib/python3.13/site-packages/holoviews/core/spaces.py\", line 581, in __call__\n",
      "    ret = self.callable(*args, **kwargs)\n",
      "  File \"/home/m3learning/anaconda3/envs/gaussian-sampler/lib/python3.13/site-packages/param/depends.py\", line 85, in _depends\n",
      "    return func(*args, **kw)\n",
      "  File \"/home/m3learning/anaconda3/envs/gaussian-sampler/lib/python3.13/site-packages/param/reactive.py\", line 598, in wrapped\n",
      "    return eval_fn()(*combined_args, **combined_kwargs)\n",
      "           ~~~~~~~~~^^^^^^^^^^^^^^^^^^^^^^^^^^^^^^^^^^^\n",
      "  File \"/home/m3learning/Northwestern/Gaussian_Sampler/Notebooks/../Gaussian_Sampler/viz/hv_viz.py\", line 230, in plot_fits_img\n",
      "    fits = self.select_fits_params(which=0).reshape(self.dset.shape[0], self.dset.shape[1], self.model.num_fits,-1)\n",
      "ValueError: cannot reshape array of size 300000 into shape (100,100,4,newaxis)\n",
      "ERROR:tornado.access:500 GET / (127.0.0.1) 102.42ms\n",
      "WARNING:param.wrapped: Callable raised \"ValueError('cannot reshape array of size 300000 into shape (100,100,4,newaxis)')\".\n",
      "Invoked as wrapped(s=0, f=0)\n",
      "ERROR:tornado.application:Uncaught exception GET / (127.0.0.1)\n",
      "HTTPServerRequest(protocol='http', host='localhost:5006', method='GET', uri='/', version='HTTP/1.1', remote_ip='127.0.0.1')\n",
      "Traceback (most recent call last):\n",
      "  File \"/home/m3learning/anaconda3/envs/gaussian-sampler/lib/python3.13/site-packages/tornado/web.py\", line 1790, in _execute\n",
      "    result = await result\n",
      "             ^^^^^^^^^^^^\n",
      "  File \"/home/m3learning/anaconda3/envs/gaussian-sampler/lib/python3.13/site-packages/panel/io/server.py\", line 500, in get\n",
      "    session = await self.get_session()\n",
      "              ^^^^^^^^^^^^^^^^^^^^^^^^\n",
      "  File \"/home/m3learning/anaconda3/envs/gaussian-sampler/lib/python3.13/site-packages/panel/io/server.py\", line 386, in get_session\n",
      "    session = await super().get_session()  # type: ignore\n",
      "              ^^^^^^^^^^^^^^^^^^^^^^^^^^^\n",
      "  File \"/home/m3learning/anaconda3/envs/gaussian-sampler/lib/python3.13/site-packages/bokeh/server/views/session_handler.py\", line 145, in get_session\n",
      "    session = await self.application_context.create_session_if_needed(session_id, self.request, token)\n",
      "              ^^^^^^^^^^^^^^^^^^^^^^^^^^^^^^^^^^^^^^^^^^^^^^^^^^^^^^^^^^^^^^^^^^^^^^^^^^^^^^^^^^^^^^^^\n",
      "  File \"/home/m3learning/anaconda3/envs/gaussian-sampler/lib/python3.13/site-packages/bokeh/server/contexts.py\", line 240, in create_session_if_needed\n",
      "    self._application.initialize_document(doc)\n",
      "    ~~~~~~~~~~~~~~~~~~~~~~~~~~~~~~~~~~~~~^^^^^\n",
      "  File \"/home/m3learning/anaconda3/envs/gaussian-sampler/lib/python3.13/site-packages/panel/io/application.py\", line 148, in initialize_document\n",
      "    super().initialize_document(doc)\n",
      "    ~~~~~~~~~~~~~~~~~~~~~~~~~~~^^^^^\n",
      "  File \"/home/m3learning/anaconda3/envs/gaussian-sampler/lib/python3.13/site-packages/bokeh/application/application.py\", line 190, in initialize_document\n",
      "    h.modify_document(doc)\n",
      "    ~~~~~~~~~~~~~~~~~^^^^^\n",
      "  File \"/home/m3learning/anaconda3/envs/gaussian-sampler/lib/python3.13/site-packages/bokeh/application/handlers/function.py\", line 140, in modify_document\n",
      "    self._func(doc)\n",
      "    ~~~~~~~~~~^^^^^\n",
      "  File \"/home/m3learning/anaconda3/envs/gaussian-sampler/lib/python3.13/site-packages/panel/io/application.py\", line 78, in _eval_panel\n",
      "    doc = as_panel(panel)._modify_doc(server_id, title, doc, location)\n",
      "  File \"/home/m3learning/anaconda3/envs/gaussian-sampler/lib/python3.13/site-packages/panel/viewable.py\", line 326, in _modify_doc\n",
      "    return self.server_doc(doc, title, location) # type: ignore\n",
      "           ~~~~~~~~~~~~~~~^^^^^^^^^^^^^^^^^^^^^^\n",
      "  File \"/home/m3learning/anaconda3/envs/gaussian-sampler/lib/python3.13/site-packages/panel/viewable.py\", line 1022, in server_doc\n",
      "    model = self.get_root(doc)\n",
      "  File \"/home/m3learning/anaconda3/envs/gaussian-sampler/lib/python3.13/site-packages/panel/layout/base.py\", line 318, in get_root\n",
      "    root = super().get_root(doc, comm, preprocess)\n",
      "  File \"/home/m3learning/anaconda3/envs/gaussian-sampler/lib/python3.13/site-packages/panel/viewable.py\", line 693, in get_root\n",
      "    root = self._get_model(doc, comm=comm)\n",
      "  File \"/home/m3learning/anaconda3/envs/gaussian-sampler/lib/python3.13/site-packages/panel/layout/base.py\", line 184, in _get_model\n",
      "    objects, _ = self._get_objects(model, [], doc, root, comm)\n",
      "                 ~~~~~~~~~~~~~~~~~^^^^^^^^^^^^^^^^^^^^^^^^^^^^\n",
      "  File \"/home/m3learning/anaconda3/envs/gaussian-sampler/lib/python3.13/site-packages/panel/layout/base.py\", line 166, in _get_objects\n",
      "    child = pane._get_model(doc, root, model, comm)\n",
      "  File \"/home/m3learning/anaconda3/envs/gaussian-sampler/lib/python3.13/site-packages/panel/pane/holoviews.py\", line 437, in _get_model\n",
      "    plot = self._render(doc, comm, root)\n",
      "  File \"/home/m3learning/anaconda3/envs/gaussian-sampler/lib/python3.13/site-packages/panel/pane/holoviews.py\", line 531, in _render\n",
      "    return renderer.get_plot(self.object, **kwargs)\n",
      "           ~~~~~~~~~~~~~~~~~^^^^^^^^^^^^^^^^^^^^^^^\n",
      "  File \"/home/m3learning/anaconda3/envs/gaussian-sampler/lib/python3.13/site-packages/holoviews/plotting/bokeh/renderer.py\", line 68, in get_plot\n",
      "    plot = super().get_plot(obj, doc, renderer, **kwargs)\n",
      "  File \"/home/m3learning/anaconda3/envs/gaussian-sampler/lib/python3.13/site-packages/holoviews/plotting/renderer.py\", line 216, in get_plot\n",
      "    initialize_dynamic(obj)\n",
      "    ~~~~~~~~~~~~~~~~~~^^^^^\n",
      "  File \"/home/m3learning/anaconda3/envs/gaussian-sampler/lib/python3.13/site-packages/holoviews/plotting/util.py\", line 277, in initialize_dynamic\n",
      "    dmap[dmap._initial_key()]\n",
      "    ~~~~^^^^^^^^^^^^^^^^^^^^^\n",
      "  File \"/home/m3learning/anaconda3/envs/gaussian-sampler/lib/python3.13/site-packages/holoviews/core/spaces.py\", line 1216, in __getitem__\n",
      "    val = self._execute_callback(*tuple_key)\n",
      "  File \"/home/m3learning/anaconda3/envs/gaussian-sampler/lib/python3.13/site-packages/holoviews/core/spaces.py\", line 983, in _execute_callback\n",
      "    retval = self.callback(*args, **kwargs)\n",
      "  File \"/home/m3learning/anaconda3/envs/gaussian-sampler/lib/python3.13/site-packages/holoviews/core/spaces.py\", line 552, in __call__\n",
      "    return self.callable()\n",
      "           ~~~~~~~~~~~~~^^\n",
      "  File \"/home/m3learning/anaconda3/envs/gaussian-sampler/lib/python3.13/site-packages/holoviews/core/spaces.py\", line 197, in dynamic_mul\n",
      "    self_el = self.select(HoloMap, **key_map) if self.kdims else self[()]\n",
      "                                                                 ~~~~^^^^\n",
      "  File \"/home/m3learning/anaconda3/envs/gaussian-sampler/lib/python3.13/site-packages/holoviews/core/spaces.py\", line 1216, in __getitem__\n",
      "    val = self._execute_callback(*tuple_key)\n",
      "  File \"/home/m3learning/anaconda3/envs/gaussian-sampler/lib/python3.13/site-packages/holoviews/core/spaces.py\", line 983, in _execute_callback\n",
      "    retval = self.callback(*args, **kwargs)\n",
      "  File \"/home/m3learning/anaconda3/envs/gaussian-sampler/lib/python3.13/site-packages/holoviews/core/spaces.py\", line 581, in __call__\n",
      "    ret = self.callable(*args, **kwargs)\n",
      "  File \"/home/m3learning/anaconda3/envs/gaussian-sampler/lib/python3.13/site-packages/param/depends.py\", line 85, in _depends\n",
      "    return func(*args, **kw)\n",
      "  File \"/home/m3learning/anaconda3/envs/gaussian-sampler/lib/python3.13/site-packages/param/reactive.py\", line 598, in wrapped\n",
      "    return eval_fn()(*combined_args, **combined_kwargs)\n",
      "           ~~~~~~~~~^^^^^^^^^^^^^^^^^^^^^^^^^^^^^^^^^^^\n",
      "  File \"/home/m3learning/Northwestern/Gaussian_Sampler/Notebooks/../Gaussian_Sampler/viz/hv_viz.py\", line 230, in plot_fits_img\n",
      "    fits = self.select_fits_params(which=0).reshape(self.dset.shape[0], self.dset.shape[1], self.model.num_fits,-1)\n",
      "ValueError: cannot reshape array of size 300000 into shape (100,100,4,newaxis)\n",
      "ERROR:tornado.access:500 GET / (127.0.0.1) 14.26ms\n"
     ]
    },
    {
     "name": "stderr",
     "output_type": "stream",
     "text": [
      "WARNING:bokeh.server.util:Host wildcard '*' will allow connections originating from multiple (or possibly all) hostnames or IPs. Use non-wildcard values to restrict access explicitly\n"
     ]
    },
    {
     "name": "stderr",
     "output_type": "stream",
     "text": [
      "WARNING:param.wrapped: Callable raised \"ValueError('cannot reshape array of size 300000 into shape (100,100,4,newaxis)')\".\n",
      "Invoked as wrapped(s=0, f=0)\n",
      "ERROR:tornado.application:Uncaught exception GET / (127.0.0.1)\n",
      "HTTPServerRequest(protocol='http', host='localhost:5006', method='GET', uri='/', version='HTTP/1.1', remote_ip='127.0.0.1')\n",
      "Traceback (most recent call last):\n",
      "  File \"/home/m3learning/anaconda3/envs/gaussian-sampler/lib/python3.13/site-packages/tornado/web.py\", line 1790, in _execute\n",
      "    result = await result\n",
      "             ^^^^^^^^^^^^\n",
      "  File \"/home/m3learning/anaconda3/envs/gaussian-sampler/lib/python3.13/site-packages/panel/io/server.py\", line 500, in get\n",
      "    session = await self.get_session()\n",
      "              ^^^^^^^^^^^^^^^^^^^^^^^^\n",
      "  File \"/home/m3learning/anaconda3/envs/gaussian-sampler/lib/python3.13/site-packages/panel/io/server.py\", line 386, in get_session\n",
      "    session = await super().get_session()  # type: ignore\n",
      "              ^^^^^^^^^^^^^^^^^^^^^^^^^^^\n",
      "  File \"/home/m3learning/anaconda3/envs/gaussian-sampler/lib/python3.13/site-packages/bokeh/server/views/session_handler.py\", line 145, in get_session\n",
      "    session = await self.application_context.create_session_if_needed(session_id, self.request, token)\n",
      "              ^^^^^^^^^^^^^^^^^^^^^^^^^^^^^^^^^^^^^^^^^^^^^^^^^^^^^^^^^^^^^^^^^^^^^^^^^^^^^^^^^^^^^^^^\n",
      "  File \"/home/m3learning/anaconda3/envs/gaussian-sampler/lib/python3.13/site-packages/bokeh/server/contexts.py\", line 240, in create_session_if_needed\n",
      "    self._application.initialize_document(doc)\n",
      "    ~~~~~~~~~~~~~~~~~~~~~~~~~~~~~~~~~~~~~^^^^^\n",
      "  File \"/home/m3learning/anaconda3/envs/gaussian-sampler/lib/python3.13/site-packages/panel/io/application.py\", line 148, in initialize_document\n",
      "    super().initialize_document(doc)\n",
      "    ~~~~~~~~~~~~~~~~~~~~~~~~~~~^^^^^\n",
      "  File \"/home/m3learning/anaconda3/envs/gaussian-sampler/lib/python3.13/site-packages/bokeh/application/application.py\", line 190, in initialize_document\n",
      "    h.modify_document(doc)\n",
      "    ~~~~~~~~~~~~~~~~~^^^^^\n",
      "  File \"/home/m3learning/anaconda3/envs/gaussian-sampler/lib/python3.13/site-packages/bokeh/application/handlers/function.py\", line 140, in modify_document\n",
      "    self._func(doc)\n",
      "    ~~~~~~~~~~^^^^^\n",
      "  File \"/home/m3learning/anaconda3/envs/gaussian-sampler/lib/python3.13/site-packages/panel/io/application.py\", line 78, in _eval_panel\n",
      "    doc = as_panel(panel)._modify_doc(server_id, title, doc, location)\n",
      "  File \"/home/m3learning/anaconda3/envs/gaussian-sampler/lib/python3.13/site-packages/panel/viewable.py\", line 326, in _modify_doc\n",
      "    return self.server_doc(doc, title, location) # type: ignore\n",
      "           ~~~~~~~~~~~~~~~^^^^^^^^^^^^^^^^^^^^^^\n",
      "  File \"/home/m3learning/anaconda3/envs/gaussian-sampler/lib/python3.13/site-packages/panel/viewable.py\", line 1022, in server_doc\n",
      "    model = self.get_root(doc)\n",
      "  File \"/home/m3learning/anaconda3/envs/gaussian-sampler/lib/python3.13/site-packages/panel/layout/base.py\", line 318, in get_root\n",
      "    root = super().get_root(doc, comm, preprocess)\n",
      "  File \"/home/m3learning/anaconda3/envs/gaussian-sampler/lib/python3.13/site-packages/panel/viewable.py\", line 693, in get_root\n",
      "    root = self._get_model(doc, comm=comm)\n",
      "  File \"/home/m3learning/anaconda3/envs/gaussian-sampler/lib/python3.13/site-packages/panel/layout/base.py\", line 184, in _get_model\n",
      "    objects, _ = self._get_objects(model, [], doc, root, comm)\n",
      "                 ~~~~~~~~~~~~~~~~~^^^^^^^^^^^^^^^^^^^^^^^^^^^^\n",
      "  File \"/home/m3learning/anaconda3/envs/gaussian-sampler/lib/python3.13/site-packages/panel/layout/base.py\", line 166, in _get_objects\n",
      "    child = pane._get_model(doc, root, model, comm)\n",
      "  File \"/home/m3learning/anaconda3/envs/gaussian-sampler/lib/python3.13/site-packages/panel/pane/holoviews.py\", line 437, in _get_model\n",
      "    plot = self._render(doc, comm, root)\n",
      "  File \"/home/m3learning/anaconda3/envs/gaussian-sampler/lib/python3.13/site-packages/panel/pane/holoviews.py\", line 531, in _render\n",
      "    return renderer.get_plot(self.object, **kwargs)\n",
      "           ~~~~~~~~~~~~~~~~~^^^^^^^^^^^^^^^^^^^^^^^\n",
      "  File \"/home/m3learning/anaconda3/envs/gaussian-sampler/lib/python3.13/site-packages/holoviews/plotting/bokeh/renderer.py\", line 68, in get_plot\n",
      "    plot = super().get_plot(obj, doc, renderer, **kwargs)\n",
      "  File \"/home/m3learning/anaconda3/envs/gaussian-sampler/lib/python3.13/site-packages/holoviews/plotting/renderer.py\", line 216, in get_plot\n",
      "    initialize_dynamic(obj)\n",
      "    ~~~~~~~~~~~~~~~~~~^^^^^\n",
      "  File \"/home/m3learning/anaconda3/envs/gaussian-sampler/lib/python3.13/site-packages/holoviews/plotting/util.py\", line 277, in initialize_dynamic\n",
      "    dmap[dmap._initial_key()]\n",
      "    ~~~~^^^^^^^^^^^^^^^^^^^^^\n",
      "  File \"/home/m3learning/anaconda3/envs/gaussian-sampler/lib/python3.13/site-packages/holoviews/core/spaces.py\", line 1216, in __getitem__\n",
      "    val = self._execute_callback(*tuple_key)\n",
      "  File \"/home/m3learning/anaconda3/envs/gaussian-sampler/lib/python3.13/site-packages/holoviews/core/spaces.py\", line 983, in _execute_callback\n",
      "    retval = self.callback(*args, **kwargs)\n",
      "  File \"/home/m3learning/anaconda3/envs/gaussian-sampler/lib/python3.13/site-packages/holoviews/core/spaces.py\", line 552, in __call__\n",
      "    return self.callable()\n",
      "           ~~~~~~~~~~~~~^^\n",
      "  File \"/home/m3learning/anaconda3/envs/gaussian-sampler/lib/python3.13/site-packages/holoviews/core/spaces.py\", line 197, in dynamic_mul\n",
      "    self_el = self.select(HoloMap, **key_map) if self.kdims else self[()]\n",
      "                                                                 ~~~~^^^^\n",
      "  File \"/home/m3learning/anaconda3/envs/gaussian-sampler/lib/python3.13/site-packages/holoviews/core/spaces.py\", line 1216, in __getitem__\n",
      "    val = self._execute_callback(*tuple_key)\n",
      "  File \"/home/m3learning/anaconda3/envs/gaussian-sampler/lib/python3.13/site-packages/holoviews/core/spaces.py\", line 983, in _execute_callback\n",
      "    retval = self.callback(*args, **kwargs)\n",
      "  File \"/home/m3learning/anaconda3/envs/gaussian-sampler/lib/python3.13/site-packages/holoviews/core/spaces.py\", line 581, in __call__\n",
      "    ret = self.callable(*args, **kwargs)\n",
      "  File \"/home/m3learning/anaconda3/envs/gaussian-sampler/lib/python3.13/site-packages/param/depends.py\", line 85, in _depends\n",
      "    return func(*args, **kw)\n",
      "  File \"/home/m3learning/anaconda3/envs/gaussian-sampler/lib/python3.13/site-packages/param/reactive.py\", line 598, in wrapped\n",
      "    return eval_fn()(*combined_args, **combined_kwargs)\n",
      "           ~~~~~~~~~^^^^^^^^^^^^^^^^^^^^^^^^^^^^^^^^^^^\n",
      "  File \"/home/m3learning/Northwestern/Gaussian_Sampler/Notebooks/../Gaussian_Sampler/viz/hv_viz.py\", line 230, in plot_fits_img\n",
      "    fits = self.select_fits_params(which=0).reshape(self.dset.shape[0], self.dset.shape[1], self.model.num_fits,-1)\n",
      "ValueError: cannot reshape array of size 300000 into shape (100,100,4,newaxis)\n",
      "ERROR:tornado.access:500 GET / (127.0.0.1) 99.75ms\n"
     ]
    },
    {
     "name": "stderr",
     "output_type": "stream",
     "text": [
      "WARNING:bokeh.server.util:Host wildcard '*' will allow connections originating from multiple (or possibly all) hostnames or IPs. Use non-wildcard values to restrict access explicitly\n"
     ]
    },
    {
     "name": "stderr",
     "output_type": "stream",
     "text": [
      "WARNING:param.wrapped: Callable raised \"ValueError('cannot reshape array of size 300000 into shape (100,100,4,newaxis)')\".\n",
      "Invoked as wrapped(s=0, f=0)\n",
      "ERROR:tornado.application:Uncaught exception GET / (127.0.0.1)\n",
      "HTTPServerRequest(protocol='http', host='localhost:5006', method='GET', uri='/', version='HTTP/1.1', remote_ip='127.0.0.1')\n",
      "Traceback (most recent call last):\n",
      "  File \"/home/m3learning/anaconda3/envs/gaussian-sampler/lib/python3.13/site-packages/tornado/web.py\", line 1790, in _execute\n",
      "    result = await result\n",
      "             ^^^^^^^^^^^^\n",
      "  File \"/home/m3learning/anaconda3/envs/gaussian-sampler/lib/python3.13/site-packages/panel/io/server.py\", line 500, in get\n",
      "    session = await self.get_session()\n",
      "              ^^^^^^^^^^^^^^^^^^^^^^^^\n",
      "  File \"/home/m3learning/anaconda3/envs/gaussian-sampler/lib/python3.13/site-packages/panel/io/server.py\", line 386, in get_session\n",
      "    session = await super().get_session()  # type: ignore\n",
      "              ^^^^^^^^^^^^^^^^^^^^^^^^^^^\n",
      "  File \"/home/m3learning/anaconda3/envs/gaussian-sampler/lib/python3.13/site-packages/bokeh/server/views/session_handler.py\", line 145, in get_session\n",
      "    session = await self.application_context.create_session_if_needed(session_id, self.request, token)\n",
      "              ^^^^^^^^^^^^^^^^^^^^^^^^^^^^^^^^^^^^^^^^^^^^^^^^^^^^^^^^^^^^^^^^^^^^^^^^^^^^^^^^^^^^^^^^\n",
      "  File \"/home/m3learning/anaconda3/envs/gaussian-sampler/lib/python3.13/site-packages/bokeh/server/contexts.py\", line 240, in create_session_if_needed\n",
      "    self._application.initialize_document(doc)\n",
      "    ~~~~~~~~~~~~~~~~~~~~~~~~~~~~~~~~~~~~~^^^^^\n",
      "  File \"/home/m3learning/anaconda3/envs/gaussian-sampler/lib/python3.13/site-packages/panel/io/application.py\", line 148, in initialize_document\n",
      "    super().initialize_document(doc)\n",
      "    ~~~~~~~~~~~~~~~~~~~~~~~~~~~^^^^^\n",
      "  File \"/home/m3learning/anaconda3/envs/gaussian-sampler/lib/python3.13/site-packages/bokeh/application/application.py\", line 190, in initialize_document\n",
      "    h.modify_document(doc)\n",
      "    ~~~~~~~~~~~~~~~~~^^^^^\n",
      "  File \"/home/m3learning/anaconda3/envs/gaussian-sampler/lib/python3.13/site-packages/bokeh/application/handlers/function.py\", line 140, in modify_document\n",
      "    self._func(doc)\n",
      "    ~~~~~~~~~~^^^^^\n",
      "  File \"/home/m3learning/anaconda3/envs/gaussian-sampler/lib/python3.13/site-packages/panel/io/application.py\", line 78, in _eval_panel\n",
      "    doc = as_panel(panel)._modify_doc(server_id, title, doc, location)\n",
      "  File \"/home/m3learning/anaconda3/envs/gaussian-sampler/lib/python3.13/site-packages/panel/viewable.py\", line 326, in _modify_doc\n",
      "    return self.server_doc(doc, title, location) # type: ignore\n",
      "           ~~~~~~~~~~~~~~~^^^^^^^^^^^^^^^^^^^^^^\n",
      "  File \"/home/m3learning/anaconda3/envs/gaussian-sampler/lib/python3.13/site-packages/panel/viewable.py\", line 1022, in server_doc\n",
      "    model = self.get_root(doc)\n",
      "  File \"/home/m3learning/anaconda3/envs/gaussian-sampler/lib/python3.13/site-packages/panel/layout/base.py\", line 318, in get_root\n",
      "    root = super().get_root(doc, comm, preprocess)\n",
      "  File \"/home/m3learning/anaconda3/envs/gaussian-sampler/lib/python3.13/site-packages/panel/viewable.py\", line 693, in get_root\n",
      "    root = self._get_model(doc, comm=comm)\n",
      "  File \"/home/m3learning/anaconda3/envs/gaussian-sampler/lib/python3.13/site-packages/panel/layout/base.py\", line 184, in _get_model\n",
      "    objects, _ = self._get_objects(model, [], doc, root, comm)\n",
      "                 ~~~~~~~~~~~~~~~~~^^^^^^^^^^^^^^^^^^^^^^^^^^^^\n",
      "  File \"/home/m3learning/anaconda3/envs/gaussian-sampler/lib/python3.13/site-packages/panel/layout/base.py\", line 166, in _get_objects\n",
      "    child = pane._get_model(doc, root, model, comm)\n",
      "  File \"/home/m3learning/anaconda3/envs/gaussian-sampler/lib/python3.13/site-packages/panel/pane/holoviews.py\", line 437, in _get_model\n",
      "    plot = self._render(doc, comm, root)\n",
      "  File \"/home/m3learning/anaconda3/envs/gaussian-sampler/lib/python3.13/site-packages/panel/pane/holoviews.py\", line 531, in _render\n",
      "    return renderer.get_plot(self.object, **kwargs)\n",
      "           ~~~~~~~~~~~~~~~~~^^^^^^^^^^^^^^^^^^^^^^^\n",
      "  File \"/home/m3learning/anaconda3/envs/gaussian-sampler/lib/python3.13/site-packages/holoviews/plotting/bokeh/renderer.py\", line 68, in get_plot\n",
      "    plot = super().get_plot(obj, doc, renderer, **kwargs)\n",
      "  File \"/home/m3learning/anaconda3/envs/gaussian-sampler/lib/python3.13/site-packages/holoviews/plotting/renderer.py\", line 216, in get_plot\n",
      "    initialize_dynamic(obj)\n",
      "    ~~~~~~~~~~~~~~~~~~^^^^^\n",
      "  File \"/home/m3learning/anaconda3/envs/gaussian-sampler/lib/python3.13/site-packages/holoviews/plotting/util.py\", line 277, in initialize_dynamic\n",
      "    dmap[dmap._initial_key()]\n",
      "    ~~~~^^^^^^^^^^^^^^^^^^^^^\n",
      "  File \"/home/m3learning/anaconda3/envs/gaussian-sampler/lib/python3.13/site-packages/holoviews/core/spaces.py\", line 1216, in __getitem__\n",
      "    val = self._execute_callback(*tuple_key)\n",
      "  File \"/home/m3learning/anaconda3/envs/gaussian-sampler/lib/python3.13/site-packages/holoviews/core/spaces.py\", line 983, in _execute_callback\n",
      "    retval = self.callback(*args, **kwargs)\n",
      "  File \"/home/m3learning/anaconda3/envs/gaussian-sampler/lib/python3.13/site-packages/holoviews/core/spaces.py\", line 552, in __call__\n",
      "    return self.callable()\n",
      "           ~~~~~~~~~~~~~^^\n",
      "  File \"/home/m3learning/anaconda3/envs/gaussian-sampler/lib/python3.13/site-packages/holoviews/core/spaces.py\", line 197, in dynamic_mul\n",
      "    self_el = self.select(HoloMap, **key_map) if self.kdims else self[()]\n",
      "                                                                 ~~~~^^^^\n",
      "  File \"/home/m3learning/anaconda3/envs/gaussian-sampler/lib/python3.13/site-packages/holoviews/core/spaces.py\", line 1216, in __getitem__\n",
      "    val = self._execute_callback(*tuple_key)\n",
      "  File \"/home/m3learning/anaconda3/envs/gaussian-sampler/lib/python3.13/site-packages/holoviews/core/spaces.py\", line 983, in _execute_callback\n",
      "    retval = self.callback(*args, **kwargs)\n",
      "  File \"/home/m3learning/anaconda3/envs/gaussian-sampler/lib/python3.13/site-packages/holoviews/core/spaces.py\", line 581, in __call__\n",
      "    ret = self.callable(*args, **kwargs)\n",
      "  File \"/home/m3learning/anaconda3/envs/gaussian-sampler/lib/python3.13/site-packages/param/depends.py\", line 85, in _depends\n",
      "    return func(*args, **kw)\n",
      "  File \"/home/m3learning/anaconda3/envs/gaussian-sampler/lib/python3.13/site-packages/param/reactive.py\", line 598, in wrapped\n",
      "    return eval_fn()(*combined_args, **combined_kwargs)\n",
      "           ~~~~~~~~~^^^^^^^^^^^^^^^^^^^^^^^^^^^^^^^^^^^\n",
      "  File \"/home/m3learning/Northwestern/Gaussian_Sampler/Notebooks/../Gaussian_Sampler/viz/hv_viz.py\", line 231, in plot_fits_img\n",
      "    fits = self.select_fits_params(which=0).reshape(self.dset.shape[0], self.dset.shape[1], self.model.num_fits,-1)\n",
      "ValueError: cannot reshape array of size 300000 into shape (100,100,4,newaxis)\n",
      "ERROR:tornado.access:500 GET / (127.0.0.1) 98.18ms\n",
      "WARNING:param.wrapped: Callable raised \"ValueError('cannot reshape array of size 300000 into shape (100,100,4,newaxis)')\".\n",
      "Invoked as wrapped(s=0, f=0)\n",
      "ERROR:tornado.application:Uncaught exception GET /?vscodeBrowserReqId=1743102001978 (127.0.0.1)\n",
      "HTTPServerRequest(protocol='http', host='localhost:5006', method='GET', uri='/?vscodeBrowserReqId=1743102001978', version='HTTP/1.1', remote_ip='127.0.0.1')\n",
      "Traceback (most recent call last):\n",
      "  File \"/home/m3learning/anaconda3/envs/gaussian-sampler/lib/python3.13/site-packages/tornado/web.py\", line 1790, in _execute\n",
      "    result = await result\n",
      "             ^^^^^^^^^^^^\n",
      "  File \"/home/m3learning/anaconda3/envs/gaussian-sampler/lib/python3.13/site-packages/panel/io/server.py\", line 500, in get\n",
      "    session = await self.get_session()\n",
      "              ^^^^^^^^^^^^^^^^^^^^^^^^\n",
      "  File \"/home/m3learning/anaconda3/envs/gaussian-sampler/lib/python3.13/site-packages/panel/io/server.py\", line 386, in get_session\n",
      "    session = await super().get_session()  # type: ignore\n",
      "              ^^^^^^^^^^^^^^^^^^^^^^^^^^^\n",
      "  File \"/home/m3learning/anaconda3/envs/gaussian-sampler/lib/python3.13/site-packages/bokeh/server/views/session_handler.py\", line 145, in get_session\n",
      "    session = await self.application_context.create_session_if_needed(session_id, self.request, token)\n",
      "              ^^^^^^^^^^^^^^^^^^^^^^^^^^^^^^^^^^^^^^^^^^^^^^^^^^^^^^^^^^^^^^^^^^^^^^^^^^^^^^^^^^^^^^^^\n",
      "  File \"/home/m3learning/anaconda3/envs/gaussian-sampler/lib/python3.13/site-packages/bokeh/server/contexts.py\", line 240, in create_session_if_needed\n",
      "    self._application.initialize_document(doc)\n",
      "    ~~~~~~~~~~~~~~~~~~~~~~~~~~~~~~~~~~~~~^^^^^\n",
      "  File \"/home/m3learning/anaconda3/envs/gaussian-sampler/lib/python3.13/site-packages/panel/io/application.py\", line 148, in initialize_document\n",
      "    super().initialize_document(doc)\n",
      "    ~~~~~~~~~~~~~~~~~~~~~~~~~~~^^^^^\n",
      "  File \"/home/m3learning/anaconda3/envs/gaussian-sampler/lib/python3.13/site-packages/bokeh/application/application.py\", line 190, in initialize_document\n",
      "    h.modify_document(doc)\n",
      "    ~~~~~~~~~~~~~~~~~^^^^^\n",
      "  File \"/home/m3learning/anaconda3/envs/gaussian-sampler/lib/python3.13/site-packages/bokeh/application/handlers/function.py\", line 140, in modify_document\n",
      "    self._func(doc)\n",
      "    ~~~~~~~~~~^^^^^\n",
      "  File \"/home/m3learning/anaconda3/envs/gaussian-sampler/lib/python3.13/site-packages/panel/io/application.py\", line 78, in _eval_panel\n",
      "    doc = as_panel(panel)._modify_doc(server_id, title, doc, location)\n",
      "  File \"/home/m3learning/anaconda3/envs/gaussian-sampler/lib/python3.13/site-packages/panel/viewable.py\", line 326, in _modify_doc\n",
      "    return self.server_doc(doc, title, location) # type: ignore\n",
      "           ~~~~~~~~~~~~~~~^^^^^^^^^^^^^^^^^^^^^^\n",
      "  File \"/home/m3learning/anaconda3/envs/gaussian-sampler/lib/python3.13/site-packages/panel/viewable.py\", line 1022, in server_doc\n",
      "    model = self.get_root(doc)\n",
      "  File \"/home/m3learning/anaconda3/envs/gaussian-sampler/lib/python3.13/site-packages/panel/layout/base.py\", line 318, in get_root\n",
      "    root = super().get_root(doc, comm, preprocess)\n",
      "  File \"/home/m3learning/anaconda3/envs/gaussian-sampler/lib/python3.13/site-packages/panel/viewable.py\", line 693, in get_root\n",
      "    root = self._get_model(doc, comm=comm)\n",
      "  File \"/home/m3learning/anaconda3/envs/gaussian-sampler/lib/python3.13/site-packages/panel/layout/base.py\", line 184, in _get_model\n",
      "    objects, _ = self._get_objects(model, [], doc, root, comm)\n",
      "                 ~~~~~~~~~~~~~~~~~^^^^^^^^^^^^^^^^^^^^^^^^^^^^\n",
      "  File \"/home/m3learning/anaconda3/envs/gaussian-sampler/lib/python3.13/site-packages/panel/layout/base.py\", line 166, in _get_objects\n",
      "    child = pane._get_model(doc, root, model, comm)\n",
      "  File \"/home/m3learning/anaconda3/envs/gaussian-sampler/lib/python3.13/site-packages/panel/pane/holoviews.py\", line 437, in _get_model\n",
      "    plot = self._render(doc, comm, root)\n",
      "  File \"/home/m3learning/anaconda3/envs/gaussian-sampler/lib/python3.13/site-packages/panel/pane/holoviews.py\", line 531, in _render\n",
      "    return renderer.get_plot(self.object, **kwargs)\n",
      "           ~~~~~~~~~~~~~~~~~^^^^^^^^^^^^^^^^^^^^^^^\n",
      "  File \"/home/m3learning/anaconda3/envs/gaussian-sampler/lib/python3.13/site-packages/holoviews/plotting/bokeh/renderer.py\", line 68, in get_plot\n",
      "    plot = super().get_plot(obj, doc, renderer, **kwargs)\n",
      "  File \"/home/m3learning/anaconda3/envs/gaussian-sampler/lib/python3.13/site-packages/holoviews/plotting/renderer.py\", line 216, in get_plot\n",
      "    initialize_dynamic(obj)\n",
      "    ~~~~~~~~~~~~~~~~~~^^^^^\n",
      "  File \"/home/m3learning/anaconda3/envs/gaussian-sampler/lib/python3.13/site-packages/holoviews/plotting/util.py\", line 277, in initialize_dynamic\n",
      "    dmap[dmap._initial_key()]\n",
      "    ~~~~^^^^^^^^^^^^^^^^^^^^^\n",
      "  File \"/home/m3learning/anaconda3/envs/gaussian-sampler/lib/python3.13/site-packages/holoviews/core/spaces.py\", line 1216, in __getitem__\n",
      "    val = self._execute_callback(*tuple_key)\n",
      "  File \"/home/m3learning/anaconda3/envs/gaussian-sampler/lib/python3.13/site-packages/holoviews/core/spaces.py\", line 983, in _execute_callback\n",
      "    retval = self.callback(*args, **kwargs)\n",
      "  File \"/home/m3learning/anaconda3/envs/gaussian-sampler/lib/python3.13/site-packages/holoviews/core/spaces.py\", line 552, in __call__\n",
      "    return self.callable()\n",
      "           ~~~~~~~~~~~~~^^\n",
      "  File \"/home/m3learning/anaconda3/envs/gaussian-sampler/lib/python3.13/site-packages/holoviews/core/spaces.py\", line 197, in dynamic_mul\n",
      "    self_el = self.select(HoloMap, **key_map) if self.kdims else self[()]\n",
      "                                                                 ~~~~^^^^\n",
      "  File \"/home/m3learning/anaconda3/envs/gaussian-sampler/lib/python3.13/site-packages/holoviews/core/spaces.py\", line 1216, in __getitem__\n",
      "    val = self._execute_callback(*tuple_key)\n",
      "  File \"/home/m3learning/anaconda3/envs/gaussian-sampler/lib/python3.13/site-packages/holoviews/core/spaces.py\", line 983, in _execute_callback\n",
      "    retval = self.callback(*args, **kwargs)\n",
      "  File \"/home/m3learning/anaconda3/envs/gaussian-sampler/lib/python3.13/site-packages/holoviews/core/spaces.py\", line 581, in __call__\n",
      "    ret = self.callable(*args, **kwargs)\n",
      "  File \"/home/m3learning/anaconda3/envs/gaussian-sampler/lib/python3.13/site-packages/param/depends.py\", line 85, in _depends\n",
      "    return func(*args, **kw)\n",
      "  File \"/home/m3learning/anaconda3/envs/gaussian-sampler/lib/python3.13/site-packages/param/reactive.py\", line 598, in wrapped\n",
      "    return eval_fn()(*combined_args, **combined_kwargs)\n",
      "           ~~~~~~~~~^^^^^^^^^^^^^^^^^^^^^^^^^^^^^^^^^^^\n",
      "  File \"/home/m3learning/Northwestern/Gaussian_Sampler/Notebooks/../Gaussian_Sampler/viz/hv_viz.py\", line 231, in plot_fits_img\n",
      "    fits = self.select_fits_params(which=0).reshape(self.dset.shape[0], self.dset.shape[1], self.model.num_fits,-1)\n",
      "ValueError: cannot reshape array of size 300000 into shape (100,100,4,newaxis)\n",
      "ERROR:tornado.access:500 GET /?vscodeBrowserReqId=1743102001978 (127.0.0.1) 14.14ms\n"
     ]
    }
   ],
   "source": [
    "import os\n",
    "def load_weights(self, path_checkpoint):\n",
    "    \"\"\"loads the weights from a checkpoint\n",
    "\n",
    "    Args:\n",
    "        path_checkpoint (str): path where checkpoints are saved \n",
    "    \"\"\"\n",
    "    print(f\"Attempting to load checkpoint from: {path_checkpoint}\")\n",
    "    \n",
    "    # Debug: Let's look at the first few bytes of the file\n",
    "    with open(path_checkpoint, 'rb') as f:\n",
    "        first_bytes = f.read(20)\n",
    "        print(f\"First bytes of file: {first_bytes}\")\n",
    "        \n",
    "    self.checkpoint = path_checkpoint\n",
    "    checkpoint = torch.load(path_checkpoint, weights_only=False)\n",
    "    self.encoder.load_state_dict(checkpoint['encoder'])\n",
    "    self.optimizer.load_state_dict(checkpoint['optimizer'])\n",
    "    "
   ]
  },
  {
   "cell_type": "code",
   "execution_count": null,
   "metadata": {},
   "outputs": [
    {
     "name": "stdout",
     "output_type": "stream",
     "text": [
      "Attempting to load checkpoint from: /home/m3learning/Northwestern/Northwestern_link/Gaussian_Sampler/checkpoints/00.000_noise/(2025-03-20)_epoch:0100_lr:0.00003_trainloss:0.0953.pkl\n",
      "First bytes of file: b'PK\\x03\\x04\\x00\\x00\\x08\\x08\\x00\\x00\\x00\\x00\\x00\\x00\\x00\\x00\\x00\\x00\\x00\\x00'\n"
     ]
    }
   ],
   "source": [
    "load_weights(fitter, checkpoint_path)"
   ]
  },
  {
   "cell_type": "code",
   "execution_count": null,
   "metadata": {},
   "outputs": [
    {
     "ename": "NameError",
     "evalue": "name 'stem' is not defined",
     "output_type": "error",
     "traceback": [
      "\u001b[0;31m---------------------------------------------------------------------------\u001b[0m",
      "\u001b[0;31mNameError\u001b[0m                                 Traceback (most recent call last)",
      "Cell \u001b[0;32mIn[21], line 1\u001b[0m\n\u001b[0;32m----> 1\u001b[0m \u001b[38;5;28;01mclass\u001b[39;00m\u001b[38;5;250m \u001b[39m\u001b[38;5;21;01mfake_pv_FitterAutoencoder_1D\u001b[39;00m(\u001b[43mstem\u001b[49m\u001b[38;5;241m.\u001b[39mFitterAutoencoder_1D):\n\u001b[1;32m      2\u001b[0m     \u001b[38;5;28;01mdef\u001b[39;00m\u001b[38;5;250m \u001b[39m\u001b[38;5;21m__init__\u001b[39m(\u001b[38;5;28mself\u001b[39m, \u001b[38;5;241m*\u001b[39margs, \u001b[38;5;241m*\u001b[39m\u001b[38;5;241m*\u001b[39mkwargs):\n\u001b[1;32m      3\u001b[0m         \u001b[38;5;28msuper\u001b[39m()\u001b[38;5;241m.\u001b[39m\u001b[38;5;21m__init__\u001b[39m(\u001b[38;5;241m*\u001b[39margs, \u001b[38;5;241m*\u001b[39m\u001b[38;5;241m*\u001b[39mkwargs)\n",
      "\u001b[0;31mNameError\u001b[0m: name 'stem' is not defined"
     ]
    }
   ],
   "source": [
    "class fake_pv_FitterAutoencoder_1D(stem.FitterAutoencoder_1D):\n",
    "    def __init__(self, *args, **kwargs):\n",
    "        super().__init__(*args, **kwargs)\n",
    "\n",
    "    def compile_model(self):\n",
    "        \"\"\"function that complies the neural network model\n",
    "        \"\"\"\n",
    "        self.Fitter = stem.Multiscale1DFitter(function=self.function,\n",
    "                                 x_data = self.dset,\n",
    "                                 input_channels=self.dset.shape[1],\n",
    "                                 num_params=self.num_params,\n",
    "                                 num_fits=self.num_fits,\n",
    "                                 limits=self.limits,\n",
    "                                 device='cuda:0',\n",
    "                                 flatten_from = 1,\n",
    "                            )\n",
    "        self.Fitter = self.Fitter.to(self.device)\n",
    "        # sets the datatype of the model to float32\n",
    "        self.Fitter.type(torch.float32)\n",
    "\n",
    "        # sets the optimizers\n",
    "        self.optimizer = torch.optim.Adam(\n",
    "            self.Fitter.parameters(), lr=self.learning_rate\n",
    "        )\n",
    "        \n",
    "    def get_embedding(self, data, batch_size=32,train=True,check=None):\n",
    "        \"\"\"extracts embeddings from the data\n",
    "\n",
    "        Args:\n",
    "            data (torch.tensor): data to get embeddings from\n",
    "            batch_size (int, optional): batchsize for inference. Defaults to 32.\n",
    "\n",
    "        Returns:\n",
    "            torch.tensor: predicted embeddings\n",
    "        \"\"\"\n",
    "\n",
    "        # builds the dataloader\n",
    "        dataloader = DataLoader(data, batch_size, shuffle=False)\n",
    "        s = data.shape\n",
    "        try:\n",
    "            try: h = h5py.File(f'{self.folder}/{self.emb_h5}','w')\n",
    "            except: h = h5py.File(f'{self.folder}/{self.emb_h5}','r+')\n",
    "\n",
    "            try: check = self.checkpoint.split('/')[-1][:-4]\n",
    "            except: check=check\n",
    "            \n",
    "            # make embedding dataset\n",
    "            try:\n",
    "                embedding_ = h.create_dataset(f'embedding_{check}', \n",
    "                                            #   data = np.zeros([s[0], s[1], self.num_fits, self.num_params]),\n",
    "                                              shape=(s[0], s[1], self.num_fits, self.num_params),\n",
    "                                              dtype='float32')  \n",
    "            except: \n",
    "                embedding_ = h[f'embedding_{check}']\n",
    "                \n",
    "            # make fitted dataset\n",
    "            try:\n",
    "                fits_ = h.create_dataset(f'fits_{check}', \n",
    "                                        #  data = np.zeros([s[0],self.num_fits,s[1],s[2]]),\n",
    "                                         shape = (s[0],s[1],self.num_fits,s[2]),\n",
    "                                         dtype='float32')  \n",
    "            except:\n",
    "                fits_ = h[f'fits_{check}']\n",
    "\n",
    "            self.embedding = embedding_\n",
    "            self.fits = fits_\n",
    "\n",
    "        except Exception as error:\n",
    "            print(error) \n",
    "            assert train,\"No h5_dataset embedding dataset created\"\n",
    "            print('Warning: not saving to h5')\n",
    "                \n",
    "        if train: \n",
    "            print('Created empty h5 embedding datasets to fill during training')\n",
    "            return 1 # do not calculate. \n",
    "            # return true to indicate this is filled during training\n",
    "\n",
    "        else:\n",
    "            s=embedding_.shape\n",
    "            for i, (inds,x) in enumerate(tqdm(dataloader, leave=True, total=len(dataloader))):\n",
    "                with torch.no_grad():\n",
    "                    value = x\n",
    "                    batch_size = x.shape[0]\n",
    "                    test_value = Variable(value.to(self.device))\n",
    "                    test_value = test_value.float()\n",
    "                    embedding,fit = self.Fitter(test_value,return_sum=False)\n",
    "                    \n",
    "                    self.embedding[i*batch_size:(i+1)*batch_size] = embedding.reshape(batch_size,s[1],s[2],s[3]).cpu().detach().numpy()\n",
    "                    self.fits[i*batch_size:(i+1)*batch_size] = data.unscale(fit,inds).reshape(batch_size,s[1],self.num_fits,-1).cpu().detach().numpy()\n",
    "                   \n",
    "        h.close()\n"
   ]
  },
  {
   "cell_type": "code",
   "execution_count": null,
   "metadata": {},
   "outputs": [
    {
     "ename": "RuntimeError",
     "evalue": "Sizes of tensors must match except in dimension 0. Expected size 3 but got size 0 for tensor number 2 in the list.",
     "output_type": "error",
     "traceback": [
      "\u001b[0;31m---------------------------------------------------------------------------\u001b[0m",
      "\u001b[0;31mRuntimeError\u001b[0m                              Traceback (most recent call last)",
      "Cell \u001b[0;32mIn[17], line 5\u001b[0m\n\u001b[1;32m      2\u001b[0m b \u001b[38;5;241m=\u001b[39m torch\u001b[38;5;241m.\u001b[39mTensor([[\u001b[38;5;241m4\u001b[39m,\u001b[38;5;241m5\u001b[39m,\u001b[38;5;241m6\u001b[39m],[\u001b[38;5;241m4\u001b[39m,\u001b[38;5;241m5\u001b[39m,\u001b[38;5;241m6\u001b[39m]])\n\u001b[1;32m      3\u001b[0m c \u001b[38;5;241m=\u001b[39m torch\u001b[38;5;241m.\u001b[39mTensor([[],[]])\n\u001b[0;32m----> 5\u001b[0m \u001b[43mtorch\u001b[49m\u001b[38;5;241;43m.\u001b[39;49m\u001b[43mcat\u001b[49m\u001b[43m(\u001b[49m\u001b[43m[\u001b[49m\u001b[43ma\u001b[49m\u001b[43m,\u001b[49m\u001b[43mb\u001b[49m\u001b[43m,\u001b[49m\u001b[43mc\u001b[49m\u001b[43m]\u001b[49m\u001b[43m,\u001b[49m\u001b[43mdim\u001b[49m\u001b[38;5;241;43m=\u001b[39;49m\u001b[38;5;241;43m0\u001b[39;49m\u001b[43m)\u001b[49m\n",
      "\u001b[0;31mRuntimeError\u001b[0m: Sizes of tensors must match except in dimension 0. Expected size 3 but got size 0 for tensor number 2 in the list."
     ]
    }
   ],
   "source": [
    "a = torch.Tensor([[1,2,3],[4,5,6]])\n",
    "b = torch.Tensor([[4,5,6],[4,5,6]])\n",
    "c = torch.Tensor([[],[]])\n",
    "\n",
    "torch.cat([a,b,c],dim=1)"
   ]
  },
  {
   "cell_type": "markdown",
   "metadata": {},
   "source": [
    "l = [1,2,3,4,5]\n",
    "l.insert[-2,'a']\n",
    "l.insert[-1,'b']\n",
    "l\n"
   ]
  },
  {
   "cell_type": "markdown",
   "metadata": {},
   "source": [
    "## gaussian sampler and fitter 1D"
   ]
  },
  {
   "cell_type": "code",
   "execution_count": null,
   "metadata": {},
   "outputs": [
    {
     "data": {
      "text/plain": [
       "'/home/m3learning/Northwestern/Northwestern_link/model_tests/'"
      ]
     },
     "execution_count": 48,
     "metadata": {},
     "output_type": "execute_result"
    }
   ],
   "source": [
    "datapath"
   ]
  },
  {
   "cell_type": "code",
   "execution_count": null,
   "metadata": {},
   "outputs": [
    {
     "data": {
      "text/plain": [
       "'/home/m3learning/Northwestern/Northwestern_link/model_tests/'"
      ]
     },
     "execution_count": 52,
     "metadata": {},
     "output_type": "execute_result"
    }
   ],
   "source": [
    "dset.save_folder"
   ]
  },
  {
   "cell_type": "code",
   "execution_count": null,
   "metadata": {},
   "outputs": [],
   "source": [
    "dset.h5"
   ]
  },
  {
   "cell_type": "code",
   "execution_count": null,
   "metadata": {},
   "outputs": [
    {
     "name": "stderr",
     "output_type": "stream",
     "text": [
      "2024-12-12 20:41:44.566773: I external/local_tsl/tsl/cuda/cudart_stub.cc:31] Could not find cuda drivers on your machine, GPU will not be used.\n",
      "2024-12-12 20:41:44.598652: E external/local_xla/xla/stream_executor/cuda/cuda_dnn.cc:9261] Unable to register cuDNN factory: Attempting to register factory for plugin cuDNN when one has already been registered\n",
      "2024-12-12 20:41:44.598677: E external/local_xla/xla/stream_executor/cuda/cuda_fft.cc:607] Unable to register cuFFT factory: Attempting to register factory for plugin cuFFT when one has already been registered\n",
      "2024-12-12 20:41:44.600830: E external/local_xla/xla/stream_executor/cuda/cuda_blas.cc:1515] Unable to register cuBLAS factory: Attempting to register factory for plugin cuBLAS when one has already been registered\n",
      "2024-12-12 20:41:44.608260: I external/local_tsl/tsl/cuda/cudart_stub.cc:31] Could not find cuda drivers on your machine, GPU will not be used.\n",
      "2024-12-12 20:41:44.609068: I tensorflow/core/platform/cpu_feature_guard.cc:182] This TensorFlow binary is optimized to use available CPU instructions in performance-critical operations.\n",
      "To enable the following instructions: AVX2 FMA, in other operations, rebuild TensorFlow with the appropriate compiler flags.\n",
      "2024-12-12 20:41:46.635042: W tensorflow/compiler/tf2tensorrt/utils/py_utils.cc:38] TF-TRT Warning: Could not find TensorRT\n"
     ]
    },
    {
     "data": {
      "application/javascript": "(function(root) {\n  function now() {\n    return new Date();\n  }\n\n  var force = true;\n  var py_version = '3.2.1'.replace('rc', '-rc.').replace('.dev', '-dev.');\n  var is_dev = py_version.indexOf(\"+\") !== -1 || py_version.indexOf(\"-\") !== -1;\n  var reloading = false;\n  var Bokeh = root.Bokeh;\n  var bokeh_loaded = Bokeh != null && (Bokeh.version === py_version || (Bokeh.versions !== undefined && Bokeh.versions.has(py_version)));\n\n  if (typeof (root._bokeh_timeout) === \"undefined\" || force) {\n    root._bokeh_timeout = Date.now() + 5000;\n    root._bokeh_failed_load = false;\n  }\n\n  function run_callbacks() {\n    try {\n      root._bokeh_onload_callbacks.forEach(function(callback) {\n        if (callback != null)\n          callback();\n      });\n    } finally {\n      delete root._bokeh_onload_callbacks;\n    }\n    console.debug(\"Bokeh: all callbacks have finished\");\n  }\n\n  function load_libs(css_urls, js_urls, js_modules, js_exports, callback) {\n    if (css_urls == null) css_urls = [];\n    if (js_urls == null) js_urls = [];\n    if (js_modules == null) js_modules = [];\n    if (js_exports == null) js_exports = {};\n\n    root._bokeh_onload_callbacks.push(callback);\n\n    if (root._bokeh_is_loading > 0) {\n      console.debug(\"Bokeh: BokehJS is being loaded, scheduling callback at\", now());\n      return null;\n    }\n    if (js_urls.length === 0 && js_modules.length === 0 && Object.keys(js_exports).length === 0) {\n      run_callbacks();\n      return null;\n    }\n    if (!reloading) {\n      console.debug(\"Bokeh: BokehJS not loaded, scheduling load and callback at\", now());\n    }\n\n    function on_load() {\n      root._bokeh_is_loading--;\n      if (root._bokeh_is_loading === 0) {\n        console.debug(\"Bokeh: all BokehJS libraries/stylesheets loaded\");\n        run_callbacks()\n      }\n    }\n    window._bokeh_on_load = on_load\n\n    function on_error() {\n      console.error(\"failed to load \" + url);\n    }\n\n    var skip = [];\n    if (window.requirejs) {\n      window.requirejs.config({'packages': {}, 'paths': {'jspanel': 'https://cdn.jsdelivr.net/npm/jspanel4@4.12.0/dist/jspanel', 'jspanel-modal': 'https://cdn.jsdelivr.net/npm/jspanel4@4.12.0/dist/extensions/modal/jspanel.modal', 'jspanel-tooltip': 'https://cdn.jsdelivr.net/npm/jspanel4@4.12.0/dist/extensions/tooltip/jspanel.tooltip', 'jspanel-hint': 'https://cdn.jsdelivr.net/npm/jspanel4@4.12.0/dist/extensions/hint/jspanel.hint', 'jspanel-layout': 'https://cdn.jsdelivr.net/npm/jspanel4@4.12.0/dist/extensions/layout/jspanel.layout', 'jspanel-contextmenu': 'https://cdn.jsdelivr.net/npm/jspanel4@4.12.0/dist/extensions/contextmenu/jspanel.contextmenu', 'jspanel-dock': 'https://cdn.jsdelivr.net/npm/jspanel4@4.12.0/dist/extensions/dock/jspanel.dock', 'gridstack': 'https://cdn.jsdelivr.net/npm/gridstack@7.2.3/dist/gridstack-all', 'notyf': 'https://cdn.jsdelivr.net/npm/notyf@3/notyf.min'}, 'shim': {'jspanel': {'exports': 'jsPanel'}, 'gridstack': {'exports': 'GridStack'}}});\n      require([\"jspanel\"], function(jsPanel) {\n\twindow.jsPanel = jsPanel\n\ton_load()\n      })\n      require([\"jspanel-modal\"], function() {\n\ton_load()\n      })\n      require([\"jspanel-tooltip\"], function() {\n\ton_load()\n      })\n      require([\"jspanel-hint\"], function() {\n\ton_load()\n      })\n      require([\"jspanel-layout\"], function() {\n\ton_load()\n      })\n      require([\"jspanel-contextmenu\"], function() {\n\ton_load()\n      })\n      require([\"jspanel-dock\"], function() {\n\ton_load()\n      })\n      require([\"gridstack\"], function(GridStack) {\n\twindow.GridStack = GridStack\n\ton_load()\n      })\n      require([\"notyf\"], function() {\n\ton_load()\n      })\n      root._bokeh_is_loading = css_urls.length + 9;\n    } else {\n      root._bokeh_is_loading = css_urls.length + js_urls.length + js_modules.length + Object.keys(js_exports).length;\n    }\n\n    var existing_stylesheets = []\n    var links = document.getElementsByTagName('link')\n    for (var i = 0; i < links.length; i++) {\n      var link = links[i]\n      if (link.href != null) {\n\texisting_stylesheets.push(link.href)\n      }\n    }\n    for (var i = 0; i < css_urls.length; i++) {\n      var url = css_urls[i];\n      if (existing_stylesheets.indexOf(url) !== -1) {\n\ton_load()\n\tcontinue;\n      }\n      const element = document.createElement(\"link\");\n      element.onload = on_load;\n      element.onerror = on_error;\n      element.rel = \"stylesheet\";\n      element.type = \"text/css\";\n      element.href = url;\n      console.debug(\"Bokeh: injecting link tag for BokehJS stylesheet: \", url);\n      document.body.appendChild(element);\n    }    if (((window['jsPanel'] !== undefined) && (!(window['jsPanel'] instanceof HTMLElement))) || window.requirejs) {\n      var urls = ['https://cdn.holoviz.org/panel/1.2.3/dist/bundled/floatpanel/jspanel4@4.12.0/dist/jspanel.js', 'https://cdn.holoviz.org/panel/1.2.3/dist/bundled/floatpanel/jspanel4@4.12.0/dist/extensions/modal/jspanel.modal.js', 'https://cdn.holoviz.org/panel/1.2.3/dist/bundled/floatpanel/jspanel4@4.12.0/dist/extensions/tooltip/jspanel.tooltip.js', 'https://cdn.holoviz.org/panel/1.2.3/dist/bundled/floatpanel/jspanel4@4.12.0/dist/extensions/hint/jspanel.hint.js', 'https://cdn.holoviz.org/panel/1.2.3/dist/bundled/floatpanel/jspanel4@4.12.0/dist/extensions/layout/jspanel.layout.js', 'https://cdn.holoviz.org/panel/1.2.3/dist/bundled/floatpanel/jspanel4@4.12.0/dist/extensions/contextmenu/jspanel.contextmenu.js', 'https://cdn.holoviz.org/panel/1.2.3/dist/bundled/floatpanel/jspanel4@4.12.0/dist/extensions/dock/jspanel.dock.js'];\n      for (var i = 0; i < urls.length; i++) {\n        skip.push(urls[i])\n      }\n    }    if (((window['GridStack'] !== undefined) && (!(window['GridStack'] instanceof HTMLElement))) || window.requirejs) {\n      var urls = ['https://cdn.holoviz.org/panel/1.2.3/dist/bundled/gridstack/gridstack@7.2.3/dist/gridstack-all.js'];\n      for (var i = 0; i < urls.length; i++) {\n        skip.push(urls[i])\n      }\n    }    if (((window['Notyf'] !== undefined) && (!(window['Notyf'] instanceof HTMLElement))) || window.requirejs) {\n      var urls = ['https://cdn.holoviz.org/panel/1.2.3/dist/bundled/notificationarea/notyf@3/notyf.min.js'];\n      for (var i = 0; i < urls.length; i++) {\n        skip.push(urls[i])\n      }\n    }    var existing_scripts = []\n    var scripts = document.getElementsByTagName('script')\n    for (var i = 0; i < scripts.length; i++) {\n      var script = scripts[i]\n      if (script.src != null) {\n\texisting_scripts.push(script.src)\n      }\n    }\n    for (var i = 0; i < js_urls.length; i++) {\n      var url = js_urls[i];\n      if (skip.indexOf(url) !== -1 || existing_scripts.indexOf(url) !== -1) {\n\tif (!window.requirejs) {\n\t  on_load();\n\t}\n\tcontinue;\n      }\n      var element = document.createElement('script');\n      element.onload = on_load;\n      element.onerror = on_error;\n      element.async = false;\n      element.src = url;\n      console.debug(\"Bokeh: injecting script tag for BokehJS library: \", url);\n      document.head.appendChild(element);\n    }\n    for (var i = 0; i < js_modules.length; i++) {\n      var url = js_modules[i];\n      if (skip.indexOf(url) !== -1 || existing_scripts.indexOf(url) !== -1) {\n\tif (!window.requirejs) {\n\t  on_load();\n\t}\n\tcontinue;\n      }\n      var element = document.createElement('script');\n      element.onload = on_load;\n      element.onerror = on_error;\n      element.async = false;\n      element.src = url;\n      element.type = \"module\";\n      console.debug(\"Bokeh: injecting script tag for BokehJS library: \", url);\n      document.head.appendChild(element);\n    }\n    for (const name in js_exports) {\n      var url = js_exports[name];\n      if (skip.indexOf(url) >= 0 || root[name] != null) {\n\tif (!window.requirejs) {\n\t  on_load();\n\t}\n\tcontinue;\n      }\n      var element = document.createElement('script');\n      element.onerror = on_error;\n      element.async = false;\n      element.type = \"module\";\n      console.debug(\"Bokeh: injecting script tag for BokehJS library: \", url);\n      element.textContent = `\n      import ${name} from \"${url}\"\n      window.${name} = ${name}\n      window._bokeh_on_load()\n      `\n      document.head.appendChild(element);\n    }\n    if (!js_urls.length && !js_modules.length) {\n      on_load()\n    }\n  };\n\n  function inject_raw_css(css) {\n    const element = document.createElement(\"style\");\n    element.appendChild(document.createTextNode(css));\n    document.body.appendChild(element);\n  }\n\n  var js_urls = [\"https://cdn.bokeh.org/bokeh/release/bokeh-3.2.1.min.js\", \"https://cdn.bokeh.org/bokeh/release/bokeh-gl-3.2.1.min.js\", \"https://cdn.bokeh.org/bokeh/release/bokeh-widgets-3.2.1.min.js\", \"https://cdn.bokeh.org/bokeh/release/bokeh-tables-3.2.1.min.js\", \"https://cdn.holoviz.org/panel/1.2.3/dist/panel.min.js\"];\n  var js_modules = [];\n  var js_exports = {};\n  var css_urls = [];\n  var inline_js = [    function(Bokeh) {\n      Bokeh.set_log_level(\"info\");\n    },\nfunction(Bokeh) {} // ensure no trailing comma for IE\n  ];\n\n  function run_inline_js() {\n    if ((root.Bokeh !== undefined) || (force === true)) {\n      for (var i = 0; i < inline_js.length; i++) {\n        inline_js[i].call(root, root.Bokeh);\n      }\n      // Cache old bokeh versions\n      if (Bokeh != undefined && !reloading) {\n\tvar NewBokeh = root.Bokeh;\n\tif (Bokeh.versions === undefined) {\n\t  Bokeh.versions = new Map();\n\t}\n\tif (NewBokeh.version !== Bokeh.version) {\n\t  Bokeh.versions.set(NewBokeh.version, NewBokeh)\n\t}\n\troot.Bokeh = Bokeh;\n      }} else if (Date.now() < root._bokeh_timeout) {\n      setTimeout(run_inline_js, 100);\n    } else if (!root._bokeh_failed_load) {\n      console.log(\"Bokeh: BokehJS failed to load within specified timeout.\");\n      root._bokeh_failed_load = true;\n    }\n    root._bokeh_is_initializing = false\n  }\n\n  function load_or_wait() {\n    // Implement a backoff loop that tries to ensure we do not load multiple\n    // versions of Bokeh and its dependencies at the same time.\n    // In recent versions we use the root._bokeh_is_initializing flag\n    // to determine whether there is an ongoing attempt to initialize\n    // bokeh, however for backward compatibility we also try to ensure\n    // that we do not start loading a newer (Panel>=1.0 and Bokeh>3) version\n    // before older versions are fully initialized.\n    if (root._bokeh_is_initializing && Date.now() > root._bokeh_timeout) {\n      root._bokeh_is_initializing = false;\n      root._bokeh_onload_callbacks = undefined;\n      console.log(\"Bokeh: BokehJS was loaded multiple times but one version failed to initialize.\");\n      load_or_wait();\n    } else if (root._bokeh_is_initializing || (typeof root._bokeh_is_initializing === \"undefined\" && root._bokeh_onload_callbacks !== undefined)) {\n      setTimeout(load_or_wait, 100);\n    } else {\n      Bokeh = root.Bokeh;\n      bokeh_loaded = Bokeh != null && (Bokeh.version === py_version || (Bokeh.versions !== undefined && Bokeh.versions.has(py_version)));\n      root._bokeh_is_initializing = true\n      root._bokeh_onload_callbacks = []\n      if (!reloading && (!bokeh_loaded || is_dev)) {\n\troot.Bokeh = undefined;\n      }\n      load_libs(css_urls, js_urls, js_modules, js_exports, function() {\n\tconsole.debug(\"Bokeh: BokehJS plotting callback run at\", now());\n\trun_inline_js();\n      });\n    }\n  }\n  // Give older versions of the autoload script a head-start to ensure\n  // they initialize before we start loading newer version.\n  setTimeout(load_or_wait, 100)\n}(window));",
      "application/vnd.holoviews_load.v0+json": ""
     },
     "metadata": {},
     "output_type": "display_data"
    },
    {
     "data": {
      "application/javascript": "\nif ((window.PyViz === undefined) || (window.PyViz instanceof HTMLElement)) {\n  window.PyViz = {comms: {}, comm_status:{}, kernels:{}, receivers: {}, plot_index: []}\n}\n\n\n    function JupyterCommManager() {\n    }\n\n    JupyterCommManager.prototype.register_target = function(plot_id, comm_id, msg_handler) {\n      if (window.comm_manager || ((window.Jupyter !== undefined) && (Jupyter.notebook.kernel != null))) {\n        var comm_manager = window.comm_manager || Jupyter.notebook.kernel.comm_manager;\n        comm_manager.register_target(comm_id, function(comm) {\n          comm.on_msg(msg_handler);\n        });\n      } else if ((plot_id in window.PyViz.kernels) && (window.PyViz.kernels[plot_id])) {\n        window.PyViz.kernels[plot_id].registerCommTarget(comm_id, function(comm) {\n          comm.onMsg = msg_handler;\n        });\n      } else if (typeof google != 'undefined' && google.colab.kernel != null) {\n        google.colab.kernel.comms.registerTarget(comm_id, (comm) => {\n          var messages = comm.messages[Symbol.asyncIterator]();\n          function processIteratorResult(result) {\n            var message = result.value;\n            console.log(message)\n            var content = {data: message.data, comm_id};\n            var buffers = []\n            for (var buffer of message.buffers || []) {\n              buffers.push(new DataView(buffer))\n            }\n            var metadata = message.metadata || {};\n            var msg = {content, buffers, metadata}\n            msg_handler(msg);\n            return messages.next().then(processIteratorResult);\n          }\n          return messages.next().then(processIteratorResult);\n        })\n      }\n    }\n\n    JupyterCommManager.prototype.get_client_comm = function(plot_id, comm_id, msg_handler) {\n      if (comm_id in window.PyViz.comms) {\n        return window.PyViz.comms[comm_id];\n      } else if (window.comm_manager || ((window.Jupyter !== undefined) && (Jupyter.notebook.kernel != null))) {\n        var comm_manager = window.comm_manager || Jupyter.notebook.kernel.comm_manager;\n        var comm = comm_manager.new_comm(comm_id, {}, {}, {}, comm_id);\n        if (msg_handler) {\n          comm.on_msg(msg_handler);\n        }\n      } else if ((plot_id in window.PyViz.kernels) && (window.PyViz.kernels[plot_id])) {\n        var comm = window.PyViz.kernels[plot_id].connectToComm(comm_id);\n        comm.open();\n        if (msg_handler) {\n          comm.onMsg = msg_handler;\n        }\n      } else if (typeof google != 'undefined' && google.colab.kernel != null) {\n        var comm_promise = google.colab.kernel.comms.open(comm_id)\n        comm_promise.then((comm) => {\n          window.PyViz.comms[comm_id] = comm;\n          if (msg_handler) {\n            var messages = comm.messages[Symbol.asyncIterator]();\n            function processIteratorResult(result) {\n              var message = result.value;\n              var content = {data: message.data};\n              var metadata = message.metadata || {comm_id};\n              var msg = {content, metadata}\n              msg_handler(msg);\n              return messages.next().then(processIteratorResult);\n            }\n            return messages.next().then(processIteratorResult);\n          }\n        }) \n        var sendClosure = (data, metadata, buffers, disposeOnDone) => {\n          return comm_promise.then((comm) => {\n            comm.send(data, metadata, buffers, disposeOnDone);\n          });\n        };\n        var comm = {\n          send: sendClosure\n        };\n      }\n      window.PyViz.comms[comm_id] = comm;\n      return comm;\n    }\n    window.PyViz.comm_manager = new JupyterCommManager();\n    \n\n\nvar JS_MIME_TYPE = 'application/javascript';\nvar HTML_MIME_TYPE = 'text/html';\nvar EXEC_MIME_TYPE = 'application/vnd.holoviews_exec.v0+json';\nvar CLASS_NAME = 'output';\n\n/**\n * Render data to the DOM node\n */\nfunction render(props, node) {\n  var div = document.createElement(\"div\");\n  var script = document.createElement(\"script\");\n  node.appendChild(div);\n  node.appendChild(script);\n}\n\n/**\n * Handle when a new output is added\n */\nfunction handle_add_output(event, handle) {\n  var output_area = handle.output_area;\n  var output = handle.output;\n  if ((output.data == undefined) || (!output.data.hasOwnProperty(EXEC_MIME_TYPE))) {\n    return\n  }\n  var id = output.metadata[EXEC_MIME_TYPE][\"id\"];\n  var toinsert = output_area.element.find(\".\" + CLASS_NAME.split(' ')[0]);\n  if (id !== undefined) {\n    var nchildren = toinsert.length;\n    var html_node = toinsert[nchildren-1].children[0];\n    html_node.innerHTML = output.data[HTML_MIME_TYPE];\n    var scripts = [];\n    var nodelist = html_node.querySelectorAll(\"script\");\n    for (var i in nodelist) {\n      if (nodelist.hasOwnProperty(i)) {\n        scripts.push(nodelist[i])\n      }\n    }\n\n    scripts.forEach( function (oldScript) {\n      var newScript = document.createElement(\"script\");\n      var attrs = [];\n      var nodemap = oldScript.attributes;\n      for (var j in nodemap) {\n        if (nodemap.hasOwnProperty(j)) {\n          attrs.push(nodemap[j])\n        }\n      }\n      attrs.forEach(function(attr) { newScript.setAttribute(attr.name, attr.value) });\n      newScript.appendChild(document.createTextNode(oldScript.innerHTML));\n      oldScript.parentNode.replaceChild(newScript, oldScript);\n    });\n    if (JS_MIME_TYPE in output.data) {\n      toinsert[nchildren-1].children[1].textContent = output.data[JS_MIME_TYPE];\n    }\n    output_area._hv_plot_id = id;\n    if ((window.Bokeh !== undefined) && (id in Bokeh.index)) {\n      window.PyViz.plot_index[id] = Bokeh.index[id];\n    } else {\n      window.PyViz.plot_index[id] = null;\n    }\n  } else if (output.metadata[EXEC_MIME_TYPE][\"server_id\"] !== undefined) {\n    var bk_div = document.createElement(\"div\");\n    bk_div.innerHTML = output.data[HTML_MIME_TYPE];\n    var script_attrs = bk_div.children[0].attributes;\n    for (var i = 0; i < script_attrs.length; i++) {\n      toinsert[toinsert.length - 1].childNodes[1].setAttribute(script_attrs[i].name, script_attrs[i].value);\n    }\n    // store reference to server id on output_area\n    output_area._bokeh_server_id = output.metadata[EXEC_MIME_TYPE][\"server_id\"];\n  }\n}\n\n/**\n * Handle when an output is cleared or removed\n */\nfunction handle_clear_output(event, handle) {\n  var id = handle.cell.output_area._hv_plot_id;\n  var server_id = handle.cell.output_area._bokeh_server_id;\n  if (((id === undefined) || !(id in PyViz.plot_index)) && (server_id !== undefined)) { return; }\n  var comm = window.PyViz.comm_manager.get_client_comm(\"hv-extension-comm\", \"hv-extension-comm\", function () {});\n  if (server_id !== null) {\n    comm.send({event_type: 'server_delete', 'id': server_id});\n    return;\n  } else if (comm !== null) {\n    comm.send({event_type: 'delete', 'id': id});\n  }\n  delete PyViz.plot_index[id];\n  if ((window.Bokeh !== undefined) & (id in window.Bokeh.index)) {\n    var doc = window.Bokeh.index[id].model.document\n    doc.clear();\n    const i = window.Bokeh.documents.indexOf(doc);\n    if (i > -1) {\n      window.Bokeh.documents.splice(i, 1);\n    }\n  }\n}\n\n/**\n * Handle kernel restart event\n */\nfunction handle_kernel_cleanup(event, handle) {\n  delete PyViz.comms[\"hv-extension-comm\"];\n  window.PyViz.plot_index = {}\n}\n\n/**\n * Handle update_display_data messages\n */\nfunction handle_update_output(event, handle) {\n  handle_clear_output(event, {cell: {output_area: handle.output_area}})\n  handle_add_output(event, handle)\n}\n\nfunction register_renderer(events, OutputArea) {\n  function append_mime(data, metadata, element) {\n    // create a DOM node to render to\n    var toinsert = this.create_output_subarea(\n    metadata,\n    CLASS_NAME,\n    EXEC_MIME_TYPE\n    );\n    this.keyboard_manager.register_events(toinsert);\n    // Render to node\n    var props = {data: data, metadata: metadata[EXEC_MIME_TYPE]};\n    render(props, toinsert[0]);\n    element.append(toinsert);\n    return toinsert\n  }\n\n  events.on('output_added.OutputArea', handle_add_output);\n  events.on('output_updated.OutputArea', handle_update_output);\n  events.on('clear_output.CodeCell', handle_clear_output);\n  events.on('delete.Cell', handle_clear_output);\n  events.on('kernel_ready.Kernel', handle_kernel_cleanup);\n\n  OutputArea.prototype.register_mime_type(EXEC_MIME_TYPE, append_mime, {\n    safe: true,\n    index: 0\n  });\n}\n\nif (window.Jupyter !== undefined) {\n  try {\n    var events = require('base/js/events');\n    var OutputArea = require('notebook/js/outputarea').OutputArea;\n    if (OutputArea.prototype.mime_types().indexOf(EXEC_MIME_TYPE) == -1) {\n      register_renderer(events, OutputArea);\n    }\n  } catch(err) {\n  }\n}\n",
      "application/vnd.holoviews_load.v0+json": ""
     },
     "metadata": {},
     "output_type": "display_data"
    },
    {
     "data": {
      "text/html": [
       "<style>*[data-root-id],\n",
       "*[data-root-id] > * {\n",
       "  box-sizing: border-box;\n",
       "  font-family: var(--jp-ui-font-family);\n",
       "  font-size: var(--jp-ui-font-size1);\n",
       "  color: var(--vscode-editor-foreground, var(--jp-ui-font-color1));\n",
       "}\n",
       "\n",
       "/* Override VSCode background color */\n",
       ".cell-output-ipywidget-background:has(\n",
       "    > .cell-output-ipywidget-background > .lm-Widget > *[data-root-id]\n",
       "  ),\n",
       ".cell-output-ipywidget-background:has(> .lm-Widget > *[data-root-id]) {\n",
       "  background-color: transparent !important;\n",
       "}\n",
       "</style>"
      ]
     },
     "metadata": {},
     "output_type": "display_data"
    },
    {
     "data": {
      "text/html": [
       "\n",
       "<div class=\"logo-block\">\n",
       "<img src='data:image/png;base64,iVBORw0KGgoAAAANSUhEUgAAAEAAAABACAYAAACqaXHeAAAABHNCSVQICAgIfAhkiAAAAAlwSFlz\n",
       "AAAB+wAAAfsBxc2miwAAABl0RVh0U29mdHdhcmUAd3d3Lmlua3NjYXBlLm9yZ5vuPBoAAA6zSURB\n",
       "VHic7ZtpeFRVmsf/5966taWqUlUJ2UioBBJiIBAwCZtog9IOgjqACsogKtqirT2ttt069nQ/zDzt\n",
       "tI4+CrJIREFaFgWhBXpUNhHZQoKBkIUASchWla1S+3ar7r1nPkDaCAnZKoQP/D7mnPOe9/xy76n3\n",
       "nFSAW9ziFoPFNED2LLK5wcyBDObkb8ZkxuaoSYlI6ZcOKq1eWFdedqNzGHQBk9RMEwFAASkk0Xw3\n",
       "ETacDNi2vtvc7L0ROdw0AjoSotQVkKSvHQz/wRO1lScGModBFbDMaNRN1A4tUBCS3lk7BWhQkgpD\n",
       "lG4852/+7DWr1R3uHAZVQDsbh6ZPN7CyxUrCzJMRouusj0ipRwD2uKm0Zn5d2dFwzX1TCGhnmdGo\n",
       "G62Nna+isiUqhkzuKrkQaJlPEv5mFl2fvGg2t/VnzkEV8F5ioioOEWkLG86fvbpthynjdhXYZziQ\n",
       "x1hC9J2NFyi8vCTt91Fh04KGip0AaG9zuCk2wQCVyoNU3Hjezee9bq92duzzTmxsRJoy+jEZZZYo\n",
       "GTKJ6SJngdJqAfRzpze0+jHreUtPc7gpBLQnIYK6BYp/uGhw9YK688eu7v95ysgshcg9qSLMo3JC\n",
       "4jqLKQFBgdKDPoQ+Pltb8dUyQLpeDjeVgI6EgLIQFT5tEl3rn2losHVsexbZ3EyT9wE1uGdkIPcy\n",
       "BGxn8QUq1QrA5nqW5i2tLqvrrM9NK6AdkVIvL9E9bZL/oyfMVd/jqvc8LylzRBKDJSzIExwhQzuL\n",
       "QYGQj4rHfFTc8mUdu3E7yoLtbTe9gI4EqVgVkug2i5+uXGo919ixbRog+3fTbQ8qJe4ZOYNfMoTI\n",
       "OoshUNosgO60AisX15aeI2PSIp5KiFLI9ubb1vV3Qb2ltwLakUCDAkWX7/nHKRmmGIl9VgYsUhJm\n",
       "2NXjKYADtM1ygne9QQDIXlk49FBstMKx66D1v4+XuQr7vqTe0VcBHQlRWiOCbmmSYe2SqtL6q5rJ\n",
       "zsTb7lKx3FKOYC4DoqyS/B5bvLPxvD9Qtf6saxYLQGJErmDOdOMr/zo96km1nElr8bmPOBwI9COv\n",
       "HnFPRIwmkSOv9kcAS4heRsidOkpeWBgZM+UBrTFAXNYL5Vf2ii9c1trNzpYdaoVil3WIc+wdk+gQ\n",
       "noie3ecCcxt9ITcLAPWt/laGEO/9U6PmzZkenTtsSMQ8uYywJVW+grCstAvCIaAdArAsIWkRDDs/\n",
       "KzLm2YcjY1Lv0UdW73HabE9n6V66cxSzfEmuJssTpKGVp+0vHq73FwL46eOjpMpbRAnNmJFrGJNu\n",
       "Ukf9Yrz+3rghiumCKNXXWPhLYcjxGsIpoCMsIRoFITkW8AuyM8jC1+/QLx4bozCEJIq38+1rtpR6\n",
       "V/yzb8eBlRb3fo5l783N0CWolAzJHaVNzkrTzlEp2bQ2q3TC5gn6wpnoQAmwSiGh2GitnTmVMc5O\n",
       "UyfKWUKCIsU7+fZDKwqdT6DDpvkzAX4/+AMFjk0tDp5GRXLpQ2MUmhgDp5gxQT8+Y7hyPsMi8uxF\n",
       "71H0oebujHALECjFKaW9Lm68n18wXp2kVzIcABytD5iXFzg+WVXkegpAsOOYziqo0OkK76GyquC3\n",
       "ltZAzMhhqlSNmmWTE5T6e3IN05ITFLM4GdN0vtZ3ob8Jh1NAKXFbm5PtLU/eqTSlGjkNAJjdgn/N\n",
       "aedXa0tdi7+t9G0FIF49rtMSEgAs1kDLkTPO7ebm4IUWeyh1bKomXqlgMG6kJmHcSM0clYLJ8XtR\n",
       "1GTnbV3F6I5wCGikAb402npp1h1s7LQUZZSMIfALFOuL3UUrfnS8+rez7v9qcold5tilgHbO1fjK\n",
       "9ubb17u9oshxzMiUBKXWqJNxd+fqb0tLVs4lILFnK71H0Ind7uiPgACVcFJlrb0tV6DzxqqTIhUM\n",
       "CwDf1/rrVhTa33/3pGPxJYdQ2l2cbgVcQSosdx8uqnDtbGjh9SlDVSMNWhlnilfqZk42Th2ZpLpf\n",
       "xrHec5e815zrr0dfBZSwzkZfqsv+1FS1KUknUwPARVvItfKUY+cn57yP7qv07UE3p8B2uhUwLk09\n",
       "e0SCOrK+hbdYHYLjRIl71wWzv9jpEoeOHhGRrJAzyEyNiJuUqX0g2sBN5kGK6y2Blp5M3lsB9Qh4\n",
       "y2Ja6x6+i0ucmKgwMATwhSjdUu49tKrQ/pvN5d53ml2CGwCmJipmKjgmyuaXzNeL2a0AkQ01Th5j\n",
       "2DktO3Jyk8f9vcOBQHV94OK+fPumJmvQHxJoWkaKWq9Vs+yUsbq0zGT1I4RgeH2b5wef7+c7bl8F\n",
       "eKgoHVVZa8ZPEORzR6sT1BzDUAD/d9F78e2Tzv99v8D+fLVTqAKAsbGamKey1Mt9Ann4eH3gTXTz\n",
       "idWtAJ8PQWOk7NzSeQn/OTHDuEikVF1R4z8BQCy+6D1aWRfY0tTGG2OM8rRoPaeIj5ZHzJxszElN\n",
       "VM8K8JS5WOfv8mzRnQAKoEhmt8gyPM4lU9SmBK1MCQBnW4KONT86v1hZ1PbwSXPw4JWussVjtH9Y\n",
       "NCoiL9UoH/6PSu8jFrfY2t36erQHXLIEakMi1SydmzB31h3GGXFDFNPaK8Rme9B79Ixrd0WN+1ij\n",
       "NRQ/doRmuFLBkHSTOm5GruG+pFjFdAmorG4IXH1Qua6ASniclfFtDYt+oUjKipPrCQB7QBQ2lrgP\n",
       "fFzm+9XWUtcqJ3/5vDLDpJ79XHZk3u8nGZ42qlj1+ydtbxysCezrydp6ugmipNJ7WBPB5tydY0jP\n",
       "HaVNzs3QzeE4ZpTbI+ZbnSFPbVOw9vsfnVvqWnirPyCNGD08IlqtYkh2hjZ5dErEQzoNm+6ykyOt\n",
       "Lt5/PQEuSRRKo22VkydK+vvS1XEKlhCJAnsqvcVvH7f/ZU2R67eXbMEGAMiIV5oWZWiWvz5Fv2xG\n",
       "sjqNJQRvn3Rs2lji/lNP19VjAQDgD7FHhujZB9OGqYxRkZxixgRDVlqS6uEOFaJUVu0rPFzctrnF\n",
       "JqijImVp8dEKVWyUXDk92zAuMZ6bFwpBU1HrOw6AdhQgUooChb0+ItMbWJitSo5Ws3IAOGEOtL53\n",
       "0vHZih9sC4vtofZ7Qu6523V/fmGcds1TY3V36pUsBwAbSlxnVh2xLfAD/IAIMDf7XYIkNmXfpp2l\n",
       "18rkAJAy9HKFaIr/qULkeQQKy9zf1JgDB2uaeFNGijo5QsUyacNUUTOnGO42xSnv4oOwpDi1zYkc\n",
       "efUc3I5Gk6PhyTuVKaOGyLUAYPGIoY9Pu/atL/L92+4q9wbflRJ2Trpm/jPjdBtfnqB/dIThcl8A\n",
       "KG7hbRuKnb8qsQsVvVlTrwQAQMUlf3kwJI24Z4JhPMtcfng5GcH49GsrxJpGvvHIaeem2ma+KSjQ\n",
       "lIwUdYyCY8j4dE1KzijNnIP2llF2wcXNnsoapw9XxsgYAl6k+KzUXbi2yP3KR2ecf6z3BFsBICdW\n",
       "nvnIaG3eHybqX7vbpEqUMT+9OL4Qpe8VON7dXuFd39v19FoAABRVePbGGuXTszO0P7tu6lghUonE\n",
       "llRdrhArLvmKdh9u29jcFiRRkfLUxBiFNiqSU9icoZQHo5mYBI1MBgBH6wMNb+U7Pnw337H4gi1Y\n",
       "ciWs+uks3Z9fztUvfzxTm9Ne8XXkvQLHNytOOZeiD4e0PgkAIAYCYknKUNUDSXEKzdWNpnil7r4p\n",
       "xqkjTarZMtk/K8TQ6Qve78qqvXurGwIJqcOUKfUWHsm8KGvxSP68YudXq4pcj39X49uOK2X142O0\n",
       "Tz5/u/7TVybqH0rSya6ZBwD21/gubbrgWdDgEOx9WUhfBaC2ibcEBYm7a7x+ukrBMNcEZggyR0TE\n",
       "T8zUPjikQ4VosQZbTpS4vqizBKvqmvjsqnpfzaZyx9JPiz1/bfGKdgD45XB1zoIMzYbfTdS/NClB\n",
       "Gct0USiY3YL/g0LHy/uq/Ef6uo5+n0R/vyhp17Klpge763f8rMu6YU/zrn2nml+2WtH+Z+5IAAFc\n",
       "2bUTdTDOSNa9+cQY7YLsOIXhevEkCvzph7a8laecz/Un/z4/Ae04XeL3UQb57IwU9ZDr9UuKVajv\n",
       "nxp1+1UVIo/LjztZkKH59fO3G/JemqCfmaCRqbqbd90ZZ8FfjtkfAyD0J/9+C2h1hDwsSxvGjNDc\n",
       "b4zk5NfrSwiQblLHzZhg+Jf4aPlUwpDqkQqa9nimbt1/TDH8OitGMaQnj+RJS6B1fbF7SY1TqO5v\n",
       "/v0WAADl1f7zokgS7s7VT2DZ7pegUjBM7mjtiDZbcN4j0YrHH0rXpCtY0qPX0cVL0rv5jv/ZXend\n",
       "0u/EESYBAFBU4T4Qa5TflZOhTe7pmKpaP8kCVUVw1+yhXfJWvn1P3hnXi33JsTN6PnP3hHZ8Z3/h\n",
       "aLHzmkNPuPj7Bc/F/Q38CwjTpSwQXgE4Vmwry9tpfq/ZFgqFMy4AVDtCvi8rvMvOmv0N4YwbVgEA\n",
       "sPM72/KVnzfspmH7HQGCRLG2yL1+z8XwvPcdCbsAANh+xPzstgMtxeGKt+6MK3/tacfvwhWvIwMi\n",
       "oKEBtm0H7W+UVfkc/Y1V0BhoPlDr/w1w/eu1vjIgAgDg22OtX6/eYfnEz/focrZTHAFR+PSs56/7\n",
       "q32nwpjazxgwAQCwcU/T62t3WL7r6/jVRa6/byp1rei+Z98ZUAEAhEPHPc8fKnTU9nbgtnOe8h0l\n",
       "9hcGIqmODLQAHCy2Xti6v/XNRivf43f4fFvIteu854+VHnR7q9tfBlwAAGz+pnndB9vM26UebAe8\n",
       "SLHujPOTPVW+rwY+sxskAAC2HrA8t2Vvc7ffP1r9o+vwR2dcr92InIAbKKC1FZ5tB1tf+/G8p8sv\n",
       "N/9Q5zd/XR34LYCwV5JdccMEAMDBk45DH243r/X4xGvqxFa/GNpS7n6rwOwNWwHVE26oAADYurf1\n",
       "zx/utOzt+DMKYM0p17YtZZ5VNzqfsB2HewG1WXE8PoZ7gOclbTIvynZf9JV+fqZtfgs/8F/Nu5rB\n",
       "EIBmJ+8QRMmpU7EzGRsf2FzuePqYRbzh/zE26EwdrT10f6r6o8HOYzCJB9Dpff8tbnGLG8L/A/WE\n",
       "roTBs2RqAAAAAElFTkSuQmCC'\n",
       "     style='height:25px; border-radius:12px; display: inline-block; float: left; vertical-align: middle'></img>\n",
       "\n",
       "\n",
       "  <img src='data:image/png;base64,iVBORw0KGgoAAAANSUhEUgAAACMAAAAjCAYAAAAe2bNZAAAABHNCSVQICAgIfAhkiAAAAAlwSFlzAAAK6wAACusBgosNWgAAABx0RVh0U29mdHdhcmUAQWRvYmUgRmlyZXdvcmtzIENTNui8sowAAAf9SURBVFiFvZh7cFTVHcc/59y7793sJiFAwkvAYDRqFWwdraLVlj61diRYsDjqCFbFKrYo0CltlSq1tLaC2GprGIriGwqjFu10OlrGv8RiK/IICYECSWBDkt3s695zTv9IAtlHeOn0O7Mzu797z+/3Ob/z+p0VfBq9doNFljuABwAXw2PcvGHt6bgwxhz7Ls4YZNVXxxANLENwE2D1W9PAGmAhszZ0/X9gll5yCbHoOirLzmaQs0F6F8QMZq1v/8xgNm7DYwwjgXJLYL4witQ16+sv/U9HdDmV4WrKw6B06cZC/RMrM4MZ7xz61DAbtzEXmAvUAX4pMOVecg9/MFFu3j3Gz7gQBLygS2RGumBkL0cubiFRsR3LzVBV1UMk3IrW73PT9C2lYOwhQB4ClhX1AuKpjLcV27oEjyUpNUJCg1CvcejykWTCXyQgzic2HIIBjg3pS6+uRLKAhumZvD4U+tq0jTrgkVKQQtLekfTtxIPAkhTNF6G7kZm7aPp6M9myKVQEoaYaIhEQYvD781DML/RfBGNZXAl4irJiwBa07e/y7cQnBaJghIX6ENl2GR/fGCBoz6cm5qeyEqQA5ZYA5x5eeiV0Qph4gjFAUSwAr6QllQgcxS/Jm25Cr2Tmpsk03XI9NfI31FTZBEOgVOk51adqDBNPCNPSRlkiDXbBEwOU2WxH+I7itQZ62g56OjM33suq1YsZHVtGZSUI2QdyYgkgOthQNIF7BIGDnRAJgJSgj69cUx1gB8PkOGwL4E1gPrM27gIg7NlGKLQApc7BmEnAxP5g/rw4YqBrCDB5xHkw5rdR/1qTrN/hKNo6YUwVDNpFsnjYS8RbidBPcPXFP6R6yfExuOXmN4A3jv1+8ZUwgY9D2OWjUZE6lO88jDwHI8ZixGiMKSeYTBamCoDk6kDAb6y1OcH1a6KpD/fZesoFw5FlIXAVCIiH4PxrV+p2npVDToTBmtjY8t1swh2V61E9KqWiyuPEjM8dbfxuvfa49Zayf9R136Wr8mBSf/T7bNteA8zwaGEUbFpckWwq95n59dUIywKl2fbOIS5e8bWSu0tJ1a5redAYfqkdjesodFajcgaVNWhXo1C9SrkN3Usmv3UMJrc6/DDwkwEntkEJLe67tSLhvyzK8rHDQWleve5CGk4VZEB1r+5bg2E2si+Y0QatDK6jUVkX5eg2YYlp++ZM+rfMNYamAj8Y7MAVWFqaR1f/t2xzU4IHjybBtthzuiAASqv7jTF7jOqDMAakFHgDNsFyP+FhwZHBmH9F7cutIYkQCylYYv1AZSqsn1/+bX51OMMjPSl2nAnM7hnjOx2v53YgNWAzHM9Q/9l0lQWPSCBSyokAtOBC1Rj+w/1Xs+STDp4/E5g7Rs2zm2+oeVd7PUuHKDf6A4r5EsPT5K3gfCnBXNUYnvGzb+KcCczYYWOnLpy4eOXuG2oec0PBN8XQQAnpvS35AvAykr56rWhPBiV4MvtceGLxk5Mr6A1O8IfK7rl7xJ0r9kyumuP4fa0lMqTBLJIAJqEf1J3qE92lMBndlyfRD2YBghHC4hlny7ASqCeWo5zaoDdIWfnIefNGTb9fC73QDfhyBUCNOxrGPSUBfPem9us253YTV+3mcBbdkUYfzmHiLqZbYdIGHHON2ZlemXouaJUOO6TqtdHEQuXYY8Yt+EbDgmlS6RdzkaDTv2P9A3gICiq93sWhb5mc5wVhuU3Y7m5hOc3So7qFT3SLgOXHb/cyOfMn7xROegoC/PTcn3v8gbKPgDopJFk3R/uBPWQiwQ+2/GJevRMObLUzqe/saJjQUQTTftEVMW9tWxPgAocwcj9abNcZe7s+6t2R2xXZG7zyYLp8Q1PiRBBHym5bYuXi8Qt+/LvGu9f/5YDAxABsaRNPH6Xr4D4Sk87a897SOy9v/fKwjoF2eQel95yDESGEF6gEMwKhLwKus3wOVjTtes7qzgLdXTMnNCNoEpbcrtNuq6N7Xh/+eqcbj94xQkp7mdKpW5XbtbR8Z26kgMCAf2UU5YEovRUVRHbu2b3vK1UdDFkDCyMRQxbpdv8nhKAGIa7QaQedzT07fFPny53R738JoVYBdVrnsNx9XZ9v33UeGO+AA2MMUkgqQ5UcdDLZSFeVgONnXeHqSAC5Ew1BXwko0D1Zct3dT1duOjS3MzZnEUJtBuoQAq3SGOLR4ekjn9NC5nVOaYXf9lETrUkmOJy3pOz8OKIb2A1cWhJCCEzOxU2mUPror+2/L3yyM3pkM7jTjr1nBOgkGeyQ7erxpdJsMAS9wb2F9rzMxNY1K2PMU0WtZV82VU8Wp6vbKJVo9Lx/+4cydORdxCCQ/kDGTZCWsRpLu7VD7bfKqL8V2orKTp/PtzaXy42jr6TwAuisi+7JolUG4wY+8vyrISCMtRrLKWpvjAOqx/QGhp0rjRo5xD3x98CWQuOQN8qumRMmI7jKZPUEpzNVZsj4Zbaq1to5tZZsKIydLWojhIXrJnES79EaOzv3du2NytKuxzJKAA6wF8xqEE8s2jo/1wd/khslQGxd81Zg62Bbp31XBH+iETt7Y3ELA0iU6iGDlQ5mexe0VEx4a3x8V1AaYwFJgTiwaOsDmeK2J8nMUOqsnB1A+dcA04ucCYt0urkjmflk9iT2v30q/gZn5rQPvor4n9Ou634PeBzoznes/iot/7WnClKoM/+zCIjH5kwT8ChQjTHPIPTjFV3PpU/Hx+DM/A9U3IXI4SPCYAAAAABJRU5ErkJggg=='\n",
       "       style='height:15px; border-radius:12px; display: inline-block; float: left'></img>\n",
       "  \n",
       "\n",
       "\n",
       "\n",
       "\n",
       "</div>\n"
      ]
     },
     "metadata": {},
     "output_type": "display_data"
    },
    {
     "name": "stderr",
     "output_type": "stream",
     "text": [
      "WARNING:param.panel_extension: bokeh extension not recognized and will be skipped.\n",
      "WARNING: bokeh extension not recognized and will be skipped.\n"
     ]
    },
    {
     "data": {
      "application/javascript": "(function(root) {\n  function now() {\n    return new Date();\n  }\n\n  var force = true;\n  var py_version = '3.2.1'.replace('rc', '-rc.').replace('.dev', '-dev.');\n  var is_dev = py_version.indexOf(\"+\") !== -1 || py_version.indexOf(\"-\") !== -1;\n  var reloading = true;\n  var Bokeh = root.Bokeh;\n  var bokeh_loaded = Bokeh != null && (Bokeh.version === py_version || (Bokeh.versions !== undefined && Bokeh.versions.has(py_version)));\n\n  if (typeof (root._bokeh_timeout) === \"undefined\" || force) {\n    root._bokeh_timeout = Date.now() + 5000;\n    root._bokeh_failed_load = false;\n  }\n\n  function run_callbacks() {\n    try {\n      root._bokeh_onload_callbacks.forEach(function(callback) {\n        if (callback != null)\n          callback();\n      });\n    } finally {\n      delete root._bokeh_onload_callbacks;\n    }\n    console.debug(\"Bokeh: all callbacks have finished\");\n  }\n\n  function load_libs(css_urls, js_urls, js_modules, js_exports, callback) {\n    if (css_urls == null) css_urls = [];\n    if (js_urls == null) js_urls = [];\n    if (js_modules == null) js_modules = [];\n    if (js_exports == null) js_exports = {};\n\n    root._bokeh_onload_callbacks.push(callback);\n\n    if (root._bokeh_is_loading > 0) {\n      console.debug(\"Bokeh: BokehJS is being loaded, scheduling callback at\", now());\n      return null;\n    }\n    if (js_urls.length === 0 && js_modules.length === 0 && Object.keys(js_exports).length === 0) {\n      run_callbacks();\n      return null;\n    }\n    if (!reloading) {\n      console.debug(\"Bokeh: BokehJS not loaded, scheduling load and callback at\", now());\n    }\n\n    function on_load() {\n      root._bokeh_is_loading--;\n      if (root._bokeh_is_loading === 0) {\n        console.debug(\"Bokeh: all BokehJS libraries/stylesheets loaded\");\n        run_callbacks()\n      }\n    }\n    window._bokeh_on_load = on_load\n\n    function on_error() {\n      console.error(\"failed to load \" + url);\n    }\n\n    var skip = [];\n    if (window.requirejs) {\n      window.requirejs.config({'packages': {}, 'paths': {'jspanel': 'https://cdn.jsdelivr.net/npm/jspanel4@4.12.0/dist/jspanel', 'jspanel-modal': 'https://cdn.jsdelivr.net/npm/jspanel4@4.12.0/dist/extensions/modal/jspanel.modal', 'jspanel-tooltip': 'https://cdn.jsdelivr.net/npm/jspanel4@4.12.0/dist/extensions/tooltip/jspanel.tooltip', 'jspanel-hint': 'https://cdn.jsdelivr.net/npm/jspanel4@4.12.0/dist/extensions/hint/jspanel.hint', 'jspanel-layout': 'https://cdn.jsdelivr.net/npm/jspanel4@4.12.0/dist/extensions/layout/jspanel.layout', 'jspanel-contextmenu': 'https://cdn.jsdelivr.net/npm/jspanel4@4.12.0/dist/extensions/contextmenu/jspanel.contextmenu', 'jspanel-dock': 'https://cdn.jsdelivr.net/npm/jspanel4@4.12.0/dist/extensions/dock/jspanel.dock', 'gridstack': 'https://cdn.jsdelivr.net/npm/gridstack@7.2.3/dist/gridstack-all', 'notyf': 'https://cdn.jsdelivr.net/npm/notyf@3/notyf.min'}, 'shim': {'jspanel': {'exports': 'jsPanel'}, 'gridstack': {'exports': 'GridStack'}}});\n      require([\"jspanel\"], function(jsPanel) {\n\twindow.jsPanel = jsPanel\n\ton_load()\n      })\n      require([\"jspanel-modal\"], function() {\n\ton_load()\n      })\n      require([\"jspanel-tooltip\"], function() {\n\ton_load()\n      })\n      require([\"jspanel-hint\"], function() {\n\ton_load()\n      })\n      require([\"jspanel-layout\"], function() {\n\ton_load()\n      })\n      require([\"jspanel-contextmenu\"], function() {\n\ton_load()\n      })\n      require([\"jspanel-dock\"], function() {\n\ton_load()\n      })\n      require([\"gridstack\"], function(GridStack) {\n\twindow.GridStack = GridStack\n\ton_load()\n      })\n      require([\"notyf\"], function() {\n\ton_load()\n      })\n      root._bokeh_is_loading = css_urls.length + 9;\n    } else {\n      root._bokeh_is_loading = css_urls.length + js_urls.length + js_modules.length + Object.keys(js_exports).length;\n    }\n\n    var existing_stylesheets = []\n    var links = document.getElementsByTagName('link')\n    for (var i = 0; i < links.length; i++) {\n      var link = links[i]\n      if (link.href != null) {\n\texisting_stylesheets.push(link.href)\n      }\n    }\n    for (var i = 0; i < css_urls.length; i++) {\n      var url = css_urls[i];\n      if (existing_stylesheets.indexOf(url) !== -1) {\n\ton_load()\n\tcontinue;\n      }\n      const element = document.createElement(\"link\");\n      element.onload = on_load;\n      element.onerror = on_error;\n      element.rel = \"stylesheet\";\n      element.type = \"text/css\";\n      element.href = url;\n      console.debug(\"Bokeh: injecting link tag for BokehJS stylesheet: \", url);\n      document.body.appendChild(element);\n    }    if (((window['jsPanel'] !== undefined) && (!(window['jsPanel'] instanceof HTMLElement))) || window.requirejs) {\n      var urls = ['https://cdn.holoviz.org/panel/1.2.3/dist/bundled/floatpanel/jspanel4@4.12.0/dist/jspanel.js', 'https://cdn.holoviz.org/panel/1.2.3/dist/bundled/floatpanel/jspanel4@4.12.0/dist/extensions/modal/jspanel.modal.js', 'https://cdn.holoviz.org/panel/1.2.3/dist/bundled/floatpanel/jspanel4@4.12.0/dist/extensions/tooltip/jspanel.tooltip.js', 'https://cdn.holoviz.org/panel/1.2.3/dist/bundled/floatpanel/jspanel4@4.12.0/dist/extensions/hint/jspanel.hint.js', 'https://cdn.holoviz.org/panel/1.2.3/dist/bundled/floatpanel/jspanel4@4.12.0/dist/extensions/layout/jspanel.layout.js', 'https://cdn.holoviz.org/panel/1.2.3/dist/bundled/floatpanel/jspanel4@4.12.0/dist/extensions/contextmenu/jspanel.contextmenu.js', 'https://cdn.holoviz.org/panel/1.2.3/dist/bundled/floatpanel/jspanel4@4.12.0/dist/extensions/dock/jspanel.dock.js'];\n      for (var i = 0; i < urls.length; i++) {\n        skip.push(urls[i])\n      }\n    }    if (((window['GridStack'] !== undefined) && (!(window['GridStack'] instanceof HTMLElement))) || window.requirejs) {\n      var urls = ['https://cdn.holoviz.org/panel/1.2.3/dist/bundled/gridstack/gridstack@7.2.3/dist/gridstack-all.js'];\n      for (var i = 0; i < urls.length; i++) {\n        skip.push(urls[i])\n      }\n    }    if (((window['Notyf'] !== undefined) && (!(window['Notyf'] instanceof HTMLElement))) || window.requirejs) {\n      var urls = ['https://cdn.holoviz.org/panel/1.2.3/dist/bundled/notificationarea/notyf@3/notyf.min.js'];\n      for (var i = 0; i < urls.length; i++) {\n        skip.push(urls[i])\n      }\n    }    var existing_scripts = []\n    var scripts = document.getElementsByTagName('script')\n    for (var i = 0; i < scripts.length; i++) {\n      var script = scripts[i]\n      if (script.src != null) {\n\texisting_scripts.push(script.src)\n      }\n    }\n    for (var i = 0; i < js_urls.length; i++) {\n      var url = js_urls[i];\n      if (skip.indexOf(url) !== -1 || existing_scripts.indexOf(url) !== -1) {\n\tif (!window.requirejs) {\n\t  on_load();\n\t}\n\tcontinue;\n      }\n      var element = document.createElement('script');\n      element.onload = on_load;\n      element.onerror = on_error;\n      element.async = false;\n      element.src = url;\n      console.debug(\"Bokeh: injecting script tag for BokehJS library: \", url);\n      document.head.appendChild(element);\n    }\n    for (var i = 0; i < js_modules.length; i++) {\n      var url = js_modules[i];\n      if (skip.indexOf(url) !== -1 || existing_scripts.indexOf(url) !== -1) {\n\tif (!window.requirejs) {\n\t  on_load();\n\t}\n\tcontinue;\n      }\n      var element = document.createElement('script');\n      element.onload = on_load;\n      element.onerror = on_error;\n      element.async = false;\n      element.src = url;\n      element.type = \"module\";\n      console.debug(\"Bokeh: injecting script tag for BokehJS library: \", url);\n      document.head.appendChild(element);\n    }\n    for (const name in js_exports) {\n      var url = js_exports[name];\n      if (skip.indexOf(url) >= 0 || root[name] != null) {\n\tif (!window.requirejs) {\n\t  on_load();\n\t}\n\tcontinue;\n      }\n      var element = document.createElement('script');\n      element.onerror = on_error;\n      element.async = false;\n      element.type = \"module\";\n      console.debug(\"Bokeh: injecting script tag for BokehJS library: \", url);\n      element.textContent = `\n      import ${name} from \"${url}\"\n      window.${name} = ${name}\n      window._bokeh_on_load()\n      `\n      document.head.appendChild(element);\n    }\n    if (!js_urls.length && !js_modules.length) {\n      on_load()\n    }\n  };\n\n  function inject_raw_css(css) {\n    const element = document.createElement(\"style\");\n    element.appendChild(document.createTextNode(css));\n    document.body.appendChild(element);\n  }\n\n  var js_urls = [];\n  var js_modules = [];\n  var js_exports = {};\n  var css_urls = [];\n  var inline_js = [    function(Bokeh) {\n      Bokeh.set_log_level(\"info\");\n    },\nfunction(Bokeh) {} // ensure no trailing comma for IE\n  ];\n\n  function run_inline_js() {\n    if ((root.Bokeh !== undefined) || (force === true)) {\n      for (var i = 0; i < inline_js.length; i++) {\n        inline_js[i].call(root, root.Bokeh);\n      }\n      // Cache old bokeh versions\n      if (Bokeh != undefined && !reloading) {\n\tvar NewBokeh = root.Bokeh;\n\tif (Bokeh.versions === undefined) {\n\t  Bokeh.versions = new Map();\n\t}\n\tif (NewBokeh.version !== Bokeh.version) {\n\t  Bokeh.versions.set(NewBokeh.version, NewBokeh)\n\t}\n\troot.Bokeh = Bokeh;\n      }} else if (Date.now() < root._bokeh_timeout) {\n      setTimeout(run_inline_js, 100);\n    } else if (!root._bokeh_failed_load) {\n      console.log(\"Bokeh: BokehJS failed to load within specified timeout.\");\n      root._bokeh_failed_load = true;\n    }\n    root._bokeh_is_initializing = false\n  }\n\n  function load_or_wait() {\n    // Implement a backoff loop that tries to ensure we do not load multiple\n    // versions of Bokeh and its dependencies at the same time.\n    // In recent versions we use the root._bokeh_is_initializing flag\n    // to determine whether there is an ongoing attempt to initialize\n    // bokeh, however for backward compatibility we also try to ensure\n    // that we do not start loading a newer (Panel>=1.0 and Bokeh>3) version\n    // before older versions are fully initialized.\n    if (root._bokeh_is_initializing && Date.now() > root._bokeh_timeout) {\n      root._bokeh_is_initializing = false;\n      root._bokeh_onload_callbacks = undefined;\n      console.log(\"Bokeh: BokehJS was loaded multiple times but one version failed to initialize.\");\n      load_or_wait();\n    } else if (root._bokeh_is_initializing || (typeof root._bokeh_is_initializing === \"undefined\" && root._bokeh_onload_callbacks !== undefined)) {\n      setTimeout(load_or_wait, 100);\n    } else {\n      Bokeh = root.Bokeh;\n      bokeh_loaded = Bokeh != null && (Bokeh.version === py_version || (Bokeh.versions !== undefined && Bokeh.versions.has(py_version)));\n      root._bokeh_is_initializing = true\n      root._bokeh_onload_callbacks = []\n      if (!reloading && (!bokeh_loaded || is_dev)) {\n\troot.Bokeh = undefined;\n      }\n      load_libs(css_urls, js_urls, js_modules, js_exports, function() {\n\tconsole.debug(\"Bokeh: BokehJS plotting callback run at\", now());\n\trun_inline_js();\n      });\n    }\n  }\n  // Give older versions of the autoload script a head-start to ensure\n  // they initialize before we start loading newer version.\n  setTimeout(load_or_wait, 100)\n}(window));",
      "application/vnd.holoviews_load.v0+json": ""
     },
     "metadata": {},
     "output_type": "display_data"
    },
    {
     "data": {
      "application/javascript": "\nif ((window.PyViz === undefined) || (window.PyViz instanceof HTMLElement)) {\n  window.PyViz = {comms: {}, comm_status:{}, kernels:{}, receivers: {}, plot_index: []}\n}\n\n\n    function JupyterCommManager() {\n    }\n\n    JupyterCommManager.prototype.register_target = function(plot_id, comm_id, msg_handler) {\n      if (window.comm_manager || ((window.Jupyter !== undefined) && (Jupyter.notebook.kernel != null))) {\n        var comm_manager = window.comm_manager || Jupyter.notebook.kernel.comm_manager;\n        comm_manager.register_target(comm_id, function(comm) {\n          comm.on_msg(msg_handler);\n        });\n      } else if ((plot_id in window.PyViz.kernels) && (window.PyViz.kernels[plot_id])) {\n        window.PyViz.kernels[plot_id].registerCommTarget(comm_id, function(comm) {\n          comm.onMsg = msg_handler;\n        });\n      } else if (typeof google != 'undefined' && google.colab.kernel != null) {\n        google.colab.kernel.comms.registerTarget(comm_id, (comm) => {\n          var messages = comm.messages[Symbol.asyncIterator]();\n          function processIteratorResult(result) {\n            var message = result.value;\n            console.log(message)\n            var content = {data: message.data, comm_id};\n            var buffers = []\n            for (var buffer of message.buffers || []) {\n              buffers.push(new DataView(buffer))\n            }\n            var metadata = message.metadata || {};\n            var msg = {content, buffers, metadata}\n            msg_handler(msg);\n            return messages.next().then(processIteratorResult);\n          }\n          return messages.next().then(processIteratorResult);\n        })\n      }\n    }\n\n    JupyterCommManager.prototype.get_client_comm = function(plot_id, comm_id, msg_handler) {\n      if (comm_id in window.PyViz.comms) {\n        return window.PyViz.comms[comm_id];\n      } else if (window.comm_manager || ((window.Jupyter !== undefined) && (Jupyter.notebook.kernel != null))) {\n        var comm_manager = window.comm_manager || Jupyter.notebook.kernel.comm_manager;\n        var comm = comm_manager.new_comm(comm_id, {}, {}, {}, comm_id);\n        if (msg_handler) {\n          comm.on_msg(msg_handler);\n        }\n      } else if ((plot_id in window.PyViz.kernels) && (window.PyViz.kernels[plot_id])) {\n        var comm = window.PyViz.kernels[plot_id].connectToComm(comm_id);\n        comm.open();\n        if (msg_handler) {\n          comm.onMsg = msg_handler;\n        }\n      } else if (typeof google != 'undefined' && google.colab.kernel != null) {\n        var comm_promise = google.colab.kernel.comms.open(comm_id)\n        comm_promise.then((comm) => {\n          window.PyViz.comms[comm_id] = comm;\n          if (msg_handler) {\n            var messages = comm.messages[Symbol.asyncIterator]();\n            function processIteratorResult(result) {\n              var message = result.value;\n              var content = {data: message.data};\n              var metadata = message.metadata || {comm_id};\n              var msg = {content, metadata}\n              msg_handler(msg);\n              return messages.next().then(processIteratorResult);\n            }\n            return messages.next().then(processIteratorResult);\n          }\n        }) \n        var sendClosure = (data, metadata, buffers, disposeOnDone) => {\n          return comm_promise.then((comm) => {\n            comm.send(data, metadata, buffers, disposeOnDone);\n          });\n        };\n        var comm = {\n          send: sendClosure\n        };\n      }\n      window.PyViz.comms[comm_id] = comm;\n      return comm;\n    }\n    window.PyViz.comm_manager = new JupyterCommManager();\n    \n\n\nvar JS_MIME_TYPE = 'application/javascript';\nvar HTML_MIME_TYPE = 'text/html';\nvar EXEC_MIME_TYPE = 'application/vnd.holoviews_exec.v0+json';\nvar CLASS_NAME = 'output';\n\n/**\n * Render data to the DOM node\n */\nfunction render(props, node) {\n  var div = document.createElement(\"div\");\n  var script = document.createElement(\"script\");\n  node.appendChild(div);\n  node.appendChild(script);\n}\n\n/**\n * Handle when a new output is added\n */\nfunction handle_add_output(event, handle) {\n  var output_area = handle.output_area;\n  var output = handle.output;\n  if ((output.data == undefined) || (!output.data.hasOwnProperty(EXEC_MIME_TYPE))) {\n    return\n  }\n  var id = output.metadata[EXEC_MIME_TYPE][\"id\"];\n  var toinsert = output_area.element.find(\".\" + CLASS_NAME.split(' ')[0]);\n  if (id !== undefined) {\n    var nchildren = toinsert.length;\n    var html_node = toinsert[nchildren-1].children[0];\n    html_node.innerHTML = output.data[HTML_MIME_TYPE];\n    var scripts = [];\n    var nodelist = html_node.querySelectorAll(\"script\");\n    for (var i in nodelist) {\n      if (nodelist.hasOwnProperty(i)) {\n        scripts.push(nodelist[i])\n      }\n    }\n\n    scripts.forEach( function (oldScript) {\n      var newScript = document.createElement(\"script\");\n      var attrs = [];\n      var nodemap = oldScript.attributes;\n      for (var j in nodemap) {\n        if (nodemap.hasOwnProperty(j)) {\n          attrs.push(nodemap[j])\n        }\n      }\n      attrs.forEach(function(attr) { newScript.setAttribute(attr.name, attr.value) });\n      newScript.appendChild(document.createTextNode(oldScript.innerHTML));\n      oldScript.parentNode.replaceChild(newScript, oldScript);\n    });\n    if (JS_MIME_TYPE in output.data) {\n      toinsert[nchildren-1].children[1].textContent = output.data[JS_MIME_TYPE];\n    }\n    output_area._hv_plot_id = id;\n    if ((window.Bokeh !== undefined) && (id in Bokeh.index)) {\n      window.PyViz.plot_index[id] = Bokeh.index[id];\n    } else {\n      window.PyViz.plot_index[id] = null;\n    }\n  } else if (output.metadata[EXEC_MIME_TYPE][\"server_id\"] !== undefined) {\n    var bk_div = document.createElement(\"div\");\n    bk_div.innerHTML = output.data[HTML_MIME_TYPE];\n    var script_attrs = bk_div.children[0].attributes;\n    for (var i = 0; i < script_attrs.length; i++) {\n      toinsert[toinsert.length - 1].childNodes[1].setAttribute(script_attrs[i].name, script_attrs[i].value);\n    }\n    // store reference to server id on output_area\n    output_area._bokeh_server_id = output.metadata[EXEC_MIME_TYPE][\"server_id\"];\n  }\n}\n\n/**\n * Handle when an output is cleared or removed\n */\nfunction handle_clear_output(event, handle) {\n  var id = handle.cell.output_area._hv_plot_id;\n  var server_id = handle.cell.output_area._bokeh_server_id;\n  if (((id === undefined) || !(id in PyViz.plot_index)) && (server_id !== undefined)) { return; }\n  var comm = window.PyViz.comm_manager.get_client_comm(\"hv-extension-comm\", \"hv-extension-comm\", function () {});\n  if (server_id !== null) {\n    comm.send({event_type: 'server_delete', 'id': server_id});\n    return;\n  } else if (comm !== null) {\n    comm.send({event_type: 'delete', 'id': id});\n  }\n  delete PyViz.plot_index[id];\n  if ((window.Bokeh !== undefined) & (id in window.Bokeh.index)) {\n    var doc = window.Bokeh.index[id].model.document\n    doc.clear();\n    const i = window.Bokeh.documents.indexOf(doc);\n    if (i > -1) {\n      window.Bokeh.documents.splice(i, 1);\n    }\n  }\n}\n\n/**\n * Handle kernel restart event\n */\nfunction handle_kernel_cleanup(event, handle) {\n  delete PyViz.comms[\"hv-extension-comm\"];\n  window.PyViz.plot_index = {}\n}\n\n/**\n * Handle update_display_data messages\n */\nfunction handle_update_output(event, handle) {\n  handle_clear_output(event, {cell: {output_area: handle.output_area}})\n  handle_add_output(event, handle)\n}\n\nfunction register_renderer(events, OutputArea) {\n  function append_mime(data, metadata, element) {\n    // create a DOM node to render to\n    var toinsert = this.create_output_subarea(\n    metadata,\n    CLASS_NAME,\n    EXEC_MIME_TYPE\n    );\n    this.keyboard_manager.register_events(toinsert);\n    // Render to node\n    var props = {data: data, metadata: metadata[EXEC_MIME_TYPE]};\n    render(props, toinsert[0]);\n    element.append(toinsert);\n    return toinsert\n  }\n\n  events.on('output_added.OutputArea', handle_add_output);\n  events.on('output_updated.OutputArea', handle_update_output);\n  events.on('clear_output.CodeCell', handle_clear_output);\n  events.on('delete.Cell', handle_clear_output);\n  events.on('kernel_ready.Kernel', handle_kernel_cleanup);\n\n  OutputArea.prototype.register_mime_type(EXEC_MIME_TYPE, append_mime, {\n    safe: true,\n    index: 0\n  });\n}\n\nif (window.Jupyter !== undefined) {\n  try {\n    var events = require('base/js/events');\n    var OutputArea = require('notebook/js/outputarea').OutputArea;\n    if (OutputArea.prototype.mime_types().indexOf(EXEC_MIME_TYPE) == -1) {\n      register_renderer(events, OutputArea);\n    }\n  } catch(err) {\n  }\n}\n",
      "application/vnd.holoviews_load.v0+json": ""
     },
     "metadata": {},
     "output_type": "display_data"
    },
    {
     "data": {
      "text/html": [
       "<style>*[data-root-id],\n",
       "*[data-root-id] > * {\n",
       "  box-sizing: border-box;\n",
       "  font-family: var(--jp-ui-font-family);\n",
       "  font-size: var(--jp-ui-font-size1);\n",
       "  color: var(--vscode-editor-foreground, var(--jp-ui-font-color1));\n",
       "}\n",
       "\n",
       "/* Override VSCode background color */\n",
       ".cell-output-ipywidget-background:has(\n",
       "    > .cell-output-ipywidget-background > .lm-Widget > *[data-root-id]\n",
       "  ),\n",
       ".cell-output-ipywidget-background:has(> .lm-Widget > *[data-root-id]) {\n",
       "  background-color: transparent !important;\n",
       "}\n",
       "</style>"
      ]
     },
     "metadata": {},
     "output_type": "display_data"
    },
    {
     "data": {
      "application/javascript": "(function(root) {\n  function now() {\n    return new Date();\n  }\n\n  var force = true;\n  var py_version = '3.2.1'.replace('rc', '-rc.').replace('.dev', '-dev.');\n  var is_dev = py_version.indexOf(\"+\") !== -1 || py_version.indexOf(\"-\") !== -1;\n  var reloading = true;\n  var Bokeh = root.Bokeh;\n  var bokeh_loaded = Bokeh != null && (Bokeh.version === py_version || (Bokeh.versions !== undefined && Bokeh.versions.has(py_version)));\n\n  if (typeof (root._bokeh_timeout) === \"undefined\" || force) {\n    root._bokeh_timeout = Date.now() + 5000;\n    root._bokeh_failed_load = false;\n  }\n\n  function run_callbacks() {\n    try {\n      root._bokeh_onload_callbacks.forEach(function(callback) {\n        if (callback != null)\n          callback();\n      });\n    } finally {\n      delete root._bokeh_onload_callbacks;\n    }\n    console.debug(\"Bokeh: all callbacks have finished\");\n  }\n\n  function load_libs(css_urls, js_urls, js_modules, js_exports, callback) {\n    if (css_urls == null) css_urls = [];\n    if (js_urls == null) js_urls = [];\n    if (js_modules == null) js_modules = [];\n    if (js_exports == null) js_exports = {};\n\n    root._bokeh_onload_callbacks.push(callback);\n\n    if (root._bokeh_is_loading > 0) {\n      console.debug(\"Bokeh: BokehJS is being loaded, scheduling callback at\", now());\n      return null;\n    }\n    if (js_urls.length === 0 && js_modules.length === 0 && Object.keys(js_exports).length === 0) {\n      run_callbacks();\n      return null;\n    }\n    if (!reloading) {\n      console.debug(\"Bokeh: BokehJS not loaded, scheduling load and callback at\", now());\n    }\n\n    function on_load() {\n      root._bokeh_is_loading--;\n      if (root._bokeh_is_loading === 0) {\n        console.debug(\"Bokeh: all BokehJS libraries/stylesheets loaded\");\n        run_callbacks()\n      }\n    }\n    window._bokeh_on_load = on_load\n\n    function on_error() {\n      console.error(\"failed to load \" + url);\n    }\n\n    var skip = [];\n    if (window.requirejs) {\n      window.requirejs.config({'packages': {}, 'paths': {'jspanel': 'https://cdn.jsdelivr.net/npm/jspanel4@4.12.0/dist/jspanel', 'jspanel-modal': 'https://cdn.jsdelivr.net/npm/jspanel4@4.12.0/dist/extensions/modal/jspanel.modal', 'jspanel-tooltip': 'https://cdn.jsdelivr.net/npm/jspanel4@4.12.0/dist/extensions/tooltip/jspanel.tooltip', 'jspanel-hint': 'https://cdn.jsdelivr.net/npm/jspanel4@4.12.0/dist/extensions/hint/jspanel.hint', 'jspanel-layout': 'https://cdn.jsdelivr.net/npm/jspanel4@4.12.0/dist/extensions/layout/jspanel.layout', 'jspanel-contextmenu': 'https://cdn.jsdelivr.net/npm/jspanel4@4.12.0/dist/extensions/contextmenu/jspanel.contextmenu', 'jspanel-dock': 'https://cdn.jsdelivr.net/npm/jspanel4@4.12.0/dist/extensions/dock/jspanel.dock', 'gridstack': 'https://cdn.jsdelivr.net/npm/gridstack@7.2.3/dist/gridstack-all', 'notyf': 'https://cdn.jsdelivr.net/npm/notyf@3/notyf.min'}, 'shim': {'jspanel': {'exports': 'jsPanel'}, 'gridstack': {'exports': 'GridStack'}}});\n      require([\"jspanel\"], function(jsPanel) {\n\twindow.jsPanel = jsPanel\n\ton_load()\n      })\n      require([\"jspanel-modal\"], function() {\n\ton_load()\n      })\n      require([\"jspanel-tooltip\"], function() {\n\ton_load()\n      })\n      require([\"jspanel-hint\"], function() {\n\ton_load()\n      })\n      require([\"jspanel-layout\"], function() {\n\ton_load()\n      })\n      require([\"jspanel-contextmenu\"], function() {\n\ton_load()\n      })\n      require([\"jspanel-dock\"], function() {\n\ton_load()\n      })\n      require([\"gridstack\"], function(GridStack) {\n\twindow.GridStack = GridStack\n\ton_load()\n      })\n      require([\"notyf\"], function() {\n\ton_load()\n      })\n      root._bokeh_is_loading = css_urls.length + 9;\n    } else {\n      root._bokeh_is_loading = css_urls.length + js_urls.length + js_modules.length + Object.keys(js_exports).length;\n    }\n\n    var existing_stylesheets = []\n    var links = document.getElementsByTagName('link')\n    for (var i = 0; i < links.length; i++) {\n      var link = links[i]\n      if (link.href != null) {\n\texisting_stylesheets.push(link.href)\n      }\n    }\n    for (var i = 0; i < css_urls.length; i++) {\n      var url = css_urls[i];\n      if (existing_stylesheets.indexOf(url) !== -1) {\n\ton_load()\n\tcontinue;\n      }\n      const element = document.createElement(\"link\");\n      element.onload = on_load;\n      element.onerror = on_error;\n      element.rel = \"stylesheet\";\n      element.type = \"text/css\";\n      element.href = url;\n      console.debug(\"Bokeh: injecting link tag for BokehJS stylesheet: \", url);\n      document.body.appendChild(element);\n    }    if (((window['jsPanel'] !== undefined) && (!(window['jsPanel'] instanceof HTMLElement))) || window.requirejs) {\n      var urls = ['https://cdn.holoviz.org/panel/1.2.3/dist/bundled/floatpanel/jspanel4@4.12.0/dist/jspanel.js', 'https://cdn.holoviz.org/panel/1.2.3/dist/bundled/floatpanel/jspanel4@4.12.0/dist/extensions/modal/jspanel.modal.js', 'https://cdn.holoviz.org/panel/1.2.3/dist/bundled/floatpanel/jspanel4@4.12.0/dist/extensions/tooltip/jspanel.tooltip.js', 'https://cdn.holoviz.org/panel/1.2.3/dist/bundled/floatpanel/jspanel4@4.12.0/dist/extensions/hint/jspanel.hint.js', 'https://cdn.holoviz.org/panel/1.2.3/dist/bundled/floatpanel/jspanel4@4.12.0/dist/extensions/layout/jspanel.layout.js', 'https://cdn.holoviz.org/panel/1.2.3/dist/bundled/floatpanel/jspanel4@4.12.0/dist/extensions/contextmenu/jspanel.contextmenu.js', 'https://cdn.holoviz.org/panel/1.2.3/dist/bundled/floatpanel/jspanel4@4.12.0/dist/extensions/dock/jspanel.dock.js'];\n      for (var i = 0; i < urls.length; i++) {\n        skip.push(urls[i])\n      }\n    }    if (((window['GridStack'] !== undefined) && (!(window['GridStack'] instanceof HTMLElement))) || window.requirejs) {\n      var urls = ['https://cdn.holoviz.org/panel/1.2.3/dist/bundled/gridstack/gridstack@7.2.3/dist/gridstack-all.js'];\n      for (var i = 0; i < urls.length; i++) {\n        skip.push(urls[i])\n      }\n    }    if (((window['Notyf'] !== undefined) && (!(window['Notyf'] instanceof HTMLElement))) || window.requirejs) {\n      var urls = ['https://cdn.holoviz.org/panel/1.2.3/dist/bundled/notificationarea/notyf@3/notyf.min.js'];\n      for (var i = 0; i < urls.length; i++) {\n        skip.push(urls[i])\n      }\n    }    var existing_scripts = []\n    var scripts = document.getElementsByTagName('script')\n    for (var i = 0; i < scripts.length; i++) {\n      var script = scripts[i]\n      if (script.src != null) {\n\texisting_scripts.push(script.src)\n      }\n    }\n    for (var i = 0; i < js_urls.length; i++) {\n      var url = js_urls[i];\n      if (skip.indexOf(url) !== -1 || existing_scripts.indexOf(url) !== -1) {\n\tif (!window.requirejs) {\n\t  on_load();\n\t}\n\tcontinue;\n      }\n      var element = document.createElement('script');\n      element.onload = on_load;\n      element.onerror = on_error;\n      element.async = false;\n      element.src = url;\n      console.debug(\"Bokeh: injecting script tag for BokehJS library: \", url);\n      document.head.appendChild(element);\n    }\n    for (var i = 0; i < js_modules.length; i++) {\n      var url = js_modules[i];\n      if (skip.indexOf(url) !== -1 || existing_scripts.indexOf(url) !== -1) {\n\tif (!window.requirejs) {\n\t  on_load();\n\t}\n\tcontinue;\n      }\n      var element = document.createElement('script');\n      element.onload = on_load;\n      element.onerror = on_error;\n      element.async = false;\n      element.src = url;\n      element.type = \"module\";\n      console.debug(\"Bokeh: injecting script tag for BokehJS library: \", url);\n      document.head.appendChild(element);\n    }\n    for (const name in js_exports) {\n      var url = js_exports[name];\n      if (skip.indexOf(url) >= 0 || root[name] != null) {\n\tif (!window.requirejs) {\n\t  on_load();\n\t}\n\tcontinue;\n      }\n      var element = document.createElement('script');\n      element.onerror = on_error;\n      element.async = false;\n      element.type = \"module\";\n      console.debug(\"Bokeh: injecting script tag for BokehJS library: \", url);\n      element.textContent = `\n      import ${name} from \"${url}\"\n      window.${name} = ${name}\n      window._bokeh_on_load()\n      `\n      document.head.appendChild(element);\n    }\n    if (!js_urls.length && !js_modules.length) {\n      on_load()\n    }\n  };\n\n  function inject_raw_css(css) {\n    const element = document.createElement(\"style\");\n    element.appendChild(document.createTextNode(css));\n    document.body.appendChild(element);\n  }\n\n  var js_urls = [];\n  var js_modules = [];\n  var js_exports = {};\n  var css_urls = [];\n  var inline_js = [    function(Bokeh) {\n      Bokeh.set_log_level(\"info\");\n    },\nfunction(Bokeh) {} // ensure no trailing comma for IE\n  ];\n\n  function run_inline_js() {\n    if ((root.Bokeh !== undefined) || (force === true)) {\n      for (var i = 0; i < inline_js.length; i++) {\n        inline_js[i].call(root, root.Bokeh);\n      }\n      // Cache old bokeh versions\n      if (Bokeh != undefined && !reloading) {\n\tvar NewBokeh = root.Bokeh;\n\tif (Bokeh.versions === undefined) {\n\t  Bokeh.versions = new Map();\n\t}\n\tif (NewBokeh.version !== Bokeh.version) {\n\t  Bokeh.versions.set(NewBokeh.version, NewBokeh)\n\t}\n\troot.Bokeh = Bokeh;\n      }} else if (Date.now() < root._bokeh_timeout) {\n      setTimeout(run_inline_js, 100);\n    } else if (!root._bokeh_failed_load) {\n      console.log(\"Bokeh: BokehJS failed to load within specified timeout.\");\n      root._bokeh_failed_load = true;\n    }\n    root._bokeh_is_initializing = false\n  }\n\n  function load_or_wait() {\n    // Implement a backoff loop that tries to ensure we do not load multiple\n    // versions of Bokeh and its dependencies at the same time.\n    // In recent versions we use the root._bokeh_is_initializing flag\n    // to determine whether there is an ongoing attempt to initialize\n    // bokeh, however for backward compatibility we also try to ensure\n    // that we do not start loading a newer (Panel>=1.0 and Bokeh>3) version\n    // before older versions are fully initialized.\n    if (root._bokeh_is_initializing && Date.now() > root._bokeh_timeout) {\n      root._bokeh_is_initializing = false;\n      root._bokeh_onload_callbacks = undefined;\n      console.log(\"Bokeh: BokehJS was loaded multiple times but one version failed to initialize.\");\n      load_or_wait();\n    } else if (root._bokeh_is_initializing || (typeof root._bokeh_is_initializing === \"undefined\" && root._bokeh_onload_callbacks !== undefined)) {\n      setTimeout(load_or_wait, 100);\n    } else {\n      Bokeh = root.Bokeh;\n      bokeh_loaded = Bokeh != null && (Bokeh.version === py_version || (Bokeh.versions !== undefined && Bokeh.versions.has(py_version)));\n      root._bokeh_is_initializing = true\n      root._bokeh_onload_callbacks = []\n      if (!reloading && (!bokeh_loaded || is_dev)) {\n\troot.Bokeh = undefined;\n      }\n      load_libs(css_urls, js_urls, js_modules, js_exports, function() {\n\tconsole.debug(\"Bokeh: BokehJS plotting callback run at\", now());\n\trun_inline_js();\n      });\n    }\n  }\n  // Give older versions of the autoload script a head-start to ensure\n  // they initialize before we start loading newer version.\n  setTimeout(load_or_wait, 100)\n}(window));",
      "application/vnd.holoviews_load.v0+json": ""
     },
     "metadata": {},
     "output_type": "display_data"
    },
    {
     "data": {
      "application/javascript": "\nif ((window.PyViz === undefined) || (window.PyViz instanceof HTMLElement)) {\n  window.PyViz = {comms: {}, comm_status:{}, kernels:{}, receivers: {}, plot_index: []}\n}\n\n\n    function JupyterCommManager() {\n    }\n\n    JupyterCommManager.prototype.register_target = function(plot_id, comm_id, msg_handler) {\n      if (window.comm_manager || ((window.Jupyter !== undefined) && (Jupyter.notebook.kernel != null))) {\n        var comm_manager = window.comm_manager || Jupyter.notebook.kernel.comm_manager;\n        comm_manager.register_target(comm_id, function(comm) {\n          comm.on_msg(msg_handler);\n        });\n      } else if ((plot_id in window.PyViz.kernels) && (window.PyViz.kernels[plot_id])) {\n        window.PyViz.kernels[plot_id].registerCommTarget(comm_id, function(comm) {\n          comm.onMsg = msg_handler;\n        });\n      } else if (typeof google != 'undefined' && google.colab.kernel != null) {\n        google.colab.kernel.comms.registerTarget(comm_id, (comm) => {\n          var messages = comm.messages[Symbol.asyncIterator]();\n          function processIteratorResult(result) {\n            var message = result.value;\n            console.log(message)\n            var content = {data: message.data, comm_id};\n            var buffers = []\n            for (var buffer of message.buffers || []) {\n              buffers.push(new DataView(buffer))\n            }\n            var metadata = message.metadata || {};\n            var msg = {content, buffers, metadata}\n            msg_handler(msg);\n            return messages.next().then(processIteratorResult);\n          }\n          return messages.next().then(processIteratorResult);\n        })\n      }\n    }\n\n    JupyterCommManager.prototype.get_client_comm = function(plot_id, comm_id, msg_handler) {\n      if (comm_id in window.PyViz.comms) {\n        return window.PyViz.comms[comm_id];\n      } else if (window.comm_manager || ((window.Jupyter !== undefined) && (Jupyter.notebook.kernel != null))) {\n        var comm_manager = window.comm_manager || Jupyter.notebook.kernel.comm_manager;\n        var comm = comm_manager.new_comm(comm_id, {}, {}, {}, comm_id);\n        if (msg_handler) {\n          comm.on_msg(msg_handler);\n        }\n      } else if ((plot_id in window.PyViz.kernels) && (window.PyViz.kernels[plot_id])) {\n        var comm = window.PyViz.kernels[plot_id].connectToComm(comm_id);\n        comm.open();\n        if (msg_handler) {\n          comm.onMsg = msg_handler;\n        }\n      } else if (typeof google != 'undefined' && google.colab.kernel != null) {\n        var comm_promise = google.colab.kernel.comms.open(comm_id)\n        comm_promise.then((comm) => {\n          window.PyViz.comms[comm_id] = comm;\n          if (msg_handler) {\n            var messages = comm.messages[Symbol.asyncIterator]();\n            function processIteratorResult(result) {\n              var message = result.value;\n              var content = {data: message.data};\n              var metadata = message.metadata || {comm_id};\n              var msg = {content, metadata}\n              msg_handler(msg);\n              return messages.next().then(processIteratorResult);\n            }\n            return messages.next().then(processIteratorResult);\n          }\n        }) \n        var sendClosure = (data, metadata, buffers, disposeOnDone) => {\n          return comm_promise.then((comm) => {\n            comm.send(data, metadata, buffers, disposeOnDone);\n          });\n        };\n        var comm = {\n          send: sendClosure\n        };\n      }\n      window.PyViz.comms[comm_id] = comm;\n      return comm;\n    }\n    window.PyViz.comm_manager = new JupyterCommManager();\n    \n\n\nvar JS_MIME_TYPE = 'application/javascript';\nvar HTML_MIME_TYPE = 'text/html';\nvar EXEC_MIME_TYPE = 'application/vnd.holoviews_exec.v0+json';\nvar CLASS_NAME = 'output';\n\n/**\n * Render data to the DOM node\n */\nfunction render(props, node) {\n  var div = document.createElement(\"div\");\n  var script = document.createElement(\"script\");\n  node.appendChild(div);\n  node.appendChild(script);\n}\n\n/**\n * Handle when a new output is added\n */\nfunction handle_add_output(event, handle) {\n  var output_area = handle.output_area;\n  var output = handle.output;\n  if ((output.data == undefined) || (!output.data.hasOwnProperty(EXEC_MIME_TYPE))) {\n    return\n  }\n  var id = output.metadata[EXEC_MIME_TYPE][\"id\"];\n  var toinsert = output_area.element.find(\".\" + CLASS_NAME.split(' ')[0]);\n  if (id !== undefined) {\n    var nchildren = toinsert.length;\n    var html_node = toinsert[nchildren-1].children[0];\n    html_node.innerHTML = output.data[HTML_MIME_TYPE];\n    var scripts = [];\n    var nodelist = html_node.querySelectorAll(\"script\");\n    for (var i in nodelist) {\n      if (nodelist.hasOwnProperty(i)) {\n        scripts.push(nodelist[i])\n      }\n    }\n\n    scripts.forEach( function (oldScript) {\n      var newScript = document.createElement(\"script\");\n      var attrs = [];\n      var nodemap = oldScript.attributes;\n      for (var j in nodemap) {\n        if (nodemap.hasOwnProperty(j)) {\n          attrs.push(nodemap[j])\n        }\n      }\n      attrs.forEach(function(attr) { newScript.setAttribute(attr.name, attr.value) });\n      newScript.appendChild(document.createTextNode(oldScript.innerHTML));\n      oldScript.parentNode.replaceChild(newScript, oldScript);\n    });\n    if (JS_MIME_TYPE in output.data) {\n      toinsert[nchildren-1].children[1].textContent = output.data[JS_MIME_TYPE];\n    }\n    output_area._hv_plot_id = id;\n    if ((window.Bokeh !== undefined) && (id in Bokeh.index)) {\n      window.PyViz.plot_index[id] = Bokeh.index[id];\n    } else {\n      window.PyViz.plot_index[id] = null;\n    }\n  } else if (output.metadata[EXEC_MIME_TYPE][\"server_id\"] !== undefined) {\n    var bk_div = document.createElement(\"div\");\n    bk_div.innerHTML = output.data[HTML_MIME_TYPE];\n    var script_attrs = bk_div.children[0].attributes;\n    for (var i = 0; i < script_attrs.length; i++) {\n      toinsert[toinsert.length - 1].childNodes[1].setAttribute(script_attrs[i].name, script_attrs[i].value);\n    }\n    // store reference to server id on output_area\n    output_area._bokeh_server_id = output.metadata[EXEC_MIME_TYPE][\"server_id\"];\n  }\n}\n\n/**\n * Handle when an output is cleared or removed\n */\nfunction handle_clear_output(event, handle) {\n  var id = handle.cell.output_area._hv_plot_id;\n  var server_id = handle.cell.output_area._bokeh_server_id;\n  if (((id === undefined) || !(id in PyViz.plot_index)) && (server_id !== undefined)) { return; }\n  var comm = window.PyViz.comm_manager.get_client_comm(\"hv-extension-comm\", \"hv-extension-comm\", function () {});\n  if (server_id !== null) {\n    comm.send({event_type: 'server_delete', 'id': server_id});\n    return;\n  } else if (comm !== null) {\n    comm.send({event_type: 'delete', 'id': id});\n  }\n  delete PyViz.plot_index[id];\n  if ((window.Bokeh !== undefined) & (id in window.Bokeh.index)) {\n    var doc = window.Bokeh.index[id].model.document\n    doc.clear();\n    const i = window.Bokeh.documents.indexOf(doc);\n    if (i > -1) {\n      window.Bokeh.documents.splice(i, 1);\n    }\n  }\n}\n\n/**\n * Handle kernel restart event\n */\nfunction handle_kernel_cleanup(event, handle) {\n  delete PyViz.comms[\"hv-extension-comm\"];\n  window.PyViz.plot_index = {}\n}\n\n/**\n * Handle update_display_data messages\n */\nfunction handle_update_output(event, handle) {\n  handle_clear_output(event, {cell: {output_area: handle.output_area}})\n  handle_add_output(event, handle)\n}\n\nfunction register_renderer(events, OutputArea) {\n  function append_mime(data, metadata, element) {\n    // create a DOM node to render to\n    var toinsert = this.create_output_subarea(\n    metadata,\n    CLASS_NAME,\n    EXEC_MIME_TYPE\n    );\n    this.keyboard_manager.register_events(toinsert);\n    // Render to node\n    var props = {data: data, metadata: metadata[EXEC_MIME_TYPE]};\n    render(props, toinsert[0]);\n    element.append(toinsert);\n    return toinsert\n  }\n\n  events.on('output_added.OutputArea', handle_add_output);\n  events.on('output_updated.OutputArea', handle_update_output);\n  events.on('clear_output.CodeCell', handle_clear_output);\n  events.on('delete.Cell', handle_clear_output);\n  events.on('kernel_ready.Kernel', handle_kernel_cleanup);\n\n  OutputArea.prototype.register_mime_type(EXEC_MIME_TYPE, append_mime, {\n    safe: true,\n    index: 0\n  });\n}\n\nif (window.Jupyter !== undefined) {\n  try {\n    var events = require('base/js/events');\n    var OutputArea = require('notebook/js/outputarea').OutputArea;\n    if (OutputArea.prototype.mime_types().indexOf(EXEC_MIME_TYPE) == -1) {\n      register_renderer(events, OutputArea);\n    }\n  } catch(err) {\n  }\n}\n",
      "application/vnd.holoviews_load.v0+json": ""
     },
     "metadata": {},
     "output_type": "display_data"
    },
    {
     "data": {
      "text/html": [
       "<style>*[data-root-id],\n",
       "*[data-root-id] > * {\n",
       "  box-sizing: border-box;\n",
       "  font-family: var(--jp-ui-font-family);\n",
       "  font-size: var(--jp-ui-font-size1);\n",
       "  color: var(--vscode-editor-foreground, var(--jp-ui-font-color1));\n",
       "}\n",
       "\n",
       "/* Override VSCode background color */\n",
       ".cell-output-ipywidget-background:has(\n",
       "    > .cell-output-ipywidget-background > .lm-Widget > *[data-root-id]\n",
       "  ),\n",
       ".cell-output-ipywidget-background:has(> .lm-Widget > *[data-root-id]) {\n",
       "  background-color: transparent !important;\n",
       "}\n",
       "</style>"
      ]
     },
     "metadata": {},
     "output_type": "display_data"
    },
    {
     "ename": "ImportError",
     "evalue": "cannot import name 'STEM_AE' from 'm3_learning.nn.STEM_AE' (unknown location)",
     "output_type": "error",
     "traceback": [
      "\u001b[0;31m---------------------------------------------------------------------------\u001b[0m",
      "\u001b[0;31mImportError\u001b[0m                               Traceback (most recent call last)",
      "Cell \u001b[0;32mIn[56], line 1\u001b[0m\n\u001b[0;32m----> 1\u001b[0m \u001b[38;5;28;01mfrom\u001b[39;00m \u001b[38;5;21;01mGaussian_Sampler\u001b[39;00m\u001b[38;5;21;01m.\u001b[39;00m\u001b[38;5;21;01mmodels\u001b[39;00m\u001b[38;5;21;01m.\u001b[39;00m\u001b[38;5;21;01mbase_model\u001b[39;00m \u001b[38;5;28;01mimport\u001b[39;00m Averaging_Loss_AE\n\u001b[1;32m      2\u001b[0m emb_path \u001b[38;5;241m=\u001b[39m \u001b[38;5;124m'\u001b[39m\u001b[38;5;124m/home/m3learning/Northwestern/Northwestern_link/model_tests/fake_pv_curves_gaussian_sampling/\u001b[39m\u001b[38;5;124m'\u001b[39m\n\u001b[1;32m      4\u001b[0m \u001b[38;5;28;01mfor\u001b[39;00m dset_key \u001b[38;5;129;01min\u001b[39;00m dset\u001b[38;5;241m.\u001b[39mh5_keys():\n",
      "File \u001b[0;32m~/Northwestern/Gaussian_Sampler/Gaussian_Sampler/Notebooks/./../../Gaussian_Sampler/models/base_model.py:1\u001b[0m\n\u001b[0;32m----> 1\u001b[0m \u001b[38;5;28;01mfrom\u001b[39;00m \u001b[38;5;21;01mm3_learning\u001b[39;00m\u001b[38;5;21;01m.\u001b[39;00m\u001b[38;5;21;01mnn\u001b[39;00m\u001b[38;5;21;01m.\u001b[39;00m\u001b[38;5;21;01mSTEM_AE\u001b[39;00m \u001b[38;5;28;01mimport\u001b[39;00m STEM_AE\n\u001b[1;32m      2\u001b[0m \u001b[38;5;28;01mimport\u001b[39;00m \u001b[38;5;21;01mnumpy\u001b[39;00m \u001b[38;5;28;01mas\u001b[39;00m \u001b[38;5;21;01mnp\u001b[39;00m\n\u001b[1;32m      3\u001b[0m \u001b[38;5;28;01mimport\u001b[39;00m \u001b[38;5;21;01mtorch\u001b[39;00m\n",
      "\u001b[0;31mImportError\u001b[0m: cannot import name 'STEM_AE' from 'm3_learning.nn.STEM_AE' (unknown location)"
     ]
    }
   ],
   "source": [
    "from Gaussian_Sampler.models.base_model import Averaging_Loss_AE\n",
    "emb_path = '/home/m3learning/Northwestern/Northwestern_link/model_tests/fake_pv_curves_gaussian_sampling/'\n",
    "\n",
    "for dset_key in dset.h5_keys():\n",
    "    dset.noise_ = dset_key\n",
    "    model = Averaging_Loss_AE(function=stem.generate_pseudovoigt_1D,\n",
    "                                        dset = dset,\n",
    "                                        input_channels=1,\n",
    "                                        num_params=4,\n",
    "                                        num_fits=1,\n",
    "                                        limits=[1000, 500, 500], # A, mean, fwhm \n",
    "                                        device='cuda:0',\n",
    "                                        learning_rate = 3e-5,\n",
    "                                        folder=f'{emb_path}/profiling/{dset_key}',\n",
    "                                        # wandb_project='fit_noisy_pv_gaussian_batch_sampling_',\n",
    "                                        dataloader_sampler = Gaussian_Sampler,\n",
    "                                        sampler_kwargs = {'dset': dset, \n",
    "                                                        'batch_size': 100,\n",
    "                                                        'gaussian_std': 2,\n",
    "                                                        'original_shape': (100,100,500),\n",
    "                                                        'num_neighbors': 10,},\n",
    "                                        custom_collate_fn=custom_collate_fn,\n",
    "                                    )    \n",
    "    model.Train(dset, \n",
    "                epochs=50, \n",
    "                # batch_size=101, \n",
    "                save_model_every=10,#minibatch_logging_rate=99,\n",
    "                with_scheduler=False,\n",
    "                wandb_init={'notes':dset_key},\n",
    "                binning=True)\n"
   ]
  },
  {
   "cell_type": "markdown",
   "metadata": {},
   "source": [
    "## Random Sampling"
   ]
  },
  {
   "cell_type": "code",
   "execution_count": null,
   "metadata": {},
   "outputs": [],
   "source": [
    "emb_path = '/home/m3learning/Northwestern/Northwestern_link/model_tests/fake_pv_curves_random_sampling/'"
   ]
  },
  {
   "cell_type": "markdown",
   "metadata": {},
   "source": [
    "### spectral noise"
   ]
  },
  {
   "cell_type": "code",
   "execution_count": null,
   "metadata": {},
   "outputs": [
    {
     "name": "stdout",
     "output_type": "stream",
     "text": [
      "00.000_noise\n"
     ]
    },
    {
     "ename": "TypeError",
     "evalue": "Indexing_Dataset.__init__() missing 1 required positional argument: 'zero_dset'",
     "output_type": "error",
     "traceback": [
      "\u001b[0;31m---------------------------------------------------------------------------\u001b[0m",
      "\u001b[0;31mTypeError\u001b[0m                                 Traceback (most recent call last)",
      "Cell \u001b[0;32mIn[62], line 7\u001b[0m\n\u001b[1;32m      5\u001b[0m \u001b[38;5;28mprint\u001b[39m(dset_name)\n\u001b[1;32m      6\u001b[0m \u001b[38;5;28;01mwith\u001b[39;00m h5py\u001b[38;5;241m.\u001b[39mFile(raw_data_path,\u001b[38;5;124m'\u001b[39m\u001b[38;5;124mr\u001b[39m\u001b[38;5;124m'\u001b[39m) \u001b[38;5;28;01mas\u001b[39;00m f:\n\u001b[0;32m----> 7\u001b[0m     dataset \u001b[38;5;241m=\u001b[39m Indexing_Dataset( f[dset_name][:]\u001b[38;5;241m.\u001b[39mreshape(\u001b[38;5;241m-\u001b[39m\u001b[38;5;241m1\u001b[39m,\u001b[38;5;241m1\u001b[39m,\u001b[38;5;241m500\u001b[39m) )\n\u001b[1;32m      9\u001b[0m model \u001b[38;5;241m=\u001b[39m fake_pv_FitterAutoencoder_1D(function\u001b[38;5;241m=\u001b[39mstem\u001b[38;5;241m.\u001b[39mgenerate_pseudovoigt_1D,\n\u001b[1;32m     10\u001b[0m                                     dset \u001b[38;5;241m=\u001b[39m dataset,\n\u001b[1;32m     11\u001b[0m                                     input_channels\u001b[38;5;241m=\u001b[39m\u001b[38;5;241m1\u001b[39m,\n\u001b[0;32m   (...)\u001b[0m\n\u001b[1;32m     18\u001b[0m                                     \u001b[38;5;66;03m# wandb_project='fit_noisy_pv_gaussian_batch_sampling_',\u001b[39;00m\n\u001b[1;32m     19\u001b[0m                                 )    \n\u001b[1;32m     20\u001b[0m model\u001b[38;5;241m.\u001b[39mTrain(dataset, epochs\u001b[38;5;241m=\u001b[39m\u001b[38;5;241m50\u001b[39m, batch_size\u001b[38;5;241m=\u001b[39m\u001b[38;5;241m101\u001b[39m, save_model_every\u001b[38;5;241m=\u001b[39m\u001b[38;5;241m10\u001b[39m,\u001b[38;5;66;03m#minibatch_logging_rate=99,\u001b[39;00m\n\u001b[1;32m     21\u001b[0m             with_scheduler\u001b[38;5;241m=\u001b[39m\u001b[38;5;28;01mFalse\u001b[39;00m,wandb_init\u001b[38;5;241m=\u001b[39m{\u001b[38;5;124m'\u001b[39m\u001b[38;5;124mnotes\u001b[39m\u001b[38;5;124m'\u001b[39m:dset_name},binning\u001b[38;5;241m=\u001b[39m\u001b[38;5;28;01mFalse\u001b[39;00m)\n",
      "\u001b[0;31mTypeError\u001b[0m: Indexing_Dataset.__init__() missing 1 required positional argument: 'zero_dset'"
     ]
    }
   ],
   "source": [
    "raw_data_path = f'{datapath}fake_pv_uniform_spectral_noise.h5'\n",
    "emb_path = '/home/m3learning/Northwestern/Northwestern_link/model_tests/fake_pv_curves_random_sampling/'\n",
    "\n",
    "for dset_name in dset_list:\n",
    "    print(dset_name)\n",
    "    with h5py.File(raw_data_path,'r') as f:\n",
    "        dataset = Indexing_Dataset( f[dset_name][:].reshape(-1,1,500) )\n",
    "        \n",
    "    model = fake_pv_FitterAutoencoder_1D(function=stem.generate_pseudovoigt_1D,\n",
    "                                        dset = dataset,\n",
    "                                        input_channels=1,\n",
    "                                        num_params=4,\n",
    "                                        num_fits=1,\n",
    "                                        limits=[1000, 500, 500], # A, mean, fwhm \n",
    "                                        device='cuda:0',\n",
    "                                        learning_rate = 3e-3,\n",
    "                                        folder=f'{emb_path}/spectral_noise/{dset_name}',\n",
    "                                        # wandb_project='fit_noisy_pv_gaussian_batch_sampling_',\n",
    "                                    )    \n",
    "    model.Train(dataset, epochs=50, batch_size=101, save_model_every=10,#minibatch_logging_rate=99,\n",
    "                with_scheduler=False,wandb_init={'notes':dset_name},binning=False)"
   ]
  },
  {
   "cell_type": "markdown",
   "metadata": {},
   "source": [
    "## scipy"
   ]
  },
  {
   "cell_type": "code",
   "execution_count": null,
   "metadata": {},
   "outputs": [],
   "source": [
    "from scipy.optimize import curve_fit\n",
    "import os\n",
    "\n",
    "emb_path = '/home/m3learning/Northwestern/Northwestern_link/model_tests/fake_pv_curves_scipy/'\n",
    "os.makedirs(emb_path, exist_ok=True)\n"
   ]
  },
  {
   "cell_type": "code",
   "execution_count": null,
   "metadata": {},
   "outputs": [],
   "source": [
    "# with h5py.File('/home/m3learning/Northwestern/Northwestern_link/model_tests/fake_pv_curves_gaussian_sampling/pv_scipy_fits.h5', 'a') as f:\n",
    "#     print(f.keys())"
   ]
  },
  {
   "cell_type": "markdown",
   "metadata": {},
   "source": [
    "#### spectral noise"
   ]
  },
  {
   "cell_type": "code",
   "execution_count": null,
   "metadata": {},
   "outputs": [
    {
     "name": "stderr",
     "output_type": "stream",
     "text": [
      "  0%|          | 0/20 [00:00<?, ?it/s]"
     ]
    },
    {
     "name": "stderr",
     "output_type": "stream",
     "text": [
      "100%|██████████| 20/20 [59:31<00:00, 178.60s/it]\n"
     ]
    }
   ],
   "source": [
    "raw_data_path = f'{datapath}fake_pv_uniform_spectral_noise.h5'\n",
    "def pv_fit(x_data,A,x,w,nu):\n",
    "    return write_pseudovoight(A,x,w,nu,spec_len=len(x_data))\n",
    "\n",
    "# Set parameter bounds\n",
    "param_bounds = (\n",
    "    [0, 0, 0, 0],       # Lower bounds for A, x0, w, nu\n",
    "    [np.inf, 500, 500, 1]  # Upper bounds for A, x0, w, nu\n",
    ")\n",
    "\n",
    "initial_guesses = [1,250,25,0.2] # A, x, w, nu\n",
    "\n",
    "with h5py.File(raw_data_path,'a') as f:\n",
    "    keys = list(f.keys())\n",
    "    for ind,key in enumerate(tqdm(keys)):\n",
    "        if ind<10: continue\n",
    "        y_data = f[key][:]\n",
    "        with h5py.File(f'{emb_path}pv_scipy_spectral_noise_fits.h5','a') as h:\n",
    "            try: emb = h[f'emb_{key}']\n",
    "            except: emb = h.create_dataset(f'emb_{key}', shape=(y_data.shape[0],y_data.shape[1],4), dtype=np.float32)\n",
    "        \n",
    "            try: fit = h[f'fit_{key}']\n",
    "            except: fit = h.create_dataset(f'fit_{key}', shape=(y_data.shape[0],y_data.shape[1],y_data.shape[2]), dtype=np.float32)\n",
    "        \n",
    "            for x_ in range(y_data.shape[0]):\n",
    "                for y_ in range(y_data.shape[1]):\n",
    "                    try:\n",
    "                        # Fit the data\n",
    "                        popt, pcov = curve_fit(\n",
    "                            pv_fit,\n",
    "                            np.linspace(0,499,500),\n",
    "                            y_data[x_,y_],\n",
    "                            p0=initial_guesses,\n",
    "                            bounds=param_bounds,\n",
    "                        )\n",
    "                        emb[x_,y_] = popt\n",
    "                        fit[x_,y_] = pv_fit(np.linspace(0,499,500),*popt)\n",
    "                    except: pass"
   ]
  },
  {
   "cell_type": "markdown",
   "metadata": {},
   "source": [
    "#### image noise"
   ]
  },
  {
   "cell_type": "code",
   "execution_count": null,
   "metadata": {},
   "outputs": [
    {
     "name": "stderr",
     "output_type": "stream",
     "text": [
      " 50%|█████     | 10/20 [41:43<44:39, 267.93s/it] "
     ]
    }
   ],
   "source": [
    "raw_data_path = f'{datapath}fake_pv_uniform_image_noise.h5'\n",
    "\n",
    "def pv_fit(x_data,A,x,w,nu):\n",
    "    return write_pseudovoight(A,x,w,nu,spec_len=len(x_data))\n",
    "\n",
    "# Set parameter bounds\n",
    "param_bounds = (\n",
    "    [0, 0, 0, 0],       # Lower bounds for A, x0, w, nu\n",
    "    [np.inf, 500, 500, 1]  # Upper bounds for A, x0, w, nu\n",
    ")\n",
    "\n",
    "initial_guesses = [1,250,25,0.2] # A, x, w, nu\n",
    "\n",
    "with h5py.File(raw_data_path,'a') as f:\n",
    "    keys = list(f.keys())\n",
    "    for ind,key in enumerate(tqdm(keys)):\n",
    "        y_data = f[key][:]\n",
    "        with h5py.File(f'{emb_path}pv_scipy_image_noise_fits.h5','a') as h:\n",
    "            try: emb = h[f'emb_{key}']\n",
    "            except: emb = h.create_dataset(f'emb_{key}', shape=(y_data.shape[0],y_data.shape[1],4), dtype=np.float32)\n",
    "        \n",
    "            try: fit = h[f'fit_{key}']\n",
    "            except: fit = h.create_dataset(f'fit_{key}', shape=(y_data.shape[0],y_data.shape[1],y_data.shape[2]), dtype=np.float32)\n",
    "        \n",
    "            for x_ in range(y_data.shape[0]):\n",
    "                for y_ in range(y_data.shape[1]):\n",
    "                    try:\n",
    "                        # Fit the data\n",
    "                        popt, pcov = curve_fit(\n",
    "                            pv_fit,\n",
    "                            np.linspace(0,499,500),\n",
    "                            y_data[x_,y_],\n",
    "                            p0=initial_guesses,\n",
    "                            bounds=param_bounds,\n",
    "                        )\n",
    "                        emb[x_,y_] = popt\n",
    "                        fit[x_,y_] = pv_fit(np.linspace(0,499,500),*popt)\n",
    "                    except: pass"
   ]
  },
  {
   "cell_type": "markdown",
   "metadata": {},
   "source": [
    "## Get embeddings\n"
   ]
  },
  {
   "cell_type": "markdown",
   "metadata": {},
   "source": [
    "### gaussian"
   ]
  },
  {
   "cell_type": "markdown",
   "metadata": {},
   "source": [
    "#### spectral"
   ]
  },
  {
   "cell_type": "code",
   "execution_count": null,
   "metadata": {},
   "outputs": [
    {
     "name": "stdout",
     "output_type": "stream",
     "text": [
      "00.000_noise\n",
      "embedding available\n",
      "Generated available\n"
     ]
    },
    {
     "name": "stderr",
     "output_type": "stream",
     "text": [
      "100%|██████████| 100/100 [00:00<00:00, 237.75it/s]\n"
     ]
    },
    {
     "name": "stdout",
     "output_type": "stream",
     "text": [
      "00.011_noise\n",
      "embedding available\n",
      "Generated available\n"
     ]
    },
    {
     "name": "stderr",
     "output_type": "stream",
     "text": [
      "100%|██████████| 100/100 [00:00<00:00, 246.54it/s]\n"
     ]
    },
    {
     "name": "stdout",
     "output_type": "stream",
     "text": [
      "00.032_noise\n",
      "embedding available\n",
      "Generated available\n"
     ]
    },
    {
     "name": "stderr",
     "output_type": "stream",
     "text": [
      "100%|██████████| 100/100 [00:00<00:00, 236.78it/s]\n"
     ]
    },
    {
     "name": "stdout",
     "output_type": "stream",
     "text": [
      "00.058_noise\n",
      "embedding available\n",
      "Generated available\n"
     ]
    },
    {
     "name": "stderr",
     "output_type": "stream",
     "text": [
      "100%|██████████| 100/100 [00:00<00:00, 239.77it/s]\n"
     ]
    },
    {
     "name": "stdout",
     "output_type": "stream",
     "text": [
      "00.089_noise\n",
      "embedding available\n",
      "Generated available\n"
     ]
    },
    {
     "name": "stderr",
     "output_type": "stream",
     "text": [
      "100%|██████████| 100/100 [00:00<00:00, 237.80it/s]\n"
     ]
    },
    {
     "name": "stdout",
     "output_type": "stream",
     "text": [
      "00.125_noise\n",
      "embedding available\n",
      "Generated available\n"
     ]
    },
    {
     "name": "stderr",
     "output_type": "stream",
     "text": [
      "100%|██████████| 100/100 [00:00<00:00, 238.23it/s]\n"
     ]
    },
    {
     "name": "stdout",
     "output_type": "stream",
     "text": [
      "00.164_noise\n",
      "embedding available\n",
      "Generated available\n"
     ]
    },
    {
     "name": "stderr",
     "output_type": "stream",
     "text": [
      "100%|██████████| 100/100 [00:00<00:00, 238.97it/s]\n"
     ]
    },
    {
     "name": "stdout",
     "output_type": "stream",
     "text": [
      "00.207_noise\n",
      "embedding available\n",
      "Generated available\n"
     ]
    },
    {
     "name": "stderr",
     "output_type": "stream",
     "text": [
      "100%|██████████| 100/100 [00:00<00:00, 219.08it/s]\n"
     ]
    },
    {
     "name": "stdout",
     "output_type": "stream",
     "text": [
      "00.253_noise\n",
      "embedding available\n",
      "Generated available\n"
     ]
    },
    {
     "name": "stderr",
     "output_type": "stream",
     "text": [
      "100%|██████████| 100/100 [00:00<00:00, 226.10it/s]\n"
     ]
    },
    {
     "name": "stdout",
     "output_type": "stream",
     "text": [
      "00.302_noise\n",
      "embedding available\n",
      "Generated available\n"
     ]
    },
    {
     "name": "stderr",
     "output_type": "stream",
     "text": [
      "100%|██████████| 100/100 [00:00<00:00, 227.67it/s]\n"
     ]
    },
    {
     "name": "stdout",
     "output_type": "stream",
     "text": [
      "00.354_noise\n",
      "embedding available\n",
      "Generated available\n"
     ]
    },
    {
     "name": "stderr",
     "output_type": "stream",
     "text": [
      "100%|██████████| 100/100 [00:00<00:00, 231.01it/s]\n"
     ]
    },
    {
     "name": "stdout",
     "output_type": "stream",
     "text": [
      "00.408_noise\n",
      "embedding available\n",
      "Generated available\n"
     ]
    },
    {
     "name": "stderr",
     "output_type": "stream",
     "text": [
      "100%|██████████| 100/100 [00:00<00:00, 238.89it/s]\n"
     ]
    },
    {
     "name": "stdout",
     "output_type": "stream",
     "text": [
      "00.465_noise\n",
      "embedding available\n",
      "Generated available\n"
     ]
    },
    {
     "name": "stderr",
     "output_type": "stream",
     "text": [
      "100%|██████████| 100/100 [00:00<00:00, 237.30it/s]\n"
     ]
    },
    {
     "name": "stdout",
     "output_type": "stream",
     "text": [
      "00.524_noise\n",
      "embedding available\n",
      "Generated available\n"
     ]
    },
    {
     "name": "stderr",
     "output_type": "stream",
     "text": [
      "100%|██████████| 100/100 [00:00<00:00, 239.67it/s]\n"
     ]
    },
    {
     "name": "stdout",
     "output_type": "stream",
     "text": [
      "00.586_noise\n",
      "embedding available\n",
      "Generated available\n"
     ]
    },
    {
     "name": "stderr",
     "output_type": "stream",
     "text": [
      "100%|██████████| 100/100 [00:00<00:00, 235.19it/s]\n"
     ]
    },
    {
     "name": "stdout",
     "output_type": "stream",
     "text": [
      "00.650_noise\n",
      "embedding available\n",
      "Generated available\n"
     ]
    },
    {
     "name": "stderr",
     "output_type": "stream",
     "text": [
      "100%|██████████| 100/100 [00:00<00:00, 240.37it/s]\n"
     ]
    },
    {
     "name": "stdout",
     "output_type": "stream",
     "text": [
      "00.716_noise\n",
      "embedding available\n",
      "Generated available\n"
     ]
    },
    {
     "name": "stderr",
     "output_type": "stream",
     "text": [
      "100%|██████████| 100/100 [00:00<00:00, 213.79it/s]\n"
     ]
    },
    {
     "name": "stdout",
     "output_type": "stream",
     "text": [
      "00.784_noise\n",
      "embedding available\n",
      "Generated available\n"
     ]
    },
    {
     "name": "stderr",
     "output_type": "stream",
     "text": [
      "100%|██████████| 100/100 [00:00<00:00, 240.27it/s]\n"
     ]
    },
    {
     "name": "stdout",
     "output_type": "stream",
     "text": [
      "00.854_noise\n",
      "embedding available\n",
      "Generated available\n"
     ]
    },
    {
     "name": "stderr",
     "output_type": "stream",
     "text": [
      "100%|██████████| 100/100 [00:00<00:00, 198.47it/s]\n"
     ]
    },
    {
     "name": "stdout",
     "output_type": "stream",
     "text": [
      "00.926_noise\n",
      "embedding available\n",
      "Generated available\n"
     ]
    },
    {
     "name": "stderr",
     "output_type": "stream",
     "text": [
      "100%|██████████| 100/100 [00:00<00:00, 235.37it/s]\n"
     ]
    }
   ],
   "source": [
    "emb_path = '/home/m3learning/Northwestern/Northwestern_link/model_tests/fake_pv_curves_gaussian_sampling/'\n",
    "\n",
    "noise = 'spectral_noise'\n",
    "raw_data_path = f'{datapath}fake_pv_uniform_{noise}.h5'\n",
    "\n",
    "model = fake_pv_FitterAutoencoder_1D(function=stem.generate_pseudovoigt_1D,\n",
    "                                    dset = dataset,\n",
    "                                    input_channels=1,\n",
    "                                    num_params=4,\n",
    "                                    num_fits=1,\n",
    "                                    limits=[1000, 500, 500], # A, mean, fwhm \n",
    "                                    device='cuda:0',\n",
    "                                    learning_rate = 3e-5,\n",
    "                                    # wandb_project='fit_noisy_pv_gaussian_batch_sampling',\n",
    "                                    dataloader_sampler = Gaussian_Sampler,\n",
    "                                    sampler_kwargs = {'dset': dataset, \n",
    "                                                    'batch_size': 100,\n",
    "                                                    'gaussian_std': 5,\n",
    "                                                    'original_shape': (100,100,500),\n",
    "                                                    'num_neighbors': 20,},\n",
    "                                    custom_collate_fn=custom_collate_fn,\n",
    "                                    )                             \n",
    "for dset_name in dset_list:\n",
    "    print(dset_name)\n",
    "    with h5py.File(raw_data_path,'r') as f:\n",
    "        dataset = Indexing_Dataset( f[dset_name][:].reshape(-1,1,500), zero_dset=f['00.000_noise'][:].reshape(-1,1,500) ) \n",
    "        checks = glob.glob(f'{emb_path}/{noise}/{dset_name}/*.pkl')\n",
    "        checks.sort()\n",
    "        model.load_weights(checks[-1])\n",
    "        model.get_embedding(dataset, batch_size=100, train=False)   "
   ]
  },
  {
   "cell_type": "markdown",
   "metadata": {},
   "source": [
    "#### image"
   ]
  },
  {
   "cell_type": "code",
   "execution_count": null,
   "metadata": {},
   "outputs": [
    {
     "name": "stdout",
     "output_type": "stream",
     "text": [
      "00.000_noise\n",
      "embedding available\n",
      "Generated available\n"
     ]
    },
    {
     "name": "stderr",
     "output_type": "stream",
     "text": [
      "100%|██████████| 100/100 [00:00<00:00, 235.49it/s]\n"
     ]
    },
    {
     "name": "stdout",
     "output_type": "stream",
     "text": [
      "00.011_noise\n",
      "embedding available\n",
      "Generated available\n"
     ]
    },
    {
     "name": "stderr",
     "output_type": "stream",
     "text": [
      "100%|██████████| 100/100 [00:00<00:00, 193.23it/s]\n"
     ]
    },
    {
     "name": "stdout",
     "output_type": "stream",
     "text": [
      "00.032_noise\n",
      "embedding available\n",
      "Generated available\n"
     ]
    },
    {
     "name": "stderr",
     "output_type": "stream",
     "text": [
      "100%|██████████| 100/100 [00:00<00:00, 197.87it/s]\n"
     ]
    },
    {
     "name": "stdout",
     "output_type": "stream",
     "text": [
      "00.058_noise\n",
      "embedding available\n",
      "Generated available\n"
     ]
    },
    {
     "name": "stderr",
     "output_type": "stream",
     "text": [
      "100%|██████████| 100/100 [00:00<00:00, 223.71it/s]\n"
     ]
    },
    {
     "name": "stdout",
     "output_type": "stream",
     "text": [
      "00.089_noise\n",
      "embedding available\n",
      "Generated available\n"
     ]
    },
    {
     "name": "stderr",
     "output_type": "stream",
     "text": [
      "100%|██████████| 100/100 [00:00<00:00, 231.93it/s]\n"
     ]
    },
    {
     "name": "stdout",
     "output_type": "stream",
     "text": [
      "00.125_noise\n",
      "embedding available\n",
      "Generated available\n"
     ]
    },
    {
     "name": "stderr",
     "output_type": "stream",
     "text": [
      "100%|██████████| 100/100 [00:00<00:00, 229.33it/s]\n"
     ]
    },
    {
     "name": "stdout",
     "output_type": "stream",
     "text": [
      "00.164_noise\n",
      "embedding available\n",
      "Generated available\n"
     ]
    },
    {
     "name": "stderr",
     "output_type": "stream",
     "text": [
      "100%|██████████| 100/100 [00:00<00:00, 230.99it/s]\n"
     ]
    },
    {
     "name": "stdout",
     "output_type": "stream",
     "text": [
      "00.207_noise\n",
      "embedding available\n",
      "Generated available\n"
     ]
    },
    {
     "name": "stderr",
     "output_type": "stream",
     "text": [
      "100%|██████████| 100/100 [00:00<00:00, 237.87it/s]\n"
     ]
    },
    {
     "name": "stdout",
     "output_type": "stream",
     "text": [
      "00.253_noise\n",
      "embedding available\n",
      "Generated available\n"
     ]
    },
    {
     "name": "stderr",
     "output_type": "stream",
     "text": [
      "100%|██████████| 100/100 [00:00<00:00, 235.97it/s]\n"
     ]
    },
    {
     "name": "stdout",
     "output_type": "stream",
     "text": [
      "00.302_noise\n",
      "embedding available\n",
      "Generated available\n"
     ]
    },
    {
     "name": "stderr",
     "output_type": "stream",
     "text": [
      "100%|██████████| 100/100 [00:00<00:00, 225.23it/s]\n"
     ]
    },
    {
     "name": "stdout",
     "output_type": "stream",
     "text": [
      "00.354_noise\n",
      "embedding available\n",
      "Generated available\n"
     ]
    },
    {
     "name": "stderr",
     "output_type": "stream",
     "text": [
      "100%|██████████| 100/100 [00:00<00:00, 236.80it/s]\n"
     ]
    },
    {
     "name": "stdout",
     "output_type": "stream",
     "text": [
      "00.408_noise\n",
      "embedding available\n",
      "Generated available\n"
     ]
    },
    {
     "name": "stderr",
     "output_type": "stream",
     "text": [
      "100%|██████████| 100/100 [00:00<00:00, 234.46it/s]\n"
     ]
    },
    {
     "name": "stdout",
     "output_type": "stream",
     "text": [
      "00.465_noise\n",
      "embedding available\n",
      "Generated available\n"
     ]
    },
    {
     "name": "stderr",
     "output_type": "stream",
     "text": [
      "100%|██████████| 100/100 [00:00<00:00, 238.62it/s]\n"
     ]
    },
    {
     "name": "stdout",
     "output_type": "stream",
     "text": [
      "00.524_noise\n",
      "embedding available\n",
      "Generated available\n"
     ]
    },
    {
     "name": "stderr",
     "output_type": "stream",
     "text": [
      "100%|██████████| 100/100 [00:00<00:00, 236.97it/s]\n"
     ]
    },
    {
     "name": "stdout",
     "output_type": "stream",
     "text": [
      "00.586_noise\n",
      "embedding available\n",
      "Generated available\n"
     ]
    },
    {
     "name": "stderr",
     "output_type": "stream",
     "text": [
      "100%|██████████| 100/100 [00:00<00:00, 236.72it/s]\n"
     ]
    },
    {
     "name": "stdout",
     "output_type": "stream",
     "text": [
      "00.650_noise\n",
      "embedding available\n",
      "Generated available\n"
     ]
    },
    {
     "name": "stderr",
     "output_type": "stream",
     "text": [
      "100%|██████████| 100/100 [00:00<00:00, 238.07it/s]\n"
     ]
    },
    {
     "name": "stdout",
     "output_type": "stream",
     "text": [
      "00.716_noise\n",
      "embedding available\n",
      "Generated available\n"
     ]
    },
    {
     "name": "stderr",
     "output_type": "stream",
     "text": [
      "100%|██████████| 100/100 [00:00<00:00, 237.56it/s]\n"
     ]
    },
    {
     "name": "stdout",
     "output_type": "stream",
     "text": [
      "00.784_noise\n",
      "embedding available\n",
      "Generated available\n"
     ]
    },
    {
     "name": "stderr",
     "output_type": "stream",
     "text": [
      "100%|██████████| 100/100 [00:00<00:00, 237.73it/s]\n"
     ]
    },
    {
     "name": "stdout",
     "output_type": "stream",
     "text": [
      "00.854_noise\n",
      "embedding available\n",
      "Generated available\n"
     ]
    },
    {
     "name": "stderr",
     "output_type": "stream",
     "text": [
      "100%|██████████| 100/100 [00:00<00:00, 236.54it/s]\n"
     ]
    },
    {
     "name": "stdout",
     "output_type": "stream",
     "text": [
      "00.926_noise\n",
      "embedding available\n",
      "Generated available\n"
     ]
    },
    {
     "name": "stderr",
     "output_type": "stream",
     "text": [
      "100%|██████████| 100/100 [00:00<00:00, 218.59it/s]\n"
     ]
    }
   ],
   "source": [
    "emb_path = '/home/m3learning/Northwestern/Northwestern_link/model_tests/fake_pv_curves_gaussian_sampling/'\n",
    "noise = 'image_noise'\n",
    "raw_data_path = f'{datapath}fake_pv_uniform_{noise}.h5'\n",
    "\n",
    "model = fake_pv_FitterAutoencoder_1D(function=stem.generate_pseudovoigt_1D,\n",
    "                                    dset = dataset,\n",
    "                                    input_channels=1,\n",
    "                                    num_params=4,\n",
    "                                    num_fits=1,\n",
    "                                    limits=[1000, 500, 500], # A, mean, fwhm \n",
    "                                    device='cuda:0',\n",
    "                                    learning_rate = 3e-5,\n",
    "                                    # wandb_project='fit_noisy_pv_gaussian_batch_sampling',\n",
    "                                    dataloader_sampler = Gaussian_Sampler,\n",
    "                                    sampler_kwargs = {'dset': dataset, \n",
    "                                                    'batch_size': 100,\n",
    "                                                    'gaussian_std': 5,\n",
    "                                                    'original_shape': (100,100,500),\n",
    "                                                    'num_neighbors': 20,},\n",
    "                                    custom_collate_fn=custom_collate_fn,\n",
    "                                    )                           \n",
    "\n",
    "for dset_name in dset_list:\n",
    "    print(dset_name)\n",
    "    with h5py.File(raw_data_path,'r') as f:\n",
    "        dataset = Indexing_Dataset( f[dset_name][:].reshape(-1,1,500), zero_dset=f['00.000_noise'][:].reshape(-1,1,500) ) \n",
    "        checks = glob.glob(f'{emb_path}/{noise}/{dset_name}/*.pkl')\n",
    "        checks.sort()\n",
    "        model.load_weights(checks[-1])\n",
    "        model.get_embedding(dataset, batch_size=100, train=False)"
   ]
  },
  {
   "cell_type": "markdown",
   "metadata": {},
   "source": [
    "### random"
   ]
  },
  {
   "cell_type": "markdown",
   "metadata": {},
   "source": [
    "#### image"
   ]
  },
  {
   "cell_type": "code",
   "execution_count": null,
   "metadata": {},
   "outputs": [
    {
     "name": "stdout",
     "output_type": "stream",
     "text": [
      "00.000_noise\n",
      "embedding available\n",
      "Generated available\n"
     ]
    },
    {
     "name": "stderr",
     "output_type": "stream",
     "text": [
      "100%|██████████| 100/100 [00:00<00:00, 145.17it/s]\n"
     ]
    },
    {
     "name": "stdout",
     "output_type": "stream",
     "text": [
      "00.011_noise\n",
      "embedding available\n",
      "Generated available\n"
     ]
    },
    {
     "name": "stderr",
     "output_type": "stream",
     "text": [
      "100%|██████████| 100/100 [00:00<00:00, 239.56it/s]\n"
     ]
    },
    {
     "name": "stdout",
     "output_type": "stream",
     "text": [
      "00.032_noise\n",
      "embedding available\n",
      "Generated available\n"
     ]
    },
    {
     "name": "stderr",
     "output_type": "stream",
     "text": [
      "100%|██████████| 100/100 [00:00<00:00, 237.17it/s]\n"
     ]
    },
    {
     "name": "stdout",
     "output_type": "stream",
     "text": [
      "00.058_noise\n",
      "embedding available\n",
      "Generated available\n"
     ]
    },
    {
     "name": "stderr",
     "output_type": "stream",
     "text": [
      "100%|██████████| 100/100 [00:00<00:00, 236.29it/s]\n"
     ]
    },
    {
     "name": "stdout",
     "output_type": "stream",
     "text": [
      "00.089_noise\n",
      "embedding available\n",
      "Generated available\n"
     ]
    },
    {
     "name": "stderr",
     "output_type": "stream",
     "text": [
      "100%|██████████| 100/100 [00:00<00:00, 237.91it/s]\n"
     ]
    },
    {
     "name": "stdout",
     "output_type": "stream",
     "text": [
      "00.125_noise\n",
      "embedding available\n",
      "Generated available\n"
     ]
    },
    {
     "name": "stderr",
     "output_type": "stream",
     "text": [
      "100%|██████████| 100/100 [00:00<00:00, 238.01it/s]\n"
     ]
    },
    {
     "name": "stdout",
     "output_type": "stream",
     "text": [
      "00.164_noise\n",
      "embedding available\n",
      "Generated available\n"
     ]
    },
    {
     "name": "stderr",
     "output_type": "stream",
     "text": [
      "100%|██████████| 100/100 [00:00<00:00, 176.00it/s]\n"
     ]
    },
    {
     "name": "stdout",
     "output_type": "stream",
     "text": [
      "00.207_noise\n",
      "embedding available\n",
      "Generated available\n"
     ]
    },
    {
     "name": "stderr",
     "output_type": "stream",
     "text": [
      "100%|██████████| 100/100 [00:00<00:00, 229.75it/s]\n"
     ]
    },
    {
     "name": "stdout",
     "output_type": "stream",
     "text": [
      "00.253_noise\n",
      "embedding available\n",
      "Generated available\n"
     ]
    },
    {
     "name": "stderr",
     "output_type": "stream",
     "text": [
      "100%|██████████| 100/100 [00:00<00:00, 231.75it/s]\n"
     ]
    },
    {
     "name": "stdout",
     "output_type": "stream",
     "text": [
      "00.302_noise\n",
      "embedding available\n",
      "Generated available\n"
     ]
    },
    {
     "name": "stderr",
     "output_type": "stream",
     "text": [
      "100%|██████████| 100/100 [00:00<00:00, 226.15it/s]\n"
     ]
    },
    {
     "name": "stdout",
     "output_type": "stream",
     "text": [
      "00.354_noise\n",
      "embedding available\n",
      "Generated available\n"
     ]
    },
    {
     "name": "stderr",
     "output_type": "stream",
     "text": [
      "100%|██████████| 100/100 [00:00<00:00, 227.77it/s]\n"
     ]
    },
    {
     "name": "stdout",
     "output_type": "stream",
     "text": [
      "00.408_noise\n",
      "embedding available\n",
      "Generated available\n"
     ]
    },
    {
     "name": "stderr",
     "output_type": "stream",
     "text": [
      "100%|██████████| 100/100 [00:00<00:00, 194.95it/s]\n"
     ]
    },
    {
     "name": "stdout",
     "output_type": "stream",
     "text": [
      "00.465_noise\n",
      "embedding available\n",
      "Generated available\n"
     ]
    },
    {
     "name": "stderr",
     "output_type": "stream",
     "text": [
      "100%|██████████| 100/100 [00:00<00:00, 231.08it/s]\n"
     ]
    },
    {
     "name": "stdout",
     "output_type": "stream",
     "text": [
      "00.524_noise\n",
      "embedding available\n",
      "Generated available\n"
     ]
    },
    {
     "name": "stderr",
     "output_type": "stream",
     "text": [
      "100%|██████████| 100/100 [00:00<00:00, 223.77it/s]\n"
     ]
    },
    {
     "name": "stdout",
     "output_type": "stream",
     "text": [
      "00.586_noise\n",
      "embedding available\n",
      "Generated available\n"
     ]
    },
    {
     "name": "stderr",
     "output_type": "stream",
     "text": [
      "100%|██████████| 100/100 [00:00<00:00, 233.18it/s]\n"
     ]
    },
    {
     "name": "stdout",
     "output_type": "stream",
     "text": [
      "00.650_noise\n",
      "embedding available\n",
      "Generated available\n"
     ]
    },
    {
     "name": "stderr",
     "output_type": "stream",
     "text": [
      "100%|██████████| 100/100 [00:00<00:00, 238.13it/s]\n"
     ]
    },
    {
     "name": "stdout",
     "output_type": "stream",
     "text": [
      "00.716_noise\n",
      "embedding available\n",
      "Generated available\n"
     ]
    },
    {
     "name": "stderr",
     "output_type": "stream",
     "text": [
      "100%|██████████| 100/100 [00:00<00:00, 233.99it/s]\n"
     ]
    },
    {
     "name": "stdout",
     "output_type": "stream",
     "text": [
      "00.784_noise\n",
      "embedding available\n",
      "Generated available\n"
     ]
    },
    {
     "name": "stderr",
     "output_type": "stream",
     "text": [
      "100%|██████████| 100/100 [00:00<00:00, 235.19it/s]\n"
     ]
    },
    {
     "name": "stdout",
     "output_type": "stream",
     "text": [
      "00.854_noise\n",
      "embedding available\n",
      "Generated available\n"
     ]
    },
    {
     "name": "stderr",
     "output_type": "stream",
     "text": [
      "100%|██████████| 100/100 [00:00<00:00, 230.73it/s]\n"
     ]
    },
    {
     "name": "stdout",
     "output_type": "stream",
     "text": [
      "00.926_noise\n",
      "embedding available\n",
      "Generated available\n"
     ]
    },
    {
     "name": "stderr",
     "output_type": "stream",
     "text": [
      "100%|██████████| 100/100 [00:00<00:00, 226.93it/s]\n"
     ]
    }
   ],
   "source": [
    "emb_path = '/home/m3learning/Northwestern/Northwestern_link/model_tests/fake_pv_curves_random_sampling/'\n",
    "noise = 'image_noise'\n",
    "raw_data_path = f'{datapath}fake_pv_uniform_{noise}.h5'\n",
    "\n",
    "model = fake_pv_FitterAutoencoder_1D(function=stem.generate_pseudovoigt_1D,\n",
    "                                    dset = dataset,\n",
    "                                    input_channels=1,\n",
    "                                    num_params=4,\n",
    "                                    num_fits=1,\n",
    "                                    limits=[1000, 500, 500], # A, mean, fwhm \n",
    "                                    device='cuda:0',\n",
    "                                    learning_rate = 3e-5,\n",
    "                                    # wandb_project='fit_noisy_pv_gaussian_batch_sampling',\n",
    "                                    dataloader_sampler = Gaussian_Sampler,\n",
    "                                    sampler_kwargs = {'dset': dataset, \n",
    "                                                    'batch_size': 100,\n",
    "                                                    'gaussian_std': 5,\n",
    "                                                    'original_shape': (100,100,500),\n",
    "                                                    'num_neighbors': 20,},\n",
    "                                    custom_collate_fn=custom_collate_fn,\n",
    "                                    )  \n",
    "\n",
    "for dset_name in dset_list:\n",
    "    print(dset_name)\n",
    "    with h5py.File(raw_data_path,'r') as f:\n",
    "        dataset = Indexing_Dataset( f[dset_name][:].reshape(-1,1,500), zero_dset=f['00.000_noise'][:].reshape(-1,1,500) ) \n",
    "        checks = glob.glob(f'{emb_path}/{noise}/{dset_name}/*.pkl')\n",
    "        checks.sort()\n",
    "        model.load_weights(checks[-1])\n",
    "        model.get_embedding(dataset, batch_size=100, train=False)"
   ]
  },
  {
   "cell_type": "markdown",
   "metadata": {},
   "source": [
    "#### spectral"
   ]
  },
  {
   "cell_type": "code",
   "execution_count": null,
   "metadata": {},
   "outputs": [
    {
     "name": "stdout",
     "output_type": "stream",
     "text": [
      "00.000_noise\n",
      "embedding available\n",
      "Generated available\n"
     ]
    },
    {
     "name": "stderr",
     "output_type": "stream",
     "text": [
      "100%|██████████| 100/100 [00:00<00:00, 232.79it/s]\n"
     ]
    },
    {
     "name": "stdout",
     "output_type": "stream",
     "text": [
      "00.011_noise\n",
      "embedding available\n",
      "Generated available\n"
     ]
    },
    {
     "name": "stderr",
     "output_type": "stream",
     "text": [
      "100%|██████████| 100/100 [00:00<00:00, 232.47it/s]\n"
     ]
    },
    {
     "name": "stdout",
     "output_type": "stream",
     "text": [
      "00.032_noise\n",
      "embedding available\n",
      "Generated available\n"
     ]
    },
    {
     "name": "stderr",
     "output_type": "stream",
     "text": [
      "100%|██████████| 100/100 [00:00<00:00, 235.03it/s]\n"
     ]
    },
    {
     "name": "stdout",
     "output_type": "stream",
     "text": [
      "00.058_noise\n",
      "embedding available\n",
      "Generated available\n"
     ]
    },
    {
     "name": "stderr",
     "output_type": "stream",
     "text": [
      "100%|██████████| 100/100 [00:00<00:00, 221.92it/s]\n"
     ]
    },
    {
     "name": "stdout",
     "output_type": "stream",
     "text": [
      "00.089_noise\n",
      "embedding available\n",
      "Generated available\n"
     ]
    },
    {
     "name": "stderr",
     "output_type": "stream",
     "text": [
      "100%|██████████| 100/100 [00:00<00:00, 234.76it/s]\n"
     ]
    },
    {
     "name": "stdout",
     "output_type": "stream",
     "text": [
      "00.125_noise\n",
      "embedding available\n",
      "Generated available\n"
     ]
    },
    {
     "name": "stderr",
     "output_type": "stream",
     "text": [
      "100%|██████████| 100/100 [00:00<00:00, 234.31it/s]\n"
     ]
    },
    {
     "name": "stdout",
     "output_type": "stream",
     "text": [
      "00.164_noise\n",
      "embedding available\n",
      "Generated available\n"
     ]
    },
    {
     "name": "stderr",
     "output_type": "stream",
     "text": [
      "100%|██████████| 100/100 [00:00<00:00, 230.25it/s]\n"
     ]
    },
    {
     "name": "stdout",
     "output_type": "stream",
     "text": [
      "00.207_noise\n",
      "embedding available\n",
      "Generated available\n"
     ]
    },
    {
     "name": "stderr",
     "output_type": "stream",
     "text": [
      "100%|██████████| 100/100 [00:00<00:00, 230.64it/s]\n"
     ]
    },
    {
     "name": "stdout",
     "output_type": "stream",
     "text": [
      "00.253_noise\n",
      "embedding available\n",
      "Generated available\n"
     ]
    },
    {
     "name": "stderr",
     "output_type": "stream",
     "text": [
      "100%|██████████| 100/100 [00:00<00:00, 237.84it/s]\n"
     ]
    },
    {
     "name": "stdout",
     "output_type": "stream",
     "text": [
      "00.302_noise\n",
      "embedding available\n",
      "Generated available\n"
     ]
    },
    {
     "name": "stderr",
     "output_type": "stream",
     "text": [
      "100%|██████████| 100/100 [00:00<00:00, 238.39it/s]\n"
     ]
    },
    {
     "name": "stdout",
     "output_type": "stream",
     "text": [
      "00.354_noise\n",
      "embedding available\n",
      "Generated available\n"
     ]
    },
    {
     "name": "stderr",
     "output_type": "stream",
     "text": [
      "100%|██████████| 100/100 [00:00<00:00, 217.42it/s]\n"
     ]
    },
    {
     "name": "stdout",
     "output_type": "stream",
     "text": [
      "00.408_noise\n",
      "embedding available\n",
      "Generated available\n"
     ]
    },
    {
     "name": "stderr",
     "output_type": "stream",
     "text": [
      "100%|██████████| 100/100 [00:00<00:00, 234.14it/s]\n"
     ]
    },
    {
     "name": "stdout",
     "output_type": "stream",
     "text": [
      "00.465_noise\n",
      "embedding available\n",
      "Generated available\n"
     ]
    },
    {
     "name": "stderr",
     "output_type": "stream",
     "text": [
      "100%|██████████| 100/100 [00:00<00:00, 238.32it/s]\n"
     ]
    },
    {
     "name": "stdout",
     "output_type": "stream",
     "text": [
      "00.524_noise\n",
      "embedding available\n",
      "Generated available\n"
     ]
    },
    {
     "name": "stderr",
     "output_type": "stream",
     "text": [
      "100%|██████████| 100/100 [00:00<00:00, 238.70it/s]\n"
     ]
    },
    {
     "name": "stdout",
     "output_type": "stream",
     "text": [
      "00.586_noise\n",
      "embedding available\n",
      "Generated available\n"
     ]
    },
    {
     "name": "stderr",
     "output_type": "stream",
     "text": [
      "100%|██████████| 100/100 [00:00<00:00, 237.65it/s]\n"
     ]
    },
    {
     "name": "stdout",
     "output_type": "stream",
     "text": [
      "00.650_noise\n",
      "embedding available\n",
      "Generated available\n"
     ]
    },
    {
     "name": "stderr",
     "output_type": "stream",
     "text": [
      "100%|██████████| 100/100 [00:00<00:00, 237.90it/s]\n"
     ]
    },
    {
     "name": "stdout",
     "output_type": "stream",
     "text": [
      "00.716_noise\n",
      "embedding available\n",
      "Generated available\n"
     ]
    },
    {
     "name": "stderr",
     "output_type": "stream",
     "text": [
      "100%|██████████| 100/100 [00:00<00:00, 238.55it/s]\n"
     ]
    },
    {
     "name": "stdout",
     "output_type": "stream",
     "text": [
      "00.784_noise\n",
      "embedding available\n",
      "Generated available\n"
     ]
    },
    {
     "name": "stderr",
     "output_type": "stream",
     "text": [
      "100%|██████████| 100/100 [00:00<00:00, 236.15it/s]\n"
     ]
    },
    {
     "name": "stdout",
     "output_type": "stream",
     "text": [
      "00.854_noise\n",
      "embedding available\n",
      "Generated available\n"
     ]
    },
    {
     "name": "stderr",
     "output_type": "stream",
     "text": [
      "100%|██████████| 100/100 [00:00<00:00, 238.38it/s]\n"
     ]
    },
    {
     "name": "stdout",
     "output_type": "stream",
     "text": [
      "00.926_noise\n",
      "embedding available\n",
      "Generated available\n"
     ]
    },
    {
     "name": "stderr",
     "output_type": "stream",
     "text": [
      "100%|██████████| 100/100 [00:00<00:00, 238.62it/s]\n"
     ]
    }
   ],
   "source": [
    "emb_path = '/home/m3learning/Northwestern/Northwestern_link/model_tests/fake_pv_curves_random_sampling/'\n",
    "noise = 'spectral_noise'\n",
    "raw_data_path = f'{datapath}fake_pv_uniform_{noise}.h5'\n",
    "\n",
    "model = fake_pv_FitterAutoencoder_1D(function=stem.generate_pseudovoigt_1D,\n",
    "                                    dset = dataset,\n",
    "                                    input_channels=1,\n",
    "                                    num_params=4,\n",
    "                                    num_fits=1,\n",
    "                                    limits=[1000, 500, 500], # A, mean, fwhm \n",
    "                                    device='cuda:0',\n",
    "                                    learning_rate = 3e-5,\n",
    "                                    # wandb_project='fit_noisy_pv_gaussian_batch_sampling',\n",
    "                                    dataloader_sampler = Gaussian_Sampler,\n",
    "                                    sampler_kwargs = {'dset': dataset, \n",
    "                                                    'batch_size': 100,\n",
    "                                                    'gaussian_std': 5,\n",
    "                                                    'original_shape': (100,100,500),\n",
    "                                                    'num_neighbors': 20,},\n",
    "                                    custom_collate_fn=custom_collate_fn,\n",
    "                                    )  \n",
    "\n",
    "for dset_name in dset_list:\n",
    "    print(dset_name)\n",
    "    with h5py.File(raw_data_path,'r') as f:\n",
    "        dataset = Indexing_Dataset( f[dset_name][:].reshape(-1,1,500), zero_dset=f['00.000_noise'][:].reshape(-1,1,500) ) \n",
    "        checks = glob.glob(f'{emb_path}/{noise}/{dset_name}/*.pkl')\n",
    "        checks.sort()\n",
    "        model.load_weights(checks[-1])\n",
    "        model.get_embedding(dataset, batch_size=100, train=False)"
   ]
  },
  {
   "cell_type": "code",
   "execution_count": null,
   "metadata": {},
   "outputs": [
    {
     "name": "stdout",
     "output_type": "stream",
     "text": [
      "<KeysViewHDF5 ['embedding_(2024-10-28)_epoch:0040_l1coef:0.0000_lr:0.00300_trainloss:762922623927060411711488.0000', 'fits_(2024-10-28)_epoch:0040_l1coef:0.0000_lr:0.00300_trainloss:762922623927060411711488.0000']>\n"
     ]
    }
   ],
   "source": [
    "with model.open_embedding_h() as h:\n",
    "    print(h.keys())"
   ]
  },
  {
   "cell_type": "markdown",
   "metadata": {},
   "source": [
    "## VIZ"
   ]
  },
  {
   "cell_type": "code",
   "execution_count": null,
   "metadata": {},
   "outputs": [
    {
     "data": {
      "application/vnd.jupyter.widget-view+json": {
       "model_id": "2b8892c26bd94c4d95f23c87f42d2ecd",
       "version_major": 2,
       "version_minor": 0
      },
      "text/plain": [
       "BokehModel(combine_events=True, render_bundle={'docs_json': {'dbc2c6e6-6d5c-495b-8ab6-f23c97439c4d': {'version…"
      ]
     },
     "execution_count": 64,
     "metadata": {},
     "output_type": "execute_result"
    }
   ],
   "source": [
    "\n",
    "# Layout with widgets and plots\n",
    "dmap = pn.Column(\n",
    "    pn.Row(i_slider, s_slider, noise_selector),\n",
    "    pn.Row(x_slider, y_slider, sampler_selector),\n",
    "    (img_dmap*dot_dmap + \\\n",
    "        fit_img_dmap*dot_dmap + \\\n",
    "        spec_dmap*fit_spec_dmap*zero_spec_dmap*vline_dmap).opts(shared_axes=True,axiswise=True),\n",
    "    hv.Layout(embedding_dmaps).cols(4)\n",
    ")\n",
    "\n",
    "dmap\n"
   ]
  },
  {
   "cell_type": "code",
   "execution_count": null,
   "metadata": {},
   "outputs": [],
   "source": [
    "dmap.clear()"
   ]
  },
  {
   "cell_type": "code",
   "execution_count": null,
   "metadata": {},
   "outputs": [],
   "source": []
  }
 ],
 "metadata": {
  "kernelspec": {
   "display_name": "gaussian-sampler",
   "language": "python",
   "name": "python3"
  },
  "language_info": {
   "codemirror_mode": {
    "name": "ipython",
    "version": 3
   },
   "file_extension": ".py",
   "mimetype": "text/x-python",
   "name": "python",
   "nbconvert_exporter": "python",
   "pygments_lexer": "ipython3",
   "version": "3.13.1"
  }
 },
 "nbformat": 4,
 "nbformat_minor": 2
}
